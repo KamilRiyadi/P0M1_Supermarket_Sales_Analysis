{
 "cells": [
  {
   "cell_type": "markdown",
   "metadata": {},
   "source": [
    "# Milestone 1\n",
    "Name : `Kamil Riyadi Alam Situmeang`\n",
    "\n",
    "Batch : `FTDS009`\n",
    "\n",
    "Heroku App : https://kamil-riyadi-ftds-009-p0m1.herokuapp.com/"
   ]
  },
  {
   "cell_type": "markdown",
   "metadata": {},
   "source": [
    "## I. Introduction"
   ]
  },
  {
   "cell_type": "markdown",
   "metadata": {},
   "source": [
    "### I.1 Project Background\n",
    "This project is meant for fulfilling the `Milestone 1` assignment of `Hacktiv8 Data Science bootcamp Program.`\\\n",
    "Story on this project is a made up story aim to hone my skill in `data story telling.`\n",
    "\n",
    "I am playing role as freelancing `Data Analyst` hired by Supermarket Company based in `Myanmar.`\n",
    "\n",
    "The company had just finished collecting data of their `1st Quarter` sales of 2019. The director of the Company,\\\n",
    "request my assistance in interpreting the quarter sales data. He hoped meaningful insight and an actionable output.\\\n",
    "He requested that I sould present my findings in the next weekly meeting with all departemen."
   ]
  },
  {
   "cell_type": "markdown",
   "metadata": {},
   "source": [
    "### I.2 Dataset Source and Information\n",
    "Dataset for this project is made available by `Aung Pyae`, a Mandalayan Kaggle Expert. You can check the dataset [here.](https://www.kaggle.com/aungpyaeap/supermarket-sales)\n",
    "\n",
    "**Content**\n",
    "\n",
    "The dataset is one of the historical sales of supermarket company which has recorded in 3 different branches for 3 months data.\n",
    "\n",
    "**Column Description**\n",
    "\n",
    "| Column                  | Description                                                                                                                                                     |\n",
    "| ----------------------- | --------------------------------------------------------------------------------------------------------------------------------------------------------------- |\n",
    "| Invoice ID              |  Computer generated sales slip invoice identification number                                                                                                    |\n",
    "| Branch                  |  Branch of supercenter (3 branches are available identified by A, B and C).                                                                                     |\n",
    "| City                    |  Location of supercenters                                                                                                                                       |\n",
    "| Customer type           |  Type of customers, recorded by Members for customers using member card and Normal for without member card.                                                     |\n",
    "| Gender                  |  Gender type of customer                                                                                                                                        |\n",
    "| Product line            |  General item categorization groups - Electronic accessories, Fashion accessories, Food and beverages, Health and beauty, Home and lifestyle, Sports and travel |\n",
    "| Unit price              |  Price of each product in $                                                                                                                                     |\n",
    "| Quantity                |  Number of products purchased by customer                                                                                                                       |\n",
    "| Tax 5%                  |  5% tax fee for customer buying                                                                                                                                 |\n",
    "| Total                   |  Total price including tax                                                                                                                                      |\n",
    "| Date                    |  Date of purchase (Record available from January 2019 to March 2019)                                                                                            |\n",
    "| Time                    |  Purchase time (10am to 9pm)                                                                                                                                    |\n",
    "| Payment                 |  Payment used by customer for purchase (3 methods are available – Cash, Credit card and Ewallet)                                                                |\n",
    "| cogs                    |  Cost of goods sold                                                                                                                                             |\n",
    "| gross margin percentage |  Gross margin percentage                                                                                                                                        |\n",
    "| gross income            |  Gross income                                                                                                                                                   |\n",
    "| Rating                  |  Customer stratification rating on their overall shopping experience (On a scale of 1 to 10)                                                                    |\n",
    "\n",
    "**License**\n",
    "\n",
    "`Aung Pyae` did not clearly state the usage license for this data, but He said this dataset can be used for predictive data analytics purpose."
   ]
  },
  {
   "cell_type": "markdown",
   "metadata": {},
   "source": [
    "### I.3 Objectives\n",
    "\n",
    "Based on `Project Background`, my Objectives will be:\n",
    "- Explore and analyze the dataset and comes up with meaningful insight.\n",
    "- Since I requested to make a presentation, I will make dashboard to help me explain during the presentation.\n",
    "- Comes with actionable output for the Company."
   ]
  },
  {
   "cell_type": "markdown",
   "metadata": {},
   "source": [
    "## II. Importing Libraries"
   ]
  },
  {
   "cell_type": "code",
   "execution_count": 1,
   "metadata": {},
   "outputs": [],
   "source": [
    "# Libraries\n",
    "import pandas as pd\n",
    "import numpy as np\n",
    "from scipy import stats\n",
    "import plotly.express as px\n",
    "import matplotlib.pyplot as plt\n",
    "import seaborn as sns\n"
   ]
  },
  {
   "cell_type": "markdown",
   "metadata": {},
   "source": [
    "## III. Data Loading"
   ]
  },
  {
   "cell_type": "markdown",
   "metadata": {},
   "source": [
    "Let's import the dataset and put it in variable.\\\n",
    "For this process, I will utilize `pandas.`"
   ]
  },
  {
   "cell_type": "code",
   "execution_count": 2,
   "metadata": {},
   "outputs": [],
   "source": [
    "# Import Dataset\n",
    "df = pd.read_csv('supermarket_sales - Sheet1.csv')"
   ]
  },
  {
   "cell_type": "markdown",
   "metadata": {},
   "source": [
    "After successful import, let's see how the dataset looks like."
   ]
  },
  {
   "cell_type": "code",
   "execution_count": 3,
   "metadata": {},
   "outputs": [
    {
     "data": {
      "text/html": [
       "<div>\n",
       "<style scoped>\n",
       "    .dataframe tbody tr th:only-of-type {\n",
       "        vertical-align: middle;\n",
       "    }\n",
       "\n",
       "    .dataframe tbody tr th {\n",
       "        vertical-align: top;\n",
       "    }\n",
       "\n",
       "    .dataframe thead th {\n",
       "        text-align: right;\n",
       "    }\n",
       "</style>\n",
       "<table border=\"1\" class=\"dataframe\">\n",
       "  <thead>\n",
       "    <tr style=\"text-align: right;\">\n",
       "      <th></th>\n",
       "      <th>Invoice ID</th>\n",
       "      <th>Branch</th>\n",
       "      <th>City</th>\n",
       "      <th>Customer type</th>\n",
       "      <th>Gender</th>\n",
       "      <th>Product line</th>\n",
       "      <th>Unit price</th>\n",
       "      <th>Quantity</th>\n",
       "      <th>Tax 5%</th>\n",
       "      <th>Total</th>\n",
       "      <th>Date</th>\n",
       "      <th>Time</th>\n",
       "      <th>Payment</th>\n",
       "      <th>cogs</th>\n",
       "      <th>gross margin percentage</th>\n",
       "      <th>gross income</th>\n",
       "      <th>Rating</th>\n",
       "    </tr>\n",
       "  </thead>\n",
       "  <tbody>\n",
       "    <tr>\n",
       "      <th>0</th>\n",
       "      <td>750-67-8428</td>\n",
       "      <td>A</td>\n",
       "      <td>Yangon</td>\n",
       "      <td>Member</td>\n",
       "      <td>Female</td>\n",
       "      <td>Health and beauty</td>\n",
       "      <td>74.69</td>\n",
       "      <td>7</td>\n",
       "      <td>26.1415</td>\n",
       "      <td>548.9715</td>\n",
       "      <td>1/5/2019</td>\n",
       "      <td>13:08</td>\n",
       "      <td>Ewallet</td>\n",
       "      <td>522.83</td>\n",
       "      <td>4.761905</td>\n",
       "      <td>26.1415</td>\n",
       "      <td>9.1</td>\n",
       "    </tr>\n",
       "    <tr>\n",
       "      <th>1</th>\n",
       "      <td>226-31-3081</td>\n",
       "      <td>C</td>\n",
       "      <td>Naypyitaw</td>\n",
       "      <td>Normal</td>\n",
       "      <td>Female</td>\n",
       "      <td>Electronic accessories</td>\n",
       "      <td>15.28</td>\n",
       "      <td>5</td>\n",
       "      <td>3.8200</td>\n",
       "      <td>80.2200</td>\n",
       "      <td>3/8/2019</td>\n",
       "      <td>10:29</td>\n",
       "      <td>Cash</td>\n",
       "      <td>76.40</td>\n",
       "      <td>4.761905</td>\n",
       "      <td>3.8200</td>\n",
       "      <td>9.6</td>\n",
       "    </tr>\n",
       "    <tr>\n",
       "      <th>2</th>\n",
       "      <td>631-41-3108</td>\n",
       "      <td>A</td>\n",
       "      <td>Yangon</td>\n",
       "      <td>Normal</td>\n",
       "      <td>Male</td>\n",
       "      <td>Home and lifestyle</td>\n",
       "      <td>46.33</td>\n",
       "      <td>7</td>\n",
       "      <td>16.2155</td>\n",
       "      <td>340.5255</td>\n",
       "      <td>3/3/2019</td>\n",
       "      <td>13:23</td>\n",
       "      <td>Credit card</td>\n",
       "      <td>324.31</td>\n",
       "      <td>4.761905</td>\n",
       "      <td>16.2155</td>\n",
       "      <td>7.4</td>\n",
       "    </tr>\n",
       "    <tr>\n",
       "      <th>3</th>\n",
       "      <td>123-19-1176</td>\n",
       "      <td>A</td>\n",
       "      <td>Yangon</td>\n",
       "      <td>Member</td>\n",
       "      <td>Male</td>\n",
       "      <td>Health and beauty</td>\n",
       "      <td>58.22</td>\n",
       "      <td>8</td>\n",
       "      <td>23.2880</td>\n",
       "      <td>489.0480</td>\n",
       "      <td>1/27/2019</td>\n",
       "      <td>20:33</td>\n",
       "      <td>Ewallet</td>\n",
       "      <td>465.76</td>\n",
       "      <td>4.761905</td>\n",
       "      <td>23.2880</td>\n",
       "      <td>8.4</td>\n",
       "    </tr>\n",
       "    <tr>\n",
       "      <th>4</th>\n",
       "      <td>373-73-7910</td>\n",
       "      <td>A</td>\n",
       "      <td>Yangon</td>\n",
       "      <td>Normal</td>\n",
       "      <td>Male</td>\n",
       "      <td>Sports and travel</td>\n",
       "      <td>86.31</td>\n",
       "      <td>7</td>\n",
       "      <td>30.2085</td>\n",
       "      <td>634.3785</td>\n",
       "      <td>2/8/2019</td>\n",
       "      <td>10:37</td>\n",
       "      <td>Ewallet</td>\n",
       "      <td>604.17</td>\n",
       "      <td>4.761905</td>\n",
       "      <td>30.2085</td>\n",
       "      <td>5.3</td>\n",
       "    </tr>\n",
       "    <tr>\n",
       "      <th>5</th>\n",
       "      <td>699-14-3026</td>\n",
       "      <td>C</td>\n",
       "      <td>Naypyitaw</td>\n",
       "      <td>Normal</td>\n",
       "      <td>Male</td>\n",
       "      <td>Electronic accessories</td>\n",
       "      <td>85.39</td>\n",
       "      <td>7</td>\n",
       "      <td>29.8865</td>\n",
       "      <td>627.6165</td>\n",
       "      <td>3/25/2019</td>\n",
       "      <td>18:30</td>\n",
       "      <td>Ewallet</td>\n",
       "      <td>597.73</td>\n",
       "      <td>4.761905</td>\n",
       "      <td>29.8865</td>\n",
       "      <td>4.1</td>\n",
       "    </tr>\n",
       "    <tr>\n",
       "      <th>6</th>\n",
       "      <td>355-53-5943</td>\n",
       "      <td>A</td>\n",
       "      <td>Yangon</td>\n",
       "      <td>Member</td>\n",
       "      <td>Female</td>\n",
       "      <td>Electronic accessories</td>\n",
       "      <td>68.84</td>\n",
       "      <td>6</td>\n",
       "      <td>20.6520</td>\n",
       "      <td>433.6920</td>\n",
       "      <td>2/25/2019</td>\n",
       "      <td>14:36</td>\n",
       "      <td>Ewallet</td>\n",
       "      <td>413.04</td>\n",
       "      <td>4.761905</td>\n",
       "      <td>20.6520</td>\n",
       "      <td>5.8</td>\n",
       "    </tr>\n",
       "    <tr>\n",
       "      <th>7</th>\n",
       "      <td>315-22-5665</td>\n",
       "      <td>C</td>\n",
       "      <td>Naypyitaw</td>\n",
       "      <td>Normal</td>\n",
       "      <td>Female</td>\n",
       "      <td>Home and lifestyle</td>\n",
       "      <td>73.56</td>\n",
       "      <td>10</td>\n",
       "      <td>36.7800</td>\n",
       "      <td>772.3800</td>\n",
       "      <td>2/24/2019</td>\n",
       "      <td>11:38</td>\n",
       "      <td>Ewallet</td>\n",
       "      <td>735.60</td>\n",
       "      <td>4.761905</td>\n",
       "      <td>36.7800</td>\n",
       "      <td>8.0</td>\n",
       "    </tr>\n",
       "    <tr>\n",
       "      <th>8</th>\n",
       "      <td>665-32-9167</td>\n",
       "      <td>A</td>\n",
       "      <td>Yangon</td>\n",
       "      <td>Member</td>\n",
       "      <td>Female</td>\n",
       "      <td>Health and beauty</td>\n",
       "      <td>36.26</td>\n",
       "      <td>2</td>\n",
       "      <td>3.6260</td>\n",
       "      <td>76.1460</td>\n",
       "      <td>1/10/2019</td>\n",
       "      <td>17:15</td>\n",
       "      <td>Credit card</td>\n",
       "      <td>72.52</td>\n",
       "      <td>4.761905</td>\n",
       "      <td>3.6260</td>\n",
       "      <td>7.2</td>\n",
       "    </tr>\n",
       "    <tr>\n",
       "      <th>9</th>\n",
       "      <td>692-92-5582</td>\n",
       "      <td>B</td>\n",
       "      <td>Mandalay</td>\n",
       "      <td>Member</td>\n",
       "      <td>Female</td>\n",
       "      <td>Food and beverages</td>\n",
       "      <td>54.84</td>\n",
       "      <td>3</td>\n",
       "      <td>8.2260</td>\n",
       "      <td>172.7460</td>\n",
       "      <td>2/20/2019</td>\n",
       "      <td>13:27</td>\n",
       "      <td>Credit card</td>\n",
       "      <td>164.52</td>\n",
       "      <td>4.761905</td>\n",
       "      <td>8.2260</td>\n",
       "      <td>5.9</td>\n",
       "    </tr>\n",
       "  </tbody>\n",
       "</table>\n",
       "</div>"
      ],
      "text/plain": [
       "    Invoice ID Branch       City Customer type  Gender  \\\n",
       "0  750-67-8428      A     Yangon        Member  Female   \n",
       "1  226-31-3081      C  Naypyitaw        Normal  Female   \n",
       "2  631-41-3108      A     Yangon        Normal    Male   \n",
       "3  123-19-1176      A     Yangon        Member    Male   \n",
       "4  373-73-7910      A     Yangon        Normal    Male   \n",
       "5  699-14-3026      C  Naypyitaw        Normal    Male   \n",
       "6  355-53-5943      A     Yangon        Member  Female   \n",
       "7  315-22-5665      C  Naypyitaw        Normal  Female   \n",
       "8  665-32-9167      A     Yangon        Member  Female   \n",
       "9  692-92-5582      B   Mandalay        Member  Female   \n",
       "\n",
       "             Product line  Unit price  Quantity   Tax 5%     Total       Date  \\\n",
       "0       Health and beauty       74.69         7  26.1415  548.9715   1/5/2019   \n",
       "1  Electronic accessories       15.28         5   3.8200   80.2200   3/8/2019   \n",
       "2      Home and lifestyle       46.33         7  16.2155  340.5255   3/3/2019   \n",
       "3       Health and beauty       58.22         8  23.2880  489.0480  1/27/2019   \n",
       "4       Sports and travel       86.31         7  30.2085  634.3785   2/8/2019   \n",
       "5  Electronic accessories       85.39         7  29.8865  627.6165  3/25/2019   \n",
       "6  Electronic accessories       68.84         6  20.6520  433.6920  2/25/2019   \n",
       "7      Home and lifestyle       73.56        10  36.7800  772.3800  2/24/2019   \n",
       "8       Health and beauty       36.26         2   3.6260   76.1460  1/10/2019   \n",
       "9      Food and beverages       54.84         3   8.2260  172.7460  2/20/2019   \n",
       "\n",
       "    Time      Payment    cogs  gross margin percentage  gross income  Rating  \n",
       "0  13:08      Ewallet  522.83                 4.761905       26.1415     9.1  \n",
       "1  10:29         Cash   76.40                 4.761905        3.8200     9.6  \n",
       "2  13:23  Credit card  324.31                 4.761905       16.2155     7.4  \n",
       "3  20:33      Ewallet  465.76                 4.761905       23.2880     8.4  \n",
       "4  10:37      Ewallet  604.17                 4.761905       30.2085     5.3  \n",
       "5  18:30      Ewallet  597.73                 4.761905       29.8865     4.1  \n",
       "6  14:36      Ewallet  413.04                 4.761905       20.6520     5.8  \n",
       "7  11:38      Ewallet  735.60                 4.761905       36.7800     8.0  \n",
       "8  17:15  Credit card   72.52                 4.761905        3.6260     7.2  \n",
       "9  13:27  Credit card  164.52                 4.761905        8.2260     5.9  "
      ]
     },
     "execution_count": 3,
     "metadata": {},
     "output_type": "execute_result"
    }
   ],
   "source": [
    "# Check Imported Data\n",
    "# Shows 10 first rows\n",
    "df.head(10)"
   ]
  },
  {
   "cell_type": "markdown",
   "metadata": {},
   "source": [
    "Also, let's see the basic information of the dataset."
   ]
  },
  {
   "cell_type": "code",
   "execution_count": 4,
   "metadata": {},
   "outputs": [
    {
     "name": "stdout",
     "output_type": "stream",
     "text": [
      "<class 'pandas.core.frame.DataFrame'>\n",
      "RangeIndex: 1000 entries, 0 to 999\n",
      "Data columns (total 17 columns):\n",
      " #   Column                   Non-Null Count  Dtype  \n",
      "---  ------                   --------------  -----  \n",
      " 0   Invoice ID               1000 non-null   object \n",
      " 1   Branch                   1000 non-null   object \n",
      " 2   City                     1000 non-null   object \n",
      " 3   Customer type            1000 non-null   object \n",
      " 4   Gender                   1000 non-null   object \n",
      " 5   Product line             1000 non-null   object \n",
      " 6   Unit price               1000 non-null   float64\n",
      " 7   Quantity                 1000 non-null   int64  \n",
      " 8   Tax 5%                   1000 non-null   float64\n",
      " 9   Total                    1000 non-null   float64\n",
      " 10  Date                     1000 non-null   object \n",
      " 11  Time                     1000 non-null   object \n",
      " 12  Payment                  1000 non-null   object \n",
      " 13  cogs                     1000 non-null   float64\n",
      " 14  gross margin percentage  1000 non-null   float64\n",
      " 15  gross income             1000 non-null   float64\n",
      " 16  Rating                   1000 non-null   float64\n",
      "dtypes: float64(7), int64(1), object(9)\n",
      "memory usage: 132.9+ KB\n"
     ]
    }
   ],
   "source": [
    "# Dataset info\n",
    "df.info()"
   ]
  },
  {
   "cell_type": "markdown",
   "metadata": {},
   "source": [
    "Based on dataframe information, We know this dataset is consist of `1000 rows and 17 columns.`\\\n",
    "From `Non-Null Count`, We know that there is no null entries in all columns.\\\n",
    "From `Dtype`, I can say most datatype is already matched the column description above,\\\n",
    "except for `Date` and `Time` columns, I will change its datatype into  datetime in cleaning process.\n"
   ]
  },
  {
   "cell_type": "code",
   "execution_count": 5,
   "metadata": {},
   "outputs": [
    {
     "name": "stdout",
     "output_type": "stream",
     "text": [
      "Invoice ID                 0\n",
      "Branch                     0\n",
      "City                       0\n",
      "Customer type              0\n",
      "Gender                     0\n",
      "Product line               0\n",
      "Unit price                 0\n",
      "Quantity                   0\n",
      "Tax 5%                     0\n",
      "Total                      0\n",
      "Date                       0\n",
      "Time                       0\n",
      "Payment                    0\n",
      "cogs                       0\n",
      "gross margin percentage    0\n",
      "gross income               0\n",
      "Rating                     0\n",
      "dtype: int64\n"
     ]
    }
   ],
   "source": [
    "# Null count summary for each column\n",
    "print(df.isnull().sum())"
   ]
  },
  {
   "cell_type": "markdown",
   "metadata": {},
   "source": [
    "From `null count` summary, I can confirm there is no null entries in the dataframe.\n",
    "But, Although our dataset is clean from null entries, it is not necessarily clean from `Non-standard missing value` or `Unexpected missing value.`\\\n",
    "\n",
    "I will identify any `Non-standard missing value` or `Unexpected missing value` in the next process of data cleaning."
   ]
  },
  {
   "cell_type": "markdown",
   "metadata": {},
   "source": [
    "## IV. Data Cleaning"
   ]
  },
  {
   "cell_type": "markdown",
   "metadata": {},
   "source": [
    "`Non-standard missing value` can be identified as any values in the columns entries that listed as `['na', 'N/A', '-', '', etc.]` or any values that indicated as null entry but failed to be detected as `standard missing value` by `pandas.`\n",
    "\n",
    "While, `Unexpected missing value` can be identified as any values in the columns entries that did not match its columns description.\\\n",
    "`For example`, We know from `Branch` column description, there are only three branches, [A, B, C]. Any value beside those three will be identified as `Unexpected missing value.`"
   ]
  },
  {
   "cell_type": "markdown",
   "metadata": {},
   "source": [
    "In order to identify `Non-standard missing value` and `Unexpected missing value`, I need to check every unique value in each column.\\\n",
    "Let's get to the process."
   ]
  },
  {
   "cell_type": "code",
   "execution_count": 6,
   "metadata": {},
   "outputs": [
    {
     "data": {
      "text/plain": [
       "array(['750-67-8428', '226-31-3081', '631-41-3108', '123-19-1176',\n",
       "       '373-73-7910', '699-14-3026', '355-53-5943', '315-22-5665',\n",
       "       '665-32-9167', '692-92-5582', '351-62-0822', '529-56-3974',\n",
       "       '365-64-0515', '252-56-2699', '829-34-3910', '299-46-1805',\n",
       "       '656-95-9349', '765-26-6951', '329-62-1586', '319-50-3348',\n",
       "       '300-71-4605', '371-85-5789', '273-16-6619', '636-48-8204',\n",
       "       '549-59-1358', '227-03-5010', '649-29-6775', '189-17-4241',\n",
       "       '145-94-9061', '848-62-7243', '871-79-8483', '149-71-6266',\n",
       "       '640-49-2076', '595-11-5460', '183-56-6882', '232-16-2483',\n",
       "       '129-29-8530', '272-65-1806', '333-73-7901', '777-82-7220',\n",
       "       '280-35-5823', '554-53-8700', '354-25-5821', '228-96-1411',\n",
       "       '617-15-4209', '132-32-9879', '370-41-7321', '727-46-3608',\n",
       "       '669-54-1719', '574-22-5561', '326-78-5178', '162-48-8011',\n",
       "       '616-24-2851', '778-71-5554', '242-55-6721', '399-46-5918',\n",
       "       '106-35-6779', '635-40-6220', '817-48-8732', '120-06-4233',\n",
       "       '285-68-5083', '803-83-5989', '347-34-2234', '199-75-8169',\n",
       "       '853-23-2453', '877-22-3308', '838-78-4295', '109-28-2512',\n",
       "       '232-11-3025', '382-03-4532', '393-65-2792', '796-12-2025',\n",
       "       '510-95-6347', '841-35-6630', '287-21-9091', '732-94-0499',\n",
       "       '263-10-3913', '381-20-0914', '829-49-1914', '756-01-7507',\n",
       "       '870-72-4431', '847-38-7188', '480-63-2856', '787-56-0757',\n",
       "       '360-39-5055', '730-50-9884', '362-58-8315', '633-44-8566',\n",
       "       '504-35-8843', '318-68-5053', '565-80-5980', '225-32-0908',\n",
       "       '873-51-0671', '152-08-9985', '512-91-0811', '594-34-4444',\n",
       "       '766-85-7061', '871-39-9221', '865-92-6136', '733-01-9107',\n",
       "       '163-56-7055', '189-98-2939', '551-21-3069', '212-62-1842',\n",
       "       '716-39-1409', '704-48-3927', '628-34-3388', '630-74-5166',\n",
       "       '588-01-7461', '861-77-0145', '479-26-8945', '210-67-5886',\n",
       "       '227-78-1148', '645-44-1170', '237-01-6122', '225-98-1496',\n",
       "       '291-32-1427', '659-65-8956', '642-32-2990', '378-24-2715',\n",
       "       '638-60-7125', '659-36-1684', '219-22-9386', '336-78-2147',\n",
       "       '268-27-6179', '668-90-8900', '870-54-3162', '189-08-9157',\n",
       "       '663-86-9076', '549-84-7482', '191-10-6171', '802-70-5316',\n",
       "       '695-51-0018', '590-83-4591', '483-71-1164', '597-78-7908',\n",
       "       '700-81-1757', '354-39-5160', '241-72-9525', '575-30-8091',\n",
       "       '731-81-9469', '280-17-4359', '338-65-2210', '488-25-4221',\n",
       "       '239-10-7476', '458-41-1477', '685-64-1609', '568-90-5112',\n",
       "       '262-47-2794', '238-49-0436', '608-96-3517', '584-86-7256',\n",
       "       '746-94-0204', '214-17-6927', '400-89-4171', '782-95-9291',\n",
       "       '279-74-2924', '307-85-2293', '743-04-1105', '423-57-2993',\n",
       "       '894-41-5205', '275-28-0149', '101-17-6199', '423-80-0988',\n",
       "       '548-46-9322', '505-02-0892', '234-65-2137', '687-47-8271',\n",
       "       '796-32-9050', '105-31-1824', '249-42-3782', '316-55-4634',\n",
       "       '733-33-4967', '608-27-6295', '414-12-7047', '827-26-2100',\n",
       "       '175-54-2529', '139-52-2867', '407-63-8975', '342-65-4817',\n",
       "       '130-98-8941', '434-83-9547', '851-28-6367', '824-88-3614',\n",
       "       '586-25-0848', '895-66-0685', '305-14-0245', '732-04-5373',\n",
       "       '400-60-7251', '593-65-1552', '284-34-9626', '437-58-8131',\n",
       "       '286-43-6208', '641-43-2399', '831-07-6050', '556-86-3144',\n",
       "       '848-24-9445', '856-22-8149', '699-01-4164', '420-11-4919',\n",
       "       '606-80-4905', '542-41-0513', '426-39-2418', '875-46-5808',\n",
       "       '394-43-4238', '749-24-1565', '672-51-8681', '263-87-5680',\n",
       "       '573-58-9734', '817-69-8206', '888-02-0338', '677-11-0152',\n",
       "       '142-63-6033', '656-16-1063', '891-58-8335', '802-43-8934',\n",
       "       '560-30-5617', '319-74-2561', '549-03-9315', '790-29-1172',\n",
       "       '239-36-3640', '468-01-2051', '389-25-3394', '279-62-1445',\n",
       "       '213-72-6612', '746-68-6593', '836-82-5858', '583-72-1480',\n",
       "       '466-61-5506', '721-86-6247', '289-65-5721', '545-46-3100',\n",
       "       '418-02-5978', '269-04-5750', '157-13-5295', '645-78-8093',\n",
       "       '211-30-9270', '755-12-3214', '346-84-3103', '478-06-7835',\n",
       "       '540-11-4336', '448-81-5016', '142-72-4741', '217-58-1179',\n",
       "       '376-02-8238', '530-90-9855', '866-05-7563', '604-70-6476',\n",
       "       '799-71-1548', '785-13-7708', '845-51-0542', '662-47-5456',\n",
       "       '883-17-4236', '290-68-2984', '704-11-6354', '110-48-7033',\n",
       "       '366-93-0948', '729-09-9681', '151-16-1484', '380-94-4661',\n",
       "       '850-41-9669', '821-07-3596', '655-85-5130', '447-15-7839',\n",
       "       '154-74-7179', '253-12-6086', '808-65-0703', '571-94-0759',\n",
       "       '144-51-6085', '731-14-2199', '783-09-1637', '687-15-1097',\n",
       "       '126-54-1082', '633-91-1052', '477-24-6490', '566-19-5475',\n",
       "       '526-86-8552', '376-56-3573', '537-72-0426', '828-61-5674',\n",
       "       '136-08-6195', '523-38-0215', '490-29-1201', '667-92-0055',\n",
       "       '565-17-3836', '498-41-1961', '593-95-4461', '226-71-3580',\n",
       "       '283-79-9594', '430-60-3493', '139-20-0155', '558-80-4082',\n",
       "       '278-97-7759', '316-68-6352', '585-03-5943', '211-05-0490',\n",
       "       '727-75-6477', '744-02-5987', '307-83-9164', '779-06-0012',\n",
       "       '446-47-6729', '573-10-3877', '735-06-4124', '439-54-7422',\n",
       "       '396-90-2219', '411-77-0180', '286-01-5402', '803-17-8013',\n",
       "       '512-98-1403', '848-42-2560', '532-59-7201', '181-94-6432',\n",
       "       '870-76-1733', '423-64-4619', '227-07-4446', '174-36-3675',\n",
       "       '428-83-5800', '603-07-0961', '704-20-4138', '787-15-1757',\n",
       "       '649-11-3678', '622-20-1945', '372-94-8041', '563-91-7120',\n",
       "       '746-54-5508', '276-54-0879', '815-11-1168', '719-76-3868',\n",
       "       '730-61-8757', '340-66-0321', '868-81-1752', '634-97-8956',\n",
       "       '566-71-1091', '442-48-3607', '835-16-0096', '527-09-6272',\n",
       "       '898-04-2717', '692-27-8933', '633-09-3463', '374-17-3652',\n",
       "       '378-07-7001', '433-75-6987', '873-95-4984', '416-13-5917',\n",
       "       '150-89-8043', '135-84-8019', '441-94-7118', '725-96-3778',\n",
       "       '531-80-1784', '400-45-1220', '860-79-0874', '834-61-8124',\n",
       "       '115-99-4379', '565-67-6697', '320-49-6392', '889-04-9723',\n",
       "       '632-90-0281', '554-42-2417', '453-63-6187', '578-80-7669',\n",
       "       '612-36-5536', '605-72-4132', '471-41-2823', '462-67-9126',\n",
       "       '272-27-9238', '834-25-9262', '122-61-9553', '468-88-0009',\n",
       "       '613-59-9758', '254-31-0042', '201-86-2184', '261-12-8671',\n",
       "       '730-70-9830', '382-25-8917', '422-29-8786', '667-23-5919',\n",
       "       '843-01-4703', '743-88-1662', '595-86-2894', '182-69-8360',\n",
       "       '289-15-7034', '462-78-5240', '868-52-7573', '153-58-4872',\n",
       "       '662-72-2873', '525-88-7307', '689-16-9784', '725-56-0833',\n",
       "       '394-41-0748', '596-42-3999', '541-89-9860', '173-82-9529',\n",
       "       '563-36-9814', '308-47-4913', '885-17-6250', '726-27-2396',\n",
       "       '316-01-3952', '760-54-1821', '793-10-3222', '346-12-3257',\n",
       "       '110-05-6330', '651-61-0874', '236-86-3015', '831-64-0259',\n",
       "       '587-03-7455', '882-40-4577', '732-67-5346', '725-32-9708',\n",
       "       '256-08-8343', '372-26-1506', '244-08-0162', '569-71-4390',\n",
       "       '132-23-6451', '696-90-2548', '472-15-9636', '268-03-6164',\n",
       "       '750-57-9686', '186-09-3669', '848-07-1692', '745-71-3520',\n",
       "       '266-76-6436', '740-22-2500', '271-88-8734', '301-81-8610',\n",
       "       '489-64-4354', '198-84-7132', '269-10-8440', '650-98-6268',\n",
       "       '741-73-3559', '325-77-6186', '286-75-7818', '574-57-9721',\n",
       "       '459-50-7686', '616-87-0016', '837-55-7229', '751-69-0068',\n",
       "       '257-73-1380', '345-08-4992', '549-96-4200', '810-60-6344',\n",
       "       '450-28-2866', '394-30-3170', '138-17-5109', '192-98-7397',\n",
       "       '301-11-9629', '390-80-5128', '235-46-8343', '453-12-7053',\n",
       "       '296-11-7041', '449-27-2918', '891-01-7034', '744-09-5786',\n",
       "       '727-17-0390', '568-88-3448', '187-83-5490', '767-54-1907',\n",
       "       '710-46-4433', '533-33-5337', '325-90-8763', '729-46-7422',\n",
       "       '639-76-1242', '234-03-4040', '326-71-2155', '320-32-8842',\n",
       "       '470-32-9057', '878-30-2331', '440-59-5691', '554-53-3790',\n",
       "       '746-19-0921', '233-34-0817', '767-05-1286', '340-21-9136',\n",
       "       '405-31-3305', '731-59-7531', '676-39-6028', '502-05-1910',\n",
       "       '485-30-8700', '598-47-9715', '701-69-8742', '575-67-1508',\n",
       "       '541-08-3113', '246-11-3901', '674-15-9296', '305-18-3552',\n",
       "       '493-65-6248', '438-01-4015', '709-58-4068', '795-49-7276',\n",
       "       '556-72-8512', '627-95-3243', '686-41-0932', '510-09-5628',\n",
       "       '608-04-3797', '148-82-2527', '437-53-3084', '632-32-4574',\n",
       "       '556-97-7101', '862-59-8517', '401-18-8016', '420-18-8989',\n",
       "       '277-63-2961', '573-98-8548', '620-02-2046', '282-35-2475',\n",
       "       '511-54-3087', '726-29-6793', '387-49-4215', '862-17-9201',\n",
       "       '291-21-5991', '602-80-9671', '347-72-6115', '209-61-0206',\n",
       "       '595-27-4851', '189-52-0236', '503-07-0930', '413-20-6708',\n",
       "       '425-85-2085', '521-18-7827', '220-28-1851', '600-38-9738',\n",
       "       '734-91-1155', '451-28-5717', '609-81-8548', '133-14-7229',\n",
       "       '534-01-4457', '719-89-8991', '286-62-6248', '339-38-9982',\n",
       "       '827-44-5872', '827-77-7633', '287-83-1405', '435-13-4908',\n",
       "       '857-67-9057', '236-27-1144', '892-05-6689', '583-41-4548',\n",
       "       '339-12-4827', '643-38-7867', '308-81-0538', '358-88-9262',\n",
       "       '460-35-4390', '343-87-0864', '173-50-1108', '243-47-2663',\n",
       "       '841-18-8232', '701-23-5550', '647-50-1224', '541-48-8554',\n",
       "       '539-21-7227', '213-32-1216', '747-58-7183', '582-52-8065',\n",
       "       '210-57-1719', '399-69-4630', '134-75-2619', '356-44-8813',\n",
       "       '198-66-9832', '283-26-5248', '712-39-0363', '218-59-9410',\n",
       "       '174-75-0888', '866-99-7614', '134-54-4720', '760-90-2357',\n",
       "       '514-37-2845', '698-98-5964', '718-57-9773', '651-88-7328',\n",
       "       '241-11-2261', '408-26-9866', '834-83-1826', '343-61-3544',\n",
       "       '239-48-4278', '355-34-6244', '550-84-8664', '339-96-8318',\n",
       "       '458-61-0011', '592-34-6155', '797-88-0493', '207-73-1363',\n",
       "       '390-31-6381', '443-82-0585', '339-18-7061', '359-90-3665',\n",
       "       '375-72-3056', '127-47-6963', '278-86-2735', '695-28-6250',\n",
       "       '379-17-6588', '227-50-3718', '302-15-2162', '788-07-8452',\n",
       "       '560-49-6611', '880-35-0356', '585-11-6748', '470-31-3286',\n",
       "       '152-68-2907', '123-35-4896', '258-69-7810', '334-64-2006',\n",
       "       '219-61-4139', '881-41-7302', '373-09-4567', '642-30-6693',\n",
       "       '484-22-8230', '830-58-2383', '559-98-9873', '544-32-5024',\n",
       "       '318-12-0304', '349-97-8902', '421-95-9805', '277-35-5865',\n",
       "       '789-23-8625', '284-54-4231', '443-59-0061', '509-29-3912',\n",
       "       '327-40-9673', '840-19-2096', '828-46-6863', '641-96-3695',\n",
       "       '420-97-3340', '436-54-4512', '670-79-6321', '852-62-7105',\n",
       "       '598-06-7312', '135-13-8269', '816-57-2053', '628-90-8624',\n",
       "       '856-66-2701', '308-39-1707', '149-61-1929', '655-07-2265',\n",
       "       '589-02-8023', '420-04-7590', '182-88-2763', '188-55-0967',\n",
       "       '610-46-4100', '318-81-2368', '364-33-8584', '665-63-9737',\n",
       "       '695-09-5146', '155-45-3814', '794-32-2436', '131-15-8856',\n",
       "       '273-84-2164', '706-36-6154', '778-89-7974', '574-31-8277',\n",
       "       '859-71-0933', '740-11-5257', '369-82-2676', '563-47-4072',\n",
       "       '742-04-5161', '149-15-7606', '133-77-3154', '169-52-4504',\n",
       "       '250-81-7186', '562-12-5430', '816-72-8853', '491-38-3499',\n",
       "       '322-02-2271', '842-29-4695', '725-67-2480', '641-51-2661',\n",
       "       '714-02-3114', '518-17-2983', '779-42-2410', '190-14-3147',\n",
       "       '408-66-6712', '679-22-6530', '588-47-8641', '642-61-4706',\n",
       "       '576-31-4774', '556-41-6224', '811-03-8790', '242-11-3142',\n",
       "       '752-23-3760', '274-05-5470', '648-94-3045', '130-67-4723',\n",
       "       '528-87-5606', '320-85-2052', '370-96-0655', '105-10-6182',\n",
       "       '510-79-0415', '241-96-5076', '767-97-4650', '648-83-1321',\n",
       "       '173-57-2300', '305-03-2383', '394-55-6384', '266-20-6657',\n",
       "       '689-05-1884', '196-01-2849', '372-62-5264', '800-09-8606',\n",
       "       '182-52-7000', '826-58-8051', '868-06-0466', '751-41-9720',\n",
       "       '626-43-7888', '176-64-7711', '191-29-0321', '729-06-2010',\n",
       "       '640-48-5028', '186-79-9562', '834-45-5519', '162-65-8559',\n",
       "       '760-27-5490', '445-30-9252', '786-94-2700', '728-88-7867',\n",
       "       '183-21-3799', '268-20-3585', '735-32-9839', '258-92-7466',\n",
       "       '857-16-3520', '482-17-1179', '788-21-5741', '821-14-9046',\n",
       "       '418-05-0656', '678-79-0726', '776-68-1096', '592-46-1692',\n",
       "       '434-35-9162', '149-14-0304', '442-44-6497', '174-64-0215',\n",
       "       '210-74-9613', '299-29-0180', '247-11-2470', '635-28-5728',\n",
       "       '756-49-0168', '438-23-1242', '238-45-6950', '607-65-2441',\n",
       "       '386-27-7606', '137-63-5492', '197-77-7132', '805-86-0265',\n",
       "       '733-29-1227', '451-73-2711', '373-14-0504', '546-80-2899',\n",
       "       '345-68-9016', '390-17-5806', '457-13-1708', '664-14-2882',\n",
       "       '487-79-6868', '314-23-4520', '210-30-7976', '585-86-8361',\n",
       "       '807-14-7833', '775-72-1988', '288-38-3758', '652-43-6591',\n",
       "       '785-96-0615', '406-46-7107', '250-17-5703', '156-95-3964',\n",
       "       '842-40-8179', '525-09-8450', '410-67-1709', '587-73-4862',\n",
       "       '787-87-2010', '593-14-4239', '801-88-0346', '388-76-2555',\n",
       "       '711-31-1234', '886-54-6089', '707-32-7409', '759-98-4285',\n",
       "       '201-63-8275', '471-06-8611', '200-16-5952', '120-54-2248',\n",
       "       '102-77-2261', '875-31-8302', '102-06-2002', '457-94-0464',\n",
       "       '629-42-4133', '534-53-3526', '307-04-2070', '468-99-7231',\n",
       "       '516-77-6464', '404-91-5964', '886-77-9084', '790-38-4466',\n",
       "       '704-10-4056', '497-37-6538', '651-96-5970', '400-80-4065',\n",
       "       '744-16-7898', '263-12-5321', '702-72-0487', '605-83-1050',\n",
       "       '443-60-9639', '864-24-7918', '359-94-5395', '401-09-4232',\n",
       "       '751-15-6198', '324-41-6833', '474-33-8305', '759-29-9521',\n",
       "       '831-81-6575', '220-68-6701', '618-34-8551', '257-60-7754',\n",
       "       '559-61-5987', '189-55-2313', '565-91-4567', '380-60-5336',\n",
       "       '815-04-6282', '674-56-6360', '778-34-2523', '499-27-7781',\n",
       "       '477-59-2456', '832-51-6761', '869-11-3082', '190-59-3964',\n",
       "       '366-43-6862', '186-43-8965', '784-21-9238', '276-75-6884',\n",
       "       '109-86-4363', '569-76-2760', '222-42-0244', '760-53-9233',\n",
       "       '538-22-0304', '416-17-9926', '237-44-6163', '636-17-0325',\n",
       "       '343-75-9322', '528-14-9470', '427-45-9297', '807-34-3742',\n",
       "       '288-62-1085', '670-71-7306', '660-29-7083', '271-77-8740',\n",
       "       '497-36-0989', '291-59-1384', '860-73-6466', '549-23-9016',\n",
       "       '896-34-0956', '804-38-3935', '585-90-0249', '862-29-5914',\n",
       "       '845-94-6841', '125-45-2293', '843-73-4724', '409-33-9708',\n",
       "       '658-66-3967', '866-70-2814', '160-22-2687', '895-03-6665',\n",
       "       '770-42-8960', '748-45-2862', '234-36-2483', '316-66-3011',\n",
       "       '848-95-6252', '840-76-5966', '152-03-4217', '533-66-5566',\n",
       "       '124-31-1458', '176-78-1170', '361-59-0574', '101-81-4070',\n",
       "       '631-34-1880', '852-82-2749', '873-14-6353', '584-66-4073',\n",
       "       '544-55-9589', '166-19-2553', '737-88-5876', '154-87-7367',\n",
       "       '885-56-0389', '608-05-3804', '448-61-3783', '761-49-0439',\n",
       "       '490-95-0021', '115-38-7388', '311-13-6971', '291-55-6563',\n",
       "       '548-48-3156', '460-93-5834', '325-89-4209', '884-80-6021',\n",
       "       '137-74-8729', '880-46-5796', '389-70-2397', '114-35-5271',\n",
       "       '607-76-6216', '715-20-1673', '811-35-1094', '699-88-1972',\n",
       "       '781-84-8059', '409-49-6995', '725-54-0677', '146-09-5432',\n",
       "       '377-79-7592', '509-10-0516', '595-94-9924', '865-41-9075',\n",
       "       '545-07-8534', '118-62-1812', '450-42-3339', '851-98-3555',\n",
       "       '186-71-5196', '624-01-8356', '313-66-9943', '151-27-8496',\n",
       "       '453-33-6436', '522-57-8364', '459-45-2396', '717-96-4189',\n",
       "       '722-13-2115', '749-81-8133', '777-67-2495', '636-98-3364',\n",
       "       '246-55-6923', '181-82-6255', '838-02-1821', '887-42-0517',\n",
       "       '457-12-0244', '226-34-0034', '321-49-7382', '397-25-8725',\n",
       "       '431-66-2305', '825-94-5922', '641-62-7288', '756-93-1854',\n",
       "       '243-55-8457', '458-10-8612', '501-61-1753', '235-06-8510',\n",
       "       '433-08-7822', '361-85-2571', '131-70-8179', '500-02-2261',\n",
       "       '720-72-2436', '702-83-5291', '809-69-9497', '449-16-6770',\n",
       "       '333-23-2632', '489-82-1237', '859-97-6048', '676-10-2200',\n",
       "       '373-88-1424', '365-16-4334', '503-21-4385', '305-89-2768',\n",
       "       '574-80-1489', '784-08-0310', '200-40-6154', '846-10-0341',\n",
       "       '577-34-7579', '430-02-3888', '867-47-1948', '384-59-6655',\n",
       "       '256-58-3609', '324-92-3863', '593-08-5916', '364-34-2972',\n",
       "       '794-42-3736', '172-42-8274', '558-60-5016', '195-06-0432',\n",
       "       '605-03-2706', '214-30-2776', '746-04-1077', '448-34-8700',\n",
       "       '452-04-8808', '531-56-4728', '744-82-9138', '883-69-1285',\n",
       "       '221-25-5073', '518-71-6847', '156-20-0370', '151-33-7434',\n",
       "       '728-47-9078', '809-46-1866', '139-32-4183', '148-41-7930',\n",
       "       '189-40-5216', '374-38-5555', '764-44-8999', '552-44-5977',\n",
       "       '267-62-7380', '430-53-4718', '886-18-2897', '602-16-6955',\n",
       "       '745-74-0715', '690-01-6631', '652-49-6720', '233-67-5758',\n",
       "       '303-96-2227', '727-02-1313', '347-56-2442', '849-09-3807'],\n",
       "      dtype=object)"
      ]
     },
     "execution_count": 6,
     "metadata": {},
     "output_type": "execute_result"
    }
   ],
   "source": [
    "# Unique Value Identification\n",
    "# Column : Invoice ID\n",
    "# Desc :  Computer generated sales slip invoice identification number\n",
    "\n",
    "df['Invoice ID'].unique()"
   ]
  },
  {
   "cell_type": "markdown",
   "metadata": {},
   "source": [
    "`Invoice ID` seems follow the same pattern, therefore I asume it is already good entry."
   ]
  },
  {
   "cell_type": "code",
   "execution_count": 7,
   "metadata": {},
   "outputs": [
    {
     "data": {
      "text/plain": [
       "array(['A', 'C', 'B'], dtype=object)"
      ]
     },
     "execution_count": 7,
     "metadata": {},
     "output_type": "execute_result"
    }
   ],
   "source": [
    "# Unique Value Identification\n",
    "# Column : Branch\n",
    "# Desc : Branch of supercenter (3 branches are available identified by A, B and C).\n",
    "\n",
    "df['Branch'].unique()"
   ]
  },
  {
   "cell_type": "markdown",
   "metadata": {},
   "source": [
    "`Product line` column shows no strange value. Each unique ID match the column description."
   ]
  },
  {
   "cell_type": "code",
   "execution_count": 8,
   "metadata": {},
   "outputs": [
    {
     "data": {
      "text/plain": [
       "array(['Yangon', 'Naypyitaw', 'Mandalay'], dtype=object)"
      ]
     },
     "execution_count": 8,
     "metadata": {},
     "output_type": "execute_result"
    }
   ],
   "source": [
    "# Unique Value Identification\n",
    "# Column : City\n",
    "# Desc : Location of supercenters\n",
    "\n",
    "df['City'].unique()"
   ]
  },
  {
   "cell_type": "markdown",
   "metadata": {},
   "source": [
    "`City` column shows no strange value. Each unique ID are valid city name."
   ]
  },
  {
   "cell_type": "code",
   "execution_count": 9,
   "metadata": {},
   "outputs": [
    {
     "data": {
      "text/plain": [
       "array(['Member', 'Normal'], dtype=object)"
      ]
     },
     "execution_count": 9,
     "metadata": {},
     "output_type": "execute_result"
    }
   ],
   "source": [
    "# Unique Value Identification\n",
    "# Column : Customer type\n",
    "# Desc : Type of customers, recorded by Members for customers using member card and Normal for without member card.\n",
    "\n",
    "df['Customer type'].unique()"
   ]
  },
  {
   "cell_type": "markdown",
   "metadata": {},
   "source": [
    "`Customer type` column shows no strange value. Each unique ID match the column description."
   ]
  },
  {
   "cell_type": "code",
   "execution_count": 10,
   "metadata": {},
   "outputs": [
    {
     "data": {
      "text/plain": [
       "array(['Female', 'Male'], dtype=object)"
      ]
     },
     "execution_count": 10,
     "metadata": {},
     "output_type": "execute_result"
    }
   ],
   "source": [
    "# Unique Value Identification\n",
    "# Column : Gender\n",
    "# Desc : Gender type of customer\n",
    "\n",
    "df['Gender'].unique()"
   ]
  },
  {
   "cell_type": "markdown",
   "metadata": {},
   "source": [
    "`Gender` column shows no strange value. Each unique ID match the column description."
   ]
  },
  {
   "cell_type": "code",
   "execution_count": 11,
   "metadata": {},
   "outputs": [
    {
     "data": {
      "text/plain": [
       "array(['Health and beauty', 'Electronic accessories',\n",
       "       'Home and lifestyle', 'Sports and travel', 'Food and beverages',\n",
       "       'Fashion accessories'], dtype=object)"
      ]
     },
     "execution_count": 11,
     "metadata": {},
     "output_type": "execute_result"
    }
   ],
   "source": [
    "# Unique Value Identification\n",
    "# Column : Product line\n",
    "# Desc :  General item categorization groups - Electronic accessories, Fashion accessories, Food and beverages, Health and beauty, Home and lifestyle, Sports and travel\n",
    "\n",
    "df['Product line'].unique()"
   ]
  },
  {
   "cell_type": "markdown",
   "metadata": {},
   "source": [
    "`Product line` column shows no strange value. Each unique ID match the column description."
   ]
  },
  {
   "cell_type": "code",
   "execution_count": 12,
   "metadata": {},
   "outputs": [
    {
     "data": {
      "text/plain": [
       "count    1000.00\n",
       "mean       55.67\n",
       "std        26.49\n",
       "min        10.08\n",
       "25%        32.88\n",
       "50%        55.23\n",
       "75%        77.94\n",
       "max        99.96\n",
       "Name: Unit price, dtype: float64"
      ]
     },
     "execution_count": 12,
     "metadata": {},
     "output_type": "execute_result"
    }
   ],
   "source": [
    "# Unique Value Identification\n",
    "# Column : Unit price\n",
    "# Desc : Price of each product in $\n",
    "\n",
    "df['Unit price'].describe().T.round(2)"
   ]
  },
  {
   "cell_type": "markdown",
   "metadata": {},
   "source": [
    "`Unit price` column shows no strange value. No negative value, it is aready match the column description."
   ]
  },
  {
   "cell_type": "code",
   "execution_count": 13,
   "metadata": {},
   "outputs": [
    {
     "data": {
      "text/plain": [
       "count    1000.00\n",
       "mean        5.51\n",
       "std         2.92\n",
       "min         1.00\n",
       "25%         3.00\n",
       "50%         5.00\n",
       "75%         8.00\n",
       "max        10.00\n",
       "Name: Quantity, dtype: float64"
      ]
     },
     "execution_count": 13,
     "metadata": {},
     "output_type": "execute_result"
    }
   ],
   "source": [
    "# Unique Value Identification\n",
    "# Column : Quantity\n",
    "# Desc : Number of products purchased by customer\n",
    "\n",
    "df['Quantity'].describe().T.round(2)"
   ]
  },
  {
   "cell_type": "markdown",
   "metadata": {},
   "source": [
    "`Quantity` column shows no strange value. No negative value, it is aready match the column description."
   ]
  },
  {
   "cell_type": "code",
   "execution_count": 14,
   "metadata": {},
   "outputs": [
    {
     "data": {
      "text/plain": [
       "count    1000.00\n",
       "mean       15.38\n",
       "std        11.71\n",
       "min         0.51\n",
       "25%         5.92\n",
       "50%        12.09\n",
       "75%        22.45\n",
       "max        49.65\n",
       "Name: Tax 5%, dtype: float64"
      ]
     },
     "execution_count": 14,
     "metadata": {},
     "output_type": "execute_result"
    }
   ],
   "source": [
    "# Unique Value Identification\n",
    "# Column : Tax 5%\n",
    "# Desc : 5% tax fee for customer buying\n",
    "\n",
    "df['Tax 5%'].describe().T.round(2)"
   ]
  },
  {
   "cell_type": "markdown",
   "metadata": {},
   "source": [
    "`Tax 5%` column shows no strange value. It is aready match the column description."
   ]
  },
  {
   "cell_type": "code",
   "execution_count": 15,
   "metadata": {},
   "outputs": [
    {
     "data": {
      "text/plain": [
       "count    1000.00\n",
       "mean      322.97\n",
       "std       245.89\n",
       "min        10.68\n",
       "25%       124.42\n",
       "50%       253.85\n",
       "75%       471.35\n",
       "max      1042.65\n",
       "Name: Total, dtype: float64"
      ]
     },
     "execution_count": 15,
     "metadata": {},
     "output_type": "execute_result"
    }
   ],
   "source": [
    "# Unique Value Identification\n",
    "# Column : Total\n",
    "# Desc : Total price including tax\n",
    "\n",
    "df['Total'].describe().T.round(2)"
   ]
  },
  {
   "cell_type": "markdown",
   "metadata": {},
   "source": [
    "`Total` column shows no strange value. It is already match the column description."
   ]
  },
  {
   "cell_type": "code",
   "execution_count": 16,
   "metadata": {},
   "outputs": [
    {
     "name": "stdout",
     "output_type": "stream",
     "text": [
      "Earliest Date :  2019-01-01 00:00:00\n",
      "Latest Date :  2019-03-30 00:00:00\n"
     ]
    }
   ],
   "source": [
    "# Unique Value Identification\n",
    "# Column : Date\n",
    "# Desc : Date of purchase (Record available from January 2019 to March 2019)\n",
    "\n",
    "# Convert into datetime format\n",
    "df['Date'] = pd.to_datetime(df['Date'])\n",
    "\n",
    "# Check min and max value\n",
    "print(f'Earliest Date : ', min(df['Date']))\n",
    "print(f'Latest Date : ', max(df['Date']))"
   ]
  },
  {
   "cell_type": "code",
   "execution_count": 17,
   "metadata": {},
   "outputs": [
    {
     "data": {
      "text/plain": [
       "856   2019-01-01\n",
       "567   2019-01-01\n",
       "245   2019-01-01\n",
       "696   2019-01-01\n",
       "523   2019-01-01\n",
       "829   2019-01-01\n",
       "496   2019-01-01\n",
       "970   2019-01-01\n",
       "484   2019-01-01\n",
       "17    2019-01-01\n",
       "839   2019-01-01\n",
       "450   2019-01-01\n",
       "451   2019-01-02\n",
       "425   2019-01-02\n",
       "410   2019-01-02\n",
       "300   2019-01-02\n",
       "88    2019-01-02\n",
       "558   2019-01-02\n",
       "837   2019-01-02\n",
       "744   2019-01-02\n",
       "205   2019-01-03\n",
       "374   2019-01-03\n",
       "170   2019-01-03\n",
       "934   2019-01-03\n",
       "541   2019-01-03\n",
       "777   2019-01-03\n",
       "271   2019-01-03\n",
       "987   2019-01-03\n",
       "269   2019-01-04\n",
       "407   2019-01-04\n",
       "213   2019-01-04\n",
       "412   2019-01-04\n",
       "156   2019-01-04\n",
       "206   2019-01-04\n",
       "766   2019-01-05\n",
       "106   2019-01-05\n",
       "0     2019-01-05\n",
       "544   2019-01-05\n",
       "536   2019-01-05\n",
       "945   2019-01-05\n",
       "268   2019-01-05\n",
       "511   2019-01-05\n",
       "501   2019-01-05\n",
       "376   2019-01-05\n",
       "243   2019-01-05\n",
       "936   2019-01-05\n",
       "254   2019-01-06\n",
       "697   2019-01-06\n",
       "703   2019-01-06\n",
       "70    2019-01-06\n",
       "282   2019-01-06\n",
       "384   2019-01-06\n",
       "365   2019-01-06\n",
       "955   2019-01-06\n",
       "869   2019-01-06\n",
       "35    2019-01-07\n",
       "580   2019-01-07\n",
       "547   2019-01-07\n",
       "355   2019-01-07\n",
       "275   2019-01-07\n",
       "276   2019-01-07\n",
       "67    2019-01-07\n",
       "272   2019-01-07\n",
       "248   2019-01-07\n",
       "482   2019-01-08\n",
       "443   2019-01-08\n",
       "746   2019-01-08\n",
       "686   2019-01-08\n",
       "128   2019-01-08\n",
       "267   2019-01-08\n",
       "127   2019-01-08\n",
       "416   2019-01-08\n",
       "807   2019-01-08\n",
       "880   2019-01-08\n",
       "685   2019-01-08\n",
       "726   2019-01-08\n",
       "868   2019-01-08\n",
       "864   2019-01-08\n",
       "861   2019-01-08\n",
       "506   2019-01-08\n",
       "848   2019-01-08\n",
       "604   2019-01-08\n",
       "76    2019-01-09\n",
       "357   2019-01-09\n",
       "832   2019-01-09\n",
       "682   2019-01-09\n",
       "836   2019-01-09\n",
       "984   2019-01-09\n",
       "958   2019-01-09\n",
       "951   2019-01-09\n",
       "925   2019-01-10\n",
       "32    2019-01-10\n",
       "8     2019-01-10\n",
       "317   2019-01-10\n",
       "956   2019-01-10\n",
       "923   2019-01-10\n",
       "297   2019-01-10\n",
       "568   2019-01-10\n",
       "92    2019-01-10\n",
       "240   2019-01-11\n",
       "239   2019-01-11\n",
       "723   2019-01-11\n",
       "406   2019-01-11\n",
       "757   2019-01-11\n",
       "679   2019-01-11\n",
       "380   2019-01-11\n",
       "225   2019-01-11\n",
       "546   2019-01-12\n",
       "121   2019-01-12\n",
       "418   2019-01-12\n",
       "863   2019-01-12\n",
       "448   2019-01-12\n",
       "800   2019-01-12\n",
       "77    2019-01-12\n",
       "105   2019-01-12\n",
       "623   2019-01-12\n",
       "699   2019-01-12\n",
       "738   2019-01-12\n",
       "927   2019-01-13\n",
       "885   2019-01-13\n",
       "616   2019-01-13\n",
       "967   2019-01-13\n",
       "75    2019-01-13\n",
       "527   2019-01-13\n",
       "953   2019-01-13\n",
       "573   2019-01-13\n",
       "195   2019-01-13\n",
       "432   2019-01-13\n",
       "741   2019-01-14\n",
       "670   2019-01-14\n",
       "202   2019-01-14\n",
       "681   2019-01-14\n",
       "382   2019-01-14\n",
       "249   2019-01-14\n",
       "808   2019-01-14\n",
       "577   2019-01-14\n",
       "375   2019-01-14\n",
       "788   2019-01-14\n",
       "583   2019-01-14\n",
       "900   2019-01-14\n",
       "852   2019-01-14\n",
       "749   2019-01-15\n",
       "792   2019-01-15\n",
       "444   2019-01-15\n",
       "191   2019-01-15\n",
       "650   2019-01-15\n",
       "15    2019-01-15\n",
       "37    2019-01-15\n",
       "442   2019-01-15\n",
       "635   2019-01-15\n",
       "769   2019-01-15\n",
       "440   2019-01-15\n",
       "632   2019-01-15\n",
       "838   2019-01-15\n",
       "687   2019-01-16\n",
       "166   2019-01-16\n",
       "211   2019-01-16\n",
       "806   2019-01-16\n",
       "510   2019-01-16\n",
       "648   2019-01-16\n",
       "526   2019-01-16\n",
       "661   2019-01-16\n",
       "694   2019-01-16\n",
       "117   2019-01-16\n",
       "622   2019-01-17\n",
       "669   2019-01-17\n",
       "565   2019-01-17\n",
       "519   2019-01-17\n",
       "867   2019-01-17\n",
       "609   2019-01-17\n",
       "709   2019-01-17\n",
       "789   2019-01-17\n",
       "324   2019-01-17\n",
       "774   2019-01-17\n",
       "40    2019-01-17\n",
       "873   2019-01-18\n",
       "721   2019-01-18\n",
       "321   2019-01-18\n",
       "657   2019-01-18\n",
       "719   2019-01-18\n",
       "136   2019-01-18\n",
       "645   2019-01-18\n",
       "174   2019-01-18\n",
       "896   2019-01-18\n",
       "405   2019-01-19\n",
       "849   2019-01-19\n",
       "942   2019-01-19\n",
       "817   2019-01-19\n",
       "630   2019-01-19\n",
       "173   2019-01-19\n",
       "113   2019-01-19\n",
       "584   2019-01-19\n",
       "879   2019-01-19\n",
       "168   2019-01-19\n",
       "613   2019-01-19\n",
       "911   2019-01-19\n",
       "160   2019-01-19\n",
       "717   2019-01-19\n",
       "980   2019-01-19\n",
       "299   2019-01-19\n",
       "933   2019-01-20\n",
       "555   2019-01-20\n",
       "436   2019-01-20\n",
       "708   2019-01-20\n",
       "762   2019-01-20\n",
       "58    2019-01-20\n",
       "347   2019-01-20\n",
       "764   2019-01-20\n",
       "119   2019-01-20\n",
       "235   2019-01-20\n",
       "18    2019-01-21\n",
       "426   2019-01-21\n",
       "80    2019-01-21\n",
       "144   2019-01-21\n",
       "293   2019-01-21\n",
       "498   2019-01-21\n",
       "707   2019-01-21\n",
       "363   2019-01-21\n",
       "540   2019-01-22\n",
       "74    2019-01-22\n",
       "517   2019-01-22\n",
       "651   2019-01-22\n",
       "417   2019-01-22\n",
       "79    2019-01-22\n",
       "775   2019-01-22\n",
       "859   2019-01-23\n",
       "983   2019-01-23\n",
       "787   2019-01-23\n",
       "549   2019-01-23\n",
       "854   2019-01-23\n",
       "608   2019-01-23\n",
       "421   2019-01-23\n",
       "618   2019-01-23\n",
       "90    2019-01-23\n",
       "140   2019-01-23\n",
       "82    2019-01-23\n",
       "181   2019-01-23\n",
       "981   2019-01-23\n",
       "470   2019-01-23\n",
       "247   2019-01-23\n",
       "600   2019-01-23\n",
       "816   2019-01-23\n",
       "531   2019-01-24\n",
       "684   2019-01-24\n",
       "935   2019-01-24\n",
       "290   2019-01-24\n",
       "68    2019-01-24\n",
       "733   2019-01-24\n",
       "753   2019-01-24\n",
       "991   2019-01-24\n",
       "796   2019-01-24\n",
       "612   2019-01-24\n",
       "814   2019-01-24\n",
       "830   2019-01-24\n",
       "395   2019-01-24\n",
       "371   2019-01-25\n",
       "288   2019-01-25\n",
       "328   2019-01-25\n",
       "471   2019-01-25\n",
       "298   2019-01-25\n",
       "411   2019-01-25\n",
       "415   2019-01-25\n",
       "53    2019-01-25\n",
       "28    2019-01-25\n",
       "850   2019-01-25\n",
       "130   2019-01-25\n",
       "754   2019-01-25\n",
       "141   2019-01-25\n",
       "690   2019-01-25\n",
       "183   2019-01-25\n",
       "210   2019-01-25\n",
       "628   2019-01-25\n",
       "601   2019-01-26\n",
       "844   2019-01-26\n",
       "629   2019-01-26\n",
       "625   2019-01-26\n",
       "548   2019-01-26\n",
       "964   2019-01-26\n",
       "81    2019-01-26\n",
       "351   2019-01-26\n",
       "226   2019-01-26\n",
       "193   2019-01-26\n",
       "598   2019-01-26\n",
       "972   2019-01-26\n",
       "230   2019-01-26\n",
       "171   2019-01-26\n",
       "391   2019-01-26\n",
       "91    2019-01-26\n",
       "865   2019-01-26\n",
       "388   2019-01-27\n",
       "3     2019-01-27\n",
       "458   2019-01-27\n",
       "818   2019-01-27\n",
       "497   2019-01-27\n",
       "846   2019-01-27\n",
       "126   2019-01-27\n",
       "909   2019-01-27\n",
       "512   2019-01-27\n",
       "524   2019-01-27\n",
       "591   2019-01-27\n",
       "368   2019-01-27\n",
       "273   2019-01-27\n",
       "502   2019-01-27\n",
       "903   2019-01-28\n",
       "543   2019-01-28\n",
       "409   2019-01-28\n",
       "31    2019-01-28\n",
       "154   2019-01-28\n",
       "989   2019-01-28\n",
       "445   2019-01-28\n",
       "895   2019-01-28\n",
       "179   2019-01-28\n",
       "189   2019-01-28\n",
       "505   2019-01-28\n",
       "872   2019-01-28\n",
       "236   2019-01-28\n",
       "826   2019-01-28\n",
       "825   2019-01-29\n",
       "255   2019-01-29\n",
       "995   2019-01-29\n",
       "373   2019-01-29\n",
       "737   2019-01-29\n",
       "571   2019-01-29\n",
       "152   2019-01-29\n",
       "507   2019-01-29\n",
       "200   2019-01-29\n",
       "658   2019-01-29\n",
       "695   2019-01-29\n",
       "479   2019-01-29\n",
       "562   2019-01-30\n",
       "847   2019-01-30\n",
       "379   2019-01-30\n",
       "845   2019-01-30\n",
       "557   2019-01-30\n",
       "488   2019-01-30\n",
       "343   2019-01-30\n",
       "747   2019-01-30\n",
       "163   2019-01-30\n",
       "809   2019-01-31\n",
       "227   2019-01-31\n",
       "220   2019-01-31\n",
       "714   2019-01-31\n",
       "287   2019-01-31\n",
       "430   2019-01-31\n",
       "256   2019-01-31\n",
       "761   2019-01-31\n",
       "706   2019-01-31\n",
       "385   2019-01-31\n",
       "454   2019-01-31\n",
       "310   2019-01-31\n",
       "913   2019-01-31\n",
       "779   2019-01-31\n",
       "102   2019-02-01\n",
       "114   2019-02-01\n",
       "539   2019-02-01\n",
       "169   2019-02-01\n",
       "312   2019-02-01\n",
       "581   2019-02-01\n",
       "480   2019-02-02\n",
       "720   2019-02-02\n",
       "472   2019-02-02\n",
       "915   2019-02-02\n",
       "745   2019-02-02\n",
       "370   2019-02-02\n",
       "931   2019-02-02\n",
       "499   2019-02-02\n",
       "118   2019-02-02\n",
       "250   2019-02-02\n",
       "277   2019-02-02\n",
       "69    2019-02-02\n",
       "41    2019-02-02\n",
       "244   2019-02-02\n",
       "947   2019-02-03\n",
       "614   2019-02-03\n",
       "50    2019-02-03\n",
       "751   2019-02-03\n",
       "500   2019-02-03\n",
       "660   2019-02-03\n",
       "652   2019-02-03\n",
       "62    2019-02-03\n",
       "566   2019-02-03\n",
       "819   2019-02-03\n",
       "462   2019-02-03\n",
       "460   2019-02-03\n",
       "289   2019-02-03\n",
       "332   2019-02-03\n",
       "979   2019-02-04\n",
       "419   2019-02-04\n",
       "489   2019-02-04\n",
       "665   2019-02-04\n",
       "724   2019-02-04\n",
       "785   2019-02-04\n",
       "587   2019-02-04\n",
       "713   2019-02-04\n",
       "556   2019-02-04\n",
       "346   2019-02-04\n",
       "402   2019-02-04\n",
       "142   2019-02-05\n",
       "961   2019-02-05\n",
       "311   2019-02-05\n",
       "782   2019-02-05\n",
       "886   2019-02-05\n",
       "111   2019-02-05\n",
       "593   2019-02-05\n",
       "110   2019-02-05\n",
       "257   2019-02-05\n",
       "897   2019-02-05\n",
       "339   2019-02-05\n",
       "552   2019-02-05\n",
       "894   2019-02-06\n",
       "725   2019-02-06\n",
       "10    2019-02-06\n",
       "773   2019-02-06\n",
       "47    2019-02-06\n",
       "378   2019-02-06\n",
       "715   2019-02-06\n",
       "203   2019-02-06\n",
       "522   2019-02-06\n",
       "532   2019-02-06\n",
       "948   2019-02-06\n",
       "34    2019-02-06\n",
       "94    2019-02-06\n",
       "592   2019-02-07\n",
       "957   2019-02-07\n",
       "619   2019-02-07\n",
       "153   2019-02-07\n",
       "891   2019-02-07\n",
       "985   2019-02-07\n",
       "912   2019-02-07\n",
       "678   2019-02-07\n",
       "57    2019-02-07\n",
       "259   2019-02-07\n",
       "822   2019-02-07\n",
       "974   2019-02-07\n",
       "439   2019-02-07\n",
       "528   2019-02-07\n",
       "535   2019-02-07\n",
       "330   2019-02-07\n",
       "700   2019-02-07\n",
       "13    2019-02-07\n",
       "610   2019-02-07\n",
       "457   2019-02-07\n",
       "732   2019-02-08\n",
       "812   2019-02-08\n",
       "921   2019-02-08\n",
       "605   2019-02-08\n",
       "466   2019-02-08\n",
       "129   2019-02-08\n",
       "4     2019-02-08\n",
       "26    2019-02-08\n",
       "167   2019-02-08\n",
       "187   2019-02-08\n",
       "422   2019-02-08\n",
       "42    2019-02-08\n",
       "997   2019-02-09\n",
       "906   2019-02-09\n",
       "550   2019-02-09\n",
       "468   2019-02-09\n",
       "97    2019-02-09\n",
       "316   2019-02-09\n",
       "509   2019-02-09\n",
       "899   2019-02-09\n",
       "954   2019-02-09\n",
       "180   2019-02-09\n",
       "246   2019-02-09\n",
       "263   2019-02-09\n",
       "901   2019-02-09\n",
       "48    2019-02-10\n",
       "606   2019-02-10\n",
       "51    2019-02-10\n",
       "693   2019-02-10\n",
       "66    2019-02-10\n",
       "188   2019-02-10\n",
       "340   2019-02-10\n",
       "132   2019-02-10\n",
       "146   2019-02-10\n",
       "314   2019-02-10\n",
       "971   2019-02-10\n",
       "232   2019-02-11\n",
       "799   2019-02-11\n",
       "71    2019-02-11\n",
       "973   2019-02-11\n",
       "561   2019-02-11\n",
       "190   2019-02-11\n",
       "781   2019-02-11\n",
       "760   2019-02-11\n",
       "12    2019-02-12\n",
       "218   2019-02-12\n",
       "530   2019-02-12\n",
       "742   2019-02-12\n",
       "680   2019-02-12\n",
       "663   2019-02-12\n",
       "876   2019-02-12\n",
       "483   2019-02-12\n",
       "542   2019-02-13\n",
       "177   2019-02-13\n",
       "258   2019-02-13\n",
       "582   2019-02-13\n",
       "392   2019-02-13\n",
       "843   2019-02-13\n",
       "767   2019-02-13\n",
       "455   2019-02-13\n",
       "315   2019-02-14\n",
       "344   2019-02-14\n",
       "824   2019-02-14\n",
       "446   2019-02-14\n",
       "120   2019-02-14\n",
       "64    2019-02-14\n",
       "904   2019-02-14\n",
       "833   2019-02-14\n",
       "673   2019-02-15\n",
       "390   2019-02-15\n",
       "469   2019-02-15\n",
       "456   2019-02-15\n",
       "481   2019-02-15\n",
       "689   2019-02-15\n",
       "350   2019-02-15\n",
       "280   2019-02-15\n",
       "928   2019-02-15\n",
       "840   2019-02-15\n",
       "596   2019-02-15\n",
       "926   2019-02-15\n",
       "858   2019-02-15\n",
       "342   2019-02-15\n",
       "112   2019-02-15\n",
       "791   2019-02-15\n",
       "204   2019-02-15\n",
       "60    2019-02-15\n",
       "322   2019-02-15\n",
       "870   2019-02-16\n",
       "644   2019-02-16\n",
       "654   2019-02-16\n",
       "138   2019-02-16\n",
       "624   2019-02-16\n",
       "404   2019-02-16\n",
       "855   2019-02-16\n",
       "668   2019-02-16\n",
       "199   2019-02-17\n",
       "307   2019-02-17\n",
       "718   2019-02-17\n",
       "23    2019-02-17\n",
       "222   2019-02-17\n",
       "529   2019-02-17\n",
       "360   2019-02-17\n",
       "938   2019-02-17\n",
       "133   2019-02-17\n",
       "772   2019-02-17\n",
       "597   2019-02-17\n",
       "756   2019-02-17\n",
       "331   2019-02-17\n",
       "135   2019-02-18\n",
       "137   2019-02-18\n",
       "999   2019-02-18\n",
       "986   2019-02-18\n",
       "292   2019-02-18\n",
       "994   2019-02-18\n",
       "319   2019-02-18\n",
       "851   2019-02-19\n",
       "959   2019-02-19\n",
       "676   2019-02-19\n",
       "786   2019-02-19\n",
       "712   2019-02-19\n",
       "364   2019-02-19\n",
       "698   2019-02-19\n",
       "780   2019-02-19\n",
       "943   2019-02-19\n",
       "285   2019-02-20\n",
       "576   2019-02-20\n",
       "860   2019-02-20\n",
       "155   2019-02-20\n",
       "743   2019-02-20\n",
       "882   2019-02-20\n",
       "666   2019-02-20\n",
       "387   2019-02-20\n",
       "164   2019-02-20\n",
       "9     2019-02-20\n",
       "223   2019-02-21\n",
       "890   2019-02-21\n",
       "664   2019-02-21\n",
       "233   2019-02-21\n",
       "217   2019-02-21\n",
       "950   2019-02-21\n",
       "377   2019-02-22\n",
       "403   2019-02-22\n",
       "918   2019-02-22\n",
       "551   2019-02-22\n",
       "434   2019-02-22\n",
       "752   2019-02-22\n",
       "143   2019-02-22\n",
       "993   2019-02-22\n",
       "998   2019-02-22\n",
       "797   2019-02-22\n",
       "922   2019-02-22\n",
       "304   2019-02-23\n",
       "83    2019-02-23\n",
       "667   2019-02-23\n",
       "459   2019-02-23\n",
       "640   2019-02-23\n",
       "804   2019-02-23\n",
       "677   2019-02-23\n",
       "514   2019-02-23\n",
       "337   2019-02-24\n",
       "811   2019-02-24\n",
       "784   2019-02-24\n",
       "675   2019-02-24\n",
       "649   2019-02-24\n",
       "821   2019-02-24\n",
       "949   2019-02-24\n",
       "7     2019-02-24\n",
       "61    2019-02-24\n",
       "20    2019-02-25\n",
       "30    2019-02-25\n",
       "914   2019-02-25\n",
       "952   2019-02-25\n",
       "877   2019-02-25\n",
       "6     2019-02-25\n",
       "525   2019-02-25\n",
       "161   2019-02-25\n",
       "538   2019-02-25\n",
       "570   2019-02-25\n",
       "475   2019-02-25\n",
       "853   2019-02-25\n",
       "504   2019-02-25\n",
       "165   2019-02-25\n",
       "302   2019-02-25\n",
       "831   2019-02-25\n",
       "264   2019-02-26\n",
       "274   2019-02-26\n",
       "794   2019-02-26\n",
       "228   2019-02-26\n",
       "494   2019-02-26\n",
       "320   2019-02-26\n",
       "659   2019-02-26\n",
       "770   2019-02-26\n",
       "977   2019-02-26\n",
       "428   2019-02-27\n",
       "683   2019-02-27\n",
       "349   2019-02-27\n",
       "656   2019-02-27\n",
       "345   2019-02-27\n",
       "361   2019-02-27\n",
       "89    2019-02-27\n",
       "702   2019-02-27\n",
       "639   2019-02-27\n",
       "932   2019-02-27\n",
       "793   2019-02-27\n",
       "46    2019-02-27\n",
       "758   2019-02-27\n",
       "771   2019-02-27\n",
       "486   2019-02-28\n",
       "55    2019-02-28\n",
       "710   2019-02-28\n",
       "731   2019-02-28\n",
       "242   2019-02-28\n",
       "841   2019-02-28\n",
       "518   2019-03-01\n",
       "595   2019-03-01\n",
       "674   2019-03-01\n",
       "579   2019-03-01\n",
       "358   2019-03-01\n",
       "575   2019-03-01\n",
       "734   2019-03-01\n",
       "730   2019-03-01\n",
       "101   2019-03-01\n",
       "383   2019-03-01\n",
       "238   2019-03-02\n",
       "842   2019-03-02\n",
       "569   2019-03-02\n",
       "996   2019-03-02\n",
       "353   2019-03-02\n",
       "252   2019-03-02\n",
       "704   2019-03-02\n",
       "672   2019-03-02\n",
       "465   2019-03-02\n",
       "940   2019-03-02\n",
       "929   2019-03-02\n",
       "209   2019-03-02\n",
       "965   2019-03-02\n",
       "24    2019-03-02\n",
       "115   2019-03-02\n",
       "919   2019-03-02\n",
       "892   2019-03-02\n",
       "898   2019-03-02\n",
       "801   2019-03-03\n",
       "295   2019-03-03\n",
       "636   2019-03-03\n",
       "790   2019-03-03\n",
       "172   2019-03-03\n",
       "109   2019-03-03\n",
       "453   2019-03-03\n",
       "39    2019-03-03\n",
       "461   2019-03-03\n",
       "783   2019-03-03\n",
       "2     2019-03-03\n",
       "186   2019-03-03\n",
       "176   2019-03-03\n",
       "590   2019-03-03\n",
       "966   2019-03-04\n",
       "43    2019-03-04\n",
       "976   2019-03-04\n",
       "803   2019-03-04\n",
       "823   2019-03-04\n",
       "184   2019-03-04\n",
       "399   2019-03-04\n",
       "692   2019-03-04\n",
       "589   2019-03-04\n",
       "408   2019-03-04\n",
       "283   2019-03-04\n",
       "354   2019-03-04\n",
       "78    2019-03-05\n",
       "631   2019-03-05\n",
       "492   2019-03-05\n",
       "493   2019-03-05\n",
       "765   2019-03-05\n",
       "72    2019-03-05\n",
       "85    2019-03-05\n",
       "185   2019-03-05\n",
       "237   2019-03-05\n",
       "341   2019-03-05\n",
       "309   2019-03-05\n",
       "116   2019-03-05\n",
       "21    2019-03-05\n",
       "99    2019-03-05\n",
       "776   2019-03-05\n",
       "727   2019-03-05\n",
       "398   2019-03-05\n",
       "270   2019-03-06\n",
       "221   2019-03-06\n",
       "893   2019-03-06\n",
       "653   2019-03-06\n",
       "975   2019-03-06\n",
       "369   2019-03-06\n",
       "281   2019-03-06\n",
       "131   2019-03-06\n",
       "148   2019-03-06\n",
       "63    2019-03-06\n",
       "394   2019-03-06\n",
       "857   2019-03-07\n",
       "54    2019-03-07\n",
       "477   2019-03-07\n",
       "157   2019-03-07\n",
       "553   2019-03-07\n",
       "362   2019-03-07\n",
       "313   2019-03-07\n",
       "537   2019-03-07\n",
       "261   2019-03-07\n",
       "134   2019-03-08\n",
       "95    2019-03-08\n",
       "437   2019-03-08\n",
       "431   2019-03-08\n",
       "638   2019-03-08\n",
       "145   2019-03-08\n",
       "438   2019-03-08\n",
       "356   2019-03-08\n",
       "1     2019-03-08\n",
       "429   2019-03-08\n",
       "323   2019-03-08\n",
       "122   2019-03-09\n",
       "611   2019-03-09\n",
       "45    2019-03-09\n",
       "585   2019-03-09\n",
       "124   2019-03-09\n",
       "73    2019-03-09\n",
       "755   2019-03-09\n",
       "433   2019-03-09\n",
       "729   2019-03-09\n",
       "11    2019-03-09\n",
       "326   2019-03-09\n",
       "84    2019-03-09\n",
       "626   2019-03-09\n",
       "393   2019-03-09\n",
       "234   2019-03-09\n",
       "424   2019-03-09\n",
       "125   2019-03-10\n",
       "735   2019-03-10\n",
       "219   2019-03-10\n",
       "389   2019-03-10\n",
       "413   2019-03-10\n",
       "572   2019-03-10\n",
       "447   2019-03-10\n",
       "920   2019-03-10\n",
       "992   2019-03-10\n",
       "36    2019-03-10\n",
       "27    2019-03-10\n",
       "978   2019-03-10\n",
       "386   2019-03-11\n",
       "229   2019-03-11\n",
       "151   2019-03-11\n",
       "534   2019-03-11\n",
       "969   2019-03-11\n",
       "16    2019-03-11\n",
       "19    2019-03-11\n",
       "241   2019-03-11\n",
       "917   2019-03-11\n",
       "214   2019-03-11\n",
       "318   2019-03-11\n",
       "834   2019-03-12\n",
       "265   2019-03-12\n",
       "284   2019-03-12\n",
       "93    2019-03-12\n",
       "327   2019-03-12\n",
       "691   2019-03-12\n",
       "231   2019-03-12\n",
       "301   2019-03-12\n",
       "198   2019-03-12\n",
       "401   2019-03-12\n",
       "59    2019-03-12\n",
       "325   2019-03-12\n",
       "262   2019-03-13\n",
       "688   2019-03-13\n",
       "396   2019-03-13\n",
       "162   2019-03-13\n",
       "123   2019-03-13\n",
       "65    2019-03-13\n",
       "888   2019-03-13\n",
       "490   2019-03-13\n",
       "294   2019-03-13\n",
       "871   2019-03-13\n",
       "333   2019-03-14\n",
       "916   2019-03-14\n",
       "266   2019-03-14\n",
       "982   2019-03-14\n",
       "352   2019-03-14\n",
       "513   2019-03-14\n",
       "372   2019-03-14\n",
       "924   2019-03-14\n",
       "291   2019-03-14\n",
       "366   2019-03-14\n",
       "588   2019-03-14\n",
       "815   2019-03-14\n",
       "750   2019-03-14\n",
       "560   2019-03-14\n",
       "655   2019-03-14\n",
       "617   2019-03-14\n",
       "627   2019-03-14\n",
       "602   2019-03-14\n",
       "866   2019-03-15\n",
       "201   2019-03-15\n",
       "798   2019-03-15\n",
       "29    2019-03-15\n",
       "33    2019-03-15\n",
       "491   2019-03-15\n",
       "875   2019-03-15\n",
       "594   2019-03-15\n",
       "795   2019-03-15\n",
       "397   2019-03-15\n",
       "810   2019-03-15\n",
       "22    2019-03-15\n",
       "478   2019-03-16\n",
       "192   2019-03-16\n",
       "728   2019-03-16\n",
       "139   2019-03-16\n",
       "452   2019-03-16\n",
       "359   2019-03-16\n",
       "768   2019-03-16\n",
       "253   2019-03-16\n",
       "44    2019-03-16\n",
       "463   2019-03-17\n",
       "603   2019-03-17\n",
       "805   2019-03-17\n",
       "251   2019-03-17\n",
       "889   2019-03-17\n",
       "862   2019-03-17\n",
       "207   2019-03-18\n",
       "960   2019-03-18\n",
       "722   2019-03-18\n",
       "515   2019-03-18\n",
       "476   2019-03-18\n",
       "633   2019-03-18\n",
       "303   2019-03-18\n",
       "884   2019-03-19\n",
       "336   2019-03-19\n",
       "423   2019-03-19\n",
       "641   2019-03-19\n",
       "962   2019-03-19\n",
       "637   2019-03-19\n",
       "49    2019-03-19\n",
       "435   2019-03-19\n",
       "874   2019-03-19\n",
       "260   2019-03-19\n",
       "545   2019-03-19\n",
       "147   2019-03-19\n",
       "104   2019-03-19\n",
       "711   2019-03-19\n",
       "381   2019-03-19\n",
       "194   2019-03-19\n",
       "521   2019-03-20\n",
       "495   2019-03-20\n",
       "564   2019-03-20\n",
       "615   2019-03-20\n",
       "778   2019-03-20\n",
       "563   2019-03-20\n",
       "427   2019-03-20\n",
       "621   2019-03-20\n",
       "278   2019-03-20\n",
       "212   2019-03-20\n",
       "634   2019-03-20\n",
       "224   2019-03-20\n",
       "647   2019-03-20\n",
       "739   2019-03-20\n",
       "279   2019-03-20\n",
       "175   2019-03-21\n",
       "939   2019-03-21\n",
       "878   2019-03-21\n",
       "308   2019-03-21\n",
       "335   2019-03-21\n",
       "485   2019-03-21\n",
       "52    2019-03-22\n",
       "107   2019-03-22\n",
       "441   2019-03-22\n",
       "990   2019-03-22\n",
       "25    2019-03-22\n",
       "215   2019-03-22\n",
       "813   2019-03-22\n",
       "467   2019-03-22\n",
       "414   2019-03-22\n",
       "574   2019-03-22\n",
       "98    2019-03-23\n",
       "736   2019-03-23\n",
       "150   2019-03-23\n",
       "197   2019-03-23\n",
       "887   2019-03-23\n",
       "802   2019-03-23\n",
       "487   2019-03-23\n",
       "178   2019-03-23\n",
       "38    2019-03-23\n",
       "182   2019-03-23\n",
       "740   2019-03-23\n",
       "334   2019-03-24\n",
       "367   2019-03-24\n",
       "662   2019-03-24\n",
       "828   2019-03-24\n",
       "216   2019-03-24\n",
       "108   2019-03-24\n",
       "930   2019-03-24\n",
       "599   2019-03-24\n",
       "905   2019-03-24\n",
       "907   2019-03-24\n",
       "286   2019-03-24\n",
       "5     2019-03-25\n",
       "503   2019-03-25\n",
       "554   2019-03-25\n",
       "86    2019-03-25\n",
       "968   2019-03-25\n",
       "329   2019-03-25\n",
       "820   2019-03-25\n",
       "759   2019-03-25\n",
       "400   2019-03-25\n",
       "946   2019-03-26\n",
       "449   2019-03-26\n",
       "196   2019-03-26\n",
       "902   2019-03-26\n",
       "748   2019-03-26\n",
       "763   2019-03-26\n",
       "533   2019-03-26\n",
       "827   2019-03-26\n",
       "100   2019-03-26\n",
       "305   2019-03-26\n",
       "578   2019-03-26\n",
       "835   2019-03-26\n",
       "520   2019-03-26\n",
       "586   2019-03-27\n",
       "159   2019-03-27\n",
       "701   2019-03-27\n",
       "642   2019-03-27\n",
       "56    2019-03-27\n",
       "87    2019-03-27\n",
       "908   2019-03-27\n",
       "910   2019-03-27\n",
       "941   2019-03-27\n",
       "149   2019-03-27\n",
       "103   2019-03-28\n",
       "716   2019-03-28\n",
       "348   2019-03-28\n",
       "208   2019-03-28\n",
       "620   2019-03-28\n",
       "464   2019-03-28\n",
       "338   2019-03-28\n",
       "944   2019-03-28\n",
       "420   2019-03-28\n",
       "607   2019-03-28\n",
       "508   2019-03-29\n",
       "705   2019-03-29\n",
       "559   2019-03-29\n",
       "988   2019-03-29\n",
       "14    2019-03-29\n",
       "296   2019-03-29\n",
       "516   2019-03-29\n",
       "96    2019-03-29\n",
       "306   2019-03-30\n",
       "643   2019-03-30\n",
       "671   2019-03-30\n",
       "473   2019-03-30\n",
       "646   2019-03-30\n",
       "883   2019-03-30\n",
       "158   2019-03-30\n",
       "881   2019-03-30\n",
       "963   2019-03-30\n",
       "937   2019-03-30\n",
       "474   2019-03-30\n",
       "Name: Date, dtype: datetime64[ns]"
      ]
     },
     "execution_count": 17,
     "metadata": {},
     "output_type": "execute_result"
    }
   ],
   "source": [
    "# Date unique value\n",
    "pd.set_option('display.max.rows', None)\n",
    "df['Date'].sort_values()"
   ]
  },
  {
   "cell_type": "markdown",
   "metadata": {},
   "source": [
    "`Date` column shows no strange value, Each entries match the column description."
   ]
  },
  {
   "cell_type": "code",
   "execution_count": 18,
   "metadata": {},
   "outputs": [
    {
     "name": "stdout",
     "output_type": "stream",
     "text": [
      "Earliest time :  10:00\n",
      "Latest time :  20:59\n"
     ]
    }
   ],
   "source": [
    "# Unique Value Identification\n",
    "# Column : Time\n",
    "# Desc : Purchase time (10am to 9pm)\n",
    "\n",
    "print(f'Earliest time : ', df['Time'].min())\n",
    "print(f'Latest time : ', df['Time'].max())"
   ]
  },
  {
   "cell_type": "markdown",
   "metadata": {},
   "source": [
    "`Time` column shows no strange value. Earliest time and Latest time match the column description."
   ]
  },
  {
   "cell_type": "code",
   "execution_count": 19,
   "metadata": {},
   "outputs": [
    {
     "data": {
      "text/plain": [
       "array(['Ewallet', 'Cash', 'Credit card'], dtype=object)"
      ]
     },
     "execution_count": 19,
     "metadata": {},
     "output_type": "execute_result"
    }
   ],
   "source": [
    "# Unique Value Identification\n",
    "# Column : Payment\n",
    "# Desc : Payment used by customer for purchase (3 methods are available – Cash, Credit card and Ewallet)\n",
    "\n",
    "df['Payment'].unique()"
   ]
  },
  {
   "cell_type": "markdown",
   "metadata": {},
   "source": [
    "`Payment` column shows no strange value. Each unique ID match the column description."
   ]
  },
  {
   "cell_type": "code",
   "execution_count": 20,
   "metadata": {},
   "outputs": [
    {
     "data": {
      "text/plain": [
       "count    1000.00\n",
       "mean      307.59\n",
       "std       234.18\n",
       "min        10.17\n",
       "25%       118.50\n",
       "50%       241.76\n",
       "75%       448.90\n",
       "max       993.00\n",
       "Name: cogs, dtype: float64"
      ]
     },
     "execution_count": 20,
     "metadata": {},
     "output_type": "execute_result"
    }
   ],
   "source": [
    "# Unique Value Identification\n",
    "# Column : cogs\n",
    "# Desc : Cost of goods sold\n",
    "\n",
    "df['cogs'].describe().T.round(2)"
   ]
  },
  {
   "cell_type": "markdown",
   "metadata": {},
   "source": [
    "`cogs` column shows no strange value, It is already match the column description."
   ]
  },
  {
   "cell_type": "code",
   "execution_count": 21,
   "metadata": {},
   "outputs": [
    {
     "data": {
      "text/plain": [
       "count    1000.00\n",
       "mean        4.76\n",
       "std         0.00\n",
       "min         4.76\n",
       "25%         4.76\n",
       "50%         4.76\n",
       "75%         4.76\n",
       "max         4.76\n",
       "Name: gross margin percentage, dtype: float64"
      ]
     },
     "execution_count": 21,
     "metadata": {},
     "output_type": "execute_result"
    }
   ],
   "source": [
    "# Unique Value Identification\n",
    "# Column : gross margin percentage\n",
    "# Desc : Gross margin percentage\n",
    "\n",
    "df['gross margin percentage'].describe().T.round(2)"
   ]
  },
  {
   "cell_type": "markdown",
   "metadata": {},
   "source": [
    "`gross margin percentage` column shows no strange value, It is already match the column description."
   ]
  },
  {
   "cell_type": "code",
   "execution_count": 22,
   "metadata": {},
   "outputs": [
    {
     "data": {
      "text/plain": [
       "count    1000.00\n",
       "mean       15.38\n",
       "std        11.71\n",
       "min         0.51\n",
       "25%         5.92\n",
       "50%        12.09\n",
       "75%        22.45\n",
       "max        49.65\n",
       "Name: gross income, dtype: float64"
      ]
     },
     "execution_count": 22,
     "metadata": {},
     "output_type": "execute_result"
    }
   ],
   "source": [
    "# Unique Value Identification\n",
    "# Column : gross income\n",
    "# Desc : Gross income\n",
    "\n",
    "df['gross income'].describe().T.round(2)"
   ]
  },
  {
   "cell_type": "markdown",
   "metadata": {},
   "source": [
    "`gross income` column shows no strange value. It is already match the column description."
   ]
  },
  {
   "cell_type": "code",
   "execution_count": 23,
   "metadata": {},
   "outputs": [
    {
     "data": {
      "text/plain": [
       "count    1000.00\n",
       "mean        6.97\n",
       "std         1.72\n",
       "min         4.00\n",
       "25%         5.50\n",
       "50%         7.00\n",
       "75%         8.50\n",
       "max        10.00\n",
       "Name: Rating, dtype: float64"
      ]
     },
     "execution_count": 23,
     "metadata": {},
     "output_type": "execute_result"
    }
   ],
   "source": [
    "# Unique Value Identification\n",
    "# Column : Rating\n",
    "# Desc : Customer stratification rating on their overall shopping experience (On a scale of 1 to 10)\n",
    "\n",
    "df['Rating'].describe().T.round(2)"
   ]
  },
  {
   "cell_type": "markdown",
   "metadata": {},
   "source": [
    "`Rating` column shows no strange value. The score is between scale 1 to 10, it is already match the column description"
   ]
  },
  {
   "cell_type": "markdown",
   "metadata": {},
   "source": [
    "Looks like the dataset has been cleaned. Let's save cleaned dataset into new variable."
   ]
  },
  {
   "cell_type": "code",
   "execution_count": 24,
   "metadata": {},
   "outputs": [],
   "source": [
    "# Clean dataset\n",
    "df_cleaned = df\n",
    "\n",
    "df_cleaned.to_csv('supermarket_sales - cleaned.csv')"
   ]
  },
  {
   "cell_type": "markdown",
   "metadata": {},
   "source": [
    "## V. Data Exploration"
   ]
  },
  {
   "cell_type": "markdown",
   "metadata": {},
   "source": [
    "In this part of process, I wil try to explore the dataset and find some interisting insight hiding behind the data.\n",
    "\n",
    "Since, the only metric that closely tied to `revenue` in our dataset is `gross income`, I will heavily use this metric for comparing things.\n",
    "\n",
    "I will start from something general and gradually goes to something specific."
   ]
  },
  {
   "cell_type": "markdown",
   "metadata": {},
   "source": [
    "### Total Gross Income\n",
    "\n",
    "Let's start with total gross income our company made in the last three months.\\\n",
    "This will give good overview of our income trends."
   ]
  },
  {
   "cell_type": "code",
   "execution_count": 25,
   "metadata": {},
   "outputs": [
    {
     "data": {
      "text/html": [
       "<div>\n",
       "<style scoped>\n",
       "    .dataframe tbody tr th:only-of-type {\n",
       "        vertical-align: middle;\n",
       "    }\n",
       "\n",
       "    .dataframe tbody tr th {\n",
       "        vertical-align: top;\n",
       "    }\n",
       "\n",
       "    .dataframe thead th {\n",
       "        text-align: right;\n",
       "    }\n",
       "</style>\n",
       "<table border=\"1\" class=\"dataframe\">\n",
       "  <thead>\n",
       "    <tr style=\"text-align: right;\">\n",
       "      <th></th>\n",
       "      <th>Date</th>\n",
       "      <th>Invoice ID</th>\n",
       "      <th>Quantity</th>\n",
       "      <th>Total</th>\n",
       "      <th>gross income</th>\n",
       "      <th>Rating</th>\n",
       "    </tr>\n",
       "  </thead>\n",
       "  <tbody>\n",
       "    <tr>\n",
       "      <th>0</th>\n",
       "      <td>2019-01-01</td>\n",
       "      <td>12</td>\n",
       "      <td>81</td>\n",
       "      <td>4745.1810</td>\n",
       "      <td>225.9610</td>\n",
       "      <td>6.583333</td>\n",
       "    </tr>\n",
       "    <tr>\n",
       "      <th>1</th>\n",
       "      <td>2019-01-02</td>\n",
       "      <td>8</td>\n",
       "      <td>48</td>\n",
       "      <td>1945.5030</td>\n",
       "      <td>92.6430</td>\n",
       "      <td>6.050000</td>\n",
       "    </tr>\n",
       "    <tr>\n",
       "      <th>2</th>\n",
       "      <td>2019-01-03</td>\n",
       "      <td>8</td>\n",
       "      <td>37</td>\n",
       "      <td>2078.1285</td>\n",
       "      <td>98.9585</td>\n",
       "      <td>8.112500</td>\n",
       "    </tr>\n",
       "    <tr>\n",
       "      <th>3</th>\n",
       "      <td>2019-01-04</td>\n",
       "      <td>6</td>\n",
       "      <td>32</td>\n",
       "      <td>1623.6885</td>\n",
       "      <td>77.3185</td>\n",
       "      <td>6.516667</td>\n",
       "    </tr>\n",
       "    <tr>\n",
       "      <th>4</th>\n",
       "      <td>2019-01-05</td>\n",
       "      <td>12</td>\n",
       "      <td>55</td>\n",
       "      <td>3536.6835</td>\n",
       "      <td>168.4135</td>\n",
       "      <td>7.433333</td>\n",
       "    </tr>\n",
       "  </tbody>\n",
       "</table>\n",
       "</div>"
      ],
      "text/plain": [
       "        Date  Invoice ID  Quantity      Total  gross income    Rating\n",
       "0 2019-01-01          12        81  4745.1810      225.9610  6.583333\n",
       "1 2019-01-02           8        48  1945.5030       92.6430  6.050000\n",
       "2 2019-01-03           8        37  2078.1285       98.9585  8.112500\n",
       "3 2019-01-04           6        32  1623.6885       77.3185  6.516667\n",
       "4 2019-01-05          12        55  3536.6835      168.4135  7.433333"
      ]
     },
     "execution_count": 25,
     "metadata": {},
     "output_type": "execute_result"
    }
   ],
   "source": [
    "# Dataset preparation\n",
    "# Total gross income for city\n",
    "\n",
    "graph0 = df_cleaned.groupby(['Date']).agg({'Invoice ID':'count','Quantity':'sum', \n",
    "                            'Total':'sum', 'gross income':'sum', 'Rating':'mean'}).reset_index().sort_values(by='Date')\n",
    "graph0.head()"
   ]
  },
  {
   "cell_type": "code",
   "execution_count": 26,
   "metadata": {},
   "outputs": [],
   "source": [
    "# Dataset preparation\n",
    "# Total gross income for each City\n",
    "# Will be used in case needed\n",
    "\n",
    "Yangon = df_cleaned[\n",
    "    (df_cleaned['City']=='Yangon')\n",
    "].groupby(['Date']).agg({'Invoice ID':'count','Quantity':'sum', 'Total':'sum', 'gross income':'sum', 'Rating':'mean'}).reset_index().sort_values(by='Date')\n",
    "\n",
    "Mandalay = df_cleaned[\n",
    "    (df_cleaned['City']=='Mandalay')\n",
    "].groupby(['Date']).agg({'Invoice ID':'count','Quantity':'sum', 'Total':'sum', 'gross income':'sum', 'Rating':'mean'}).reset_index().sort_values(by='Date')\n",
    "\n",
    "Naypyitaw = df_cleaned[\n",
    "    (df_cleaned['City']=='Naypyitaw')\n",
    "].groupby(['Date']).agg({'Invoice ID':'count','Quantity':'sum', 'Total':'sum', 'gross income':'sum', 'Rating':'mean'}).reset_index().sort_values(by='Date')"
   ]
  },
  {
   "cell_type": "code",
   "execution_count": 27,
   "metadata": {},
   "outputs": [
    {
     "data": {
      "application/vnd.plotly.v1+json": {
       "config": {
        "plotlyServerURL": "https://plot.ly"
       },
       "data": [
        {
         "hovertemplate": "Date=%{x}<br>gross income=%{y}<extra></extra>",
         "legendgroup": "",
         "line": {
          "color": "#636efa",
          "dash": "solid"
         },
         "marker": {
          "symbol": "circle"
         },
         "mode": "markers+lines",
         "name": "",
         "orientation": "v",
         "showlegend": false,
         "type": "scatter",
         "x": [
          "2019-01-01T00:00:00",
          "2019-01-02T00:00:00",
          "2019-01-03T00:00:00",
          "2019-01-04T00:00:00",
          "2019-01-05T00:00:00",
          "2019-01-06T00:00:00",
          "2019-01-07T00:00:00",
          "2019-01-08T00:00:00",
          "2019-01-09T00:00:00",
          "2019-01-10T00:00:00",
          "2019-01-11T00:00:00",
          "2019-01-12T00:00:00",
          "2019-01-13T00:00:00",
          "2019-01-14T00:00:00",
          "2019-01-15T00:00:00",
          "2019-01-16T00:00:00",
          "2019-01-17T00:00:00",
          "2019-01-18T00:00:00",
          "2019-01-19T00:00:00",
          "2019-01-20T00:00:00",
          "2019-01-21T00:00:00",
          "2019-01-22T00:00:00",
          "2019-01-23T00:00:00",
          "2019-01-24T00:00:00",
          "2019-01-25T00:00:00",
          "2019-01-26T00:00:00",
          "2019-01-27T00:00:00",
          "2019-01-28T00:00:00",
          "2019-01-29T00:00:00",
          "2019-01-30T00:00:00",
          "2019-01-31T00:00:00",
          "2019-02-01T00:00:00",
          "2019-02-02T00:00:00",
          "2019-02-03T00:00:00",
          "2019-02-04T00:00:00",
          "2019-02-05T00:00:00",
          "2019-02-06T00:00:00",
          "2019-02-07T00:00:00",
          "2019-02-08T00:00:00",
          "2019-02-09T00:00:00",
          "2019-02-10T00:00:00",
          "2019-02-11T00:00:00",
          "2019-02-12T00:00:00",
          "2019-02-13T00:00:00",
          "2019-02-14T00:00:00",
          "2019-02-15T00:00:00",
          "2019-02-16T00:00:00",
          "2019-02-17T00:00:00",
          "2019-02-18T00:00:00",
          "2019-02-19T00:00:00",
          "2019-02-20T00:00:00",
          "2019-02-21T00:00:00",
          "2019-02-22T00:00:00",
          "2019-02-23T00:00:00",
          "2019-02-24T00:00:00",
          "2019-02-25T00:00:00",
          "2019-02-26T00:00:00",
          "2019-02-27T00:00:00",
          "2019-02-28T00:00:00",
          "2019-03-01T00:00:00",
          "2019-03-02T00:00:00",
          "2019-03-03T00:00:00",
          "2019-03-04T00:00:00",
          "2019-03-05T00:00:00",
          "2019-03-06T00:00:00",
          "2019-03-07T00:00:00",
          "2019-03-08T00:00:00",
          "2019-03-09T00:00:00",
          "2019-03-10T00:00:00",
          "2019-03-11T00:00:00",
          "2019-03-12T00:00:00",
          "2019-03-13T00:00:00",
          "2019-03-14T00:00:00",
          "2019-03-15T00:00:00",
          "2019-03-16T00:00:00",
          "2019-03-17T00:00:00",
          "2019-03-18T00:00:00",
          "2019-03-19T00:00:00",
          "2019-03-20T00:00:00",
          "2019-03-21T00:00:00",
          "2019-03-22T00:00:00",
          "2019-03-23T00:00:00",
          "2019-03-24T00:00:00",
          "2019-03-25T00:00:00",
          "2019-03-26T00:00:00",
          "2019-03-27T00:00:00",
          "2019-03-28T00:00:00",
          "2019-03-29T00:00:00",
          "2019-03-30T00:00:00"
         ],
         "xaxis": "x",
         "y": [
          225.961,
          92.643,
          98.9585,
          77.3185,
          168.4135,
          172.105,
          134.964,
          252.0825,
          143.8735,
          169.56900000000002,
          100.7125,
          246.89350000000002,
          116.724,
          188.8865,
          283.06,
          204.242,
          149.655,
          132.4035,
          234.03449999999998,
          174.06900000000002,
          113.90950000000001,
          81.1795,
          285.4375,
          257.2405,
          223.827,
          212.2625,
          220.757,
          238.0815,
          167.4555,
          121.822,
          249.16649999999998,
          116.40650000000001,
          197.18800000000002,
          260.3775,
          116.1665,
          144.3395,
          138.3535,
          344.20050000000003,
          242.1265,
          155.8045,
          149.5725,
          216.293,
          142.809,
          44.4875,
          116.86149999999999,
          325.27549999999997,
          119.227,
          252.3605,
          71.23949999999999,
          201.339,
          128.877,
          66.3685,
          116.3005,
          111.409,
          129.641,
          228.916,
          114.67450000000001,
          279.0215,
          99.858,
          125.446,
          312.39549999999997,
          231.1035,
          185.4495,
          296.7085,
          147.2665,
          68.4885,
          148.828,
          355.907,
          150.63,
          141.012,
          175.1215,
          98.267,
          343.55400000000003,
          140.115,
          150.213,
          94.10900000000001,
          61.5635,
          273.35200000000003,
          259.9145,
          89.4055,
          151.388,
          195.002,
          165.5935,
          108.23649999999999,
          93.453,
          138.2295,
          106.162,
          191.583,
          213.6695
         ],
         "yaxis": "y"
        }
       ],
       "layout": {
        "font": {
         "size": 15
        },
        "legend": {
         "tracegroupgap": 0
        },
        "margin": {
         "t": 60
        },
        "template": {
         "data": {
          "bar": [
           {
            "error_x": {
             "color": "#2a3f5f"
            },
            "error_y": {
             "color": "#2a3f5f"
            },
            "marker": {
             "line": {
              "color": "#E5ECF6",
              "width": 0.5
             },
             "pattern": {
              "fillmode": "overlay",
              "size": 10,
              "solidity": 0.2
             }
            },
            "type": "bar"
           }
          ],
          "barpolar": [
           {
            "marker": {
             "line": {
              "color": "#E5ECF6",
              "width": 0.5
             },
             "pattern": {
              "fillmode": "overlay",
              "size": 10,
              "solidity": 0.2
             }
            },
            "type": "barpolar"
           }
          ],
          "carpet": [
           {
            "aaxis": {
             "endlinecolor": "#2a3f5f",
             "gridcolor": "white",
             "linecolor": "white",
             "minorgridcolor": "white",
             "startlinecolor": "#2a3f5f"
            },
            "baxis": {
             "endlinecolor": "#2a3f5f",
             "gridcolor": "white",
             "linecolor": "white",
             "minorgridcolor": "white",
             "startlinecolor": "#2a3f5f"
            },
            "type": "carpet"
           }
          ],
          "choropleth": [
           {
            "colorbar": {
             "outlinewidth": 0,
             "ticks": ""
            },
            "type": "choropleth"
           }
          ],
          "contour": [
           {
            "colorbar": {
             "outlinewidth": 0,
             "ticks": ""
            },
            "colorscale": [
             [
              0,
              "#0d0887"
             ],
             [
              0.1111111111111111,
              "#46039f"
             ],
             [
              0.2222222222222222,
              "#7201a8"
             ],
             [
              0.3333333333333333,
              "#9c179e"
             ],
             [
              0.4444444444444444,
              "#bd3786"
             ],
             [
              0.5555555555555556,
              "#d8576b"
             ],
             [
              0.6666666666666666,
              "#ed7953"
             ],
             [
              0.7777777777777778,
              "#fb9f3a"
             ],
             [
              0.8888888888888888,
              "#fdca26"
             ],
             [
              1,
              "#f0f921"
             ]
            ],
            "type": "contour"
           }
          ],
          "contourcarpet": [
           {
            "colorbar": {
             "outlinewidth": 0,
             "ticks": ""
            },
            "type": "contourcarpet"
           }
          ],
          "heatmap": [
           {
            "colorbar": {
             "outlinewidth": 0,
             "ticks": ""
            },
            "colorscale": [
             [
              0,
              "#0d0887"
             ],
             [
              0.1111111111111111,
              "#46039f"
             ],
             [
              0.2222222222222222,
              "#7201a8"
             ],
             [
              0.3333333333333333,
              "#9c179e"
             ],
             [
              0.4444444444444444,
              "#bd3786"
             ],
             [
              0.5555555555555556,
              "#d8576b"
             ],
             [
              0.6666666666666666,
              "#ed7953"
             ],
             [
              0.7777777777777778,
              "#fb9f3a"
             ],
             [
              0.8888888888888888,
              "#fdca26"
             ],
             [
              1,
              "#f0f921"
             ]
            ],
            "type": "heatmap"
           }
          ],
          "heatmapgl": [
           {
            "colorbar": {
             "outlinewidth": 0,
             "ticks": ""
            },
            "colorscale": [
             [
              0,
              "#0d0887"
             ],
             [
              0.1111111111111111,
              "#46039f"
             ],
             [
              0.2222222222222222,
              "#7201a8"
             ],
             [
              0.3333333333333333,
              "#9c179e"
             ],
             [
              0.4444444444444444,
              "#bd3786"
             ],
             [
              0.5555555555555556,
              "#d8576b"
             ],
             [
              0.6666666666666666,
              "#ed7953"
             ],
             [
              0.7777777777777778,
              "#fb9f3a"
             ],
             [
              0.8888888888888888,
              "#fdca26"
             ],
             [
              1,
              "#f0f921"
             ]
            ],
            "type": "heatmapgl"
           }
          ],
          "histogram": [
           {
            "marker": {
             "pattern": {
              "fillmode": "overlay",
              "size": 10,
              "solidity": 0.2
             }
            },
            "type": "histogram"
           }
          ],
          "histogram2d": [
           {
            "colorbar": {
             "outlinewidth": 0,
             "ticks": ""
            },
            "colorscale": [
             [
              0,
              "#0d0887"
             ],
             [
              0.1111111111111111,
              "#46039f"
             ],
             [
              0.2222222222222222,
              "#7201a8"
             ],
             [
              0.3333333333333333,
              "#9c179e"
             ],
             [
              0.4444444444444444,
              "#bd3786"
             ],
             [
              0.5555555555555556,
              "#d8576b"
             ],
             [
              0.6666666666666666,
              "#ed7953"
             ],
             [
              0.7777777777777778,
              "#fb9f3a"
             ],
             [
              0.8888888888888888,
              "#fdca26"
             ],
             [
              1,
              "#f0f921"
             ]
            ],
            "type": "histogram2d"
           }
          ],
          "histogram2dcontour": [
           {
            "colorbar": {
             "outlinewidth": 0,
             "ticks": ""
            },
            "colorscale": [
             [
              0,
              "#0d0887"
             ],
             [
              0.1111111111111111,
              "#46039f"
             ],
             [
              0.2222222222222222,
              "#7201a8"
             ],
             [
              0.3333333333333333,
              "#9c179e"
             ],
             [
              0.4444444444444444,
              "#bd3786"
             ],
             [
              0.5555555555555556,
              "#d8576b"
             ],
             [
              0.6666666666666666,
              "#ed7953"
             ],
             [
              0.7777777777777778,
              "#fb9f3a"
             ],
             [
              0.8888888888888888,
              "#fdca26"
             ],
             [
              1,
              "#f0f921"
             ]
            ],
            "type": "histogram2dcontour"
           }
          ],
          "mesh3d": [
           {
            "colorbar": {
             "outlinewidth": 0,
             "ticks": ""
            },
            "type": "mesh3d"
           }
          ],
          "parcoords": [
           {
            "line": {
             "colorbar": {
              "outlinewidth": 0,
              "ticks": ""
             }
            },
            "type": "parcoords"
           }
          ],
          "pie": [
           {
            "automargin": true,
            "type": "pie"
           }
          ],
          "scatter": [
           {
            "marker": {
             "colorbar": {
              "outlinewidth": 0,
              "ticks": ""
             }
            },
            "type": "scatter"
           }
          ],
          "scatter3d": [
           {
            "line": {
             "colorbar": {
              "outlinewidth": 0,
              "ticks": ""
             }
            },
            "marker": {
             "colorbar": {
              "outlinewidth": 0,
              "ticks": ""
             }
            },
            "type": "scatter3d"
           }
          ],
          "scattercarpet": [
           {
            "marker": {
             "colorbar": {
              "outlinewidth": 0,
              "ticks": ""
             }
            },
            "type": "scattercarpet"
           }
          ],
          "scattergeo": [
           {
            "marker": {
             "colorbar": {
              "outlinewidth": 0,
              "ticks": ""
             }
            },
            "type": "scattergeo"
           }
          ],
          "scattergl": [
           {
            "marker": {
             "colorbar": {
              "outlinewidth": 0,
              "ticks": ""
             }
            },
            "type": "scattergl"
           }
          ],
          "scattermapbox": [
           {
            "marker": {
             "colorbar": {
              "outlinewidth": 0,
              "ticks": ""
             }
            },
            "type": "scattermapbox"
           }
          ],
          "scatterpolar": [
           {
            "marker": {
             "colorbar": {
              "outlinewidth": 0,
              "ticks": ""
             }
            },
            "type": "scatterpolar"
           }
          ],
          "scatterpolargl": [
           {
            "marker": {
             "colorbar": {
              "outlinewidth": 0,
              "ticks": ""
             }
            },
            "type": "scatterpolargl"
           }
          ],
          "scatterternary": [
           {
            "marker": {
             "colorbar": {
              "outlinewidth": 0,
              "ticks": ""
             }
            },
            "type": "scatterternary"
           }
          ],
          "surface": [
           {
            "colorbar": {
             "outlinewidth": 0,
             "ticks": ""
            },
            "colorscale": [
             [
              0,
              "#0d0887"
             ],
             [
              0.1111111111111111,
              "#46039f"
             ],
             [
              0.2222222222222222,
              "#7201a8"
             ],
             [
              0.3333333333333333,
              "#9c179e"
             ],
             [
              0.4444444444444444,
              "#bd3786"
             ],
             [
              0.5555555555555556,
              "#d8576b"
             ],
             [
              0.6666666666666666,
              "#ed7953"
             ],
             [
              0.7777777777777778,
              "#fb9f3a"
             ],
             [
              0.8888888888888888,
              "#fdca26"
             ],
             [
              1,
              "#f0f921"
             ]
            ],
            "type": "surface"
           }
          ],
          "table": [
           {
            "cells": {
             "fill": {
              "color": "#EBF0F8"
             },
             "line": {
              "color": "white"
             }
            },
            "header": {
             "fill": {
              "color": "#C8D4E3"
             },
             "line": {
              "color": "white"
             }
            },
            "type": "table"
           }
          ]
         },
         "layout": {
          "annotationdefaults": {
           "arrowcolor": "#2a3f5f",
           "arrowhead": 0,
           "arrowwidth": 1
          },
          "autotypenumbers": "strict",
          "coloraxis": {
           "colorbar": {
            "outlinewidth": 0,
            "ticks": ""
           }
          },
          "colorscale": {
           "diverging": [
            [
             0,
             "#8e0152"
            ],
            [
             0.1,
             "#c51b7d"
            ],
            [
             0.2,
             "#de77ae"
            ],
            [
             0.3,
             "#f1b6da"
            ],
            [
             0.4,
             "#fde0ef"
            ],
            [
             0.5,
             "#f7f7f7"
            ],
            [
             0.6,
             "#e6f5d0"
            ],
            [
             0.7,
             "#b8e186"
            ],
            [
             0.8,
             "#7fbc41"
            ],
            [
             0.9,
             "#4d9221"
            ],
            [
             1,
             "#276419"
            ]
           ],
           "sequential": [
            [
             0,
             "#0d0887"
            ],
            [
             0.1111111111111111,
             "#46039f"
            ],
            [
             0.2222222222222222,
             "#7201a8"
            ],
            [
             0.3333333333333333,
             "#9c179e"
            ],
            [
             0.4444444444444444,
             "#bd3786"
            ],
            [
             0.5555555555555556,
             "#d8576b"
            ],
            [
             0.6666666666666666,
             "#ed7953"
            ],
            [
             0.7777777777777778,
             "#fb9f3a"
            ],
            [
             0.8888888888888888,
             "#fdca26"
            ],
            [
             1,
             "#f0f921"
            ]
           ],
           "sequentialminus": [
            [
             0,
             "#0d0887"
            ],
            [
             0.1111111111111111,
             "#46039f"
            ],
            [
             0.2222222222222222,
             "#7201a8"
            ],
            [
             0.3333333333333333,
             "#9c179e"
            ],
            [
             0.4444444444444444,
             "#bd3786"
            ],
            [
             0.5555555555555556,
             "#d8576b"
            ],
            [
             0.6666666666666666,
             "#ed7953"
            ],
            [
             0.7777777777777778,
             "#fb9f3a"
            ],
            [
             0.8888888888888888,
             "#fdca26"
            ],
            [
             1,
             "#f0f921"
            ]
           ]
          },
          "colorway": [
           "#636efa",
           "#EF553B",
           "#00cc96",
           "#ab63fa",
           "#FFA15A",
           "#19d3f3",
           "#FF6692",
           "#B6E880",
           "#FF97FF",
           "#FECB52"
          ],
          "font": {
           "color": "#2a3f5f"
          },
          "geo": {
           "bgcolor": "white",
           "lakecolor": "white",
           "landcolor": "#E5ECF6",
           "showlakes": true,
           "showland": true,
           "subunitcolor": "white"
          },
          "hoverlabel": {
           "align": "left"
          },
          "hovermode": "closest",
          "mapbox": {
           "style": "light"
          },
          "paper_bgcolor": "white",
          "plot_bgcolor": "#E5ECF6",
          "polar": {
           "angularaxis": {
            "gridcolor": "white",
            "linecolor": "white",
            "ticks": ""
           },
           "bgcolor": "#E5ECF6",
           "radialaxis": {
            "gridcolor": "white",
            "linecolor": "white",
            "ticks": ""
           }
          },
          "scene": {
           "xaxis": {
            "backgroundcolor": "#E5ECF6",
            "gridcolor": "white",
            "gridwidth": 2,
            "linecolor": "white",
            "showbackground": true,
            "ticks": "",
            "zerolinecolor": "white"
           },
           "yaxis": {
            "backgroundcolor": "#E5ECF6",
            "gridcolor": "white",
            "gridwidth": 2,
            "linecolor": "white",
            "showbackground": true,
            "ticks": "",
            "zerolinecolor": "white"
           },
           "zaxis": {
            "backgroundcolor": "#E5ECF6",
            "gridcolor": "white",
            "gridwidth": 2,
            "linecolor": "white",
            "showbackground": true,
            "ticks": "",
            "zerolinecolor": "white"
           }
          },
          "shapedefaults": {
           "line": {
            "color": "#2a3f5f"
           }
          },
          "ternary": {
           "aaxis": {
            "gridcolor": "white",
            "linecolor": "white",
            "ticks": ""
           },
           "baxis": {
            "gridcolor": "white",
            "linecolor": "white",
            "ticks": ""
           },
           "bgcolor": "#E5ECF6",
           "caxis": {
            "gridcolor": "white",
            "linecolor": "white",
            "ticks": ""
           }
          },
          "title": {
           "x": 0.05
          },
          "xaxis": {
           "automargin": true,
           "gridcolor": "white",
           "linecolor": "white",
           "ticks": "",
           "title": {
            "standoff": 15
           },
           "zerolinecolor": "white",
           "zerolinewidth": 2
          },
          "yaxis": {
           "automargin": true,
           "gridcolor": "white",
           "linecolor": "white",
           "ticks": "",
           "title": {
            "standoff": 15
           },
           "zerolinecolor": "white",
           "zerolinewidth": 2
          }
         }
        },
        "title": {
         "text": "Total Gross Income by Date"
        },
        "xaxis": {
         "anchor": "y",
         "domain": [
          0,
          1
         ],
         "title": {
          "text": "Date"
         }
        },
        "yaxis": {
         "anchor": "x",
         "domain": [
          0,
          1
         ],
         "title": {
          "text": "gross income"
         }
        }
       }
      }
     },
     "metadata": {},
     "output_type": "display_data"
    }
   ],
   "source": [
    "# Dataviz - Linechart\n",
    "# Total gross income for city\n",
    "\n",
    "fig = px.line(graph0, x = 'Date', y= 'gross income', markers=True)\n",
    "\n",
    "fig.update_layout(\n",
    "    title=\"Total Gross Income by Date\",\n",
    "    font=dict(size=15)\n",
    ")\n",
    "\n",
    "fig.show()"
   ]
  },
  {
   "cell_type": "markdown",
   "metadata": {},
   "source": [
    "Across last three months, total `gross income` seems on sideways trend.\\\n",
    "Highest `gross income` was generated on `9-March-2019` with total `gross income` equal to `$355.907.`\\\n",
    "Lowest `gross income` was generated on `13-February-2019` with total `gross income` only `$44.49.`\n"
   ]
  },
  {
   "cell_type": "markdown",
   "metadata": {},
   "source": [
    "### Most Profitable Branch\n",
    "\n",
    "Now, let's see our `Branch` performance in the last three months.\\\n",
    "Our `Branch` performance will be reviewed through how much `gross income` they make in the last three months. "
   ]
  },
  {
   "cell_type": "code",
   "execution_count": 28,
   "metadata": {},
   "outputs": [
    {
     "data": {
      "text/html": [
       "<div>\n",
       "<style scoped>\n",
       "    .dataframe tbody tr th:only-of-type {\n",
       "        vertical-align: middle;\n",
       "    }\n",
       "\n",
       "    .dataframe tbody tr th {\n",
       "        vertical-align: top;\n",
       "    }\n",
       "\n",
       "    .dataframe thead th {\n",
       "        text-align: right;\n",
       "    }\n",
       "</style>\n",
       "<table border=\"1\" class=\"dataframe\">\n",
       "  <thead>\n",
       "    <tr style=\"text-align: right;\">\n",
       "      <th></th>\n",
       "      <th>Branch</th>\n",
       "      <th>City</th>\n",
       "      <th>gross income</th>\n",
       "    </tr>\n",
       "  </thead>\n",
       "  <tbody>\n",
       "    <tr>\n",
       "      <th>0</th>\n",
       "      <td>C</td>\n",
       "      <td>Naypyitaw</td>\n",
       "      <td>5265.2</td>\n",
       "    </tr>\n",
       "    <tr>\n",
       "      <th>1</th>\n",
       "      <td>A</td>\n",
       "      <td>Yangon</td>\n",
       "      <td>5057.2</td>\n",
       "    </tr>\n",
       "    <tr>\n",
       "      <th>2</th>\n",
       "      <td>B</td>\n",
       "      <td>Mandalay</td>\n",
       "      <td>5057.0</td>\n",
       "    </tr>\n",
       "  </tbody>\n",
       "</table>\n",
       "</div>"
      ],
      "text/plain": [
       "  Branch       City  gross income\n",
       "0      C  Naypyitaw        5265.2\n",
       "1      A     Yangon        5057.2\n",
       "2      B   Mandalay        5057.0"
      ]
     },
     "execution_count": 28,
     "metadata": {},
     "output_type": "execute_result"
    }
   ],
   "source": [
    "# Dataset preparation\n",
    "# Most Profitable Branch\n",
    "\n",
    "graph1 = df_cleaned.groupby(['Branch', 'City'])['gross income'].sum().round(1).sort_values(ascending=False)\n",
    "graph1 = pd.DataFrame(graph1).reset_index()\n",
    "graph1"
   ]
  },
  {
   "cell_type": "code",
   "execution_count": 29,
   "metadata": {},
   "outputs": [
    {
     "data": {
      "application/vnd.plotly.v1+json": {
       "config": {
        "plotlyServerURL": "https://plot.ly"
       },
       "data": [
        {
         "alignmentgroup": "True",
         "hovertemplate": "City=Naypyitaw<br>gross income=%{x}<br>Branch=%{y}<extra></extra>",
         "legendgroup": "Naypyitaw",
         "marker": {
          "color": "#636efa",
          "pattern": {
           "shape": ""
          }
         },
         "name": "Naypyitaw",
         "offsetgroup": "Naypyitaw",
         "orientation": "h",
         "showlegend": true,
         "textposition": "auto",
         "texttemplate": "%{x}",
         "type": "bar",
         "x": [
          5265.2
         ],
         "xaxis": "x",
         "y": [
          "C"
         ],
         "yaxis": "y"
        },
        {
         "alignmentgroup": "True",
         "hovertemplate": "City=Yangon<br>gross income=%{x}<br>Branch=%{y}<extra></extra>",
         "legendgroup": "Yangon",
         "marker": {
          "color": "#EF553B",
          "pattern": {
           "shape": ""
          }
         },
         "name": "Yangon",
         "offsetgroup": "Yangon",
         "orientation": "h",
         "showlegend": true,
         "textposition": "auto",
         "texttemplate": "%{x}",
         "type": "bar",
         "x": [
          5057.2
         ],
         "xaxis": "x",
         "y": [
          "A"
         ],
         "yaxis": "y"
        },
        {
         "alignmentgroup": "True",
         "hovertemplate": "City=Mandalay<br>gross income=%{x}<br>Branch=%{y}<extra></extra>",
         "legendgroup": "Mandalay",
         "marker": {
          "color": "#00cc96",
          "pattern": {
           "shape": ""
          }
         },
         "name": "Mandalay",
         "offsetgroup": "Mandalay",
         "orientation": "h",
         "showlegend": true,
         "textposition": "auto",
         "texttemplate": "%{x}",
         "type": "bar",
         "x": [
          5057
         ],
         "xaxis": "x",
         "y": [
          "B"
         ],
         "yaxis": "y"
        }
       ],
       "layout": {
        "barmode": "relative",
        "font": {
         "size": 15
        },
        "legend": {
         "title": {
          "text": "City"
         },
         "tracegroupgap": 0
        },
        "margin": {
         "t": 60
        },
        "template": {
         "data": {
          "bar": [
           {
            "error_x": {
             "color": "#2a3f5f"
            },
            "error_y": {
             "color": "#2a3f5f"
            },
            "marker": {
             "line": {
              "color": "#E5ECF6",
              "width": 0.5
             },
             "pattern": {
              "fillmode": "overlay",
              "size": 10,
              "solidity": 0.2
             }
            },
            "type": "bar"
           }
          ],
          "barpolar": [
           {
            "marker": {
             "line": {
              "color": "#E5ECF6",
              "width": 0.5
             },
             "pattern": {
              "fillmode": "overlay",
              "size": 10,
              "solidity": 0.2
             }
            },
            "type": "barpolar"
           }
          ],
          "carpet": [
           {
            "aaxis": {
             "endlinecolor": "#2a3f5f",
             "gridcolor": "white",
             "linecolor": "white",
             "minorgridcolor": "white",
             "startlinecolor": "#2a3f5f"
            },
            "baxis": {
             "endlinecolor": "#2a3f5f",
             "gridcolor": "white",
             "linecolor": "white",
             "minorgridcolor": "white",
             "startlinecolor": "#2a3f5f"
            },
            "type": "carpet"
           }
          ],
          "choropleth": [
           {
            "colorbar": {
             "outlinewidth": 0,
             "ticks": ""
            },
            "type": "choropleth"
           }
          ],
          "contour": [
           {
            "colorbar": {
             "outlinewidth": 0,
             "ticks": ""
            },
            "colorscale": [
             [
              0,
              "#0d0887"
             ],
             [
              0.1111111111111111,
              "#46039f"
             ],
             [
              0.2222222222222222,
              "#7201a8"
             ],
             [
              0.3333333333333333,
              "#9c179e"
             ],
             [
              0.4444444444444444,
              "#bd3786"
             ],
             [
              0.5555555555555556,
              "#d8576b"
             ],
             [
              0.6666666666666666,
              "#ed7953"
             ],
             [
              0.7777777777777778,
              "#fb9f3a"
             ],
             [
              0.8888888888888888,
              "#fdca26"
             ],
             [
              1,
              "#f0f921"
             ]
            ],
            "type": "contour"
           }
          ],
          "contourcarpet": [
           {
            "colorbar": {
             "outlinewidth": 0,
             "ticks": ""
            },
            "type": "contourcarpet"
           }
          ],
          "heatmap": [
           {
            "colorbar": {
             "outlinewidth": 0,
             "ticks": ""
            },
            "colorscale": [
             [
              0,
              "#0d0887"
             ],
             [
              0.1111111111111111,
              "#46039f"
             ],
             [
              0.2222222222222222,
              "#7201a8"
             ],
             [
              0.3333333333333333,
              "#9c179e"
             ],
             [
              0.4444444444444444,
              "#bd3786"
             ],
             [
              0.5555555555555556,
              "#d8576b"
             ],
             [
              0.6666666666666666,
              "#ed7953"
             ],
             [
              0.7777777777777778,
              "#fb9f3a"
             ],
             [
              0.8888888888888888,
              "#fdca26"
             ],
             [
              1,
              "#f0f921"
             ]
            ],
            "type": "heatmap"
           }
          ],
          "heatmapgl": [
           {
            "colorbar": {
             "outlinewidth": 0,
             "ticks": ""
            },
            "colorscale": [
             [
              0,
              "#0d0887"
             ],
             [
              0.1111111111111111,
              "#46039f"
             ],
             [
              0.2222222222222222,
              "#7201a8"
             ],
             [
              0.3333333333333333,
              "#9c179e"
             ],
             [
              0.4444444444444444,
              "#bd3786"
             ],
             [
              0.5555555555555556,
              "#d8576b"
             ],
             [
              0.6666666666666666,
              "#ed7953"
             ],
             [
              0.7777777777777778,
              "#fb9f3a"
             ],
             [
              0.8888888888888888,
              "#fdca26"
             ],
             [
              1,
              "#f0f921"
             ]
            ],
            "type": "heatmapgl"
           }
          ],
          "histogram": [
           {
            "marker": {
             "pattern": {
              "fillmode": "overlay",
              "size": 10,
              "solidity": 0.2
             }
            },
            "type": "histogram"
           }
          ],
          "histogram2d": [
           {
            "colorbar": {
             "outlinewidth": 0,
             "ticks": ""
            },
            "colorscale": [
             [
              0,
              "#0d0887"
             ],
             [
              0.1111111111111111,
              "#46039f"
             ],
             [
              0.2222222222222222,
              "#7201a8"
             ],
             [
              0.3333333333333333,
              "#9c179e"
             ],
             [
              0.4444444444444444,
              "#bd3786"
             ],
             [
              0.5555555555555556,
              "#d8576b"
             ],
             [
              0.6666666666666666,
              "#ed7953"
             ],
             [
              0.7777777777777778,
              "#fb9f3a"
             ],
             [
              0.8888888888888888,
              "#fdca26"
             ],
             [
              1,
              "#f0f921"
             ]
            ],
            "type": "histogram2d"
           }
          ],
          "histogram2dcontour": [
           {
            "colorbar": {
             "outlinewidth": 0,
             "ticks": ""
            },
            "colorscale": [
             [
              0,
              "#0d0887"
             ],
             [
              0.1111111111111111,
              "#46039f"
             ],
             [
              0.2222222222222222,
              "#7201a8"
             ],
             [
              0.3333333333333333,
              "#9c179e"
             ],
             [
              0.4444444444444444,
              "#bd3786"
             ],
             [
              0.5555555555555556,
              "#d8576b"
             ],
             [
              0.6666666666666666,
              "#ed7953"
             ],
             [
              0.7777777777777778,
              "#fb9f3a"
             ],
             [
              0.8888888888888888,
              "#fdca26"
             ],
             [
              1,
              "#f0f921"
             ]
            ],
            "type": "histogram2dcontour"
           }
          ],
          "mesh3d": [
           {
            "colorbar": {
             "outlinewidth": 0,
             "ticks": ""
            },
            "type": "mesh3d"
           }
          ],
          "parcoords": [
           {
            "line": {
             "colorbar": {
              "outlinewidth": 0,
              "ticks": ""
             }
            },
            "type": "parcoords"
           }
          ],
          "pie": [
           {
            "automargin": true,
            "type": "pie"
           }
          ],
          "scatter": [
           {
            "marker": {
             "colorbar": {
              "outlinewidth": 0,
              "ticks": ""
             }
            },
            "type": "scatter"
           }
          ],
          "scatter3d": [
           {
            "line": {
             "colorbar": {
              "outlinewidth": 0,
              "ticks": ""
             }
            },
            "marker": {
             "colorbar": {
              "outlinewidth": 0,
              "ticks": ""
             }
            },
            "type": "scatter3d"
           }
          ],
          "scattercarpet": [
           {
            "marker": {
             "colorbar": {
              "outlinewidth": 0,
              "ticks": ""
             }
            },
            "type": "scattercarpet"
           }
          ],
          "scattergeo": [
           {
            "marker": {
             "colorbar": {
              "outlinewidth": 0,
              "ticks": ""
             }
            },
            "type": "scattergeo"
           }
          ],
          "scattergl": [
           {
            "marker": {
             "colorbar": {
              "outlinewidth": 0,
              "ticks": ""
             }
            },
            "type": "scattergl"
           }
          ],
          "scattermapbox": [
           {
            "marker": {
             "colorbar": {
              "outlinewidth": 0,
              "ticks": ""
             }
            },
            "type": "scattermapbox"
           }
          ],
          "scatterpolar": [
           {
            "marker": {
             "colorbar": {
              "outlinewidth": 0,
              "ticks": ""
             }
            },
            "type": "scatterpolar"
           }
          ],
          "scatterpolargl": [
           {
            "marker": {
             "colorbar": {
              "outlinewidth": 0,
              "ticks": ""
             }
            },
            "type": "scatterpolargl"
           }
          ],
          "scatterternary": [
           {
            "marker": {
             "colorbar": {
              "outlinewidth": 0,
              "ticks": ""
             }
            },
            "type": "scatterternary"
           }
          ],
          "surface": [
           {
            "colorbar": {
             "outlinewidth": 0,
             "ticks": ""
            },
            "colorscale": [
             [
              0,
              "#0d0887"
             ],
             [
              0.1111111111111111,
              "#46039f"
             ],
             [
              0.2222222222222222,
              "#7201a8"
             ],
             [
              0.3333333333333333,
              "#9c179e"
             ],
             [
              0.4444444444444444,
              "#bd3786"
             ],
             [
              0.5555555555555556,
              "#d8576b"
             ],
             [
              0.6666666666666666,
              "#ed7953"
             ],
             [
              0.7777777777777778,
              "#fb9f3a"
             ],
             [
              0.8888888888888888,
              "#fdca26"
             ],
             [
              1,
              "#f0f921"
             ]
            ],
            "type": "surface"
           }
          ],
          "table": [
           {
            "cells": {
             "fill": {
              "color": "#EBF0F8"
             },
             "line": {
              "color": "white"
             }
            },
            "header": {
             "fill": {
              "color": "#C8D4E3"
             },
             "line": {
              "color": "white"
             }
            },
            "type": "table"
           }
          ]
         },
         "layout": {
          "annotationdefaults": {
           "arrowcolor": "#2a3f5f",
           "arrowhead": 0,
           "arrowwidth": 1
          },
          "autotypenumbers": "strict",
          "coloraxis": {
           "colorbar": {
            "outlinewidth": 0,
            "ticks": ""
           }
          },
          "colorscale": {
           "diverging": [
            [
             0,
             "#8e0152"
            ],
            [
             0.1,
             "#c51b7d"
            ],
            [
             0.2,
             "#de77ae"
            ],
            [
             0.3,
             "#f1b6da"
            ],
            [
             0.4,
             "#fde0ef"
            ],
            [
             0.5,
             "#f7f7f7"
            ],
            [
             0.6,
             "#e6f5d0"
            ],
            [
             0.7,
             "#b8e186"
            ],
            [
             0.8,
             "#7fbc41"
            ],
            [
             0.9,
             "#4d9221"
            ],
            [
             1,
             "#276419"
            ]
           ],
           "sequential": [
            [
             0,
             "#0d0887"
            ],
            [
             0.1111111111111111,
             "#46039f"
            ],
            [
             0.2222222222222222,
             "#7201a8"
            ],
            [
             0.3333333333333333,
             "#9c179e"
            ],
            [
             0.4444444444444444,
             "#bd3786"
            ],
            [
             0.5555555555555556,
             "#d8576b"
            ],
            [
             0.6666666666666666,
             "#ed7953"
            ],
            [
             0.7777777777777778,
             "#fb9f3a"
            ],
            [
             0.8888888888888888,
             "#fdca26"
            ],
            [
             1,
             "#f0f921"
            ]
           ],
           "sequentialminus": [
            [
             0,
             "#0d0887"
            ],
            [
             0.1111111111111111,
             "#46039f"
            ],
            [
             0.2222222222222222,
             "#7201a8"
            ],
            [
             0.3333333333333333,
             "#9c179e"
            ],
            [
             0.4444444444444444,
             "#bd3786"
            ],
            [
             0.5555555555555556,
             "#d8576b"
            ],
            [
             0.6666666666666666,
             "#ed7953"
            ],
            [
             0.7777777777777778,
             "#fb9f3a"
            ],
            [
             0.8888888888888888,
             "#fdca26"
            ],
            [
             1,
             "#f0f921"
            ]
           ]
          },
          "colorway": [
           "#636efa",
           "#EF553B",
           "#00cc96",
           "#ab63fa",
           "#FFA15A",
           "#19d3f3",
           "#FF6692",
           "#B6E880",
           "#FF97FF",
           "#FECB52"
          ],
          "font": {
           "color": "#2a3f5f"
          },
          "geo": {
           "bgcolor": "white",
           "lakecolor": "white",
           "landcolor": "#E5ECF6",
           "showlakes": true,
           "showland": true,
           "subunitcolor": "white"
          },
          "hoverlabel": {
           "align": "left"
          },
          "hovermode": "closest",
          "mapbox": {
           "style": "light"
          },
          "paper_bgcolor": "white",
          "plot_bgcolor": "#E5ECF6",
          "polar": {
           "angularaxis": {
            "gridcolor": "white",
            "linecolor": "white",
            "ticks": ""
           },
           "bgcolor": "#E5ECF6",
           "radialaxis": {
            "gridcolor": "white",
            "linecolor": "white",
            "ticks": ""
           }
          },
          "scene": {
           "xaxis": {
            "backgroundcolor": "#E5ECF6",
            "gridcolor": "white",
            "gridwidth": 2,
            "linecolor": "white",
            "showbackground": true,
            "ticks": "",
            "zerolinecolor": "white"
           },
           "yaxis": {
            "backgroundcolor": "#E5ECF6",
            "gridcolor": "white",
            "gridwidth": 2,
            "linecolor": "white",
            "showbackground": true,
            "ticks": "",
            "zerolinecolor": "white"
           },
           "zaxis": {
            "backgroundcolor": "#E5ECF6",
            "gridcolor": "white",
            "gridwidth": 2,
            "linecolor": "white",
            "showbackground": true,
            "ticks": "",
            "zerolinecolor": "white"
           }
          },
          "shapedefaults": {
           "line": {
            "color": "#2a3f5f"
           }
          },
          "ternary": {
           "aaxis": {
            "gridcolor": "white",
            "linecolor": "white",
            "ticks": ""
           },
           "baxis": {
            "gridcolor": "white",
            "linecolor": "white",
            "ticks": ""
           },
           "bgcolor": "#E5ECF6",
           "caxis": {
            "gridcolor": "white",
            "linecolor": "white",
            "ticks": ""
           }
          },
          "title": {
           "x": 0.05
          },
          "xaxis": {
           "automargin": true,
           "gridcolor": "white",
           "linecolor": "white",
           "ticks": "",
           "title": {
            "standoff": 15
           },
           "zerolinecolor": "white",
           "zerolinewidth": 2
          },
          "yaxis": {
           "automargin": true,
           "gridcolor": "white",
           "linecolor": "white",
           "ticks": "",
           "title": {
            "standoff": 15
           },
           "zerolinecolor": "white",
           "zerolinewidth": 2
          }
         }
        },
        "title": {
         "text": "Gross Income by Branch"
        },
        "xaxis": {
         "anchor": "y",
         "domain": [
          0,
          1
         ],
         "title": {
          "text": "gross income"
         }
        },
        "yaxis": {
         "anchor": "x",
         "domain": [
          0,
          1
         ],
         "title": {
          "text": "Branch"
         }
        }
       }
      }
     },
     "metadata": {},
     "output_type": "display_data"
    }
   ],
   "source": [
    "# Dataviz - Barchart\n",
    "# Most Profitable Branch\n",
    "\n",
    "fig = px.bar(graph1, y = 'Branch', x = 'gross income', color='City', text_auto=True)\n",
    "\n",
    "fig.update_layout(\n",
    "    title='Gross Income by Branch',\n",
    "    font=dict(size=15)\n",
    ")\n",
    "fig.show()"
   ]
  },
  {
   "cell_type": "markdown",
   "metadata": {},
   "source": [
    "Across three months timespan, it looks like the most profitable one is branch `C` which located at `Naypyitaw` city.\\\n",
    "Regardless, the other two branch actually did good too, generating `gross income` over than `$5000`."
   ]
  },
  {
   "cell_type": "markdown",
   "metadata": {},
   "source": [
    "### Product Lines\n",
    "\n",
    "Our store across city is doing pretty well, but now let's see the most popular and most profitable `product line` in the last three months."
   ]
  },
  {
   "cell_type": "code",
   "execution_count": 30,
   "metadata": {},
   "outputs": [
    {
     "data": {
      "text/html": [
       "<div>\n",
       "<style scoped>\n",
       "    .dataframe tbody tr th:only-of-type {\n",
       "        vertical-align: middle;\n",
       "    }\n",
       "\n",
       "    .dataframe tbody tr th {\n",
       "        vertical-align: top;\n",
       "    }\n",
       "\n",
       "    .dataframe thead th {\n",
       "        text-align: right;\n",
       "    }\n",
       "</style>\n",
       "<table border=\"1\" class=\"dataframe\">\n",
       "  <thead>\n",
       "    <tr style=\"text-align: right;\">\n",
       "      <th></th>\n",
       "      <th>Product line</th>\n",
       "      <th>Quantity</th>\n",
       "    </tr>\n",
       "  </thead>\n",
       "  <tbody>\n",
       "    <tr>\n",
       "      <th>0</th>\n",
       "      <td>Electronic accessories</td>\n",
       "      <td>971</td>\n",
       "    </tr>\n",
       "    <tr>\n",
       "      <th>1</th>\n",
       "      <td>Food and beverages</td>\n",
       "      <td>952</td>\n",
       "    </tr>\n",
       "    <tr>\n",
       "      <th>2</th>\n",
       "      <td>Sports and travel</td>\n",
       "      <td>920</td>\n",
       "    </tr>\n",
       "    <tr>\n",
       "      <th>3</th>\n",
       "      <td>Home and lifestyle</td>\n",
       "      <td>911</td>\n",
       "    </tr>\n",
       "    <tr>\n",
       "      <th>4</th>\n",
       "      <td>Fashion accessories</td>\n",
       "      <td>902</td>\n",
       "    </tr>\n",
       "    <tr>\n",
       "      <th>5</th>\n",
       "      <td>Health and beauty</td>\n",
       "      <td>854</td>\n",
       "    </tr>\n",
       "  </tbody>\n",
       "</table>\n",
       "</div>"
      ],
      "text/plain": [
       "             Product line  Quantity\n",
       "0  Electronic accessories       971\n",
       "1      Food and beverages       952\n",
       "2       Sports and travel       920\n",
       "3      Home and lifestyle       911\n",
       "4     Fashion accessories       902\n",
       "5       Health and beauty       854"
      ]
     },
     "execution_count": 30,
     "metadata": {},
     "output_type": "execute_result"
    }
   ],
   "source": [
    "# Dataset Preparation\n",
    "# Popular Product Line\n",
    "\n",
    "graph2 = df_cleaned.groupby(['Product line'])['Quantity'].sum().round(2).sort_values(ascending=False)\n",
    "graph2 = pd.DataFrame(graph2).reset_index()\n",
    "graph2"
   ]
  },
  {
   "cell_type": "code",
   "execution_count": 31,
   "metadata": {},
   "outputs": [
    {
     "data": {
      "application/vnd.plotly.v1+json": {
       "config": {
        "plotlyServerURL": "https://plot.ly"
       },
       "data": [
        {
         "alignmentgroup": "True",
         "hovertemplate": "Product line=%{x}<br>Quantity=%{y}<extra></extra>",
         "legendgroup": "Electronic accessories",
         "marker": {
          "color": "#636efa",
          "pattern": {
           "shape": ""
          }
         },
         "name": "Electronic accessories",
         "offsetgroup": "Electronic accessories",
         "orientation": "v",
         "showlegend": true,
         "textposition": "auto",
         "texttemplate": "%{y}",
         "type": "bar",
         "x": [
          "Electronic accessories"
         ],
         "xaxis": "x",
         "y": [
          971
         ],
         "yaxis": "y"
        },
        {
         "alignmentgroup": "True",
         "hovertemplate": "Product line=%{x}<br>Quantity=%{y}<extra></extra>",
         "legendgroup": "Food and beverages",
         "marker": {
          "color": "#EF553B",
          "pattern": {
           "shape": ""
          }
         },
         "name": "Food and beverages",
         "offsetgroup": "Food and beverages",
         "orientation": "v",
         "showlegend": true,
         "textposition": "auto",
         "texttemplate": "%{y}",
         "type": "bar",
         "x": [
          "Food and beverages"
         ],
         "xaxis": "x",
         "y": [
          952
         ],
         "yaxis": "y"
        },
        {
         "alignmentgroup": "True",
         "hovertemplate": "Product line=%{x}<br>Quantity=%{y}<extra></extra>",
         "legendgroup": "Sports and travel",
         "marker": {
          "color": "#00cc96",
          "pattern": {
           "shape": ""
          }
         },
         "name": "Sports and travel",
         "offsetgroup": "Sports and travel",
         "orientation": "v",
         "showlegend": true,
         "textposition": "auto",
         "texttemplate": "%{y}",
         "type": "bar",
         "x": [
          "Sports and travel"
         ],
         "xaxis": "x",
         "y": [
          920
         ],
         "yaxis": "y"
        },
        {
         "alignmentgroup": "True",
         "hovertemplate": "Product line=%{x}<br>Quantity=%{y}<extra></extra>",
         "legendgroup": "Home and lifestyle",
         "marker": {
          "color": "#ab63fa",
          "pattern": {
           "shape": ""
          }
         },
         "name": "Home and lifestyle",
         "offsetgroup": "Home and lifestyle",
         "orientation": "v",
         "showlegend": true,
         "textposition": "auto",
         "texttemplate": "%{y}",
         "type": "bar",
         "x": [
          "Home and lifestyle"
         ],
         "xaxis": "x",
         "y": [
          911
         ],
         "yaxis": "y"
        },
        {
         "alignmentgroup": "True",
         "hovertemplate": "Product line=%{x}<br>Quantity=%{y}<extra></extra>",
         "legendgroup": "Fashion accessories",
         "marker": {
          "color": "#FFA15A",
          "pattern": {
           "shape": ""
          }
         },
         "name": "Fashion accessories",
         "offsetgroup": "Fashion accessories",
         "orientation": "v",
         "showlegend": true,
         "textposition": "auto",
         "texttemplate": "%{y}",
         "type": "bar",
         "x": [
          "Fashion accessories"
         ],
         "xaxis": "x",
         "y": [
          902
         ],
         "yaxis": "y"
        },
        {
         "alignmentgroup": "True",
         "hovertemplate": "Product line=%{x}<br>Quantity=%{y}<extra></extra>",
         "legendgroup": "Health and beauty",
         "marker": {
          "color": "#19d3f3",
          "pattern": {
           "shape": ""
          }
         },
         "name": "Health and beauty",
         "offsetgroup": "Health and beauty",
         "orientation": "v",
         "showlegend": true,
         "textposition": "auto",
         "texttemplate": "%{y}",
         "type": "bar",
         "x": [
          "Health and beauty"
         ],
         "xaxis": "x",
         "y": [
          854
         ],
         "yaxis": "y"
        }
       ],
       "layout": {
        "barmode": "relative",
        "font": {
         "size": 15
        },
        "legend": {
         "title": {
          "text": "Product line"
         },
         "tracegroupgap": 0
        },
        "margin": {
         "t": 60
        },
        "template": {
         "data": {
          "bar": [
           {
            "error_x": {
             "color": "#2a3f5f"
            },
            "error_y": {
             "color": "#2a3f5f"
            },
            "marker": {
             "line": {
              "color": "#E5ECF6",
              "width": 0.5
             },
             "pattern": {
              "fillmode": "overlay",
              "size": 10,
              "solidity": 0.2
             }
            },
            "type": "bar"
           }
          ],
          "barpolar": [
           {
            "marker": {
             "line": {
              "color": "#E5ECF6",
              "width": 0.5
             },
             "pattern": {
              "fillmode": "overlay",
              "size": 10,
              "solidity": 0.2
             }
            },
            "type": "barpolar"
           }
          ],
          "carpet": [
           {
            "aaxis": {
             "endlinecolor": "#2a3f5f",
             "gridcolor": "white",
             "linecolor": "white",
             "minorgridcolor": "white",
             "startlinecolor": "#2a3f5f"
            },
            "baxis": {
             "endlinecolor": "#2a3f5f",
             "gridcolor": "white",
             "linecolor": "white",
             "minorgridcolor": "white",
             "startlinecolor": "#2a3f5f"
            },
            "type": "carpet"
           }
          ],
          "choropleth": [
           {
            "colorbar": {
             "outlinewidth": 0,
             "ticks": ""
            },
            "type": "choropleth"
           }
          ],
          "contour": [
           {
            "colorbar": {
             "outlinewidth": 0,
             "ticks": ""
            },
            "colorscale": [
             [
              0,
              "#0d0887"
             ],
             [
              0.1111111111111111,
              "#46039f"
             ],
             [
              0.2222222222222222,
              "#7201a8"
             ],
             [
              0.3333333333333333,
              "#9c179e"
             ],
             [
              0.4444444444444444,
              "#bd3786"
             ],
             [
              0.5555555555555556,
              "#d8576b"
             ],
             [
              0.6666666666666666,
              "#ed7953"
             ],
             [
              0.7777777777777778,
              "#fb9f3a"
             ],
             [
              0.8888888888888888,
              "#fdca26"
             ],
             [
              1,
              "#f0f921"
             ]
            ],
            "type": "contour"
           }
          ],
          "contourcarpet": [
           {
            "colorbar": {
             "outlinewidth": 0,
             "ticks": ""
            },
            "type": "contourcarpet"
           }
          ],
          "heatmap": [
           {
            "colorbar": {
             "outlinewidth": 0,
             "ticks": ""
            },
            "colorscale": [
             [
              0,
              "#0d0887"
             ],
             [
              0.1111111111111111,
              "#46039f"
             ],
             [
              0.2222222222222222,
              "#7201a8"
             ],
             [
              0.3333333333333333,
              "#9c179e"
             ],
             [
              0.4444444444444444,
              "#bd3786"
             ],
             [
              0.5555555555555556,
              "#d8576b"
             ],
             [
              0.6666666666666666,
              "#ed7953"
             ],
             [
              0.7777777777777778,
              "#fb9f3a"
             ],
             [
              0.8888888888888888,
              "#fdca26"
             ],
             [
              1,
              "#f0f921"
             ]
            ],
            "type": "heatmap"
           }
          ],
          "heatmapgl": [
           {
            "colorbar": {
             "outlinewidth": 0,
             "ticks": ""
            },
            "colorscale": [
             [
              0,
              "#0d0887"
             ],
             [
              0.1111111111111111,
              "#46039f"
             ],
             [
              0.2222222222222222,
              "#7201a8"
             ],
             [
              0.3333333333333333,
              "#9c179e"
             ],
             [
              0.4444444444444444,
              "#bd3786"
             ],
             [
              0.5555555555555556,
              "#d8576b"
             ],
             [
              0.6666666666666666,
              "#ed7953"
             ],
             [
              0.7777777777777778,
              "#fb9f3a"
             ],
             [
              0.8888888888888888,
              "#fdca26"
             ],
             [
              1,
              "#f0f921"
             ]
            ],
            "type": "heatmapgl"
           }
          ],
          "histogram": [
           {
            "marker": {
             "pattern": {
              "fillmode": "overlay",
              "size": 10,
              "solidity": 0.2
             }
            },
            "type": "histogram"
           }
          ],
          "histogram2d": [
           {
            "colorbar": {
             "outlinewidth": 0,
             "ticks": ""
            },
            "colorscale": [
             [
              0,
              "#0d0887"
             ],
             [
              0.1111111111111111,
              "#46039f"
             ],
             [
              0.2222222222222222,
              "#7201a8"
             ],
             [
              0.3333333333333333,
              "#9c179e"
             ],
             [
              0.4444444444444444,
              "#bd3786"
             ],
             [
              0.5555555555555556,
              "#d8576b"
             ],
             [
              0.6666666666666666,
              "#ed7953"
             ],
             [
              0.7777777777777778,
              "#fb9f3a"
             ],
             [
              0.8888888888888888,
              "#fdca26"
             ],
             [
              1,
              "#f0f921"
             ]
            ],
            "type": "histogram2d"
           }
          ],
          "histogram2dcontour": [
           {
            "colorbar": {
             "outlinewidth": 0,
             "ticks": ""
            },
            "colorscale": [
             [
              0,
              "#0d0887"
             ],
             [
              0.1111111111111111,
              "#46039f"
             ],
             [
              0.2222222222222222,
              "#7201a8"
             ],
             [
              0.3333333333333333,
              "#9c179e"
             ],
             [
              0.4444444444444444,
              "#bd3786"
             ],
             [
              0.5555555555555556,
              "#d8576b"
             ],
             [
              0.6666666666666666,
              "#ed7953"
             ],
             [
              0.7777777777777778,
              "#fb9f3a"
             ],
             [
              0.8888888888888888,
              "#fdca26"
             ],
             [
              1,
              "#f0f921"
             ]
            ],
            "type": "histogram2dcontour"
           }
          ],
          "mesh3d": [
           {
            "colorbar": {
             "outlinewidth": 0,
             "ticks": ""
            },
            "type": "mesh3d"
           }
          ],
          "parcoords": [
           {
            "line": {
             "colorbar": {
              "outlinewidth": 0,
              "ticks": ""
             }
            },
            "type": "parcoords"
           }
          ],
          "pie": [
           {
            "automargin": true,
            "type": "pie"
           }
          ],
          "scatter": [
           {
            "marker": {
             "colorbar": {
              "outlinewidth": 0,
              "ticks": ""
             }
            },
            "type": "scatter"
           }
          ],
          "scatter3d": [
           {
            "line": {
             "colorbar": {
              "outlinewidth": 0,
              "ticks": ""
             }
            },
            "marker": {
             "colorbar": {
              "outlinewidth": 0,
              "ticks": ""
             }
            },
            "type": "scatter3d"
           }
          ],
          "scattercarpet": [
           {
            "marker": {
             "colorbar": {
              "outlinewidth": 0,
              "ticks": ""
             }
            },
            "type": "scattercarpet"
           }
          ],
          "scattergeo": [
           {
            "marker": {
             "colorbar": {
              "outlinewidth": 0,
              "ticks": ""
             }
            },
            "type": "scattergeo"
           }
          ],
          "scattergl": [
           {
            "marker": {
             "colorbar": {
              "outlinewidth": 0,
              "ticks": ""
             }
            },
            "type": "scattergl"
           }
          ],
          "scattermapbox": [
           {
            "marker": {
             "colorbar": {
              "outlinewidth": 0,
              "ticks": ""
             }
            },
            "type": "scattermapbox"
           }
          ],
          "scatterpolar": [
           {
            "marker": {
             "colorbar": {
              "outlinewidth": 0,
              "ticks": ""
             }
            },
            "type": "scatterpolar"
           }
          ],
          "scatterpolargl": [
           {
            "marker": {
             "colorbar": {
              "outlinewidth": 0,
              "ticks": ""
             }
            },
            "type": "scatterpolargl"
           }
          ],
          "scatterternary": [
           {
            "marker": {
             "colorbar": {
              "outlinewidth": 0,
              "ticks": ""
             }
            },
            "type": "scatterternary"
           }
          ],
          "surface": [
           {
            "colorbar": {
             "outlinewidth": 0,
             "ticks": ""
            },
            "colorscale": [
             [
              0,
              "#0d0887"
             ],
             [
              0.1111111111111111,
              "#46039f"
             ],
             [
              0.2222222222222222,
              "#7201a8"
             ],
             [
              0.3333333333333333,
              "#9c179e"
             ],
             [
              0.4444444444444444,
              "#bd3786"
             ],
             [
              0.5555555555555556,
              "#d8576b"
             ],
             [
              0.6666666666666666,
              "#ed7953"
             ],
             [
              0.7777777777777778,
              "#fb9f3a"
             ],
             [
              0.8888888888888888,
              "#fdca26"
             ],
             [
              1,
              "#f0f921"
             ]
            ],
            "type": "surface"
           }
          ],
          "table": [
           {
            "cells": {
             "fill": {
              "color": "#EBF0F8"
             },
             "line": {
              "color": "white"
             }
            },
            "header": {
             "fill": {
              "color": "#C8D4E3"
             },
             "line": {
              "color": "white"
             }
            },
            "type": "table"
           }
          ]
         },
         "layout": {
          "annotationdefaults": {
           "arrowcolor": "#2a3f5f",
           "arrowhead": 0,
           "arrowwidth": 1
          },
          "autotypenumbers": "strict",
          "coloraxis": {
           "colorbar": {
            "outlinewidth": 0,
            "ticks": ""
           }
          },
          "colorscale": {
           "diverging": [
            [
             0,
             "#8e0152"
            ],
            [
             0.1,
             "#c51b7d"
            ],
            [
             0.2,
             "#de77ae"
            ],
            [
             0.3,
             "#f1b6da"
            ],
            [
             0.4,
             "#fde0ef"
            ],
            [
             0.5,
             "#f7f7f7"
            ],
            [
             0.6,
             "#e6f5d0"
            ],
            [
             0.7,
             "#b8e186"
            ],
            [
             0.8,
             "#7fbc41"
            ],
            [
             0.9,
             "#4d9221"
            ],
            [
             1,
             "#276419"
            ]
           ],
           "sequential": [
            [
             0,
             "#0d0887"
            ],
            [
             0.1111111111111111,
             "#46039f"
            ],
            [
             0.2222222222222222,
             "#7201a8"
            ],
            [
             0.3333333333333333,
             "#9c179e"
            ],
            [
             0.4444444444444444,
             "#bd3786"
            ],
            [
             0.5555555555555556,
             "#d8576b"
            ],
            [
             0.6666666666666666,
             "#ed7953"
            ],
            [
             0.7777777777777778,
             "#fb9f3a"
            ],
            [
             0.8888888888888888,
             "#fdca26"
            ],
            [
             1,
             "#f0f921"
            ]
           ],
           "sequentialminus": [
            [
             0,
             "#0d0887"
            ],
            [
             0.1111111111111111,
             "#46039f"
            ],
            [
             0.2222222222222222,
             "#7201a8"
            ],
            [
             0.3333333333333333,
             "#9c179e"
            ],
            [
             0.4444444444444444,
             "#bd3786"
            ],
            [
             0.5555555555555556,
             "#d8576b"
            ],
            [
             0.6666666666666666,
             "#ed7953"
            ],
            [
             0.7777777777777778,
             "#fb9f3a"
            ],
            [
             0.8888888888888888,
             "#fdca26"
            ],
            [
             1,
             "#f0f921"
            ]
           ]
          },
          "colorway": [
           "#636efa",
           "#EF553B",
           "#00cc96",
           "#ab63fa",
           "#FFA15A",
           "#19d3f3",
           "#FF6692",
           "#B6E880",
           "#FF97FF",
           "#FECB52"
          ],
          "font": {
           "color": "#2a3f5f"
          },
          "geo": {
           "bgcolor": "white",
           "lakecolor": "white",
           "landcolor": "#E5ECF6",
           "showlakes": true,
           "showland": true,
           "subunitcolor": "white"
          },
          "hoverlabel": {
           "align": "left"
          },
          "hovermode": "closest",
          "mapbox": {
           "style": "light"
          },
          "paper_bgcolor": "white",
          "plot_bgcolor": "#E5ECF6",
          "polar": {
           "angularaxis": {
            "gridcolor": "white",
            "linecolor": "white",
            "ticks": ""
           },
           "bgcolor": "#E5ECF6",
           "radialaxis": {
            "gridcolor": "white",
            "linecolor": "white",
            "ticks": ""
           }
          },
          "scene": {
           "xaxis": {
            "backgroundcolor": "#E5ECF6",
            "gridcolor": "white",
            "gridwidth": 2,
            "linecolor": "white",
            "showbackground": true,
            "ticks": "",
            "zerolinecolor": "white"
           },
           "yaxis": {
            "backgroundcolor": "#E5ECF6",
            "gridcolor": "white",
            "gridwidth": 2,
            "linecolor": "white",
            "showbackground": true,
            "ticks": "",
            "zerolinecolor": "white"
           },
           "zaxis": {
            "backgroundcolor": "#E5ECF6",
            "gridcolor": "white",
            "gridwidth": 2,
            "linecolor": "white",
            "showbackground": true,
            "ticks": "",
            "zerolinecolor": "white"
           }
          },
          "shapedefaults": {
           "line": {
            "color": "#2a3f5f"
           }
          },
          "ternary": {
           "aaxis": {
            "gridcolor": "white",
            "linecolor": "white",
            "ticks": ""
           },
           "baxis": {
            "gridcolor": "white",
            "linecolor": "white",
            "ticks": ""
           },
           "bgcolor": "#E5ECF6",
           "caxis": {
            "gridcolor": "white",
            "linecolor": "white",
            "ticks": ""
           }
          },
          "title": {
           "x": 0.05
          },
          "xaxis": {
           "automargin": true,
           "gridcolor": "white",
           "linecolor": "white",
           "ticks": "",
           "title": {
            "standoff": 15
           },
           "zerolinecolor": "white",
           "zerolinewidth": 2
          },
          "yaxis": {
           "automargin": true,
           "gridcolor": "white",
           "linecolor": "white",
           "ticks": "",
           "title": {
            "standoff": 15
           },
           "zerolinecolor": "white",
           "zerolinewidth": 2
          }
         }
        },
        "title": {
         "text": "Product Line Popularity"
        },
        "xaxis": {
         "anchor": "y",
         "categoryarray": [
          "Electronic accessories",
          "Food and beverages",
          "Sports and travel",
          "Home and lifestyle",
          "Fashion accessories",
          "Health and beauty"
         ],
         "categoryorder": "array",
         "domain": [
          0,
          1
         ],
         "title": {
          "text": "Product line"
         }
        },
        "yaxis": {
         "anchor": "x",
         "domain": [
          0,
          1
         ],
         "title": {
          "text": "Quantity"
         }
        }
       }
      }
     },
     "metadata": {},
     "output_type": "display_data"
    }
   ],
   "source": [
    "# Dataviz - Barchart\n",
    "# Popular Product Line\n",
    "\n",
    "fig = px.bar(graph2, x= 'Product line', y= 'Quantity', color= 'Product line', text_auto=True)\n",
    "\n",
    "fig.update_layout(\n",
    "    title='Product Line Popularity',\n",
    "    font=dict(size=15)\n",
    ")\n",
    "fig.show()"
   ]
  },
  {
   "cell_type": "code",
   "execution_count": 32,
   "metadata": {},
   "outputs": [
    {
     "data": {
      "text/html": [
       "<div>\n",
       "<style scoped>\n",
       "    .dataframe tbody tr th:only-of-type {\n",
       "        vertical-align: middle;\n",
       "    }\n",
       "\n",
       "    .dataframe tbody tr th {\n",
       "        vertical-align: top;\n",
       "    }\n",
       "\n",
       "    .dataframe thead th {\n",
       "        text-align: right;\n",
       "    }\n",
       "</style>\n",
       "<table border=\"1\" class=\"dataframe\">\n",
       "  <thead>\n",
       "    <tr style=\"text-align: right;\">\n",
       "      <th></th>\n",
       "      <th>Product line</th>\n",
       "      <th>gross income</th>\n",
       "    </tr>\n",
       "  </thead>\n",
       "  <tbody>\n",
       "    <tr>\n",
       "      <th>0</th>\n",
       "      <td>Food and beverages</td>\n",
       "      <td>2673.56</td>\n",
       "    </tr>\n",
       "    <tr>\n",
       "      <th>1</th>\n",
       "      <td>Sports and travel</td>\n",
       "      <td>2624.90</td>\n",
       "    </tr>\n",
       "    <tr>\n",
       "      <th>2</th>\n",
       "      <td>Electronic accessories</td>\n",
       "      <td>2587.50</td>\n",
       "    </tr>\n",
       "    <tr>\n",
       "      <th>3</th>\n",
       "      <td>Fashion accessories</td>\n",
       "      <td>2586.00</td>\n",
       "    </tr>\n",
       "    <tr>\n",
       "      <th>4</th>\n",
       "      <td>Home and lifestyle</td>\n",
       "      <td>2564.85</td>\n",
       "    </tr>\n",
       "    <tr>\n",
       "      <th>5</th>\n",
       "      <td>Health and beauty</td>\n",
       "      <td>2342.56</td>\n",
       "    </tr>\n",
       "  </tbody>\n",
       "</table>\n",
       "</div>"
      ],
      "text/plain": [
       "             Product line  gross income\n",
       "0      Food and beverages       2673.56\n",
       "1       Sports and travel       2624.90\n",
       "2  Electronic accessories       2587.50\n",
       "3     Fashion accessories       2586.00\n",
       "4      Home and lifestyle       2564.85\n",
       "5       Health and beauty       2342.56"
      ]
     },
     "execution_count": 32,
     "metadata": {},
     "output_type": "execute_result"
    }
   ],
   "source": [
    "# Dataset Preparation\n",
    "# Gross Income by Product Line\n",
    "\n",
    "graph3 = df_cleaned.groupby(['Product line'])['gross income'].sum().round(2).sort_values(ascending=False)\n",
    "graph3 = pd.DataFrame(graph3).reset_index()\n",
    "graph3"
   ]
  },
  {
   "cell_type": "code",
   "execution_count": 33,
   "metadata": {},
   "outputs": [
    {
     "data": {
      "application/vnd.plotly.v1+json": {
       "config": {
        "plotlyServerURL": "https://plot.ly"
       },
       "data": [
        {
         "alignmentgroup": "True",
         "hovertemplate": "Product line=%{x}<br>gross income=%{y}<extra></extra>",
         "legendgroup": "Food and beverages",
         "marker": {
          "color": "#636efa",
          "pattern": {
           "shape": ""
          }
         },
         "name": "Food and beverages",
         "offsetgroup": "Food and beverages",
         "orientation": "v",
         "showlegend": true,
         "textposition": "auto",
         "texttemplate": "%{y}",
         "type": "bar",
         "x": [
          "Food and beverages"
         ],
         "xaxis": "x",
         "y": [
          2673.56
         ],
         "yaxis": "y"
        },
        {
         "alignmentgroup": "True",
         "hovertemplate": "Product line=%{x}<br>gross income=%{y}<extra></extra>",
         "legendgroup": "Sports and travel",
         "marker": {
          "color": "#EF553B",
          "pattern": {
           "shape": ""
          }
         },
         "name": "Sports and travel",
         "offsetgroup": "Sports and travel",
         "orientation": "v",
         "showlegend": true,
         "textposition": "auto",
         "texttemplate": "%{y}",
         "type": "bar",
         "x": [
          "Sports and travel"
         ],
         "xaxis": "x",
         "y": [
          2624.9
         ],
         "yaxis": "y"
        },
        {
         "alignmentgroup": "True",
         "hovertemplate": "Product line=%{x}<br>gross income=%{y}<extra></extra>",
         "legendgroup": "Electronic accessories",
         "marker": {
          "color": "#00cc96",
          "pattern": {
           "shape": ""
          }
         },
         "name": "Electronic accessories",
         "offsetgroup": "Electronic accessories",
         "orientation": "v",
         "showlegend": true,
         "textposition": "auto",
         "texttemplate": "%{y}",
         "type": "bar",
         "x": [
          "Electronic accessories"
         ],
         "xaxis": "x",
         "y": [
          2587.5
         ],
         "yaxis": "y"
        },
        {
         "alignmentgroup": "True",
         "hovertemplate": "Product line=%{x}<br>gross income=%{y}<extra></extra>",
         "legendgroup": "Fashion accessories",
         "marker": {
          "color": "#ab63fa",
          "pattern": {
           "shape": ""
          }
         },
         "name": "Fashion accessories",
         "offsetgroup": "Fashion accessories",
         "orientation": "v",
         "showlegend": true,
         "textposition": "auto",
         "texttemplate": "%{y}",
         "type": "bar",
         "x": [
          "Fashion accessories"
         ],
         "xaxis": "x",
         "y": [
          2586
         ],
         "yaxis": "y"
        },
        {
         "alignmentgroup": "True",
         "hovertemplate": "Product line=%{x}<br>gross income=%{y}<extra></extra>",
         "legendgroup": "Home and lifestyle",
         "marker": {
          "color": "#FFA15A",
          "pattern": {
           "shape": ""
          }
         },
         "name": "Home and lifestyle",
         "offsetgroup": "Home and lifestyle",
         "orientation": "v",
         "showlegend": true,
         "textposition": "auto",
         "texttemplate": "%{y}",
         "type": "bar",
         "x": [
          "Home and lifestyle"
         ],
         "xaxis": "x",
         "y": [
          2564.85
         ],
         "yaxis": "y"
        },
        {
         "alignmentgroup": "True",
         "hovertemplate": "Product line=%{x}<br>gross income=%{y}<extra></extra>",
         "legendgroup": "Health and beauty",
         "marker": {
          "color": "#19d3f3",
          "pattern": {
           "shape": ""
          }
         },
         "name": "Health and beauty",
         "offsetgroup": "Health and beauty",
         "orientation": "v",
         "showlegend": true,
         "textposition": "auto",
         "texttemplate": "%{y}",
         "type": "bar",
         "x": [
          "Health and beauty"
         ],
         "xaxis": "x",
         "y": [
          2342.56
         ],
         "yaxis": "y"
        }
       ],
       "layout": {
        "barmode": "relative",
        "font": {
         "size": 15
        },
        "legend": {
         "title": {
          "text": "Product line"
         },
         "tracegroupgap": 0
        },
        "margin": {
         "t": 60
        },
        "template": {
         "data": {
          "bar": [
           {
            "error_x": {
             "color": "#2a3f5f"
            },
            "error_y": {
             "color": "#2a3f5f"
            },
            "marker": {
             "line": {
              "color": "#E5ECF6",
              "width": 0.5
             },
             "pattern": {
              "fillmode": "overlay",
              "size": 10,
              "solidity": 0.2
             }
            },
            "type": "bar"
           }
          ],
          "barpolar": [
           {
            "marker": {
             "line": {
              "color": "#E5ECF6",
              "width": 0.5
             },
             "pattern": {
              "fillmode": "overlay",
              "size": 10,
              "solidity": 0.2
             }
            },
            "type": "barpolar"
           }
          ],
          "carpet": [
           {
            "aaxis": {
             "endlinecolor": "#2a3f5f",
             "gridcolor": "white",
             "linecolor": "white",
             "minorgridcolor": "white",
             "startlinecolor": "#2a3f5f"
            },
            "baxis": {
             "endlinecolor": "#2a3f5f",
             "gridcolor": "white",
             "linecolor": "white",
             "minorgridcolor": "white",
             "startlinecolor": "#2a3f5f"
            },
            "type": "carpet"
           }
          ],
          "choropleth": [
           {
            "colorbar": {
             "outlinewidth": 0,
             "ticks": ""
            },
            "type": "choropleth"
           }
          ],
          "contour": [
           {
            "colorbar": {
             "outlinewidth": 0,
             "ticks": ""
            },
            "colorscale": [
             [
              0,
              "#0d0887"
             ],
             [
              0.1111111111111111,
              "#46039f"
             ],
             [
              0.2222222222222222,
              "#7201a8"
             ],
             [
              0.3333333333333333,
              "#9c179e"
             ],
             [
              0.4444444444444444,
              "#bd3786"
             ],
             [
              0.5555555555555556,
              "#d8576b"
             ],
             [
              0.6666666666666666,
              "#ed7953"
             ],
             [
              0.7777777777777778,
              "#fb9f3a"
             ],
             [
              0.8888888888888888,
              "#fdca26"
             ],
             [
              1,
              "#f0f921"
             ]
            ],
            "type": "contour"
           }
          ],
          "contourcarpet": [
           {
            "colorbar": {
             "outlinewidth": 0,
             "ticks": ""
            },
            "type": "contourcarpet"
           }
          ],
          "heatmap": [
           {
            "colorbar": {
             "outlinewidth": 0,
             "ticks": ""
            },
            "colorscale": [
             [
              0,
              "#0d0887"
             ],
             [
              0.1111111111111111,
              "#46039f"
             ],
             [
              0.2222222222222222,
              "#7201a8"
             ],
             [
              0.3333333333333333,
              "#9c179e"
             ],
             [
              0.4444444444444444,
              "#bd3786"
             ],
             [
              0.5555555555555556,
              "#d8576b"
             ],
             [
              0.6666666666666666,
              "#ed7953"
             ],
             [
              0.7777777777777778,
              "#fb9f3a"
             ],
             [
              0.8888888888888888,
              "#fdca26"
             ],
             [
              1,
              "#f0f921"
             ]
            ],
            "type": "heatmap"
           }
          ],
          "heatmapgl": [
           {
            "colorbar": {
             "outlinewidth": 0,
             "ticks": ""
            },
            "colorscale": [
             [
              0,
              "#0d0887"
             ],
             [
              0.1111111111111111,
              "#46039f"
             ],
             [
              0.2222222222222222,
              "#7201a8"
             ],
             [
              0.3333333333333333,
              "#9c179e"
             ],
             [
              0.4444444444444444,
              "#bd3786"
             ],
             [
              0.5555555555555556,
              "#d8576b"
             ],
             [
              0.6666666666666666,
              "#ed7953"
             ],
             [
              0.7777777777777778,
              "#fb9f3a"
             ],
             [
              0.8888888888888888,
              "#fdca26"
             ],
             [
              1,
              "#f0f921"
             ]
            ],
            "type": "heatmapgl"
           }
          ],
          "histogram": [
           {
            "marker": {
             "pattern": {
              "fillmode": "overlay",
              "size": 10,
              "solidity": 0.2
             }
            },
            "type": "histogram"
           }
          ],
          "histogram2d": [
           {
            "colorbar": {
             "outlinewidth": 0,
             "ticks": ""
            },
            "colorscale": [
             [
              0,
              "#0d0887"
             ],
             [
              0.1111111111111111,
              "#46039f"
             ],
             [
              0.2222222222222222,
              "#7201a8"
             ],
             [
              0.3333333333333333,
              "#9c179e"
             ],
             [
              0.4444444444444444,
              "#bd3786"
             ],
             [
              0.5555555555555556,
              "#d8576b"
             ],
             [
              0.6666666666666666,
              "#ed7953"
             ],
             [
              0.7777777777777778,
              "#fb9f3a"
             ],
             [
              0.8888888888888888,
              "#fdca26"
             ],
             [
              1,
              "#f0f921"
             ]
            ],
            "type": "histogram2d"
           }
          ],
          "histogram2dcontour": [
           {
            "colorbar": {
             "outlinewidth": 0,
             "ticks": ""
            },
            "colorscale": [
             [
              0,
              "#0d0887"
             ],
             [
              0.1111111111111111,
              "#46039f"
             ],
             [
              0.2222222222222222,
              "#7201a8"
             ],
             [
              0.3333333333333333,
              "#9c179e"
             ],
             [
              0.4444444444444444,
              "#bd3786"
             ],
             [
              0.5555555555555556,
              "#d8576b"
             ],
             [
              0.6666666666666666,
              "#ed7953"
             ],
             [
              0.7777777777777778,
              "#fb9f3a"
             ],
             [
              0.8888888888888888,
              "#fdca26"
             ],
             [
              1,
              "#f0f921"
             ]
            ],
            "type": "histogram2dcontour"
           }
          ],
          "mesh3d": [
           {
            "colorbar": {
             "outlinewidth": 0,
             "ticks": ""
            },
            "type": "mesh3d"
           }
          ],
          "parcoords": [
           {
            "line": {
             "colorbar": {
              "outlinewidth": 0,
              "ticks": ""
             }
            },
            "type": "parcoords"
           }
          ],
          "pie": [
           {
            "automargin": true,
            "type": "pie"
           }
          ],
          "scatter": [
           {
            "marker": {
             "colorbar": {
              "outlinewidth": 0,
              "ticks": ""
             }
            },
            "type": "scatter"
           }
          ],
          "scatter3d": [
           {
            "line": {
             "colorbar": {
              "outlinewidth": 0,
              "ticks": ""
             }
            },
            "marker": {
             "colorbar": {
              "outlinewidth": 0,
              "ticks": ""
             }
            },
            "type": "scatter3d"
           }
          ],
          "scattercarpet": [
           {
            "marker": {
             "colorbar": {
              "outlinewidth": 0,
              "ticks": ""
             }
            },
            "type": "scattercarpet"
           }
          ],
          "scattergeo": [
           {
            "marker": {
             "colorbar": {
              "outlinewidth": 0,
              "ticks": ""
             }
            },
            "type": "scattergeo"
           }
          ],
          "scattergl": [
           {
            "marker": {
             "colorbar": {
              "outlinewidth": 0,
              "ticks": ""
             }
            },
            "type": "scattergl"
           }
          ],
          "scattermapbox": [
           {
            "marker": {
             "colorbar": {
              "outlinewidth": 0,
              "ticks": ""
             }
            },
            "type": "scattermapbox"
           }
          ],
          "scatterpolar": [
           {
            "marker": {
             "colorbar": {
              "outlinewidth": 0,
              "ticks": ""
             }
            },
            "type": "scatterpolar"
           }
          ],
          "scatterpolargl": [
           {
            "marker": {
             "colorbar": {
              "outlinewidth": 0,
              "ticks": ""
             }
            },
            "type": "scatterpolargl"
           }
          ],
          "scatterternary": [
           {
            "marker": {
             "colorbar": {
              "outlinewidth": 0,
              "ticks": ""
             }
            },
            "type": "scatterternary"
           }
          ],
          "surface": [
           {
            "colorbar": {
             "outlinewidth": 0,
             "ticks": ""
            },
            "colorscale": [
             [
              0,
              "#0d0887"
             ],
             [
              0.1111111111111111,
              "#46039f"
             ],
             [
              0.2222222222222222,
              "#7201a8"
             ],
             [
              0.3333333333333333,
              "#9c179e"
             ],
             [
              0.4444444444444444,
              "#bd3786"
             ],
             [
              0.5555555555555556,
              "#d8576b"
             ],
             [
              0.6666666666666666,
              "#ed7953"
             ],
             [
              0.7777777777777778,
              "#fb9f3a"
             ],
             [
              0.8888888888888888,
              "#fdca26"
             ],
             [
              1,
              "#f0f921"
             ]
            ],
            "type": "surface"
           }
          ],
          "table": [
           {
            "cells": {
             "fill": {
              "color": "#EBF0F8"
             },
             "line": {
              "color": "white"
             }
            },
            "header": {
             "fill": {
              "color": "#C8D4E3"
             },
             "line": {
              "color": "white"
             }
            },
            "type": "table"
           }
          ]
         },
         "layout": {
          "annotationdefaults": {
           "arrowcolor": "#2a3f5f",
           "arrowhead": 0,
           "arrowwidth": 1
          },
          "autotypenumbers": "strict",
          "coloraxis": {
           "colorbar": {
            "outlinewidth": 0,
            "ticks": ""
           }
          },
          "colorscale": {
           "diverging": [
            [
             0,
             "#8e0152"
            ],
            [
             0.1,
             "#c51b7d"
            ],
            [
             0.2,
             "#de77ae"
            ],
            [
             0.3,
             "#f1b6da"
            ],
            [
             0.4,
             "#fde0ef"
            ],
            [
             0.5,
             "#f7f7f7"
            ],
            [
             0.6,
             "#e6f5d0"
            ],
            [
             0.7,
             "#b8e186"
            ],
            [
             0.8,
             "#7fbc41"
            ],
            [
             0.9,
             "#4d9221"
            ],
            [
             1,
             "#276419"
            ]
           ],
           "sequential": [
            [
             0,
             "#0d0887"
            ],
            [
             0.1111111111111111,
             "#46039f"
            ],
            [
             0.2222222222222222,
             "#7201a8"
            ],
            [
             0.3333333333333333,
             "#9c179e"
            ],
            [
             0.4444444444444444,
             "#bd3786"
            ],
            [
             0.5555555555555556,
             "#d8576b"
            ],
            [
             0.6666666666666666,
             "#ed7953"
            ],
            [
             0.7777777777777778,
             "#fb9f3a"
            ],
            [
             0.8888888888888888,
             "#fdca26"
            ],
            [
             1,
             "#f0f921"
            ]
           ],
           "sequentialminus": [
            [
             0,
             "#0d0887"
            ],
            [
             0.1111111111111111,
             "#46039f"
            ],
            [
             0.2222222222222222,
             "#7201a8"
            ],
            [
             0.3333333333333333,
             "#9c179e"
            ],
            [
             0.4444444444444444,
             "#bd3786"
            ],
            [
             0.5555555555555556,
             "#d8576b"
            ],
            [
             0.6666666666666666,
             "#ed7953"
            ],
            [
             0.7777777777777778,
             "#fb9f3a"
            ],
            [
             0.8888888888888888,
             "#fdca26"
            ],
            [
             1,
             "#f0f921"
            ]
           ]
          },
          "colorway": [
           "#636efa",
           "#EF553B",
           "#00cc96",
           "#ab63fa",
           "#FFA15A",
           "#19d3f3",
           "#FF6692",
           "#B6E880",
           "#FF97FF",
           "#FECB52"
          ],
          "font": {
           "color": "#2a3f5f"
          },
          "geo": {
           "bgcolor": "white",
           "lakecolor": "white",
           "landcolor": "#E5ECF6",
           "showlakes": true,
           "showland": true,
           "subunitcolor": "white"
          },
          "hoverlabel": {
           "align": "left"
          },
          "hovermode": "closest",
          "mapbox": {
           "style": "light"
          },
          "paper_bgcolor": "white",
          "plot_bgcolor": "#E5ECF6",
          "polar": {
           "angularaxis": {
            "gridcolor": "white",
            "linecolor": "white",
            "ticks": ""
           },
           "bgcolor": "#E5ECF6",
           "radialaxis": {
            "gridcolor": "white",
            "linecolor": "white",
            "ticks": ""
           }
          },
          "scene": {
           "xaxis": {
            "backgroundcolor": "#E5ECF6",
            "gridcolor": "white",
            "gridwidth": 2,
            "linecolor": "white",
            "showbackground": true,
            "ticks": "",
            "zerolinecolor": "white"
           },
           "yaxis": {
            "backgroundcolor": "#E5ECF6",
            "gridcolor": "white",
            "gridwidth": 2,
            "linecolor": "white",
            "showbackground": true,
            "ticks": "",
            "zerolinecolor": "white"
           },
           "zaxis": {
            "backgroundcolor": "#E5ECF6",
            "gridcolor": "white",
            "gridwidth": 2,
            "linecolor": "white",
            "showbackground": true,
            "ticks": "",
            "zerolinecolor": "white"
           }
          },
          "shapedefaults": {
           "line": {
            "color": "#2a3f5f"
           }
          },
          "ternary": {
           "aaxis": {
            "gridcolor": "white",
            "linecolor": "white",
            "ticks": ""
           },
           "baxis": {
            "gridcolor": "white",
            "linecolor": "white",
            "ticks": ""
           },
           "bgcolor": "#E5ECF6",
           "caxis": {
            "gridcolor": "white",
            "linecolor": "white",
            "ticks": ""
           }
          },
          "title": {
           "x": 0.05
          },
          "xaxis": {
           "automargin": true,
           "gridcolor": "white",
           "linecolor": "white",
           "ticks": "",
           "title": {
            "standoff": 15
           },
           "zerolinecolor": "white",
           "zerolinewidth": 2
          },
          "yaxis": {
           "automargin": true,
           "gridcolor": "white",
           "linecolor": "white",
           "ticks": "",
           "title": {
            "standoff": 15
           },
           "zerolinecolor": "white",
           "zerolinewidth": 2
          }
         }
        },
        "title": {
         "text": "Gross Income by Product Line"
        },
        "xaxis": {
         "anchor": "y",
         "categoryarray": [
          "Food and beverages",
          "Sports and travel",
          "Electronic accessories",
          "Fashion accessories",
          "Home and lifestyle",
          "Health and beauty"
         ],
         "categoryorder": "array",
         "domain": [
          0,
          1
         ],
         "title": {
          "text": "Product line"
         }
        },
        "yaxis": {
         "anchor": "x",
         "domain": [
          0,
          1
         ],
         "title": {
          "text": "gross income"
         }
        }
       }
      }
     },
     "metadata": {},
     "output_type": "display_data"
    }
   ],
   "source": [
    "# Dataviz - Barchart\n",
    "# Gross Income by Product Line\n",
    "\n",
    "fig = px.bar(graph3, x= 'Product line', y= 'gross income', color= 'Product line', text_auto=True)\n",
    "\n",
    "fig.update_layout(\n",
    "    title='Gross Income by Product Line',\n",
    "    font=dict(size=15)\n",
    ")\n",
    "fig.show()"
   ]
  },
  {
   "cell_type": "markdown",
   "metadata": {},
   "source": [
    "Based from above charts, the key takeaways are:\n",
    "- `Most popular` Product line is `Electronic Accessories` while the `unpopular one is Health and beauty.`\n",
    "- Although placed on number 1, `Fashion accessories` placed at 3th in terms of generates `gross income.` \n",
    "- `Food and beverages` generates most gross income while `Health and beauty` generates the least."
   ]
  },
  {
   "cell_type": "markdown",
   "metadata": {},
   "source": [
    "### Gross Income by `Customer type & Gender`\n",
    "\n",
    "Let's get more closer look to our customer.\\\n",
    "How much did our customer spend in the last three months?"
   ]
  },
  {
   "cell_type": "code",
   "execution_count": 34,
   "metadata": {},
   "outputs": [
    {
     "data": {
      "text/html": [
       "<div>\n",
       "<style scoped>\n",
       "    .dataframe tbody tr th:only-of-type {\n",
       "        vertical-align: middle;\n",
       "    }\n",
       "\n",
       "    .dataframe tbody tr th {\n",
       "        vertical-align: top;\n",
       "    }\n",
       "\n",
       "    .dataframe thead th {\n",
       "        text-align: right;\n",
       "    }\n",
       "</style>\n",
       "<table border=\"1\" class=\"dataframe\">\n",
       "  <thead>\n",
       "    <tr style=\"text-align: right;\">\n",
       "      <th></th>\n",
       "      <th>Customer type</th>\n",
       "      <th>Gender</th>\n",
       "      <th>City</th>\n",
       "      <th>gross income</th>\n",
       "    </tr>\n",
       "  </thead>\n",
       "  <tbody>\n",
       "    <tr>\n",
       "      <th>0</th>\n",
       "      <td>Member</td>\n",
       "      <td>Female</td>\n",
       "      <td>261</td>\n",
       "      <td>4197.47</td>\n",
       "    </tr>\n",
       "    <tr>\n",
       "      <th>1</th>\n",
       "      <td>Member</td>\n",
       "      <td>Male</td>\n",
       "      <td>240</td>\n",
       "      <td>3622.69</td>\n",
       "    </tr>\n",
       "    <tr>\n",
       "      <th>2</th>\n",
       "      <td>Normal</td>\n",
       "      <td>Female</td>\n",
       "      <td>240</td>\n",
       "      <td>3796.95</td>\n",
       "    </tr>\n",
       "    <tr>\n",
       "      <th>3</th>\n",
       "      <td>Normal</td>\n",
       "      <td>Male</td>\n",
       "      <td>259</td>\n",
       "      <td>3762.25</td>\n",
       "    </tr>\n",
       "  </tbody>\n",
       "</table>\n",
       "</div>"
      ],
      "text/plain": [
       "  Customer type  Gender  City  gross income\n",
       "0        Member  Female   261       4197.47\n",
       "1        Member    Male   240       3622.69\n",
       "2        Normal  Female   240       3796.95\n",
       "3        Normal    Male   259       3762.25"
      ]
     },
     "execution_count": 34,
     "metadata": {},
     "output_type": "execute_result"
    }
   ],
   "source": [
    "# Dataset Preparation\n",
    "# Gross Income by `Cust. type & Gender`\n",
    "\n",
    "graph4 = df_cleaned.groupby([\"Customer type\", \"Gender\"]).agg({'City':'count', 'gross income':'sum'}).round(2)\n",
    "graph4 = pd.DataFrame(graph4).reset_index()\n",
    "graph4\n"
   ]
  },
  {
   "cell_type": "code",
   "execution_count": 35,
   "metadata": {},
   "outputs": [
    {
     "data": {
      "application/vnd.plotly.v1+json": {
       "config": {
        "plotlyServerURL": "https://plot.ly"
       },
       "data": [
        {
         "alignmentgroup": "True",
         "hovertemplate": "Gender=Female<br>Customer type=%{x}<br>gross income=%{y}<extra></extra>",
         "legendgroup": "Female",
         "marker": {
          "color": "#636efa",
          "pattern": {
           "shape": ""
          }
         },
         "name": "Female",
         "offsetgroup": "Female",
         "orientation": "v",
         "showlegend": true,
         "textposition": "auto",
         "texttemplate": "%{y}",
         "type": "bar",
         "x": [
          "Member",
          "Normal"
         ],
         "xaxis": "x",
         "y": [
          4197.47,
          3796.95
         ],
         "yaxis": "y"
        },
        {
         "alignmentgroup": "True",
         "hovertemplate": "Gender=Male<br>Customer type=%{x}<br>gross income=%{y}<extra></extra>",
         "legendgroup": "Male",
         "marker": {
          "color": "#EF553B",
          "pattern": {
           "shape": ""
          }
         },
         "name": "Male",
         "offsetgroup": "Male",
         "orientation": "v",
         "showlegend": true,
         "textposition": "auto",
         "texttemplate": "%{y}",
         "type": "bar",
         "x": [
          "Member",
          "Normal"
         ],
         "xaxis": "x",
         "y": [
          3622.69,
          3762.25
         ],
         "yaxis": "y"
        }
       ],
       "layout": {
        "barmode": "group",
        "font": {
         "size": 15
        },
        "legend": {
         "title": {
          "text": "Gender"
         },
         "tracegroupgap": 0
        },
        "margin": {
         "t": 60
        },
        "template": {
         "data": {
          "bar": [
           {
            "error_x": {
             "color": "#2a3f5f"
            },
            "error_y": {
             "color": "#2a3f5f"
            },
            "marker": {
             "line": {
              "color": "#E5ECF6",
              "width": 0.5
             },
             "pattern": {
              "fillmode": "overlay",
              "size": 10,
              "solidity": 0.2
             }
            },
            "type": "bar"
           }
          ],
          "barpolar": [
           {
            "marker": {
             "line": {
              "color": "#E5ECF6",
              "width": 0.5
             },
             "pattern": {
              "fillmode": "overlay",
              "size": 10,
              "solidity": 0.2
             }
            },
            "type": "barpolar"
           }
          ],
          "carpet": [
           {
            "aaxis": {
             "endlinecolor": "#2a3f5f",
             "gridcolor": "white",
             "linecolor": "white",
             "minorgridcolor": "white",
             "startlinecolor": "#2a3f5f"
            },
            "baxis": {
             "endlinecolor": "#2a3f5f",
             "gridcolor": "white",
             "linecolor": "white",
             "minorgridcolor": "white",
             "startlinecolor": "#2a3f5f"
            },
            "type": "carpet"
           }
          ],
          "choropleth": [
           {
            "colorbar": {
             "outlinewidth": 0,
             "ticks": ""
            },
            "type": "choropleth"
           }
          ],
          "contour": [
           {
            "colorbar": {
             "outlinewidth": 0,
             "ticks": ""
            },
            "colorscale": [
             [
              0,
              "#0d0887"
             ],
             [
              0.1111111111111111,
              "#46039f"
             ],
             [
              0.2222222222222222,
              "#7201a8"
             ],
             [
              0.3333333333333333,
              "#9c179e"
             ],
             [
              0.4444444444444444,
              "#bd3786"
             ],
             [
              0.5555555555555556,
              "#d8576b"
             ],
             [
              0.6666666666666666,
              "#ed7953"
             ],
             [
              0.7777777777777778,
              "#fb9f3a"
             ],
             [
              0.8888888888888888,
              "#fdca26"
             ],
             [
              1,
              "#f0f921"
             ]
            ],
            "type": "contour"
           }
          ],
          "contourcarpet": [
           {
            "colorbar": {
             "outlinewidth": 0,
             "ticks": ""
            },
            "type": "contourcarpet"
           }
          ],
          "heatmap": [
           {
            "colorbar": {
             "outlinewidth": 0,
             "ticks": ""
            },
            "colorscale": [
             [
              0,
              "#0d0887"
             ],
             [
              0.1111111111111111,
              "#46039f"
             ],
             [
              0.2222222222222222,
              "#7201a8"
             ],
             [
              0.3333333333333333,
              "#9c179e"
             ],
             [
              0.4444444444444444,
              "#bd3786"
             ],
             [
              0.5555555555555556,
              "#d8576b"
             ],
             [
              0.6666666666666666,
              "#ed7953"
             ],
             [
              0.7777777777777778,
              "#fb9f3a"
             ],
             [
              0.8888888888888888,
              "#fdca26"
             ],
             [
              1,
              "#f0f921"
             ]
            ],
            "type": "heatmap"
           }
          ],
          "heatmapgl": [
           {
            "colorbar": {
             "outlinewidth": 0,
             "ticks": ""
            },
            "colorscale": [
             [
              0,
              "#0d0887"
             ],
             [
              0.1111111111111111,
              "#46039f"
             ],
             [
              0.2222222222222222,
              "#7201a8"
             ],
             [
              0.3333333333333333,
              "#9c179e"
             ],
             [
              0.4444444444444444,
              "#bd3786"
             ],
             [
              0.5555555555555556,
              "#d8576b"
             ],
             [
              0.6666666666666666,
              "#ed7953"
             ],
             [
              0.7777777777777778,
              "#fb9f3a"
             ],
             [
              0.8888888888888888,
              "#fdca26"
             ],
             [
              1,
              "#f0f921"
             ]
            ],
            "type": "heatmapgl"
           }
          ],
          "histogram": [
           {
            "marker": {
             "pattern": {
              "fillmode": "overlay",
              "size": 10,
              "solidity": 0.2
             }
            },
            "type": "histogram"
           }
          ],
          "histogram2d": [
           {
            "colorbar": {
             "outlinewidth": 0,
             "ticks": ""
            },
            "colorscale": [
             [
              0,
              "#0d0887"
             ],
             [
              0.1111111111111111,
              "#46039f"
             ],
             [
              0.2222222222222222,
              "#7201a8"
             ],
             [
              0.3333333333333333,
              "#9c179e"
             ],
             [
              0.4444444444444444,
              "#bd3786"
             ],
             [
              0.5555555555555556,
              "#d8576b"
             ],
             [
              0.6666666666666666,
              "#ed7953"
             ],
             [
              0.7777777777777778,
              "#fb9f3a"
             ],
             [
              0.8888888888888888,
              "#fdca26"
             ],
             [
              1,
              "#f0f921"
             ]
            ],
            "type": "histogram2d"
           }
          ],
          "histogram2dcontour": [
           {
            "colorbar": {
             "outlinewidth": 0,
             "ticks": ""
            },
            "colorscale": [
             [
              0,
              "#0d0887"
             ],
             [
              0.1111111111111111,
              "#46039f"
             ],
             [
              0.2222222222222222,
              "#7201a8"
             ],
             [
              0.3333333333333333,
              "#9c179e"
             ],
             [
              0.4444444444444444,
              "#bd3786"
             ],
             [
              0.5555555555555556,
              "#d8576b"
             ],
             [
              0.6666666666666666,
              "#ed7953"
             ],
             [
              0.7777777777777778,
              "#fb9f3a"
             ],
             [
              0.8888888888888888,
              "#fdca26"
             ],
             [
              1,
              "#f0f921"
             ]
            ],
            "type": "histogram2dcontour"
           }
          ],
          "mesh3d": [
           {
            "colorbar": {
             "outlinewidth": 0,
             "ticks": ""
            },
            "type": "mesh3d"
           }
          ],
          "parcoords": [
           {
            "line": {
             "colorbar": {
              "outlinewidth": 0,
              "ticks": ""
             }
            },
            "type": "parcoords"
           }
          ],
          "pie": [
           {
            "automargin": true,
            "type": "pie"
           }
          ],
          "scatter": [
           {
            "marker": {
             "colorbar": {
              "outlinewidth": 0,
              "ticks": ""
             }
            },
            "type": "scatter"
           }
          ],
          "scatter3d": [
           {
            "line": {
             "colorbar": {
              "outlinewidth": 0,
              "ticks": ""
             }
            },
            "marker": {
             "colorbar": {
              "outlinewidth": 0,
              "ticks": ""
             }
            },
            "type": "scatter3d"
           }
          ],
          "scattercarpet": [
           {
            "marker": {
             "colorbar": {
              "outlinewidth": 0,
              "ticks": ""
             }
            },
            "type": "scattercarpet"
           }
          ],
          "scattergeo": [
           {
            "marker": {
             "colorbar": {
              "outlinewidth": 0,
              "ticks": ""
             }
            },
            "type": "scattergeo"
           }
          ],
          "scattergl": [
           {
            "marker": {
             "colorbar": {
              "outlinewidth": 0,
              "ticks": ""
             }
            },
            "type": "scattergl"
           }
          ],
          "scattermapbox": [
           {
            "marker": {
             "colorbar": {
              "outlinewidth": 0,
              "ticks": ""
             }
            },
            "type": "scattermapbox"
           }
          ],
          "scatterpolar": [
           {
            "marker": {
             "colorbar": {
              "outlinewidth": 0,
              "ticks": ""
             }
            },
            "type": "scatterpolar"
           }
          ],
          "scatterpolargl": [
           {
            "marker": {
             "colorbar": {
              "outlinewidth": 0,
              "ticks": ""
             }
            },
            "type": "scatterpolargl"
           }
          ],
          "scatterternary": [
           {
            "marker": {
             "colorbar": {
              "outlinewidth": 0,
              "ticks": ""
             }
            },
            "type": "scatterternary"
           }
          ],
          "surface": [
           {
            "colorbar": {
             "outlinewidth": 0,
             "ticks": ""
            },
            "colorscale": [
             [
              0,
              "#0d0887"
             ],
             [
              0.1111111111111111,
              "#46039f"
             ],
             [
              0.2222222222222222,
              "#7201a8"
             ],
             [
              0.3333333333333333,
              "#9c179e"
             ],
             [
              0.4444444444444444,
              "#bd3786"
             ],
             [
              0.5555555555555556,
              "#d8576b"
             ],
             [
              0.6666666666666666,
              "#ed7953"
             ],
             [
              0.7777777777777778,
              "#fb9f3a"
             ],
             [
              0.8888888888888888,
              "#fdca26"
             ],
             [
              1,
              "#f0f921"
             ]
            ],
            "type": "surface"
           }
          ],
          "table": [
           {
            "cells": {
             "fill": {
              "color": "#EBF0F8"
             },
             "line": {
              "color": "white"
             }
            },
            "header": {
             "fill": {
              "color": "#C8D4E3"
             },
             "line": {
              "color": "white"
             }
            },
            "type": "table"
           }
          ]
         },
         "layout": {
          "annotationdefaults": {
           "arrowcolor": "#2a3f5f",
           "arrowhead": 0,
           "arrowwidth": 1
          },
          "autotypenumbers": "strict",
          "coloraxis": {
           "colorbar": {
            "outlinewidth": 0,
            "ticks": ""
           }
          },
          "colorscale": {
           "diverging": [
            [
             0,
             "#8e0152"
            ],
            [
             0.1,
             "#c51b7d"
            ],
            [
             0.2,
             "#de77ae"
            ],
            [
             0.3,
             "#f1b6da"
            ],
            [
             0.4,
             "#fde0ef"
            ],
            [
             0.5,
             "#f7f7f7"
            ],
            [
             0.6,
             "#e6f5d0"
            ],
            [
             0.7,
             "#b8e186"
            ],
            [
             0.8,
             "#7fbc41"
            ],
            [
             0.9,
             "#4d9221"
            ],
            [
             1,
             "#276419"
            ]
           ],
           "sequential": [
            [
             0,
             "#0d0887"
            ],
            [
             0.1111111111111111,
             "#46039f"
            ],
            [
             0.2222222222222222,
             "#7201a8"
            ],
            [
             0.3333333333333333,
             "#9c179e"
            ],
            [
             0.4444444444444444,
             "#bd3786"
            ],
            [
             0.5555555555555556,
             "#d8576b"
            ],
            [
             0.6666666666666666,
             "#ed7953"
            ],
            [
             0.7777777777777778,
             "#fb9f3a"
            ],
            [
             0.8888888888888888,
             "#fdca26"
            ],
            [
             1,
             "#f0f921"
            ]
           ],
           "sequentialminus": [
            [
             0,
             "#0d0887"
            ],
            [
             0.1111111111111111,
             "#46039f"
            ],
            [
             0.2222222222222222,
             "#7201a8"
            ],
            [
             0.3333333333333333,
             "#9c179e"
            ],
            [
             0.4444444444444444,
             "#bd3786"
            ],
            [
             0.5555555555555556,
             "#d8576b"
            ],
            [
             0.6666666666666666,
             "#ed7953"
            ],
            [
             0.7777777777777778,
             "#fb9f3a"
            ],
            [
             0.8888888888888888,
             "#fdca26"
            ],
            [
             1,
             "#f0f921"
            ]
           ]
          },
          "colorway": [
           "#636efa",
           "#EF553B",
           "#00cc96",
           "#ab63fa",
           "#FFA15A",
           "#19d3f3",
           "#FF6692",
           "#B6E880",
           "#FF97FF",
           "#FECB52"
          ],
          "font": {
           "color": "#2a3f5f"
          },
          "geo": {
           "bgcolor": "white",
           "lakecolor": "white",
           "landcolor": "#E5ECF6",
           "showlakes": true,
           "showland": true,
           "subunitcolor": "white"
          },
          "hoverlabel": {
           "align": "left"
          },
          "hovermode": "closest",
          "mapbox": {
           "style": "light"
          },
          "paper_bgcolor": "white",
          "plot_bgcolor": "#E5ECF6",
          "polar": {
           "angularaxis": {
            "gridcolor": "white",
            "linecolor": "white",
            "ticks": ""
           },
           "bgcolor": "#E5ECF6",
           "radialaxis": {
            "gridcolor": "white",
            "linecolor": "white",
            "ticks": ""
           }
          },
          "scene": {
           "xaxis": {
            "backgroundcolor": "#E5ECF6",
            "gridcolor": "white",
            "gridwidth": 2,
            "linecolor": "white",
            "showbackground": true,
            "ticks": "",
            "zerolinecolor": "white"
           },
           "yaxis": {
            "backgroundcolor": "#E5ECF6",
            "gridcolor": "white",
            "gridwidth": 2,
            "linecolor": "white",
            "showbackground": true,
            "ticks": "",
            "zerolinecolor": "white"
           },
           "zaxis": {
            "backgroundcolor": "#E5ECF6",
            "gridcolor": "white",
            "gridwidth": 2,
            "linecolor": "white",
            "showbackground": true,
            "ticks": "",
            "zerolinecolor": "white"
           }
          },
          "shapedefaults": {
           "line": {
            "color": "#2a3f5f"
           }
          },
          "ternary": {
           "aaxis": {
            "gridcolor": "white",
            "linecolor": "white",
            "ticks": ""
           },
           "baxis": {
            "gridcolor": "white",
            "linecolor": "white",
            "ticks": ""
           },
           "bgcolor": "#E5ECF6",
           "caxis": {
            "gridcolor": "white",
            "linecolor": "white",
            "ticks": ""
           }
          },
          "title": {
           "x": 0.05
          },
          "xaxis": {
           "automargin": true,
           "gridcolor": "white",
           "linecolor": "white",
           "ticks": "",
           "title": {
            "standoff": 15
           },
           "zerolinecolor": "white",
           "zerolinewidth": 2
          },
          "yaxis": {
           "automargin": true,
           "gridcolor": "white",
           "linecolor": "white",
           "ticks": "",
           "title": {
            "standoff": 15
           },
           "zerolinecolor": "white",
           "zerolinewidth": 2
          }
         }
        },
        "title": {
         "text": "Gross Income by \"Customer type & Gender\""
        },
        "xaxis": {
         "anchor": "y",
         "domain": [
          0,
          1
         ],
         "title": {
          "text": "Customer type"
         }
        },
        "yaxis": {
         "anchor": "x",
         "domain": [
          0,
          1
         ],
         "title": {
          "text": "gross income"
         }
        }
       }
      }
     },
     "metadata": {},
     "output_type": "display_data"
    }
   ],
   "source": [
    "# Dataviz - Barchart\n",
    "# Gross Income by `Cust. type & Gender`\n",
    "\n",
    "fig = px.bar(graph4, x= 'Customer type', y= 'gross income', barmode='group', text_auto=True, color='Gender')\n",
    "\n",
    "fig.update_layout(\n",
    "    title='Gross Income by \"Customer type & Gender\"',\n",
    "    font=dict(size=15)\n",
    ")\n",
    "fig.show()\n"
   ]
  },
  {
   "cell_type": "markdown",
   "metadata": {},
   "source": [
    "from result above, We know that our most valuable customer is `Female-Member`, because they generate a total of `$ 4197.47` gross income for our company in the last three months.\n",
    "Also, `Female` customer count is `slightly` higher than `Male` customer count. "
   ]
  },
  {
   "cell_type": "markdown",
   "metadata": {},
   "source": [
    "### Where Does the Money Goes?\n",
    "\n",
    "We know `Female` customer plays a good part for our company in terms of `gross income` generation.\\\n",
    "But, don't you want to know where their money goes? Of course to our revenue stream. (jokes intended)\n",
    "\n",
    "Let's see where their money goes."
   ]
  },
  {
   "cell_type": "code",
   "execution_count": 36,
   "metadata": {},
   "outputs": [
    {
     "data": {
      "text/html": [
       "<div>\n",
       "<style scoped>\n",
       "    .dataframe tbody tr th:only-of-type {\n",
       "        vertical-align: middle;\n",
       "    }\n",
       "\n",
       "    .dataframe tbody tr th {\n",
       "        vertical-align: top;\n",
       "    }\n",
       "\n",
       "    .dataframe thead th {\n",
       "        text-align: right;\n",
       "    }\n",
       "</style>\n",
       "<table border=\"1\" class=\"dataframe\">\n",
       "  <thead>\n",
       "    <tr style=\"text-align: right;\">\n",
       "      <th></th>\n",
       "      <th>Customer type</th>\n",
       "      <th>Gender</th>\n",
       "      <th>Product line</th>\n",
       "      <th>gross income</th>\n",
       "    </tr>\n",
       "  </thead>\n",
       "  <tbody>\n",
       "    <tr>\n",
       "      <th>0</th>\n",
       "      <td>Member</td>\n",
       "      <td>Female</td>\n",
       "      <td>Electronic accessories</td>\n",
       "      <td>531.12</td>\n",
       "    </tr>\n",
       "    <tr>\n",
       "      <th>1</th>\n",
       "      <td>Member</td>\n",
       "      <td>Female</td>\n",
       "      <td>Fashion accessories</td>\n",
       "      <td>720.13</td>\n",
       "    </tr>\n",
       "    <tr>\n",
       "      <th>2</th>\n",
       "      <td>Member</td>\n",
       "      <td>Female</td>\n",
       "      <td>Food and beverages</td>\n",
       "      <td>933.28</td>\n",
       "    </tr>\n",
       "    <tr>\n",
       "      <th>3</th>\n",
       "      <td>Member</td>\n",
       "      <td>Female</td>\n",
       "      <td>Health and beauty</td>\n",
       "      <td>399.02</td>\n",
       "    </tr>\n",
       "    <tr>\n",
       "      <th>4</th>\n",
       "      <td>Member</td>\n",
       "      <td>Female</td>\n",
       "      <td>Home and lifestyle</td>\n",
       "      <td>820.68</td>\n",
       "    </tr>\n",
       "  </tbody>\n",
       "</table>\n",
       "</div>"
      ],
      "text/plain": [
       "  Customer type  Gender            Product line  gross income\n",
       "0        Member  Female  Electronic accessories        531.12\n",
       "1        Member  Female     Fashion accessories        720.13\n",
       "2        Member  Female      Food and beverages        933.28\n",
       "3        Member  Female       Health and beauty        399.02\n",
       "4        Member  Female      Home and lifestyle        820.68"
      ]
     },
     "execution_count": 36,
     "metadata": {},
     "output_type": "execute_result"
    }
   ],
   "source": [
    "# Dataset Preparation\n",
    "# Where our customer spend their money on?\n",
    "\n",
    "graph5 = df_cleaned.groupby(['Customer type', 'Gender', 'Product line'])['gross income'].sum().round(2)\n",
    "graph5 = pd.DataFrame(graph5).reset_index()\n",
    "graph5.head()"
   ]
  },
  {
   "cell_type": "code",
   "execution_count": 37,
   "metadata": {},
   "outputs": [
    {
     "data": {
      "application/vnd.plotly.v1+json": {
       "config": {
        "plotlyServerURL": "https://plot.ly"
       },
       "data": [
        {
         "branchvalues": "total",
         "customdata": [
          [
           "Electronic accessories"
          ],
          [
           "Health and beauty"
          ],
          [
           "Home and lifestyle"
          ],
          [
           "Fashion accessories"
          ],
          [
           "Health and beauty"
          ],
          [
           "Fashion accessories"
          ],
          [
           "Home and lifestyle"
          ],
          [
           "Electronic accessories"
          ],
          [
           "Food and beverages"
          ],
          [
           "Electronic accessories"
          ],
          [
           "Health and beauty"
          ],
          [
           "Sports and travel"
          ],
          [
           "Electronic accessories"
          ],
          [
           "Health and beauty"
          ],
          [
           "Sports and travel"
          ],
          [
           "Food and beverages"
          ],
          [
           "Fashion accessories"
          ],
          [
           "Food and beverages"
          ],
          [
           "Sports and travel"
          ],
          [
           "Home and lifestyle"
          ],
          [
           "Food and beverages"
          ],
          [
           "Fashion accessories"
          ],
          [
           "Home and lifestyle"
          ],
          [
           "Sports and travel"
          ],
          [
           "(?)"
          ],
          [
           "(?)"
          ],
          [
           "(?)"
          ],
          [
           "(?)"
          ],
          [
           "(?)"
          ],
          [
           "(?)"
          ],
          [
           "(?)"
          ]
         ],
         "domain": {
          "x": [
           0,
           1
          ],
          "y": [
           0,
           1
          ]
         },
         "hovertemplate": "labels=%{label}<br>gross income=%{value}<br>parent=%{parent}<br>id=%{id}<br>Product line=%{customdata[0]}<extra></extra>",
         "ids": [
          "all/Member/Female/Electronic accessories",
          "all/Member/Female/Health and beauty",
          "all/Member/Male/Home and lifestyle",
          "all/Member/Male/Fashion accessories",
          "all/Normal/Female/Health and beauty",
          "all/Normal/Male/Fashion accessories",
          "all/Normal/Male/Home and lifestyle",
          "all/Normal/Female/Electronic accessories",
          "all/Member/Female/Food and beverages",
          "all/Member/Male/Electronic accessories",
          "all/Member/Male/Health and beauty",
          "all/Member/Female/Sports and travel",
          "all/Normal/Male/Electronic accessories",
          "all/Normal/Male/Health and beauty",
          "all/Normal/Female/Sports and travel",
          "all/Normal/Female/Food and beverages",
          "all/Member/Female/Fashion accessories",
          "all/Member/Male/Food and beverages",
          "all/Member/Male/Sports and travel",
          "all/Member/Female/Home and lifestyle",
          "all/Normal/Male/Food and beverages",
          "all/Normal/Female/Fashion accessories",
          "all/Normal/Female/Home and lifestyle",
          "all/Normal/Male/Sports and travel",
          "all/Member/Female",
          "all/Normal/Female",
          "all/Member/Male",
          "all/Normal/Male",
          "all/Member",
          "all/Normal",
          "all"
         ],
         "labels": [
          "Electronic accessories",
          "Health and beauty",
          "Home and lifestyle",
          "Fashion accessories",
          "Health and beauty",
          "Fashion accessories",
          "Home and lifestyle",
          "Electronic accessories",
          "Food and beverages",
          "Electronic accessories",
          "Health and beauty",
          "Sports and travel",
          "Electronic accessories",
          "Health and beauty",
          "Sports and travel",
          "Food and beverages",
          "Fashion accessories",
          "Food and beverages",
          "Sports and travel",
          "Home and lifestyle",
          "Food and beverages",
          "Fashion accessories",
          "Home and lifestyle",
          "Sports and travel",
          "Female",
          "Female",
          "Male",
          "Male",
          "Member",
          "Normal",
          "all"
         ],
         "marker": {
          "colors": [
           "#636efa",
           "#EF553B",
           "#00cc96",
           "#ab63fa",
           "#EF553B",
           "#ab63fa",
           "#00cc96",
           "#636efa",
           "#FFA15A",
           "#636efa",
           "#EF553B",
           "#19d3f3",
           "#636efa",
           "#EF553B",
           "#19d3f3",
           "#FFA15A",
           "#ab63fa",
           "#FFA15A",
           "#19d3f3",
           "#00cc96",
           "#FFA15A",
           "#ab63fa",
           "#00cc96",
           "#19d3f3",
           "#FF6692",
           "#FF6692",
           "#FF6692",
           "#FF6692",
           "#FF6692",
           "#FF6692",
           "#FF6692"
          ]
         },
         "name": "",
         "parents": [
          "all/Member/Female",
          "all/Member/Female",
          "all/Member/Male",
          "all/Member/Male",
          "all/Normal/Female",
          "all/Normal/Male",
          "all/Normal/Male",
          "all/Normal/Female",
          "all/Member/Female",
          "all/Member/Male",
          "all/Member/Male",
          "all/Member/Female",
          "all/Normal/Male",
          "all/Normal/Male",
          "all/Normal/Female",
          "all/Normal/Female",
          "all/Member/Female",
          "all/Member/Male",
          "all/Member/Male",
          "all/Member/Female",
          "all/Normal/Male",
          "all/Normal/Female",
          "all/Normal/Female",
          "all/Normal/Male",
          "all/Member",
          "all/Normal",
          "all/Member",
          "all/Normal",
          "all",
          "all",
          ""
         ],
         "type": "icicle",
         "values": [
          531.12,
          399.02,
          511.6,
          533.4,
          484.84,
          603.2,
          622.92,
          759.45,
          933.28,
          635.47,
          831.03,
          793.25,
          661.46,
          627.67,
          567.45,
          646.29,
          720.13,
          559.94,
          551.24,
          820.68,
          534.05,
          729.27,
          609.65,
          712.95,
          4197.48,
          3796.95,
          3622.6800000000003,
          3762.25,
          7820.16,
          7559.2,
          15379.36
         ]
        }
       ],
       "layout": {
        "legend": {
         "tracegroupgap": 0
        },
        "margin": {
         "b": 10,
         "l": 10,
         "r": 50,
         "t": 30
        },
        "template": {
         "data": {
          "bar": [
           {
            "error_x": {
             "color": "#2a3f5f"
            },
            "error_y": {
             "color": "#2a3f5f"
            },
            "marker": {
             "line": {
              "color": "#E5ECF6",
              "width": 0.5
             },
             "pattern": {
              "fillmode": "overlay",
              "size": 10,
              "solidity": 0.2
             }
            },
            "type": "bar"
           }
          ],
          "barpolar": [
           {
            "marker": {
             "line": {
              "color": "#E5ECF6",
              "width": 0.5
             },
             "pattern": {
              "fillmode": "overlay",
              "size": 10,
              "solidity": 0.2
             }
            },
            "type": "barpolar"
           }
          ],
          "carpet": [
           {
            "aaxis": {
             "endlinecolor": "#2a3f5f",
             "gridcolor": "white",
             "linecolor": "white",
             "minorgridcolor": "white",
             "startlinecolor": "#2a3f5f"
            },
            "baxis": {
             "endlinecolor": "#2a3f5f",
             "gridcolor": "white",
             "linecolor": "white",
             "minorgridcolor": "white",
             "startlinecolor": "#2a3f5f"
            },
            "type": "carpet"
           }
          ],
          "choropleth": [
           {
            "colorbar": {
             "outlinewidth": 0,
             "ticks": ""
            },
            "type": "choropleth"
           }
          ],
          "contour": [
           {
            "colorbar": {
             "outlinewidth": 0,
             "ticks": ""
            },
            "colorscale": [
             [
              0,
              "#0d0887"
             ],
             [
              0.1111111111111111,
              "#46039f"
             ],
             [
              0.2222222222222222,
              "#7201a8"
             ],
             [
              0.3333333333333333,
              "#9c179e"
             ],
             [
              0.4444444444444444,
              "#bd3786"
             ],
             [
              0.5555555555555556,
              "#d8576b"
             ],
             [
              0.6666666666666666,
              "#ed7953"
             ],
             [
              0.7777777777777778,
              "#fb9f3a"
             ],
             [
              0.8888888888888888,
              "#fdca26"
             ],
             [
              1,
              "#f0f921"
             ]
            ],
            "type": "contour"
           }
          ],
          "contourcarpet": [
           {
            "colorbar": {
             "outlinewidth": 0,
             "ticks": ""
            },
            "type": "contourcarpet"
           }
          ],
          "heatmap": [
           {
            "colorbar": {
             "outlinewidth": 0,
             "ticks": ""
            },
            "colorscale": [
             [
              0,
              "#0d0887"
             ],
             [
              0.1111111111111111,
              "#46039f"
             ],
             [
              0.2222222222222222,
              "#7201a8"
             ],
             [
              0.3333333333333333,
              "#9c179e"
             ],
             [
              0.4444444444444444,
              "#bd3786"
             ],
             [
              0.5555555555555556,
              "#d8576b"
             ],
             [
              0.6666666666666666,
              "#ed7953"
             ],
             [
              0.7777777777777778,
              "#fb9f3a"
             ],
             [
              0.8888888888888888,
              "#fdca26"
             ],
             [
              1,
              "#f0f921"
             ]
            ],
            "type": "heatmap"
           }
          ],
          "heatmapgl": [
           {
            "colorbar": {
             "outlinewidth": 0,
             "ticks": ""
            },
            "colorscale": [
             [
              0,
              "#0d0887"
             ],
             [
              0.1111111111111111,
              "#46039f"
             ],
             [
              0.2222222222222222,
              "#7201a8"
             ],
             [
              0.3333333333333333,
              "#9c179e"
             ],
             [
              0.4444444444444444,
              "#bd3786"
             ],
             [
              0.5555555555555556,
              "#d8576b"
             ],
             [
              0.6666666666666666,
              "#ed7953"
             ],
             [
              0.7777777777777778,
              "#fb9f3a"
             ],
             [
              0.8888888888888888,
              "#fdca26"
             ],
             [
              1,
              "#f0f921"
             ]
            ],
            "type": "heatmapgl"
           }
          ],
          "histogram": [
           {
            "marker": {
             "pattern": {
              "fillmode": "overlay",
              "size": 10,
              "solidity": 0.2
             }
            },
            "type": "histogram"
           }
          ],
          "histogram2d": [
           {
            "colorbar": {
             "outlinewidth": 0,
             "ticks": ""
            },
            "colorscale": [
             [
              0,
              "#0d0887"
             ],
             [
              0.1111111111111111,
              "#46039f"
             ],
             [
              0.2222222222222222,
              "#7201a8"
             ],
             [
              0.3333333333333333,
              "#9c179e"
             ],
             [
              0.4444444444444444,
              "#bd3786"
             ],
             [
              0.5555555555555556,
              "#d8576b"
             ],
             [
              0.6666666666666666,
              "#ed7953"
             ],
             [
              0.7777777777777778,
              "#fb9f3a"
             ],
             [
              0.8888888888888888,
              "#fdca26"
             ],
             [
              1,
              "#f0f921"
             ]
            ],
            "type": "histogram2d"
           }
          ],
          "histogram2dcontour": [
           {
            "colorbar": {
             "outlinewidth": 0,
             "ticks": ""
            },
            "colorscale": [
             [
              0,
              "#0d0887"
             ],
             [
              0.1111111111111111,
              "#46039f"
             ],
             [
              0.2222222222222222,
              "#7201a8"
             ],
             [
              0.3333333333333333,
              "#9c179e"
             ],
             [
              0.4444444444444444,
              "#bd3786"
             ],
             [
              0.5555555555555556,
              "#d8576b"
             ],
             [
              0.6666666666666666,
              "#ed7953"
             ],
             [
              0.7777777777777778,
              "#fb9f3a"
             ],
             [
              0.8888888888888888,
              "#fdca26"
             ],
             [
              1,
              "#f0f921"
             ]
            ],
            "type": "histogram2dcontour"
           }
          ],
          "mesh3d": [
           {
            "colorbar": {
             "outlinewidth": 0,
             "ticks": ""
            },
            "type": "mesh3d"
           }
          ],
          "parcoords": [
           {
            "line": {
             "colorbar": {
              "outlinewidth": 0,
              "ticks": ""
             }
            },
            "type": "parcoords"
           }
          ],
          "pie": [
           {
            "automargin": true,
            "type": "pie"
           }
          ],
          "scatter": [
           {
            "marker": {
             "colorbar": {
              "outlinewidth": 0,
              "ticks": ""
             }
            },
            "type": "scatter"
           }
          ],
          "scatter3d": [
           {
            "line": {
             "colorbar": {
              "outlinewidth": 0,
              "ticks": ""
             }
            },
            "marker": {
             "colorbar": {
              "outlinewidth": 0,
              "ticks": ""
             }
            },
            "type": "scatter3d"
           }
          ],
          "scattercarpet": [
           {
            "marker": {
             "colorbar": {
              "outlinewidth": 0,
              "ticks": ""
             }
            },
            "type": "scattercarpet"
           }
          ],
          "scattergeo": [
           {
            "marker": {
             "colorbar": {
              "outlinewidth": 0,
              "ticks": ""
             }
            },
            "type": "scattergeo"
           }
          ],
          "scattergl": [
           {
            "marker": {
             "colorbar": {
              "outlinewidth": 0,
              "ticks": ""
             }
            },
            "type": "scattergl"
           }
          ],
          "scattermapbox": [
           {
            "marker": {
             "colorbar": {
              "outlinewidth": 0,
              "ticks": ""
             }
            },
            "type": "scattermapbox"
           }
          ],
          "scatterpolar": [
           {
            "marker": {
             "colorbar": {
              "outlinewidth": 0,
              "ticks": ""
             }
            },
            "type": "scatterpolar"
           }
          ],
          "scatterpolargl": [
           {
            "marker": {
             "colorbar": {
              "outlinewidth": 0,
              "ticks": ""
             }
            },
            "type": "scatterpolargl"
           }
          ],
          "scatterternary": [
           {
            "marker": {
             "colorbar": {
              "outlinewidth": 0,
              "ticks": ""
             }
            },
            "type": "scatterternary"
           }
          ],
          "surface": [
           {
            "colorbar": {
             "outlinewidth": 0,
             "ticks": ""
            },
            "colorscale": [
             [
              0,
              "#0d0887"
             ],
             [
              0.1111111111111111,
              "#46039f"
             ],
             [
              0.2222222222222222,
              "#7201a8"
             ],
             [
              0.3333333333333333,
              "#9c179e"
             ],
             [
              0.4444444444444444,
              "#bd3786"
             ],
             [
              0.5555555555555556,
              "#d8576b"
             ],
             [
              0.6666666666666666,
              "#ed7953"
             ],
             [
              0.7777777777777778,
              "#fb9f3a"
             ],
             [
              0.8888888888888888,
              "#fdca26"
             ],
             [
              1,
              "#f0f921"
             ]
            ],
            "type": "surface"
           }
          ],
          "table": [
           {
            "cells": {
             "fill": {
              "color": "#EBF0F8"
             },
             "line": {
              "color": "white"
             }
            },
            "header": {
             "fill": {
              "color": "#C8D4E3"
             },
             "line": {
              "color": "white"
             }
            },
            "type": "table"
           }
          ]
         },
         "layout": {
          "annotationdefaults": {
           "arrowcolor": "#2a3f5f",
           "arrowhead": 0,
           "arrowwidth": 1
          },
          "autotypenumbers": "strict",
          "coloraxis": {
           "colorbar": {
            "outlinewidth": 0,
            "ticks": ""
           }
          },
          "colorscale": {
           "diverging": [
            [
             0,
             "#8e0152"
            ],
            [
             0.1,
             "#c51b7d"
            ],
            [
             0.2,
             "#de77ae"
            ],
            [
             0.3,
             "#f1b6da"
            ],
            [
             0.4,
             "#fde0ef"
            ],
            [
             0.5,
             "#f7f7f7"
            ],
            [
             0.6,
             "#e6f5d0"
            ],
            [
             0.7,
             "#b8e186"
            ],
            [
             0.8,
             "#7fbc41"
            ],
            [
             0.9,
             "#4d9221"
            ],
            [
             1,
             "#276419"
            ]
           ],
           "sequential": [
            [
             0,
             "#0d0887"
            ],
            [
             0.1111111111111111,
             "#46039f"
            ],
            [
             0.2222222222222222,
             "#7201a8"
            ],
            [
             0.3333333333333333,
             "#9c179e"
            ],
            [
             0.4444444444444444,
             "#bd3786"
            ],
            [
             0.5555555555555556,
             "#d8576b"
            ],
            [
             0.6666666666666666,
             "#ed7953"
            ],
            [
             0.7777777777777778,
             "#fb9f3a"
            ],
            [
             0.8888888888888888,
             "#fdca26"
            ],
            [
             1,
             "#f0f921"
            ]
           ],
           "sequentialminus": [
            [
             0,
             "#0d0887"
            ],
            [
             0.1111111111111111,
             "#46039f"
            ],
            [
             0.2222222222222222,
             "#7201a8"
            ],
            [
             0.3333333333333333,
             "#9c179e"
            ],
            [
             0.4444444444444444,
             "#bd3786"
            ],
            [
             0.5555555555555556,
             "#d8576b"
            ],
            [
             0.6666666666666666,
             "#ed7953"
            ],
            [
             0.7777777777777778,
             "#fb9f3a"
            ],
            [
             0.8888888888888888,
             "#fdca26"
            ],
            [
             1,
             "#f0f921"
            ]
           ]
          },
          "colorway": [
           "#636efa",
           "#EF553B",
           "#00cc96",
           "#ab63fa",
           "#FFA15A",
           "#19d3f3",
           "#FF6692",
           "#B6E880",
           "#FF97FF",
           "#FECB52"
          ],
          "font": {
           "color": "#2a3f5f"
          },
          "geo": {
           "bgcolor": "white",
           "lakecolor": "white",
           "landcolor": "#E5ECF6",
           "showlakes": true,
           "showland": true,
           "subunitcolor": "white"
          },
          "hoverlabel": {
           "align": "left"
          },
          "hovermode": "closest",
          "mapbox": {
           "style": "light"
          },
          "paper_bgcolor": "white",
          "plot_bgcolor": "#E5ECF6",
          "polar": {
           "angularaxis": {
            "gridcolor": "white",
            "linecolor": "white",
            "ticks": ""
           },
           "bgcolor": "#E5ECF6",
           "radialaxis": {
            "gridcolor": "white",
            "linecolor": "white",
            "ticks": ""
           }
          },
          "scene": {
           "xaxis": {
            "backgroundcolor": "#E5ECF6",
            "gridcolor": "white",
            "gridwidth": 2,
            "linecolor": "white",
            "showbackground": true,
            "ticks": "",
            "zerolinecolor": "white"
           },
           "yaxis": {
            "backgroundcolor": "#E5ECF6",
            "gridcolor": "white",
            "gridwidth": 2,
            "linecolor": "white",
            "showbackground": true,
            "ticks": "",
            "zerolinecolor": "white"
           },
           "zaxis": {
            "backgroundcolor": "#E5ECF6",
            "gridcolor": "white",
            "gridwidth": 2,
            "linecolor": "white",
            "showbackground": true,
            "ticks": "",
            "zerolinecolor": "white"
           }
          },
          "shapedefaults": {
           "line": {
            "color": "#2a3f5f"
           }
          },
          "ternary": {
           "aaxis": {
            "gridcolor": "white",
            "linecolor": "white",
            "ticks": ""
           },
           "baxis": {
            "gridcolor": "white",
            "linecolor": "white",
            "ticks": ""
           },
           "bgcolor": "#E5ECF6",
           "caxis": {
            "gridcolor": "white",
            "linecolor": "white",
            "ticks": ""
           }
          },
          "title": {
           "x": 0.05
          },
          "xaxis": {
           "automargin": true,
           "gridcolor": "white",
           "linecolor": "white",
           "ticks": "",
           "title": {
            "standoff": 15
           },
           "zerolinecolor": "white",
           "zerolinewidth": 2
          },
          "yaxis": {
           "automargin": true,
           "gridcolor": "white",
           "linecolor": "white",
           "ticks": "",
           "title": {
            "standoff": 15
           },
           "zerolinecolor": "white",
           "zerolinewidth": 2
          }
         }
        },
        "title": {
         "text": "Where does their money go?"
        }
       }
      }
     },
     "metadata": {},
     "output_type": "display_data"
    }
   ],
   "source": [
    "# Dataviz - Icicle Charts\n",
    "# Where our customer spend their money on?\n",
    "\n",
    "fig = px.icicle(graph5, path=[px.Constant(\"all\"), 'Customer type', 'Gender', 'Product line'], \n",
    "                values='gross income', color='Product line', title='Where does their money go?')\n",
    "fig.update_layout(margin = dict(t=30, l=10, r=50, b=10))\n",
    "fig.show()"
   ]
  },
  {
   "cell_type": "markdown",
   "metadata": {},
   "source": [
    "We get interisting facts here:\n",
    "- Our `Member-Female` customer, spend the most at `Food and beverages` and spend the least at `Health and beauty`\n",
    "- Our `Member-Male` customer, spend the most at `Health and beauty` and spend the least at `Home and lifestyle`\n",
    "- Our `Normal-Female` customer, spend the most at `Electronic accessories` and spend the least at `Health and beauty`\n",
    "- Our `Normal-Male` customer, spend the most at `Sports and travel` and spend the least at `Food and beverages`"
   ]
  },
  {
   "cell_type": "markdown",
   "metadata": {},
   "source": [
    "### Customer Relationship\n",
    "\n",
    "Because our customer is as precious as gold , How our customer felt towards our overall service is crucial.\\\n",
    "Let's explore more on this `relationship` through our customer `Rating` data.\n",
    "\n",
    "First, I will try to translate our customer `Rating` into customer `Satisfaction`, this will be done by:\n",
    "- Rating `0 to 3.3` translate into `Poor`\n",
    "- Rating `3.4 to 6.6` translate into `Average`\n",
    "- Rating `6.7 to 10.0` translate into `Satisfied`"
   ]
  },
  {
   "cell_type": "code",
   "execution_count": 38,
   "metadata": {},
   "outputs": [],
   "source": [
    "# Dataset Preparation\n",
    "# Rating translation into Satisdaction\n",
    "\n",
    "Satisfaction = [] # Create empty list\n",
    "\n",
    "for i in df_cleaned['Rating']: # For every `Rating` score given\n",
    "    if i < 3.33: # if it is under the threshold, then\n",
    "        Satisfaction.append('Poor') # add into list\n",
    "    elif i >= 3.34 and i < 6.7: # if it is between the threshold, then\n",
    "        Satisfaction.append('Average') # add into list\n",
    "    else:\n",
    "        Satisfaction.append('Good') # add into list\n",
    "\n",
    "# Put satisfaction list as new column in dataframe\n",
    "df_cleaned['Satisfaction'] = Satisfaction"
   ]
  },
  {
   "cell_type": "code",
   "execution_count": 39,
   "metadata": {},
   "outputs": [
    {
     "data": {
      "text/html": [
       "<div>\n",
       "<style scoped>\n",
       "    .dataframe tbody tr th:only-of-type {\n",
       "        vertical-align: middle;\n",
       "    }\n",
       "\n",
       "    .dataframe tbody tr th {\n",
       "        vertical-align: top;\n",
       "    }\n",
       "\n",
       "    .dataframe thead th {\n",
       "        text-align: right;\n",
       "    }\n",
       "</style>\n",
       "<table border=\"1\" class=\"dataframe\">\n",
       "  <thead>\n",
       "    <tr style=\"text-align: right;\">\n",
       "      <th></th>\n",
       "      <th>Gender</th>\n",
       "      <th>Satisfaction</th>\n",
       "      <th>Rating</th>\n",
       "    </tr>\n",
       "  </thead>\n",
       "  <tbody>\n",
       "    <tr>\n",
       "      <th>0</th>\n",
       "      <td>Female</td>\n",
       "      <td>Average</td>\n",
       "      <td>225</td>\n",
       "    </tr>\n",
       "    <tr>\n",
       "      <th>1</th>\n",
       "      <td>Female</td>\n",
       "      <td>Good</td>\n",
       "      <td>276</td>\n",
       "    </tr>\n",
       "    <tr>\n",
       "      <th>2</th>\n",
       "      <td>Male</td>\n",
       "      <td>Average</td>\n",
       "      <td>227</td>\n",
       "    </tr>\n",
       "    <tr>\n",
       "      <th>3</th>\n",
       "      <td>Male</td>\n",
       "      <td>Good</td>\n",
       "      <td>272</td>\n",
       "    </tr>\n",
       "  </tbody>\n",
       "</table>\n",
       "</div>"
      ],
      "text/plain": [
       "   Gender Satisfaction  Rating\n",
       "0  Female      Average     225\n",
       "1  Female         Good     276\n",
       "2    Male      Average     227\n",
       "3    Male         Good     272"
      ]
     },
     "execution_count": 39,
     "metadata": {},
     "output_type": "execute_result"
    }
   ],
   "source": [
    "# Dataset Preparation\n",
    "# Customer Satisfaction\n",
    "\n",
    "graph6 = df_cleaned.groupby(['Gender', 'Satisfaction'])['Rating'].count()\n",
    "graph6 = pd.DataFrame(graph6).reset_index()\n",
    "graph6"
   ]
  },
  {
   "cell_type": "code",
   "execution_count": 40,
   "metadata": {},
   "outputs": [
    {
     "data": {
      "application/vnd.plotly.v1+json": {
       "config": {
        "plotlyServerURL": "https://plot.ly"
       },
       "data": [
        {
         "branchvalues": "total",
         "customdata": [
          [
           "Average"
          ],
          [
           "Good"
          ],
          [
           "Average"
          ],
          [
           "Good"
          ],
          [
           "(?)"
          ],
          [
           "(?)"
          ]
         ],
         "domain": {
          "x": [
           0,
           1
          ],
          "y": [
           0,
           1
          ]
         },
         "hovertemplate": "labels=%{label}<br>Rating=%{value}<br>parent=%{parent}<br>id=%{id}<br>Satisfaction=%{customdata[0]}<extra></extra>",
         "ids": [
          "Female/Average",
          "Female/Good",
          "Male/Average",
          "Male/Good",
          "Female",
          "Male"
         ],
         "labels": [
          "Average",
          "Good",
          "Average",
          "Good",
          "Female",
          "Male"
         ],
         "marker": {
          "colors": [
           "#636efa",
           "#EF553B",
           "#636efa",
           "#EF553B",
           "#00cc96",
           "#00cc96"
          ]
         },
         "name": "",
         "parents": [
          "Female",
          "Female",
          "Male",
          "Male",
          "",
          ""
         ],
         "type": "sunburst",
         "values": [
          225,
          276,
          227,
          272,
          501,
          499
         ]
        }
       ],
       "layout": {
        "font": {
         "size": 15
        },
        "legend": {
         "tracegroupgap": 0
        },
        "margin": {
         "t": 60
        },
        "template": {
         "data": {
          "bar": [
           {
            "error_x": {
             "color": "#2a3f5f"
            },
            "error_y": {
             "color": "#2a3f5f"
            },
            "marker": {
             "line": {
              "color": "#E5ECF6",
              "width": 0.5
             },
             "pattern": {
              "fillmode": "overlay",
              "size": 10,
              "solidity": 0.2
             }
            },
            "type": "bar"
           }
          ],
          "barpolar": [
           {
            "marker": {
             "line": {
              "color": "#E5ECF6",
              "width": 0.5
             },
             "pattern": {
              "fillmode": "overlay",
              "size": 10,
              "solidity": 0.2
             }
            },
            "type": "barpolar"
           }
          ],
          "carpet": [
           {
            "aaxis": {
             "endlinecolor": "#2a3f5f",
             "gridcolor": "white",
             "linecolor": "white",
             "minorgridcolor": "white",
             "startlinecolor": "#2a3f5f"
            },
            "baxis": {
             "endlinecolor": "#2a3f5f",
             "gridcolor": "white",
             "linecolor": "white",
             "minorgridcolor": "white",
             "startlinecolor": "#2a3f5f"
            },
            "type": "carpet"
           }
          ],
          "choropleth": [
           {
            "colorbar": {
             "outlinewidth": 0,
             "ticks": ""
            },
            "type": "choropleth"
           }
          ],
          "contour": [
           {
            "colorbar": {
             "outlinewidth": 0,
             "ticks": ""
            },
            "colorscale": [
             [
              0,
              "#0d0887"
             ],
             [
              0.1111111111111111,
              "#46039f"
             ],
             [
              0.2222222222222222,
              "#7201a8"
             ],
             [
              0.3333333333333333,
              "#9c179e"
             ],
             [
              0.4444444444444444,
              "#bd3786"
             ],
             [
              0.5555555555555556,
              "#d8576b"
             ],
             [
              0.6666666666666666,
              "#ed7953"
             ],
             [
              0.7777777777777778,
              "#fb9f3a"
             ],
             [
              0.8888888888888888,
              "#fdca26"
             ],
             [
              1,
              "#f0f921"
             ]
            ],
            "type": "contour"
           }
          ],
          "contourcarpet": [
           {
            "colorbar": {
             "outlinewidth": 0,
             "ticks": ""
            },
            "type": "contourcarpet"
           }
          ],
          "heatmap": [
           {
            "colorbar": {
             "outlinewidth": 0,
             "ticks": ""
            },
            "colorscale": [
             [
              0,
              "#0d0887"
             ],
             [
              0.1111111111111111,
              "#46039f"
             ],
             [
              0.2222222222222222,
              "#7201a8"
             ],
             [
              0.3333333333333333,
              "#9c179e"
             ],
             [
              0.4444444444444444,
              "#bd3786"
             ],
             [
              0.5555555555555556,
              "#d8576b"
             ],
             [
              0.6666666666666666,
              "#ed7953"
             ],
             [
              0.7777777777777778,
              "#fb9f3a"
             ],
             [
              0.8888888888888888,
              "#fdca26"
             ],
             [
              1,
              "#f0f921"
             ]
            ],
            "type": "heatmap"
           }
          ],
          "heatmapgl": [
           {
            "colorbar": {
             "outlinewidth": 0,
             "ticks": ""
            },
            "colorscale": [
             [
              0,
              "#0d0887"
             ],
             [
              0.1111111111111111,
              "#46039f"
             ],
             [
              0.2222222222222222,
              "#7201a8"
             ],
             [
              0.3333333333333333,
              "#9c179e"
             ],
             [
              0.4444444444444444,
              "#bd3786"
             ],
             [
              0.5555555555555556,
              "#d8576b"
             ],
             [
              0.6666666666666666,
              "#ed7953"
             ],
             [
              0.7777777777777778,
              "#fb9f3a"
             ],
             [
              0.8888888888888888,
              "#fdca26"
             ],
             [
              1,
              "#f0f921"
             ]
            ],
            "type": "heatmapgl"
           }
          ],
          "histogram": [
           {
            "marker": {
             "pattern": {
              "fillmode": "overlay",
              "size": 10,
              "solidity": 0.2
             }
            },
            "type": "histogram"
           }
          ],
          "histogram2d": [
           {
            "colorbar": {
             "outlinewidth": 0,
             "ticks": ""
            },
            "colorscale": [
             [
              0,
              "#0d0887"
             ],
             [
              0.1111111111111111,
              "#46039f"
             ],
             [
              0.2222222222222222,
              "#7201a8"
             ],
             [
              0.3333333333333333,
              "#9c179e"
             ],
             [
              0.4444444444444444,
              "#bd3786"
             ],
             [
              0.5555555555555556,
              "#d8576b"
             ],
             [
              0.6666666666666666,
              "#ed7953"
             ],
             [
              0.7777777777777778,
              "#fb9f3a"
             ],
             [
              0.8888888888888888,
              "#fdca26"
             ],
             [
              1,
              "#f0f921"
             ]
            ],
            "type": "histogram2d"
           }
          ],
          "histogram2dcontour": [
           {
            "colorbar": {
             "outlinewidth": 0,
             "ticks": ""
            },
            "colorscale": [
             [
              0,
              "#0d0887"
             ],
             [
              0.1111111111111111,
              "#46039f"
             ],
             [
              0.2222222222222222,
              "#7201a8"
             ],
             [
              0.3333333333333333,
              "#9c179e"
             ],
             [
              0.4444444444444444,
              "#bd3786"
             ],
             [
              0.5555555555555556,
              "#d8576b"
             ],
             [
              0.6666666666666666,
              "#ed7953"
             ],
             [
              0.7777777777777778,
              "#fb9f3a"
             ],
             [
              0.8888888888888888,
              "#fdca26"
             ],
             [
              1,
              "#f0f921"
             ]
            ],
            "type": "histogram2dcontour"
           }
          ],
          "mesh3d": [
           {
            "colorbar": {
             "outlinewidth": 0,
             "ticks": ""
            },
            "type": "mesh3d"
           }
          ],
          "parcoords": [
           {
            "line": {
             "colorbar": {
              "outlinewidth": 0,
              "ticks": ""
             }
            },
            "type": "parcoords"
           }
          ],
          "pie": [
           {
            "automargin": true,
            "type": "pie"
           }
          ],
          "scatter": [
           {
            "marker": {
             "colorbar": {
              "outlinewidth": 0,
              "ticks": ""
             }
            },
            "type": "scatter"
           }
          ],
          "scatter3d": [
           {
            "line": {
             "colorbar": {
              "outlinewidth": 0,
              "ticks": ""
             }
            },
            "marker": {
             "colorbar": {
              "outlinewidth": 0,
              "ticks": ""
             }
            },
            "type": "scatter3d"
           }
          ],
          "scattercarpet": [
           {
            "marker": {
             "colorbar": {
              "outlinewidth": 0,
              "ticks": ""
             }
            },
            "type": "scattercarpet"
           }
          ],
          "scattergeo": [
           {
            "marker": {
             "colorbar": {
              "outlinewidth": 0,
              "ticks": ""
             }
            },
            "type": "scattergeo"
           }
          ],
          "scattergl": [
           {
            "marker": {
             "colorbar": {
              "outlinewidth": 0,
              "ticks": ""
             }
            },
            "type": "scattergl"
           }
          ],
          "scattermapbox": [
           {
            "marker": {
             "colorbar": {
              "outlinewidth": 0,
              "ticks": ""
             }
            },
            "type": "scattermapbox"
           }
          ],
          "scatterpolar": [
           {
            "marker": {
             "colorbar": {
              "outlinewidth": 0,
              "ticks": ""
             }
            },
            "type": "scatterpolar"
           }
          ],
          "scatterpolargl": [
           {
            "marker": {
             "colorbar": {
              "outlinewidth": 0,
              "ticks": ""
             }
            },
            "type": "scatterpolargl"
           }
          ],
          "scatterternary": [
           {
            "marker": {
             "colorbar": {
              "outlinewidth": 0,
              "ticks": ""
             }
            },
            "type": "scatterternary"
           }
          ],
          "surface": [
           {
            "colorbar": {
             "outlinewidth": 0,
             "ticks": ""
            },
            "colorscale": [
             [
              0,
              "#0d0887"
             ],
             [
              0.1111111111111111,
              "#46039f"
             ],
             [
              0.2222222222222222,
              "#7201a8"
             ],
             [
              0.3333333333333333,
              "#9c179e"
             ],
             [
              0.4444444444444444,
              "#bd3786"
             ],
             [
              0.5555555555555556,
              "#d8576b"
             ],
             [
              0.6666666666666666,
              "#ed7953"
             ],
             [
              0.7777777777777778,
              "#fb9f3a"
             ],
             [
              0.8888888888888888,
              "#fdca26"
             ],
             [
              1,
              "#f0f921"
             ]
            ],
            "type": "surface"
           }
          ],
          "table": [
           {
            "cells": {
             "fill": {
              "color": "#EBF0F8"
             },
             "line": {
              "color": "white"
             }
            },
            "header": {
             "fill": {
              "color": "#C8D4E3"
             },
             "line": {
              "color": "white"
             }
            },
            "type": "table"
           }
          ]
         },
         "layout": {
          "annotationdefaults": {
           "arrowcolor": "#2a3f5f",
           "arrowhead": 0,
           "arrowwidth": 1
          },
          "autotypenumbers": "strict",
          "coloraxis": {
           "colorbar": {
            "outlinewidth": 0,
            "ticks": ""
           }
          },
          "colorscale": {
           "diverging": [
            [
             0,
             "#8e0152"
            ],
            [
             0.1,
             "#c51b7d"
            ],
            [
             0.2,
             "#de77ae"
            ],
            [
             0.3,
             "#f1b6da"
            ],
            [
             0.4,
             "#fde0ef"
            ],
            [
             0.5,
             "#f7f7f7"
            ],
            [
             0.6,
             "#e6f5d0"
            ],
            [
             0.7,
             "#b8e186"
            ],
            [
             0.8,
             "#7fbc41"
            ],
            [
             0.9,
             "#4d9221"
            ],
            [
             1,
             "#276419"
            ]
           ],
           "sequential": [
            [
             0,
             "#0d0887"
            ],
            [
             0.1111111111111111,
             "#46039f"
            ],
            [
             0.2222222222222222,
             "#7201a8"
            ],
            [
             0.3333333333333333,
             "#9c179e"
            ],
            [
             0.4444444444444444,
             "#bd3786"
            ],
            [
             0.5555555555555556,
             "#d8576b"
            ],
            [
             0.6666666666666666,
             "#ed7953"
            ],
            [
             0.7777777777777778,
             "#fb9f3a"
            ],
            [
             0.8888888888888888,
             "#fdca26"
            ],
            [
             1,
             "#f0f921"
            ]
           ],
           "sequentialminus": [
            [
             0,
             "#0d0887"
            ],
            [
             0.1111111111111111,
             "#46039f"
            ],
            [
             0.2222222222222222,
             "#7201a8"
            ],
            [
             0.3333333333333333,
             "#9c179e"
            ],
            [
             0.4444444444444444,
             "#bd3786"
            ],
            [
             0.5555555555555556,
             "#d8576b"
            ],
            [
             0.6666666666666666,
             "#ed7953"
            ],
            [
             0.7777777777777778,
             "#fb9f3a"
            ],
            [
             0.8888888888888888,
             "#fdca26"
            ],
            [
             1,
             "#f0f921"
            ]
           ]
          },
          "colorway": [
           "#636efa",
           "#EF553B",
           "#00cc96",
           "#ab63fa",
           "#FFA15A",
           "#19d3f3",
           "#FF6692",
           "#B6E880",
           "#FF97FF",
           "#FECB52"
          ],
          "font": {
           "color": "#2a3f5f"
          },
          "geo": {
           "bgcolor": "white",
           "lakecolor": "white",
           "landcolor": "#E5ECF6",
           "showlakes": true,
           "showland": true,
           "subunitcolor": "white"
          },
          "hoverlabel": {
           "align": "left"
          },
          "hovermode": "closest",
          "mapbox": {
           "style": "light"
          },
          "paper_bgcolor": "white",
          "plot_bgcolor": "#E5ECF6",
          "polar": {
           "angularaxis": {
            "gridcolor": "white",
            "linecolor": "white",
            "ticks": ""
           },
           "bgcolor": "#E5ECF6",
           "radialaxis": {
            "gridcolor": "white",
            "linecolor": "white",
            "ticks": ""
           }
          },
          "scene": {
           "xaxis": {
            "backgroundcolor": "#E5ECF6",
            "gridcolor": "white",
            "gridwidth": 2,
            "linecolor": "white",
            "showbackground": true,
            "ticks": "",
            "zerolinecolor": "white"
           },
           "yaxis": {
            "backgroundcolor": "#E5ECF6",
            "gridcolor": "white",
            "gridwidth": 2,
            "linecolor": "white",
            "showbackground": true,
            "ticks": "",
            "zerolinecolor": "white"
           },
           "zaxis": {
            "backgroundcolor": "#E5ECF6",
            "gridcolor": "white",
            "gridwidth": 2,
            "linecolor": "white",
            "showbackground": true,
            "ticks": "",
            "zerolinecolor": "white"
           }
          },
          "shapedefaults": {
           "line": {
            "color": "#2a3f5f"
           }
          },
          "ternary": {
           "aaxis": {
            "gridcolor": "white",
            "linecolor": "white",
            "ticks": ""
           },
           "baxis": {
            "gridcolor": "white",
            "linecolor": "white",
            "ticks": ""
           },
           "bgcolor": "#E5ECF6",
           "caxis": {
            "gridcolor": "white",
            "linecolor": "white",
            "ticks": ""
           }
          },
          "title": {
           "x": 0.05
          },
          "xaxis": {
           "automargin": true,
           "gridcolor": "white",
           "linecolor": "white",
           "ticks": "",
           "title": {
            "standoff": 15
           },
           "zerolinecolor": "white",
           "zerolinewidth": 2
          },
          "yaxis": {
           "automargin": true,
           "gridcolor": "white",
           "linecolor": "white",
           "ticks": "",
           "title": {
            "standoff": 15
           },
           "zerolinecolor": "white",
           "zerolinewidth": 2
          }
         }
        },
        "title": {
         "text": "Customer Satisfaction Level"
        }
       }
      }
     },
     "metadata": {},
     "output_type": "display_data"
    }
   ],
   "source": [
    "# Dataviz - Sunburstchart\n",
    "# Customer Satisfaction\n",
    "\n",
    "fig = px.sunburst(graph6, path=['Gender', 'Satisfaction'], \n",
    "                values='Rating', color='Satisfaction')\n",
    "\n",
    "fig.update_layout(\n",
    "    title=\"Customer Satisfaction Level\",\n",
    "    font=dict(size=15)\n",
    ")\n",
    "\n",
    "fig.show()"
   ]
  },
  {
   "cell_type": "markdown",
   "metadata": {},
   "source": [
    "Surprisingly there is no `unhappy` customer. It is a good sign overall for us.\\\n",
    "Three of our `Branch` performed pretty well and majority of our customer are `Satisfied.`\n",
    "\n",
    "All insight above will be used to create strategy in the next process."
   ]
  },
  {
   "cell_type": "markdown",
   "metadata": {},
   "source": [
    "### Customer Behaviour\n",
    "\n",
    "Now let's see our customer payment method preferences."
   ]
  },
  {
   "cell_type": "code",
   "execution_count": 41,
   "metadata": {},
   "outputs": [
    {
     "data": {
      "text/html": [
       "<div>\n",
       "<style scoped>\n",
       "    .dataframe tbody tr th:only-of-type {\n",
       "        vertical-align: middle;\n",
       "    }\n",
       "\n",
       "    .dataframe tbody tr th {\n",
       "        vertical-align: top;\n",
       "    }\n",
       "\n",
       "    .dataframe thead th {\n",
       "        text-align: right;\n",
       "    }\n",
       "</style>\n",
       "<table border=\"1\" class=\"dataframe\">\n",
       "  <thead>\n",
       "    <tr style=\"text-align: right;\">\n",
       "      <th></th>\n",
       "      <th>Payment</th>\n",
       "      <th>Count</th>\n",
       "    </tr>\n",
       "  </thead>\n",
       "  <tbody>\n",
       "    <tr>\n",
       "      <th>0</th>\n",
       "      <td>Cash</td>\n",
       "      <td>344</td>\n",
       "    </tr>\n",
       "    <tr>\n",
       "      <th>1</th>\n",
       "      <td>Credit card</td>\n",
       "      <td>311</td>\n",
       "    </tr>\n",
       "    <tr>\n",
       "      <th>2</th>\n",
       "      <td>Ewallet</td>\n",
       "      <td>345</td>\n",
       "    </tr>\n",
       "  </tbody>\n",
       "</table>\n",
       "</div>"
      ],
      "text/plain": [
       "       Payment  Count\n",
       "0         Cash    344\n",
       "1  Credit card    311\n",
       "2      Ewallet    345"
      ]
     },
     "execution_count": 41,
     "metadata": {},
     "output_type": "execute_result"
    }
   ],
   "source": [
    "# Dataset Preparation\n",
    "# Payment Method\n",
    "\n",
    "graph7 = df_cleaned.groupby(['Payment'])['Payment'].count()\n",
    "graph7 = pd.DataFrame(graph7).rename(columns={'Payment':'Count'}).reset_index()\n",
    "graph7"
   ]
  },
  {
   "cell_type": "code",
   "execution_count": 42,
   "metadata": {},
   "outputs": [
    {
     "data": {
      "application/vnd.plotly.v1+json": {
       "config": {
        "plotlyServerURL": "https://plot.ly"
       },
       "data": [
        {
         "domain": {
          "x": [
           0,
           1
          ],
          "y": [
           0,
           1
          ]
         },
         "hovertemplate": "Payment=%{label}<br>Count=%{value}<extra></extra>",
         "labels": [
          "Cash",
          "Credit card",
          "Ewallet"
         ],
         "legendgroup": "",
         "name": "",
         "showlegend": true,
         "type": "pie",
         "values": [
          344,
          311,
          345
         ]
        }
       ],
       "layout": {
        "font": {
         "size": 15
        },
        "legend": {
         "tracegroupgap": 0
        },
        "margin": {
         "t": 60
        },
        "template": {
         "data": {
          "bar": [
           {
            "error_x": {
             "color": "#2a3f5f"
            },
            "error_y": {
             "color": "#2a3f5f"
            },
            "marker": {
             "line": {
              "color": "#E5ECF6",
              "width": 0.5
             },
             "pattern": {
              "fillmode": "overlay",
              "size": 10,
              "solidity": 0.2
             }
            },
            "type": "bar"
           }
          ],
          "barpolar": [
           {
            "marker": {
             "line": {
              "color": "#E5ECF6",
              "width": 0.5
             },
             "pattern": {
              "fillmode": "overlay",
              "size": 10,
              "solidity": 0.2
             }
            },
            "type": "barpolar"
           }
          ],
          "carpet": [
           {
            "aaxis": {
             "endlinecolor": "#2a3f5f",
             "gridcolor": "white",
             "linecolor": "white",
             "minorgridcolor": "white",
             "startlinecolor": "#2a3f5f"
            },
            "baxis": {
             "endlinecolor": "#2a3f5f",
             "gridcolor": "white",
             "linecolor": "white",
             "minorgridcolor": "white",
             "startlinecolor": "#2a3f5f"
            },
            "type": "carpet"
           }
          ],
          "choropleth": [
           {
            "colorbar": {
             "outlinewidth": 0,
             "ticks": ""
            },
            "type": "choropleth"
           }
          ],
          "contour": [
           {
            "colorbar": {
             "outlinewidth": 0,
             "ticks": ""
            },
            "colorscale": [
             [
              0,
              "#0d0887"
             ],
             [
              0.1111111111111111,
              "#46039f"
             ],
             [
              0.2222222222222222,
              "#7201a8"
             ],
             [
              0.3333333333333333,
              "#9c179e"
             ],
             [
              0.4444444444444444,
              "#bd3786"
             ],
             [
              0.5555555555555556,
              "#d8576b"
             ],
             [
              0.6666666666666666,
              "#ed7953"
             ],
             [
              0.7777777777777778,
              "#fb9f3a"
             ],
             [
              0.8888888888888888,
              "#fdca26"
             ],
             [
              1,
              "#f0f921"
             ]
            ],
            "type": "contour"
           }
          ],
          "contourcarpet": [
           {
            "colorbar": {
             "outlinewidth": 0,
             "ticks": ""
            },
            "type": "contourcarpet"
           }
          ],
          "heatmap": [
           {
            "colorbar": {
             "outlinewidth": 0,
             "ticks": ""
            },
            "colorscale": [
             [
              0,
              "#0d0887"
             ],
             [
              0.1111111111111111,
              "#46039f"
             ],
             [
              0.2222222222222222,
              "#7201a8"
             ],
             [
              0.3333333333333333,
              "#9c179e"
             ],
             [
              0.4444444444444444,
              "#bd3786"
             ],
             [
              0.5555555555555556,
              "#d8576b"
             ],
             [
              0.6666666666666666,
              "#ed7953"
             ],
             [
              0.7777777777777778,
              "#fb9f3a"
             ],
             [
              0.8888888888888888,
              "#fdca26"
             ],
             [
              1,
              "#f0f921"
             ]
            ],
            "type": "heatmap"
           }
          ],
          "heatmapgl": [
           {
            "colorbar": {
             "outlinewidth": 0,
             "ticks": ""
            },
            "colorscale": [
             [
              0,
              "#0d0887"
             ],
             [
              0.1111111111111111,
              "#46039f"
             ],
             [
              0.2222222222222222,
              "#7201a8"
             ],
             [
              0.3333333333333333,
              "#9c179e"
             ],
             [
              0.4444444444444444,
              "#bd3786"
             ],
             [
              0.5555555555555556,
              "#d8576b"
             ],
             [
              0.6666666666666666,
              "#ed7953"
             ],
             [
              0.7777777777777778,
              "#fb9f3a"
             ],
             [
              0.8888888888888888,
              "#fdca26"
             ],
             [
              1,
              "#f0f921"
             ]
            ],
            "type": "heatmapgl"
           }
          ],
          "histogram": [
           {
            "marker": {
             "pattern": {
              "fillmode": "overlay",
              "size": 10,
              "solidity": 0.2
             }
            },
            "type": "histogram"
           }
          ],
          "histogram2d": [
           {
            "colorbar": {
             "outlinewidth": 0,
             "ticks": ""
            },
            "colorscale": [
             [
              0,
              "#0d0887"
             ],
             [
              0.1111111111111111,
              "#46039f"
             ],
             [
              0.2222222222222222,
              "#7201a8"
             ],
             [
              0.3333333333333333,
              "#9c179e"
             ],
             [
              0.4444444444444444,
              "#bd3786"
             ],
             [
              0.5555555555555556,
              "#d8576b"
             ],
             [
              0.6666666666666666,
              "#ed7953"
             ],
             [
              0.7777777777777778,
              "#fb9f3a"
             ],
             [
              0.8888888888888888,
              "#fdca26"
             ],
             [
              1,
              "#f0f921"
             ]
            ],
            "type": "histogram2d"
           }
          ],
          "histogram2dcontour": [
           {
            "colorbar": {
             "outlinewidth": 0,
             "ticks": ""
            },
            "colorscale": [
             [
              0,
              "#0d0887"
             ],
             [
              0.1111111111111111,
              "#46039f"
             ],
             [
              0.2222222222222222,
              "#7201a8"
             ],
             [
              0.3333333333333333,
              "#9c179e"
             ],
             [
              0.4444444444444444,
              "#bd3786"
             ],
             [
              0.5555555555555556,
              "#d8576b"
             ],
             [
              0.6666666666666666,
              "#ed7953"
             ],
             [
              0.7777777777777778,
              "#fb9f3a"
             ],
             [
              0.8888888888888888,
              "#fdca26"
             ],
             [
              1,
              "#f0f921"
             ]
            ],
            "type": "histogram2dcontour"
           }
          ],
          "mesh3d": [
           {
            "colorbar": {
             "outlinewidth": 0,
             "ticks": ""
            },
            "type": "mesh3d"
           }
          ],
          "parcoords": [
           {
            "line": {
             "colorbar": {
              "outlinewidth": 0,
              "ticks": ""
             }
            },
            "type": "parcoords"
           }
          ],
          "pie": [
           {
            "automargin": true,
            "type": "pie"
           }
          ],
          "scatter": [
           {
            "marker": {
             "colorbar": {
              "outlinewidth": 0,
              "ticks": ""
             }
            },
            "type": "scatter"
           }
          ],
          "scatter3d": [
           {
            "line": {
             "colorbar": {
              "outlinewidth": 0,
              "ticks": ""
             }
            },
            "marker": {
             "colorbar": {
              "outlinewidth": 0,
              "ticks": ""
             }
            },
            "type": "scatter3d"
           }
          ],
          "scattercarpet": [
           {
            "marker": {
             "colorbar": {
              "outlinewidth": 0,
              "ticks": ""
             }
            },
            "type": "scattercarpet"
           }
          ],
          "scattergeo": [
           {
            "marker": {
             "colorbar": {
              "outlinewidth": 0,
              "ticks": ""
             }
            },
            "type": "scattergeo"
           }
          ],
          "scattergl": [
           {
            "marker": {
             "colorbar": {
              "outlinewidth": 0,
              "ticks": ""
             }
            },
            "type": "scattergl"
           }
          ],
          "scattermapbox": [
           {
            "marker": {
             "colorbar": {
              "outlinewidth": 0,
              "ticks": ""
             }
            },
            "type": "scattermapbox"
           }
          ],
          "scatterpolar": [
           {
            "marker": {
             "colorbar": {
              "outlinewidth": 0,
              "ticks": ""
             }
            },
            "type": "scatterpolar"
           }
          ],
          "scatterpolargl": [
           {
            "marker": {
             "colorbar": {
              "outlinewidth": 0,
              "ticks": ""
             }
            },
            "type": "scatterpolargl"
           }
          ],
          "scatterternary": [
           {
            "marker": {
             "colorbar": {
              "outlinewidth": 0,
              "ticks": ""
             }
            },
            "type": "scatterternary"
           }
          ],
          "surface": [
           {
            "colorbar": {
             "outlinewidth": 0,
             "ticks": ""
            },
            "colorscale": [
             [
              0,
              "#0d0887"
             ],
             [
              0.1111111111111111,
              "#46039f"
             ],
             [
              0.2222222222222222,
              "#7201a8"
             ],
             [
              0.3333333333333333,
              "#9c179e"
             ],
             [
              0.4444444444444444,
              "#bd3786"
             ],
             [
              0.5555555555555556,
              "#d8576b"
             ],
             [
              0.6666666666666666,
              "#ed7953"
             ],
             [
              0.7777777777777778,
              "#fb9f3a"
             ],
             [
              0.8888888888888888,
              "#fdca26"
             ],
             [
              1,
              "#f0f921"
             ]
            ],
            "type": "surface"
           }
          ],
          "table": [
           {
            "cells": {
             "fill": {
              "color": "#EBF0F8"
             },
             "line": {
              "color": "white"
             }
            },
            "header": {
             "fill": {
              "color": "#C8D4E3"
             },
             "line": {
              "color": "white"
             }
            },
            "type": "table"
           }
          ]
         },
         "layout": {
          "annotationdefaults": {
           "arrowcolor": "#2a3f5f",
           "arrowhead": 0,
           "arrowwidth": 1
          },
          "autotypenumbers": "strict",
          "coloraxis": {
           "colorbar": {
            "outlinewidth": 0,
            "ticks": ""
           }
          },
          "colorscale": {
           "diverging": [
            [
             0,
             "#8e0152"
            ],
            [
             0.1,
             "#c51b7d"
            ],
            [
             0.2,
             "#de77ae"
            ],
            [
             0.3,
             "#f1b6da"
            ],
            [
             0.4,
             "#fde0ef"
            ],
            [
             0.5,
             "#f7f7f7"
            ],
            [
             0.6,
             "#e6f5d0"
            ],
            [
             0.7,
             "#b8e186"
            ],
            [
             0.8,
             "#7fbc41"
            ],
            [
             0.9,
             "#4d9221"
            ],
            [
             1,
             "#276419"
            ]
           ],
           "sequential": [
            [
             0,
             "#0d0887"
            ],
            [
             0.1111111111111111,
             "#46039f"
            ],
            [
             0.2222222222222222,
             "#7201a8"
            ],
            [
             0.3333333333333333,
             "#9c179e"
            ],
            [
             0.4444444444444444,
             "#bd3786"
            ],
            [
             0.5555555555555556,
             "#d8576b"
            ],
            [
             0.6666666666666666,
             "#ed7953"
            ],
            [
             0.7777777777777778,
             "#fb9f3a"
            ],
            [
             0.8888888888888888,
             "#fdca26"
            ],
            [
             1,
             "#f0f921"
            ]
           ],
           "sequentialminus": [
            [
             0,
             "#0d0887"
            ],
            [
             0.1111111111111111,
             "#46039f"
            ],
            [
             0.2222222222222222,
             "#7201a8"
            ],
            [
             0.3333333333333333,
             "#9c179e"
            ],
            [
             0.4444444444444444,
             "#bd3786"
            ],
            [
             0.5555555555555556,
             "#d8576b"
            ],
            [
             0.6666666666666666,
             "#ed7953"
            ],
            [
             0.7777777777777778,
             "#fb9f3a"
            ],
            [
             0.8888888888888888,
             "#fdca26"
            ],
            [
             1,
             "#f0f921"
            ]
           ]
          },
          "colorway": [
           "#636efa",
           "#EF553B",
           "#00cc96",
           "#ab63fa",
           "#FFA15A",
           "#19d3f3",
           "#FF6692",
           "#B6E880",
           "#FF97FF",
           "#FECB52"
          ],
          "font": {
           "color": "#2a3f5f"
          },
          "geo": {
           "bgcolor": "white",
           "lakecolor": "white",
           "landcolor": "#E5ECF6",
           "showlakes": true,
           "showland": true,
           "subunitcolor": "white"
          },
          "hoverlabel": {
           "align": "left"
          },
          "hovermode": "closest",
          "mapbox": {
           "style": "light"
          },
          "paper_bgcolor": "white",
          "plot_bgcolor": "#E5ECF6",
          "polar": {
           "angularaxis": {
            "gridcolor": "white",
            "linecolor": "white",
            "ticks": ""
           },
           "bgcolor": "#E5ECF6",
           "radialaxis": {
            "gridcolor": "white",
            "linecolor": "white",
            "ticks": ""
           }
          },
          "scene": {
           "xaxis": {
            "backgroundcolor": "#E5ECF6",
            "gridcolor": "white",
            "gridwidth": 2,
            "linecolor": "white",
            "showbackground": true,
            "ticks": "",
            "zerolinecolor": "white"
           },
           "yaxis": {
            "backgroundcolor": "#E5ECF6",
            "gridcolor": "white",
            "gridwidth": 2,
            "linecolor": "white",
            "showbackground": true,
            "ticks": "",
            "zerolinecolor": "white"
           },
           "zaxis": {
            "backgroundcolor": "#E5ECF6",
            "gridcolor": "white",
            "gridwidth": 2,
            "linecolor": "white",
            "showbackground": true,
            "ticks": "",
            "zerolinecolor": "white"
           }
          },
          "shapedefaults": {
           "line": {
            "color": "#2a3f5f"
           }
          },
          "ternary": {
           "aaxis": {
            "gridcolor": "white",
            "linecolor": "white",
            "ticks": ""
           },
           "baxis": {
            "gridcolor": "white",
            "linecolor": "white",
            "ticks": ""
           },
           "bgcolor": "#E5ECF6",
           "caxis": {
            "gridcolor": "white",
            "linecolor": "white",
            "ticks": ""
           }
          },
          "title": {
           "x": 0.05
          },
          "xaxis": {
           "automargin": true,
           "gridcolor": "white",
           "linecolor": "white",
           "ticks": "",
           "title": {
            "standoff": 15
           },
           "zerolinecolor": "white",
           "zerolinewidth": 2
          },
          "yaxis": {
           "automargin": true,
           "gridcolor": "white",
           "linecolor": "white",
           "ticks": "",
           "title": {
            "standoff": 15
           },
           "zerolinecolor": "white",
           "zerolinewidth": 2
          }
         }
        },
        "title": {
         "text": "Customer Payment Method"
        }
       }
      }
     },
     "metadata": {},
     "output_type": "display_data"
    }
   ],
   "source": [
    "# Dataviz - Pie Chart\n",
    "# Payment Method\n",
    "\n",
    "fig = px.pie(graph7, values='Count', names='Payment')\n",
    "\n",
    "fig.update_layout(\n",
    "    title=\"Customer Payment Method\",\n",
    "    font=dict(size=15)\n",
    ")\n",
    "\n",
    "fig.show()"
   ]
  },
  {
   "cell_type": "markdown",
   "metadata": {},
   "source": [
    "All payment method are used equally by the customer."
   ]
  },
  {
   "cell_type": "markdown",
   "metadata": {},
   "source": [
    "### Customer Buy Pattern by Hour"
   ]
  },
  {
   "cell_type": "code",
   "execution_count": 43,
   "metadata": {},
   "outputs": [
    {
     "data": {
      "text/html": [
       "<div>\n",
       "<style scoped>\n",
       "    .dataframe tbody tr th:only-of-type {\n",
       "        vertical-align: middle;\n",
       "    }\n",
       "\n",
       "    .dataframe tbody tr th {\n",
       "        vertical-align: top;\n",
       "    }\n",
       "\n",
       "    .dataframe thead th {\n",
       "        text-align: right;\n",
       "    }\n",
       "</style>\n",
       "<table border=\"1\" class=\"dataframe\">\n",
       "  <thead>\n",
       "    <tr style=\"text-align: right;\">\n",
       "      <th></th>\n",
       "      <th>Time</th>\n",
       "      <th>Invoice ID</th>\n",
       "      <th>Quantity</th>\n",
       "    </tr>\n",
       "  </thead>\n",
       "  <tbody>\n",
       "    <tr>\n",
       "      <th>0</th>\n",
       "      <td>10:00</td>\n",
       "      <td>3</td>\n",
       "      <td>17</td>\n",
       "    </tr>\n",
       "    <tr>\n",
       "      <th>1</th>\n",
       "      <td>10:01</td>\n",
       "      <td>2</td>\n",
       "      <td>8</td>\n",
       "    </tr>\n",
       "    <tr>\n",
       "      <th>2</th>\n",
       "      <td>10:02</td>\n",
       "      <td>3</td>\n",
       "      <td>12</td>\n",
       "    </tr>\n",
       "    <tr>\n",
       "      <th>3</th>\n",
       "      <td>10:03</td>\n",
       "      <td>1</td>\n",
       "      <td>7</td>\n",
       "    </tr>\n",
       "    <tr>\n",
       "      <th>4</th>\n",
       "      <td>10:04</td>\n",
       "      <td>1</td>\n",
       "      <td>10</td>\n",
       "    </tr>\n",
       "  </tbody>\n",
       "</table>\n",
       "</div>"
      ],
      "text/plain": [
       "    Time  Invoice ID  Quantity\n",
       "0  10:00           3        17\n",
       "1  10:01           2         8\n",
       "2  10:02           3        12\n",
       "3  10:03           1         7\n",
       "4  10:04           1        10"
      ]
     },
     "execution_count": 43,
     "metadata": {},
     "output_type": "execute_result"
    }
   ],
   "source": [
    "# Dataset Preparation\n",
    "# Buypatern\n",
    "\n",
    "graph8 = df_cleaned.groupby(['Time']).agg({'Invoice ID':'count', 'Quantity':'sum'})\n",
    "graph8 = pd.DataFrame(graph8).reset_index()\n",
    "graph8.head()"
   ]
  },
  {
   "cell_type": "code",
   "execution_count": 44,
   "metadata": {},
   "outputs": [
    {
     "data": {
      "application/vnd.plotly.v1+json": {
       "config": {
        "plotlyServerURL": "https://plot.ly"
       },
       "data": [
        {
         "hovertemplate": "Time=%{x}<br>Invoice ID=%{y}<br>Quantity=%{marker.color}<extra></extra>",
         "legendgroup": "",
         "marker": {
          "color": [
           17,
           8,
           12,
           7,
           10,
           3,
           1,
           5,
           8,
           2,
           20,
           4,
           9,
           9,
           24,
           11,
           7,
           1,
           11,
           19,
           22,
           14,
           6,
           9,
           1,
           21,
           31,
           3,
           13,
           13,
           18,
           13,
           6,
           3,
           4,
           30,
           10,
           1,
           6,
           9,
           8,
           15,
           14,
           24,
           28,
           9,
           6,
           13,
           7,
           1,
           7,
           1,
           10,
           15,
           1,
           4,
           17,
           21,
           4,
           6,
           9,
           7,
           1,
           3,
           20,
           23,
           5,
           24,
           16,
           18,
           18,
           3,
           8,
           15,
           8,
           5,
           29,
           10,
           3,
           28,
           10,
           6,
           10,
           9,
           13,
           12,
           2,
           35,
           16,
           11,
           9,
           4,
           14,
           2,
           2,
           29,
           12,
           24,
           9,
           14,
           8,
           14,
           5,
           2,
           1,
           2,
           7,
           10,
           2,
           13,
           9,
           16,
           17,
           13,
           13,
           10,
           3,
           9,
           9,
           9,
           5,
           5,
           5,
           10,
           19,
           7,
           7,
           22,
           17,
           27,
           27,
           11,
           6,
           13,
           10,
           17,
           11,
           7,
           13,
           30,
           21,
           8,
           6,
           20,
           3,
           5,
           12,
           3,
           12,
           16,
           10,
           15,
           1,
           19,
           21,
           18,
           13,
           9,
           5,
           3,
           12,
           4,
           16,
           14,
           6,
           18,
           4,
           8,
           10,
           22,
           5,
           5,
           16,
           16,
           14,
           4,
           37,
           6,
           7,
           13,
           3,
           16,
           10,
           15,
           7,
           9,
           32,
           6,
           10,
           3,
           26,
           2,
           7,
           15,
           1,
           12,
           6,
           9,
           10,
           20,
           18,
           9,
           9,
           2,
           8,
           10,
           18,
           10,
           15,
           4,
           13,
           7,
           7,
           11,
           19,
           23,
           6,
           12,
           42,
           18,
           4,
           10,
           8,
           8,
           9,
           10,
           20,
           19,
           11,
           8,
           6,
           8,
           26,
           6,
           9,
           11,
           19,
           17,
           9,
           1,
           20,
           3,
           18,
           9,
           17,
           11,
           7,
           10,
           9,
           1,
           3,
           1,
           16,
           4,
           14,
           21,
           21,
           14,
           5,
           16,
           4,
           5,
           9,
           11,
           6,
           6,
           3,
           27,
           2,
           5,
           1,
           9,
           17,
           18,
           9,
           4,
           5,
           13,
           4,
           21,
           2,
           8,
           3,
           12,
           5,
           2,
           4,
           11,
           7,
           9,
           7,
           14,
           4,
           2,
           9,
           10,
           34,
           10,
           10,
           25,
           19,
           2,
           3,
           24,
           6,
           6,
           4,
           1,
           10,
           5,
           5,
           6,
           8,
           20,
           14,
           12,
           16,
           14,
           3,
           8,
           15,
           19,
           7,
           4,
           7,
           2,
           7,
           3,
           1,
           1,
           5,
           16,
           12,
           21,
           5,
           11,
           8,
           8,
           6,
           4,
           2,
           12,
           29,
           9,
           11,
           4,
           25,
           15,
           8,
           7,
           7,
           6,
           7,
           25,
           10,
           29,
           10,
           10,
           5,
           1,
           11,
           8,
           11,
           5,
           2,
           15,
           12,
           4,
           9,
           15,
           7,
           12,
           10,
           19,
           12,
           7,
           17,
           4,
           15,
           4,
           16,
           5,
           18,
           6,
           10,
           2,
           18,
           10,
           6,
           20,
           9,
           20,
           16,
           14,
           14,
           11,
           14,
           4,
           17,
           5,
           2,
           8,
           22,
           12,
           10,
           9,
           7,
           11,
           9,
           3,
           5,
           10,
           18,
           7,
           8,
           25,
           7,
           2,
           29,
           21,
           17,
           17,
           12,
           10,
           15,
           5,
           10,
           24,
           6,
           29,
           10,
           4,
           14,
           13,
           15,
           14,
           7,
           34,
           8,
           12,
           15,
           8,
           20,
           25,
           16,
           9,
           20,
           4,
           16,
           5,
           7,
           2,
           32,
           14,
           9,
           6,
           8,
           14,
           14,
           3,
           3,
           27,
           4,
           3,
           10,
           9,
           4,
           1,
           1,
           10,
           13,
           7,
           2,
           14,
           4,
           12,
           7,
           16,
           14,
           33,
           13,
           20,
           3,
           19,
           9,
           8,
           6,
           20,
           11,
           13,
           3,
           8,
           1,
           7,
           5,
           7,
           7,
           1,
           14,
           4,
           19,
           7,
           14,
           10,
           5,
           8
          ],
          "coloraxis": "coloraxis",
          "symbol": "circle"
         },
         "mode": "markers",
         "name": "",
         "orientation": "v",
         "showlegend": false,
         "type": "scatter",
         "x": [
          "10:00",
          "10:01",
          "10:02",
          "10:03",
          "10:04",
          "10:05",
          "10:06",
          "10:08",
          "10:09",
          "10:10",
          "10:11",
          "10:12",
          "10:13",
          "10:16",
          "10:17",
          "10:18",
          "10:19",
          "10:21",
          "10:22",
          "10:23",
          "10:25",
          "10:26",
          "10:28",
          "10:29",
          "10:30",
          "10:31",
          "10:33",
          "10:34",
          "10:36",
          "10:37",
          "10:38",
          "10:39",
          "10:40",
          "10:41",
          "10:42",
          "10:43",
          "10:44",
          "10:46",
          "10:48",
          "10:49",
          "10:50",
          "10:52",
          "10:53",
          "10:54",
          "10:55",
          "10:57",
          "10:58",
          "11:00",
          "11:01",
          "11:02",
          "11:03",
          "11:05",
          "11:06",
          "11:07",
          "11:09",
          "11:10",
          "11:12",
          "11:15",
          "11:16",
          "11:17",
          "11:18",
          "11:19",
          "11:20",
          "11:21",
          "11:22",
          "11:23",
          "11:24",
          "11:25",
          "11:26",
          "11:27",
          "11:28",
          "11:29",
          "11:30",
          "11:32",
          "11:33",
          "11:34",
          "11:36",
          "11:38",
          "11:39",
          "11:40",
          "11:42",
          "11:43",
          "11:44",
          "11:45",
          "11:46",
          "11:48",
          "11:49",
          "11:51",
          "11:52",
          "11:55",
          "11:56",
          "11:57",
          "11:58",
          "11:59",
          "12:01",
          "12:02",
          "12:04",
          "12:07",
          "12:08",
          "12:09",
          "12:10",
          "12:12",
          "12:14",
          "12:15",
          "12:16",
          "12:17",
          "12:20",
          "12:21",
          "12:22",
          "12:23",
          "12:24",
          "12:25",
          "12:27",
          "12:28",
          "12:29",
          "12:30",
          "12:31",
          "12:32",
          "12:34",
          "12:35",
          "12:36",
          "12:37",
          "12:38",
          "12:39",
          "12:40",
          "12:41",
          "12:42",
          "12:43",
          "12:44",
          "12:45",
          "12:46",
          "12:47",
          "12:48",
          "12:50",
          "12:51",
          "12:52",
          "12:55",
          "12:56",
          "12:58",
          "13:00",
          "13:01",
          "13:02",
          "13:03",
          "13:05",
          "13:06",
          "13:07",
          "13:08",
          "13:10",
          "13:11",
          "13:12",
          "13:14",
          "13:18",
          "13:19",
          "13:21",
          "13:22",
          "13:23",
          "13:24",
          "13:25",
          "13:26",
          "13:27",
          "13:28",
          "13:29",
          "13:30",
          "13:32",
          "13:33",
          "13:34",
          "13:35",
          "13:37",
          "13:38",
          "13:40",
          "13:41",
          "13:42",
          "13:44",
          "13:45",
          "13:46",
          "13:47",
          "13:48",
          "13:49",
          "13:50",
          "13:51",
          "13:52",
          "13:53",
          "13:54",
          "13:55",
          "13:56",
          "13:57",
          "13:58",
          "13:59",
          "14:00",
          "14:03",
          "14:04",
          "14:05",
          "14:06",
          "14:08",
          "14:11",
          "14:12",
          "14:13",
          "14:14",
          "14:15",
          "14:16",
          "14:19",
          "14:20",
          "14:21",
          "14:22",
          "14:24",
          "14:25",
          "14:26",
          "14:27",
          "14:28",
          "14:29",
          "14:30",
          "14:31",
          "14:33",
          "14:35",
          "14:36",
          "14:38",
          "14:40",
          "14:41",
          "14:42",
          "14:43",
          "14:44",
          "14:45",
          "14:47",
          "14:48",
          "14:49",
          "14:50",
          "14:51",
          "14:53",
          "14:55",
          "14:57",
          "14:58",
          "15:00",
          "15:01",
          "15:02",
          "15:04",
          "15:05",
          "15:06",
          "15:07",
          "15:08",
          "15:09",
          "15:10",
          "15:11",
          "15:12",
          "15:14",
          "15:15",
          "15:16",
          "15:17",
          "15:18",
          "15:19",
          "15:20",
          "15:21",
          "15:23",
          "15:24",
          "15:25",
          "15:26",
          "15:27",
          "15:28",
          "15:29",
          "15:30",
          "15:31",
          "15:32",
          "15:33",
          "15:34",
          "15:36",
          "15:37",
          "15:39",
          "15:40",
          "15:42",
          "15:43",
          "15:44",
          "15:45",
          "15:46",
          "15:47",
          "15:48",
          "15:49",
          "15:51",
          "15:52",
          "15:53",
          "15:54",
          "15:55",
          "15:56",
          "15:57",
          "15:58",
          "15:59",
          "16:03",
          "16:04",
          "16:05",
          "16:06",
          "16:07",
          "16:08",
          "16:09",
          "16:10",
          "16:11",
          "16:16",
          "16:17",
          "16:18",
          "16:19",
          "16:20",
          "16:21",
          "16:23",
          "16:24",
          "16:26",
          "16:27",
          "16:28",
          "16:30",
          "16:31",
          "16:32",
          "16:33",
          "16:34",
          "16:35",
          "16:36",
          "16:37",
          "16:38",
          "16:40",
          "16:42",
          "16:43",
          "16:44",
          "16:45",
          "16:46",
          "16:47",
          "16:48",
          "16:49",
          "16:50",
          "16:51",
          "16:52",
          "16:53",
          "16:54",
          "16:55",
          "16:57",
          "16:58",
          "16:59",
          "17:01",
          "17:03",
          "17:04",
          "17:07",
          "17:08",
          "17:09",
          "17:10",
          "17:11",
          "17:12",
          "17:13",
          "17:15",
          "17:16",
          "17:17",
          "17:20",
          "17:22",
          "17:24",
          "17:26",
          "17:27",
          "17:29",
          "17:30",
          "17:34",
          "17:35",
          "17:36",
          "17:37",
          "17:38",
          "17:43",
          "17:44",
          "17:45",
          "17:46",
          "17:47",
          "17:48",
          "17:49",
          "17:52",
          "17:53",
          "17:54",
          "17:55",
          "17:56",
          "17:58",
          "17:59",
          "18:00",
          "18:01",
          "18:02",
          "18:03",
          "18:04",
          "18:05",
          "18:06",
          "18:07",
          "18:08",
          "18:09",
          "18:10",
          "18:13",
          "18:14",
          "18:15",
          "18:17",
          "18:18",
          "18:19",
          "18:20",
          "18:21",
          "18:22",
          "18:23",
          "18:24",
          "18:27",
          "18:30",
          "18:31",
          "18:33",
          "18:35",
          "18:36",
          "18:37",
          "18:38",
          "18:41",
          "18:42",
          "18:43",
          "18:44",
          "18:45",
          "18:48",
          "18:50",
          "18:51",
          "18:53",
          "18:55",
          "18:56",
          "18:57",
          "18:58",
          "18:59",
          "19:00",
          "19:01",
          "19:02",
          "19:05",
          "19:06",
          "19:07",
          "19:08",
          "19:09",
          "19:11",
          "19:12",
          "19:14",
          "19:15",
          "19:16",
          "19:17",
          "19:18",
          "19:20",
          "19:21",
          "19:22",
          "19:24",
          "19:25",
          "19:26",
          "19:28",
          "19:29",
          "19:30",
          "19:31",
          "19:33",
          "19:35",
          "19:36",
          "19:38",
          "19:39",
          "19:40",
          "19:41",
          "19:42",
          "19:43",
          "19:44",
          "19:45",
          "19:46",
          "19:47",
          "19:48",
          "19:49",
          "19:50",
          "19:51",
          "19:52",
          "19:53",
          "19:54",
          "19:55",
          "19:56",
          "19:57",
          "19:58",
          "20:00",
          "20:01",
          "20:03",
          "20:04",
          "20:05",
          "20:06",
          "20:07",
          "20:08",
          "20:10",
          "20:13",
          "20:14",
          "20:15",
          "20:18",
          "20:19",
          "20:21",
          "20:23",
          "20:24",
          "20:26",
          "20:29",
          "20:30",
          "20:31",
          "20:32",
          "20:33",
          "20:34",
          "20:35",
          "20:36",
          "20:37",
          "20:38",
          "20:39",
          "20:40",
          "20:42",
          "20:43",
          "20:44",
          "20:46",
          "20:47",
          "20:48",
          "20:50",
          "20:51",
          "20:52",
          "20:54",
          "20:55",
          "20:57",
          "20:59"
         ],
         "xaxis": "x",
         "y": [
          3,
          2,
          3,
          1,
          1,
          1,
          1,
          1,
          1,
          1,
          5,
          2,
          2,
          2,
          4,
          3,
          1,
          1,
          2,
          4,
          4,
          2,
          1,
          2,
          1,
          3,
          4,
          1,
          4,
          3,
          3,
          3,
          2,
          1,
          1,
          4,
          1,
          1,
          1,
          1,
          2,
          2,
          2,
          4,
          4,
          2,
          1,
          2,
          1,
          1,
          1,
          1,
          1,
          2,
          1,
          1,
          2,
          3,
          1,
          1,
          1,
          1,
          1,
          2,
          3,
          3,
          1,
          3,
          4,
          2,
          2,
          1,
          2,
          4,
          1,
          1,
          4,
          1,
          2,
          5,
          2,
          2,
          2,
          2,
          2,
          2,
          1,
          5,
          3,
          2,
          1,
          1,
          2,
          1,
          1,
          4,
          2,
          3,
          1,
          2,
          2,
          2,
          2,
          1,
          1,
          1,
          3,
          1,
          1,
          2,
          1,
          2,
          2,
          3,
          2,
          1,
          1,
          1,
          1,
          1,
          2,
          2,
          2,
          1,
          4,
          1,
          2,
          4,
          2,
          4,
          4,
          2,
          1,
          3,
          2,
          3,
          2,
          1,
          3,
          3,
          3,
          2,
          1,
          4,
          1,
          2,
          2,
          1,
          2,
          2,
          1,
          2,
          1,
          3,
          4,
          3,
          4,
          1,
          1,
          1,
          2,
          2,
          3,
          2,
          1,
          3,
          1,
          2,
          2,
          3,
          2,
          1,
          2,
          3,
          3,
          1,
          5,
          1,
          1,
          2,
          1,
          3,
          2,
          2,
          1,
          2,
          5,
          1,
          2,
          1,
          4,
          1,
          1,
          2,
          1,
          2,
          3,
          2,
          2,
          3,
          3,
          1,
          2,
          1,
          1,
          1,
          2,
          1,
          2,
          2,
          2,
          1,
          2,
          3,
          3,
          3,
          1,
          2,
          7,
          3,
          1,
          1,
          1,
          1,
          2,
          1,
          2,
          3,
          2,
          1,
          1,
          1,
          3,
          1,
          2,
          3,
          3,
          2,
          3,
          1,
          4,
          1,
          2,
          1,
          2,
          2,
          1,
          1,
          2,
          1,
          1,
          1,
          2,
          1,
          3,
          3,
          3,
          4,
          2,
          4,
          1,
          2,
          1,
          3,
          1,
          1,
          1,
          4,
          1,
          2,
          1,
          2,
          2,
          3,
          1,
          2,
          2,
          3,
          1,
          3,
          1,
          1,
          1,
          2,
          1,
          1,
          1,
          2,
          1,
          2,
          1,
          2,
          1,
          1,
          1,
          1,
          4,
          1,
          2,
          4,
          3,
          1,
          1,
          4,
          2,
          1,
          1,
          1,
          2,
          1,
          2,
          1,
          2,
          2,
          2,
          2,
          2,
          2,
          2,
          2,
          2,
          2,
          1,
          1,
          2,
          1,
          2,
          1,
          1,
          1,
          1,
          2,
          2,
          3,
          1,
          2,
          1,
          1,
          1,
          1,
          1,
          3,
          5,
          1,
          2,
          1,
          3,
          2,
          2,
          2,
          1,
          1,
          1,
          5,
          1,
          6,
          2,
          2,
          1,
          1,
          2,
          1,
          2,
          1,
          1,
          2,
          2,
          1,
          2,
          3,
          2,
          2,
          2,
          4,
          2,
          1,
          3,
          1,
          3,
          2,
          3,
          1,
          4,
          2,
          2,
          1,
          4,
          1,
          1,
          3,
          2,
          2,
          3,
          3,
          2,
          2,
          2,
          1,
          4,
          1,
          1,
          1,
          4,
          2,
          4,
          1,
          2,
          2,
          2,
          1,
          1,
          1,
          3,
          2,
          1,
          4,
          1,
          1,
          4,
          3,
          2,
          3,
          2,
          1,
          2,
          1,
          2,
          4,
          1,
          5,
          1,
          1,
          3,
          2,
          3,
          3,
          1,
          5,
          1,
          2,
          2,
          1,
          3,
          5,
          3,
          1,
          4,
          2,
          5,
          1,
          2,
          1,
          7,
          2,
          1,
          1,
          1,
          2,
          2,
          2,
          1,
          4,
          1,
          1,
          1,
          3,
          1,
          1,
          1,
          2,
          2,
          1,
          2,
          2,
          1,
          2,
          2,
          3,
          2,
          4,
          2,
          4,
          1,
          3,
          1,
          1,
          1,
          3,
          2,
          3,
          2,
          1,
          1,
          1,
          2,
          1,
          2,
          1,
          2,
          1,
          2,
          1,
          2,
          1,
          1,
          2
         ],
         "yaxis": "y"
        }
       ],
       "layout": {
        "coloraxis": {
         "colorbar": {
          "title": {
           "text": "Quantity"
          }
         },
         "colorscale": [
          [
           0,
           "rgb(241, 236, 236)"
          ],
          [
           0.09090909090909091,
           "rgb(230, 209, 203)"
          ],
          [
           0.18181818181818182,
           "rgb(221, 182, 170)"
          ],
          [
           0.2727272727272727,
           "rgb(213, 156, 137)"
          ],
          [
           0.36363636363636365,
           "rgb(205, 129, 103)"
          ],
          [
           0.45454545454545453,
           "rgb(196, 102, 73)"
          ],
          [
           0.5454545454545454,
           "rgb(186, 74, 47)"
          ],
          [
           0.6363636363636364,
           "rgb(172, 44, 36)"
          ],
          [
           0.7272727272727273,
           "rgb(149, 19, 39)"
          ],
          [
           0.8181818181818182,
           "rgb(120, 14, 40)"
          ],
          [
           0.9090909090909091,
           "rgb(89, 13, 31)"
          ],
          [
           1,
           "rgb(60, 9, 17)"
          ]
         ]
        },
        "font": {
         "size": 15
        },
        "legend": {
         "tracegroupgap": 0
        },
        "margin": {
         "t": 60
        },
        "template": {
         "data": {
          "bar": [
           {
            "error_x": {
             "color": "#2a3f5f"
            },
            "error_y": {
             "color": "#2a3f5f"
            },
            "marker": {
             "line": {
              "color": "#E5ECF6",
              "width": 0.5
             },
             "pattern": {
              "fillmode": "overlay",
              "size": 10,
              "solidity": 0.2
             }
            },
            "type": "bar"
           }
          ],
          "barpolar": [
           {
            "marker": {
             "line": {
              "color": "#E5ECF6",
              "width": 0.5
             },
             "pattern": {
              "fillmode": "overlay",
              "size": 10,
              "solidity": 0.2
             }
            },
            "type": "barpolar"
           }
          ],
          "carpet": [
           {
            "aaxis": {
             "endlinecolor": "#2a3f5f",
             "gridcolor": "white",
             "linecolor": "white",
             "minorgridcolor": "white",
             "startlinecolor": "#2a3f5f"
            },
            "baxis": {
             "endlinecolor": "#2a3f5f",
             "gridcolor": "white",
             "linecolor": "white",
             "minorgridcolor": "white",
             "startlinecolor": "#2a3f5f"
            },
            "type": "carpet"
           }
          ],
          "choropleth": [
           {
            "colorbar": {
             "outlinewidth": 0,
             "ticks": ""
            },
            "type": "choropleth"
           }
          ],
          "contour": [
           {
            "colorbar": {
             "outlinewidth": 0,
             "ticks": ""
            },
            "colorscale": [
             [
              0,
              "#0d0887"
             ],
             [
              0.1111111111111111,
              "#46039f"
             ],
             [
              0.2222222222222222,
              "#7201a8"
             ],
             [
              0.3333333333333333,
              "#9c179e"
             ],
             [
              0.4444444444444444,
              "#bd3786"
             ],
             [
              0.5555555555555556,
              "#d8576b"
             ],
             [
              0.6666666666666666,
              "#ed7953"
             ],
             [
              0.7777777777777778,
              "#fb9f3a"
             ],
             [
              0.8888888888888888,
              "#fdca26"
             ],
             [
              1,
              "#f0f921"
             ]
            ],
            "type": "contour"
           }
          ],
          "contourcarpet": [
           {
            "colorbar": {
             "outlinewidth": 0,
             "ticks": ""
            },
            "type": "contourcarpet"
           }
          ],
          "heatmap": [
           {
            "colorbar": {
             "outlinewidth": 0,
             "ticks": ""
            },
            "colorscale": [
             [
              0,
              "#0d0887"
             ],
             [
              0.1111111111111111,
              "#46039f"
             ],
             [
              0.2222222222222222,
              "#7201a8"
             ],
             [
              0.3333333333333333,
              "#9c179e"
             ],
             [
              0.4444444444444444,
              "#bd3786"
             ],
             [
              0.5555555555555556,
              "#d8576b"
             ],
             [
              0.6666666666666666,
              "#ed7953"
             ],
             [
              0.7777777777777778,
              "#fb9f3a"
             ],
             [
              0.8888888888888888,
              "#fdca26"
             ],
             [
              1,
              "#f0f921"
             ]
            ],
            "type": "heatmap"
           }
          ],
          "heatmapgl": [
           {
            "colorbar": {
             "outlinewidth": 0,
             "ticks": ""
            },
            "colorscale": [
             [
              0,
              "#0d0887"
             ],
             [
              0.1111111111111111,
              "#46039f"
             ],
             [
              0.2222222222222222,
              "#7201a8"
             ],
             [
              0.3333333333333333,
              "#9c179e"
             ],
             [
              0.4444444444444444,
              "#bd3786"
             ],
             [
              0.5555555555555556,
              "#d8576b"
             ],
             [
              0.6666666666666666,
              "#ed7953"
             ],
             [
              0.7777777777777778,
              "#fb9f3a"
             ],
             [
              0.8888888888888888,
              "#fdca26"
             ],
             [
              1,
              "#f0f921"
             ]
            ],
            "type": "heatmapgl"
           }
          ],
          "histogram": [
           {
            "marker": {
             "pattern": {
              "fillmode": "overlay",
              "size": 10,
              "solidity": 0.2
             }
            },
            "type": "histogram"
           }
          ],
          "histogram2d": [
           {
            "colorbar": {
             "outlinewidth": 0,
             "ticks": ""
            },
            "colorscale": [
             [
              0,
              "#0d0887"
             ],
             [
              0.1111111111111111,
              "#46039f"
             ],
             [
              0.2222222222222222,
              "#7201a8"
             ],
             [
              0.3333333333333333,
              "#9c179e"
             ],
             [
              0.4444444444444444,
              "#bd3786"
             ],
             [
              0.5555555555555556,
              "#d8576b"
             ],
             [
              0.6666666666666666,
              "#ed7953"
             ],
             [
              0.7777777777777778,
              "#fb9f3a"
             ],
             [
              0.8888888888888888,
              "#fdca26"
             ],
             [
              1,
              "#f0f921"
             ]
            ],
            "type": "histogram2d"
           }
          ],
          "histogram2dcontour": [
           {
            "colorbar": {
             "outlinewidth": 0,
             "ticks": ""
            },
            "colorscale": [
             [
              0,
              "#0d0887"
             ],
             [
              0.1111111111111111,
              "#46039f"
             ],
             [
              0.2222222222222222,
              "#7201a8"
             ],
             [
              0.3333333333333333,
              "#9c179e"
             ],
             [
              0.4444444444444444,
              "#bd3786"
             ],
             [
              0.5555555555555556,
              "#d8576b"
             ],
             [
              0.6666666666666666,
              "#ed7953"
             ],
             [
              0.7777777777777778,
              "#fb9f3a"
             ],
             [
              0.8888888888888888,
              "#fdca26"
             ],
             [
              1,
              "#f0f921"
             ]
            ],
            "type": "histogram2dcontour"
           }
          ],
          "mesh3d": [
           {
            "colorbar": {
             "outlinewidth": 0,
             "ticks": ""
            },
            "type": "mesh3d"
           }
          ],
          "parcoords": [
           {
            "line": {
             "colorbar": {
              "outlinewidth": 0,
              "ticks": ""
             }
            },
            "type": "parcoords"
           }
          ],
          "pie": [
           {
            "automargin": true,
            "type": "pie"
           }
          ],
          "scatter": [
           {
            "marker": {
             "colorbar": {
              "outlinewidth": 0,
              "ticks": ""
             }
            },
            "type": "scatter"
           }
          ],
          "scatter3d": [
           {
            "line": {
             "colorbar": {
              "outlinewidth": 0,
              "ticks": ""
             }
            },
            "marker": {
             "colorbar": {
              "outlinewidth": 0,
              "ticks": ""
             }
            },
            "type": "scatter3d"
           }
          ],
          "scattercarpet": [
           {
            "marker": {
             "colorbar": {
              "outlinewidth": 0,
              "ticks": ""
             }
            },
            "type": "scattercarpet"
           }
          ],
          "scattergeo": [
           {
            "marker": {
             "colorbar": {
              "outlinewidth": 0,
              "ticks": ""
             }
            },
            "type": "scattergeo"
           }
          ],
          "scattergl": [
           {
            "marker": {
             "colorbar": {
              "outlinewidth": 0,
              "ticks": ""
             }
            },
            "type": "scattergl"
           }
          ],
          "scattermapbox": [
           {
            "marker": {
             "colorbar": {
              "outlinewidth": 0,
              "ticks": ""
             }
            },
            "type": "scattermapbox"
           }
          ],
          "scatterpolar": [
           {
            "marker": {
             "colorbar": {
              "outlinewidth": 0,
              "ticks": ""
             }
            },
            "type": "scatterpolar"
           }
          ],
          "scatterpolargl": [
           {
            "marker": {
             "colorbar": {
              "outlinewidth": 0,
              "ticks": ""
             }
            },
            "type": "scatterpolargl"
           }
          ],
          "scatterternary": [
           {
            "marker": {
             "colorbar": {
              "outlinewidth": 0,
              "ticks": ""
             }
            },
            "type": "scatterternary"
           }
          ],
          "surface": [
           {
            "colorbar": {
             "outlinewidth": 0,
             "ticks": ""
            },
            "colorscale": [
             [
              0,
              "#0d0887"
             ],
             [
              0.1111111111111111,
              "#46039f"
             ],
             [
              0.2222222222222222,
              "#7201a8"
             ],
             [
              0.3333333333333333,
              "#9c179e"
             ],
             [
              0.4444444444444444,
              "#bd3786"
             ],
             [
              0.5555555555555556,
              "#d8576b"
             ],
             [
              0.6666666666666666,
              "#ed7953"
             ],
             [
              0.7777777777777778,
              "#fb9f3a"
             ],
             [
              0.8888888888888888,
              "#fdca26"
             ],
             [
              1,
              "#f0f921"
             ]
            ],
            "type": "surface"
           }
          ],
          "table": [
           {
            "cells": {
             "fill": {
              "color": "#EBF0F8"
             },
             "line": {
              "color": "white"
             }
            },
            "header": {
             "fill": {
              "color": "#C8D4E3"
             },
             "line": {
              "color": "white"
             }
            },
            "type": "table"
           }
          ]
         },
         "layout": {
          "annotationdefaults": {
           "arrowcolor": "#2a3f5f",
           "arrowhead": 0,
           "arrowwidth": 1
          },
          "autotypenumbers": "strict",
          "coloraxis": {
           "colorbar": {
            "outlinewidth": 0,
            "ticks": ""
           }
          },
          "colorscale": {
           "diverging": [
            [
             0,
             "#8e0152"
            ],
            [
             0.1,
             "#c51b7d"
            ],
            [
             0.2,
             "#de77ae"
            ],
            [
             0.3,
             "#f1b6da"
            ],
            [
             0.4,
             "#fde0ef"
            ],
            [
             0.5,
             "#f7f7f7"
            ],
            [
             0.6,
             "#e6f5d0"
            ],
            [
             0.7,
             "#b8e186"
            ],
            [
             0.8,
             "#7fbc41"
            ],
            [
             0.9,
             "#4d9221"
            ],
            [
             1,
             "#276419"
            ]
           ],
           "sequential": [
            [
             0,
             "#0d0887"
            ],
            [
             0.1111111111111111,
             "#46039f"
            ],
            [
             0.2222222222222222,
             "#7201a8"
            ],
            [
             0.3333333333333333,
             "#9c179e"
            ],
            [
             0.4444444444444444,
             "#bd3786"
            ],
            [
             0.5555555555555556,
             "#d8576b"
            ],
            [
             0.6666666666666666,
             "#ed7953"
            ],
            [
             0.7777777777777778,
             "#fb9f3a"
            ],
            [
             0.8888888888888888,
             "#fdca26"
            ],
            [
             1,
             "#f0f921"
            ]
           ],
           "sequentialminus": [
            [
             0,
             "#0d0887"
            ],
            [
             0.1111111111111111,
             "#46039f"
            ],
            [
             0.2222222222222222,
             "#7201a8"
            ],
            [
             0.3333333333333333,
             "#9c179e"
            ],
            [
             0.4444444444444444,
             "#bd3786"
            ],
            [
             0.5555555555555556,
             "#d8576b"
            ],
            [
             0.6666666666666666,
             "#ed7953"
            ],
            [
             0.7777777777777778,
             "#fb9f3a"
            ],
            [
             0.8888888888888888,
             "#fdca26"
            ],
            [
             1,
             "#f0f921"
            ]
           ]
          },
          "colorway": [
           "#636efa",
           "#EF553B",
           "#00cc96",
           "#ab63fa",
           "#FFA15A",
           "#19d3f3",
           "#FF6692",
           "#B6E880",
           "#FF97FF",
           "#FECB52"
          ],
          "font": {
           "color": "#2a3f5f"
          },
          "geo": {
           "bgcolor": "white",
           "lakecolor": "white",
           "landcolor": "#E5ECF6",
           "showlakes": true,
           "showland": true,
           "subunitcolor": "white"
          },
          "hoverlabel": {
           "align": "left"
          },
          "hovermode": "closest",
          "mapbox": {
           "style": "light"
          },
          "paper_bgcolor": "white",
          "plot_bgcolor": "#E5ECF6",
          "polar": {
           "angularaxis": {
            "gridcolor": "white",
            "linecolor": "white",
            "ticks": ""
           },
           "bgcolor": "#E5ECF6",
           "radialaxis": {
            "gridcolor": "white",
            "linecolor": "white",
            "ticks": ""
           }
          },
          "scene": {
           "xaxis": {
            "backgroundcolor": "#E5ECF6",
            "gridcolor": "white",
            "gridwidth": 2,
            "linecolor": "white",
            "showbackground": true,
            "ticks": "",
            "zerolinecolor": "white"
           },
           "yaxis": {
            "backgroundcolor": "#E5ECF6",
            "gridcolor": "white",
            "gridwidth": 2,
            "linecolor": "white",
            "showbackground": true,
            "ticks": "",
            "zerolinecolor": "white"
           },
           "zaxis": {
            "backgroundcolor": "#E5ECF6",
            "gridcolor": "white",
            "gridwidth": 2,
            "linecolor": "white",
            "showbackground": true,
            "ticks": "",
            "zerolinecolor": "white"
           }
          },
          "shapedefaults": {
           "line": {
            "color": "#2a3f5f"
           }
          },
          "ternary": {
           "aaxis": {
            "gridcolor": "white",
            "linecolor": "white",
            "ticks": ""
           },
           "baxis": {
            "gridcolor": "white",
            "linecolor": "white",
            "ticks": ""
           },
           "bgcolor": "#E5ECF6",
           "caxis": {
            "gridcolor": "white",
            "linecolor": "white",
            "ticks": ""
           }
          },
          "title": {
           "x": 0.05
          },
          "xaxis": {
           "automargin": true,
           "gridcolor": "white",
           "linecolor": "white",
           "ticks": "",
           "title": {
            "standoff": 15
           },
           "zerolinecolor": "white",
           "zerolinewidth": 2
          },
          "yaxis": {
           "automargin": true,
           "gridcolor": "white",
           "linecolor": "white",
           "ticks": "",
           "title": {
            "standoff": 15
           },
           "zerolinecolor": "white",
           "zerolinewidth": 2
          }
         }
        },
        "title": {
         "text": "Customer Buy Patern"
        },
        "xaxis": {
         "anchor": "y",
         "domain": [
          0,
          1
         ],
         "title": {
          "text": "Time"
         }
        },
        "yaxis": {
         "anchor": "x",
         "domain": [
          0,
          1
         ],
         "title": {
          "text": "Invoice ID"
         }
        }
       }
      }
     },
     "metadata": {},
     "output_type": "display_data"
    }
   ],
   "source": [
    "# Dataviz - Scaterplot\n",
    "# Buypatern\n",
    "\n",
    "fig = px.scatter(graph8, x='Time', y='Invoice ID', color='Quantity',\n",
    "                color_continuous_scale=px.colors.sequential.amp)\n",
    "\n",
    "fig.update_layout(\n",
    "    title=\"Customer Buy Patern\",\n",
    "    font=dict(size=15)\n",
    ")\n",
    "\n",
    "fig.show()"
   ]
  },
  {
   "cell_type": "markdown",
   "metadata": {},
   "source": [
    "From scatterplot above, We know:\n",
    "- Highest volume transaction is equally spreadout thorughout timespan.\n",
    "- Highest quantity transaction also equally spreadout thorughout timespan."
   ]
  },
  {
   "cell_type": "markdown",
   "metadata": {},
   "source": [
    "## VI. Hypothesis Testing\n",
    "\n",
    "On previous analysis, We get insight that `Female-Member` are our most valuable customers because they generate more money than the others.\n",
    "Let's validate it through `Hypothesis Testing.`\n",
    "\n",
    "First, let's once again see the dataset."
   ]
  },
  {
   "cell_type": "code",
   "execution_count": 45,
   "metadata": {},
   "outputs": [
    {
     "name": "stdout",
     "output_type": "stream",
     "text": [
      "Measure of Central Tendency\n",
      "\n",
      "Min :  0.5085\n"
     ]
    },
    {
     "ename": "AttributeError",
     "evalue": "'float' object has no attribute 'round'",
     "output_type": "error",
     "traceback": [
      "\u001b[1;31m---------------------------------------------------------------------------\u001b[0m",
      "\u001b[1;31mAttributeError\u001b[0m                            Traceback (most recent call last)",
      "\u001b[1;32m~\\AppData\\Local\\Temp/ipykernel_24380/1480895151.py\u001b[0m in \u001b[0;36m<module>\u001b[1;34m\u001b[0m\n\u001b[0;32m      4\u001b[0m \u001b[0mprint\u001b[0m\u001b[1;33m(\u001b[0m\u001b[1;33m)\u001b[0m\u001b[1;33m\u001b[0m\u001b[1;33m\u001b[0m\u001b[0m\n\u001b[0;32m      5\u001b[0m \u001b[0mprint\u001b[0m\u001b[1;33m(\u001b[0m\u001b[1;34mf'Min : '\u001b[0m\u001b[1;33m,\u001b[0m \u001b[0mdf_cleaned\u001b[0m\u001b[1;33m[\u001b[0m\u001b[1;34m'gross income'\u001b[0m\u001b[1;33m]\u001b[0m\u001b[1;33m.\u001b[0m\u001b[0mmin\u001b[0m\u001b[1;33m(\u001b[0m\u001b[1;33m)\u001b[0m\u001b[1;33m)\u001b[0m\u001b[1;33m\u001b[0m\u001b[1;33m\u001b[0m\u001b[0m\n\u001b[1;32m----> 6\u001b[1;33m \u001b[0mprint\u001b[0m\u001b[1;33m(\u001b[0m\u001b[1;34mf'Mean : '\u001b[0m\u001b[1;33m,\u001b[0m \u001b[0mdf_cleaned\u001b[0m\u001b[1;33m[\u001b[0m\u001b[1;34m'gross income'\u001b[0m\u001b[1;33m]\u001b[0m\u001b[1;33m.\u001b[0m\u001b[0mmean\u001b[0m\u001b[1;33m(\u001b[0m\u001b[1;33m)\u001b[0m\u001b[1;33m.\u001b[0m\u001b[0mround\u001b[0m\u001b[1;33m(\u001b[0m\u001b[1;36m2\u001b[0m\u001b[1;33m)\u001b[0m\u001b[1;33m)\u001b[0m\u001b[1;33m\u001b[0m\u001b[1;33m\u001b[0m\u001b[0m\n\u001b[0m\u001b[0;32m      7\u001b[0m \u001b[0mprint\u001b[0m\u001b[1;33m(\u001b[0m\u001b[1;34mf'Median : '\u001b[0m\u001b[1;33m,\u001b[0m \u001b[0mdf_cleaned\u001b[0m\u001b[1;33m[\u001b[0m\u001b[1;34m'gross income'\u001b[0m\u001b[1;33m]\u001b[0m\u001b[1;33m.\u001b[0m\u001b[0mmedian\u001b[0m\u001b[1;33m(\u001b[0m\u001b[1;33m)\u001b[0m\u001b[1;33m)\u001b[0m\u001b[1;33m\u001b[0m\u001b[1;33m\u001b[0m\u001b[0m\n\u001b[0;32m      8\u001b[0m \u001b[0mprint\u001b[0m\u001b[1;33m(\u001b[0m\u001b[1;34mf'Mode : '\u001b[0m\u001b[1;33m,\u001b[0m \u001b[0mdf_cleaned\u001b[0m\u001b[1;33m[\u001b[0m\u001b[1;34m'gross income'\u001b[0m\u001b[1;33m]\u001b[0m\u001b[1;33m.\u001b[0m\u001b[0mmode\u001b[0m\u001b[1;33m(\u001b[0m\u001b[1;33m)\u001b[0m\u001b[1;33m)\u001b[0m\u001b[1;33m\u001b[0m\u001b[1;33m\u001b[0m\u001b[0m\n",
      "\u001b[1;31mAttributeError\u001b[0m: 'float' object has no attribute 'round'"
     ]
    }
   ],
   "source": [
    "# Descriptive Statistic\n",
    "\n",
    "print('Measure of Central Tendency')\n",
    "print()\n",
    "print(f'Min : ', df_cleaned['gross income'].min())\n",
    "print(f'Mean : ', df_cleaned['gross income'].mean().round(2))\n",
    "print(f'Median : ', df_cleaned['gross income'].median())\n",
    "print(f'Mode : ', df_cleaned['gross income'].mode())\n",
    "print(f'Max : ', df_cleaned['gross income'].max())\n",
    "\n",
    "print()\n",
    "\n",
    "print('Measure of Variance')\n",
    "print()\n",
    "print(f'Range : ', df_cleaned['gross income'].max() - df_cleaned['gross income'].min())\n",
    "print(f'1st Quartile : ', df_cleaned['gross income'].quantile(0.25))\n",
    "print(f'3rd Quartile : ', df_cleaned['gross income'].quantile(0.75))\n",
    "print(f'Variance : ', df_cleaned['gross income'].var().round(2))\n",
    "print(f'Std. Deviation : ', df_cleaned['gross income'].std().round(2))"
   ]
  },
  {
   "cell_type": "code",
   "execution_count": null,
   "metadata": {},
   "outputs": [
    {
     "data": {
      "image/png": "[encoded data removed]",
      "text/plain": [
       "<Figure size 1080x720 with 1 Axes>"
      ]
     },
     "metadata": {
      "needs_background": "light"
     },
     "output_type": "display_data"
    }
   ],
   "source": [
    "# Distributin Plot\n",
    "\n",
    "plt.figure(figsize=(15, 10))\n",
    "\n",
    "sns.histplot(df_cleaned['gross income'], kde=True)\n",
    "plt.axvline(df_cleaned['gross income'].mean(), linestyle='dashed', label='mean', color='orange')\n",
    "plt.axvline(df_cleaned['gross income'].median(), linestyle='dashed', label='median', color='green')\n",
    "\n",
    "plt.legend()\n",
    "plt.show()"
   ]
  },
  {
   "cell_type": "code",
   "execution_count": null,
   "metadata": {},
   "outputs": [
    {
     "data": {
      "application/vnd.plotly.v1+json": {
       "config": {
        "plotlyServerURL": "https://plot.ly"
       },
       "data": [
        {
         "alignmentgroup": "True",
         "hovertemplate": "variable=%{x}<br>value=%{y}<extra></extra>",
         "legendgroup": "",
         "marker": {
          "color": "#636efa"
         },
         "name": "",
         "notched": false,
         "offsetgroup": "",
         "orientation": "v",
         "showlegend": false,
         "type": "box",
         "x": [
          "gross income",
          "gross income",
          "gross income",
          "gross income",
          "gross income",
          "gross income",
          "gross income",
          "gross income",
          "gross income",
          "gross income",
          "gross income",
          "gross income",
          "gross income",
          "gross income",
          "gross income",
          "gross income",
          "gross income",
          "gross income",
          "gross income",
          "gross income",
          "gross income",
          "gross income",
          "gross income",
          "gross income",
          "gross income",
          "gross income",
          "gross income",
          "gross income",
          "gross income",
          "gross income",
          "gross income",
          "gross income",
          "gross income",
          "gross income",
          "gross income",
          "gross income",
          "gross income",
          "gross income",
          "gross income",
          "gross income",
          "gross income",
          "gross income",
          "gross income",
          "gross income",
          "gross income",
          "gross income",
          "gross income",
          "gross income",
          "gross income",
          "gross income",
          "gross income",
          "gross income",
          "gross income",
          "gross income",
          "gross income",
          "gross income",
          "gross income",
          "gross income",
          "gross income",
          "gross income",
          "gross income",
          "gross income",
          "gross income",
          "gross income",
          "gross income",
          "gross income",
          "gross income",
          "gross income",
          "gross income",
          "gross income",
          "gross income",
          "gross income",
          "gross income",
          "gross income",
          "gross income",
          "gross income",
          "gross income",
          "gross income",
          "gross income",
          "gross income",
          "gross income",
          "gross income",
          "gross income",
          "gross income",
          "gross income",
          "gross income",
          "gross income",
          "gross income",
          "gross income",
          "gross income",
          "gross income",
          "gross income",
          "gross income",
          "gross income",
          "gross income",
          "gross income",
          "gross income",
          "gross income",
          "gross income",
          "gross income",
          "gross income",
          "gross income",
          "gross income",
          "gross income",
          "gross income",
          "gross income",
          "gross income",
          "gross income",
          "gross income",
          "gross income",
          "gross income",
          "gross income",
          "gross income",
          "gross income",
          "gross income",
          "gross income",
          "gross income",
          "gross income",
          "gross income",
          "gross income",
          "gross income",
          "gross income",
          "gross income",
          "gross income",
          "gross income",
          "gross income",
          "gross income",
          "gross income",
          "gross income",
          "gross income",
          "gross income",
          "gross income",
          "gross income",
          "gross income",
          "gross income",
          "gross income",
          "gross income",
          "gross income",
          "gross income",
          "gross income",
          "gross income",
          "gross income",
          "gross income",
          "gross income",
          "gross income",
          "gross income",
          "gross income",
          "gross income",
          "gross income",
          "gross income",
          "gross income",
          "gross income",
          "gross income",
          "gross income",
          "gross income",
          "gross income",
          "gross income",
          "gross income",
          "gross income",
          "gross income",
          "gross income",
          "gross income",
          "gross income",
          "gross income",
          "gross income",
          "gross income",
          "gross income",
          "gross income",
          "gross income",
          "gross income",
          "gross income",
          "gross income",
          "gross income",
          "gross income",
          "gross income",
          "gross income",
          "gross income",
          "gross income",
          "gross income",
          "gross income",
          "gross income",
          "gross income",
          "gross income",
          "gross income",
          "gross income",
          "gross income",
          "gross income",
          "gross income",
          "gross income",
          "gross income",
          "gross income",
          "gross income",
          "gross income",
          "gross income",
          "gross income",
          "gross income",
          "gross income",
          "gross income",
          "gross income",
          "gross income",
          "gross income",
          "gross income",
          "gross income",
          "gross income",
          "gross income",
          "gross income",
          "gross income",
          "gross income",
          "gross income",
          "gross income",
          "gross income",
          "gross income",
          "gross income",
          "gross income",
          "gross income",
          "gross income",
          "gross income",
          "gross income",
          "gross income",
          "gross income",
          "gross income",
          "gross income",
          "gross income",
          "gross income",
          "gross income",
          "gross income",
          "gross income",
          "gross income",
          "gross income",
          "gross income",
          "gross income",
          "gross income",
          "gross income",
          "gross income",
          "gross income",
          "gross income",
          "gross income",
          "gross income",
          "gross income",
          "gross income",
          "gross income",
          "gross income",
          "gross income",
          "gross income",
          "gross income",
          "gross income",
          "gross income",
          "gross income",
          "gross income",
          "gross income",
          "gross income",
          "gross income",
          "gross income",
          "gross income",
          "gross income",
          "gross income",
          "gross income",
          "gross income",
          "gross income",
          "gross income",
          "gross income",
          "gross income",
          "gross income",
          "gross income",
          "gross income",
          "gross income",
          "gross income",
          "gross income",
          "gross income",
          "gross income",
          "gross income",
          "gross income",
          "gross income",
          "gross income",
          "gross income",
          "gross income",
          "gross income",
          "gross income",
          "gross income",
          "gross income",
          "gross income",
          "gross income",
          "gross income",
          "gross income",
          "gross income",
          "gross income",
          "gross income",
          "gross income",
          "gross income",
          "gross income",
          "gross income",
          "gross income",
          "gross income",
          "gross income",
          "gross income",
          "gross income",
          "gross income",
          "gross income",
          "gross income",
          "gross income",
          "gross income",
          "gross income",
          "gross income",
          "gross income",
          "gross income",
          "gross income",
          "gross income",
          "gross income",
          "gross income",
          "gross income",
          "gross income",
          "gross income",
          "gross income",
          "gross income",
          "gross income",
          "gross income",
          "gross income",
          "gross income",
          "gross income",
          "gross income",
          "gross income",
          "gross income",
          "gross income",
          "gross income",
          "gross income",
          "gross income",
          "gross income",
          "gross income",
          "gross income",
          "gross income",
          "gross income",
          "gross income",
          "gross income",
          "gross income",
          "gross income",
          "gross income",
          "gross income",
          "gross income",
          "gross income",
          "gross income",
          "gross income",
          "gross income",
          "gross income",
          "gross income",
          "gross income",
          "gross income",
          "gross income",
          "gross income",
          "gross income",
          "gross income",
          "gross income",
          "gross income",
          "gross income",
          "gross income",
          "gross income",
          "gross income",
          "gross income",
          "gross income",
          "gross income",
          "gross income",
          "gross income",
          "gross income",
          "gross income",
          "gross income",
          "gross income",
          "gross income",
          "gross income",
          "gross income",
          "gross income",
          "gross income",
          "gross income",
          "gross income",
          "gross income",
          "gross income",
          "gross income",
          "gross income",
          "gross income",
          "gross income",
          "gross income",
          "gross income",
          "gross income",
          "gross income",
          "gross income",
          "gross income",
          "gross income",
          "gross income",
          "gross income",
          "gross income",
          "gross income",
          "gross income",
          "gross income",
          "gross income",
          "gross income",
          "gross income",
          "gross income",
          "gross income",
          "gross income",
          "gross income",
          "gross income",
          "gross income",
          "gross income",
          "gross income",
          "gross income",
          "gross income",
          "gross income",
          "gross income",
          "gross income",
          "gross income",
          "gross income",
          "gross income",
          "gross income",
          "gross income",
          "gross income",
          "gross income",
          "gross income",
          "gross income",
          "gross income",
          "gross income",
          "gross income",
          "gross income",
          "gross income",
          "gross income",
          "gross income",
          "gross income",
          "gross income",
          "gross income",
          "gross income",
          "gross income",
          "gross income",
          "gross income",
          "gross income",
          "gross income",
          "gross income",
          "gross income",
          "gross income",
          "gross income",
          "gross income",
          "gross income",
          "gross income",
          "gross income",
          "gross income",
          "gross income",
          "gross income",
          "gross income",
          "gross income",
          "gross income",
          "gross income",
          "gross income",
          "gross income",
          "gross income",
          "gross income",
          "gross income",
          "gross income",
          "gross income",
          "gross income",
          "gross income",
          "gross income",
          "gross income",
          "gross income",
          "gross income",
          "gross income",
          "gross income",
          "gross income",
          "gross income",
          "gross income",
          "gross income",
          "gross income",
          "gross income",
          "gross income",
          "gross income",
          "gross income",
          "gross income",
          "gross income",
          "gross income",
          "gross income",
          "gross income",
          "gross income",
          "gross income",
          "gross income",
          "gross income",
          "gross income",
          "gross income",
          "gross income",
          "gross income",
          "gross income",
          "gross income",
          "gross income",
          "gross income",
          "gross income",
          "gross income",
          "gross income",
          "gross income",
          "gross income",
          "gross income",
          "gross income",
          "gross income",
          "gross income",
          "gross income",
          "gross income",
          "gross income",
          "gross income",
          "gross income",
          "gross income",
          "gross income",
          "gross income",
          "gross income",
          "gross income",
          "gross income",
          "gross income",
          "gross income",
          "gross income",
          "gross income",
          "gross income",
          "gross income",
          "gross income",
          "gross income",
          "gross income",
          "gross income",
          "gross income",
          "gross income",
          "gross income",
          "gross income",
          "gross income",
          "gross income",
          "gross income",
          "gross income",
          "gross income",
          "gross income",
          "gross income",
          "gross income",
          "gross income",
          "gross income",
          "gross income",
          "gross income",
          "gross income",
          "gross income",
          "gross income",
          "gross income",
          "gross income",
          "gross income",
          "gross income",
          "gross income",
          "gross income",
          "gross income",
          "gross income",
          "gross income",
          "gross income",
          "gross income",
          "gross income",
          "gross income",
          "gross income",
          "gross income",
          "gross income",
          "gross income",
          "gross income",
          "gross income",
          "gross income",
          "gross income",
          "gross income",
          "gross income",
          "gross income",
          "gross income",
          "gross income",
          "gross income",
          "gross income",
          "gross income",
          "gross income",
          "gross income",
          "gross income",
          "gross income",
          "gross income",
          "gross income",
          "gross income",
          "gross income",
          "gross income",
          "gross income",
          "gross income",
          "gross income",
          "gross income",
          "gross income",
          "gross income",
          "gross income",
          "gross income",
          "gross income",
          "gross income",
          "gross income",
          "gross income",
          "gross income",
          "gross income",
          "gross income",
          "gross income",
          "gross income",
          "gross income",
          "gross income",
          "gross income",
          "gross income",
          "gross income",
          "gross income",
          "gross income",
          "gross income",
          "gross income",
          "gross income",
          "gross income",
          "gross income",
          "gross income",
          "gross income",
          "gross income",
          "gross income",
          "gross income",
          "gross income",
          "gross income",
          "gross income",
          "gross income",
          "gross income",
          "gross income",
          "gross income",
          "gross income",
          "gross income",
          "gross income",
          "gross income",
          "gross income",
          "gross income",
          "gross income",
          "gross income",
          "gross income",
          "gross income",
          "gross income",
          "gross income",
          "gross income",
          "gross income",
          "gross income",
          "gross income",
          "gross income",
          "gross income",
          "gross income",
          "gross income",
          "gross income",
          "gross income",
          "gross income",
          "gross income",
          "gross income",
          "gross income",
          "gross income",
          "gross income",
          "gross income",
          "gross income",
          "gross income",
          "gross income",
          "gross income",
          "gross income",
          "gross income",
          "gross income",
          "gross income",
          "gross income",
          "gross income",
          "gross income",
          "gross income",
          "gross income",
          "gross income",
          "gross income",
          "gross income",
          "gross income",
          "gross income",
          "gross income",
          "gross income",
          "gross income",
          "gross income",
          "gross income",
          "gross income",
          "gross income",
          "gross income",
          "gross income",
          "gross income",
          "gross income",
          "gross income",
          "gross income",
          "gross income",
          "gross income",
          "gross income",
          "gross income",
          "gross income",
          "gross income",
          "gross income",
          "gross income",
          "gross income",
          "gross income",
          "gross income",
          "gross income",
          "gross income",
          "gross income",
          "gross income",
          "gross income",
          "gross income",
          "gross income",
          "gross income",
          "gross income",
          "gross income",
          "gross income",
          "gross income",
          "gross income",
          "gross income",
          "gross income",
          "gross income",
          "gross income",
          "gross income",
          "gross income",
          "gross income",
          "gross income",
          "gross income",
          "gross income",
          "gross income",
          "gross income",
          "gross income",
          "gross income",
          "gross income",
          "gross income",
          "gross income",
          "gross income",
          "gross income",
          "gross income",
          "gross income",
          "gross income",
          "gross income",
          "gross income",
          "gross income",
          "gross income",
          "gross income",
          "gross income",
          "gross income",
          "gross income",
          "gross income",
          "gross income",
          "gross income",
          "gross income",
          "gross income",
          "gross income",
          "gross income",
          "gross income",
          "gross income",
          "gross income",
          "gross income",
          "gross income",
          "gross income",
          "gross income",
          "gross income",
          "gross income",
          "gross income",
          "gross income",
          "gross income",
          "gross income",
          "gross income",
          "gross income",
          "gross income",
          "gross income",
          "gross income",
          "gross income",
          "gross income",
          "gross income",
          "gross income",
          "gross income",
          "gross income",
          "gross income",
          "gross income",
          "gross income",
          "gross income",
          "gross income",
          "gross income",
          "gross income",
          "gross income",
          "gross income",
          "gross income",
          "gross income",
          "gross income",
          "gross income",
          "gross income",
          "gross income",
          "gross income",
          "gross income",
          "gross income",
          "gross income",
          "gross income",
          "gross income",
          "gross income",
          "gross income",
          "gross income",
          "gross income",
          "gross income",
          "gross income",
          "gross income",
          "gross income",
          "gross income",
          "gross income",
          "gross income",
          "gross income",
          "gross income",
          "gross income",
          "gross income",
          "gross income",
          "gross income",
          "gross income",
          "gross income",
          "gross income",
          "gross income",
          "gross income",
          "gross income",
          "gross income",
          "gross income",
          "gross income",
          "gross income",
          "gross income",
          "gross income",
          "gross income",
          "gross income",
          "gross income",
          "gross income",
          "gross income",
          "gross income",
          "gross income",
          "gross income",
          "gross income",
          "gross income",
          "gross income",
          "gross income",
          "gross income",
          "gross income",
          "gross income",
          "gross income",
          "gross income",
          "gross income",
          "gross income",
          "gross income",
          "gross income",
          "gross income",
          "gross income",
          "gross income",
          "gross income",
          "gross income",
          "gross income",
          "gross income",
          "gross income",
          "gross income",
          "gross income",
          "gross income",
          "gross income",
          "gross income",
          "gross income",
          "gross income",
          "gross income",
          "gross income",
          "gross income",
          "gross income",
          "gross income",
          "gross income",
          "gross income",
          "gross income",
          "gross income",
          "gross income",
          "gross income",
          "gross income",
          "gross income",
          "gross income",
          "gross income",
          "gross income",
          "gross income",
          "gross income",
          "gross income",
          "gross income",
          "gross income",
          "gross income",
          "gross income",
          "gross income",
          "gross income",
          "gross income",
          "gross income",
          "gross income",
          "gross income",
          "gross income",
          "gross income",
          "gross income",
          "gross income",
          "gross income",
          "gross income",
          "gross income",
          "gross income",
          "gross income",
          "gross income",
          "gross income",
          "gross income",
          "gross income",
          "gross income",
          "gross income",
          "gross income",
          "gross income",
          "gross income",
          "gross income",
          "gross income",
          "gross income",
          "gross income",
          "gross income",
          "gross income",
          "gross income",
          "gross income",
          "gross income",
          "gross income",
          "gross income",
          "gross income",
          "gross income",
          "gross income",
          "gross income",
          "gross income",
          "gross income",
          "gross income",
          "gross income",
          "gross income",
          "gross income",
          "gross income",
          "gross income",
          "gross income",
          "gross income",
          "gross income",
          "gross income",
          "gross income",
          "gross income",
          "gross income",
          "gross income",
          "gross income",
          "gross income",
          "gross income",
          "gross income",
          "gross income",
          "gross income",
          "gross income",
          "gross income",
          "gross income",
          "gross income",
          "gross income",
          "gross income",
          "gross income",
          "gross income",
          "gross income",
          "gross income",
          "gross income",
          "gross income",
          "gross income",
          "gross income",
          "gross income",
          "gross income",
          "gross income",
          "gross income",
          "gross income",
          "gross income",
          "gross income",
          "gross income",
          "gross income",
          "gross income",
          "gross income",
          "gross income",
          "gross income",
          "gross income",
          "gross income",
          "gross income",
          "gross income",
          "gross income",
          "gross income",
          "gross income",
          "gross income",
          "gross income",
          "gross income",
          "gross income",
          "gross income",
          "gross income",
          "gross income",
          "gross income",
          "gross income",
          "gross income",
          "gross income",
          "gross income",
          "gross income",
          "gross income",
          "gross income",
          "gross income",
          "gross income",
          "gross income",
          "gross income",
          "gross income",
          "gross income",
          "gross income",
          "gross income",
          "gross income",
          "gross income",
          "gross income",
          "gross income",
          "gross income",
          "gross income",
          "gross income",
          "gross income",
          "gross income",
          "gross income",
          "gross income",
          "gross income"
         ],
         "x0": " ",
         "xaxis": "x",
         "y": [
          26.1415,
          3.82,
          16.2155,
          23.288,
          30.2085,
          29.8865,
          20.652,
          36.78,
          3.626,
          8.226,
          2.896,
          5.102,
          11.7375,
          21.595,
          35.69,
          28.116,
          24.1255,
          21.783,
          8.2005,
          4.03,
          21.51,
          13.197,
          3.32,
          8.64,
          13.2945,
          21.036,
          1.676,
          8.767,
          22.09,
          11.2005,
          23.5325,
          35.1315,
          33.512,
          9.658,
          19.884,
          3.406,
          15.655,
          27.396,
          21.968,
          12.048,
          4.336,
          5.611,
          20.736,
          39.48,
          1.537,
          18.792,
          25.5105,
          9.0045,
          5.679,
          41.315,
          31.99,
          11.1475,
          3.574,
          0.7715,
          1.616,
          34.392,
          4.434,
          35.84,
          36.175,
          9.183,
          3.711,
          16.719,
          24.7815,
          7.905,
          15.148,
          7.935,
          3.347,
          29.283,
          39.385,
          0.9165,
          44.74,
          31.06,
          7.278,
          22.773,
          33.6015,
          20.825,
          22.068,
          9.0045,
          39.155,
          5.095,
          29.757,
          14.502,
          7.7,
          16.072,
          12.2275,
          29.071,
          19.13,
          17.283,
          2.1235,
          23.097,
          9.476,
          22.43,
          7.693,
          28.962,
          4.4875,
          4.858,
          43.935,
          3.735,
          7.9125,
          24.81,
          2.4355,
          35.3475,
          10.3815,
          17.478,
          10.6225,
          44.335,
          8.214,
          18.639,
          15.291,
          40.985,
          1.649,
          14.7315,
          25.494,
          26.1315,
          36.3555,
          4.053,
          5.485,
          2.568,
          5.48,
          5.344,
          39.824,
          19.992,
          44.982,
          25.564,
          22.588,
          32.7915,
          8.0625,
          14.2785,
          27.416,
          40.626,
          13.867,
          27.639,
          6.968,
          26.235,
          24.39,
          13.533,
          6.5775,
          10.326,
          25.955,
          29,
          44.9,
          45.25,
          34.3,
          1.5205,
          23.385,
          13.878,
          15.07,
          13.228,
          28.744,
          12.984,
          18.308,
          12.096,
          37.458,
          4.944,
          32.388,
          23.0725,
          3.6085,
          12.57,
          43.749,
          28.017,
          17.272,
          3.1845,
          16.0265,
          7.64,
          19.95,
          17.028,
          47.79,
          49.49,
          15.384,
          24.332,
          17.5025,
          20.0125,
          8.34,
          15.867,
          7.916,
          15.228,
          8.868,
          7.8785,
          22.164,
          13.02,
          22.491,
          15.388,
          7.75,
          13.724,
          4.319,
          2.712,
          37.796,
          9.294,
          3.7035,
          13.962,
          11.556,
          7.352,
          39.51,
          5.11,
          8.1775,
          3.7145,
          4.37,
          1.2645,
          8.3,
          17.8475,
          5.745,
          11.498,
          21.4935,
          12.95,
          4.4425,
          10.3635,
          29.9925,
          14.265,
          4.5555,
          44.8785,
          11.8035,
          41.967,
          23.09,
          6.963,
          10.3635,
          0.914,
          6.1925,
          14.196,
          37.948,
          8.601,
          13.605,
          21.728,
          2.9525,
          0.627,
          4.325,
          8.716,
          31.2165,
          7.412,
          27.21,
          25.368,
          8.137,
          1.5885,
          37.8405,
          14.764,
          25.97,
          9.314,
          4.3525,
          11.055,
          3.305,
          4.4845,
          11.223,
          5.977,
          9.32,
          12.53,
          37.548,
          19.036,
          12.21,
          4.485,
          15.544,
          25.571,
          20.9475,
          17.595,
          1.439,
          4.75,
          23.56,
          6.524,
          3.3175,
          7.773,
          6.45,
          13.188,
          33.777,
          3.29,
          7.66,
          11.12,
          2.7225,
          34.44,
          7.094,
          37.3,
          14.148,
          17.77,
          16.8575,
          2.112,
          9.693,
          1.203,
          29.913,
          16.7895,
          10.91,
          19.084,
          35.495,
          22.01,
          27.984,
          1.85,
          0.767,
          29.949,
          9.534,
          16.67,
          3.743,
          10.6875,
          16.9785,
          33.208,
          20.15,
          9.7475,
          3.124,
          3.636,
          9.055,
          12.98,
          5.768,
          23.514,
          12.002,
          4.4305,
          9.982,
          1.9505,
          2.4305,
          10.238,
          5.984,
          25.27,
          14.0805,
          35.516,
          3.972,
          8.191,
          23.979,
          6.933,
          3.5575,
          6.9975,
          39.065,
          9.937,
          3.162,
          18.6975,
          10.3845,
          8.814,
          10.3185,
          1.971,
          4.578,
          15.4425,
          6.456,
          19.548,
          24.945,
          18.852,
          10.226,
          7.272,
          9.909,
          4.935,
          19.255,
          2.348,
          3.675,
          7.1125,
          34.38,
          17.385,
          7.1475,
          19.269,
          7.2135,
          19.5895,
          26.915,
          24.2575,
          6.6975,
          35.0685,
          3.5975,
          35.7,
          9.107,
          6.75,
          49.65,
          18.0915,
          19.1555,
          12.15,
          1.512,
          17.828,
          18.775,
          47.72,
          4.125,
          3.7485,
          32.384,
          37.788,
          9.979,
          21.966,
          8.248,
          16.336,
          23.094,
          13.188,
          7.18,
          9.675,
          9.191,
          6.096,
          21.033,
          12.624,
          16.7725,
          24.175,
          15.921,
          33.4215,
          19.396,
          4.73,
          16.466,
          2.661,
          24.9225,
          14.978,
          10.235,
          3.791,
          14.031,
          16.16,
          24.3315,
          6.377,
          12.072,
          18.975,
          3.841,
          26.13,
          3.987,
          19.375,
          13.5675,
          6.1155,
          12.318,
          8.658,
          11.829,
          9.244,
          0.699,
          9.9375,
          34.2265,
          13.452,
          3.4475,
          13.742,
          11.306,
          5.955,
          17.105,
          2.187,
          5.2425,
          3.876,
          20.372,
          4.8055,
          9.076,
          4.0755,
          5.722,
          8.827,
          5.79,
          12.6075,
          48.605,
          10.168,
          0.814,
          18.2745,
          18.6095,
          3.1305,
          16.8175,
          45.325,
          6.908,
          4.327,
          7.038,
          33.439,
          2.372,
          44.658,
          16.586,
          10.197,
          3.408,
          16.344,
          4.36,
          35.372,
          40.1445,
          0.639,
          6.685,
          0.9575,
          13.83,
          6.861,
          1.3535,
          1.956,
          22.413,
          6.603,
          15.9025,
          1.25,
          4.154,
          7.39,
          34.83,
          39.695,
          23.285,
          1.7945,
          10.13,
          36.525,
          14.79,
          1.131,
          12.835,
          27.275,
          13.0025,
          11.106,
          1.079,
          4.942,
          25.131,
          8.01,
          21.565,
          29.028,
          16.11,
          9.777,
          8.315,
          16.814,
          17.185,
          1.93,
          26.388,
          16.4,
          9.285,
          30.19,
          18.49,
          9.898,
          20.545,
          7.43,
          1.148,
          34.956,
          3.47,
          9.83,
          10.128,
          6.06,
          9.989,
          30.368,
          6.322,
          27.072,
          4.9065,
          20.608,
          3.6985,
          1.595,
          6.94,
          9.331,
          4.4225,
          9.672,
          7.275,
          25.215,
          15.3225,
          4.785,
          31.759,
          10.7275,
          18.998,
          34.8425,
          20.4365,
          2.5735,
          13.715,
          9.8475,
          3.473,
          17.98,
          6.8565,
          24.951,
          11.232,
          6.287,
          24.513,
          22.8525,
          7.842,
          5.986,
          27.18,
          44.1405,
          7.629,
          34.672,
          11.475,
          7.3395,
          7.08,
          5.8345,
          3.698,
          4.897,
          14.61,
          26.244,
          4.602,
          3.794,
          4.036,
          5.631,
          3.56,
          7.762,
          14.71,
          27.4275,
          12.885,
          19.818,
          8.5905,
          24.4395,
          26.208,
          6.663,
          6.762,
          5.622,
          7.204,
          49.26,
          12.498,
          10.863,
          9.711,
          44.6,
          16.968,
          22.353,
          9.925,
          40.605,
          24.665,
          29.583,
          27.951,
          25.893,
          20.51,
          13.335,
          3.5455,
          7.239,
          21.4775,
          28.4585,
          12.06,
          6.354,
          12.854,
          6.951,
          4.083,
          15.536,
          9.298,
          3.616,
          9.459,
          10.342,
          7.851,
          10.765,
          29.805,
          3.655,
          13.959,
          8.484,
          2.279,
          11.28,
          14.52,
          2.223,
          7.83,
          20.997,
          9.2125,
          7.032,
          4.154,
          3.2495,
          38.78,
          16.353,
          18.1615,
          6.35,
          18.7775,
          9.958,
          1.5305,
          5.789,
          1.448,
          44.5365,
          13.983,
          4.0465,
          33.725,
          17.424,
          21.78,
          21.9775,
          29.559,
          13.038,
          10.752,
          4.5805,
          33.1065,
          41.625,
          4.5675,
          7.888,
          6.087,
          41.29,
          7.995,
          0.6045,
          32.095,
          11.7465,
          8.377,
          14.955,
          11.9865,
          33.235,
          10.1325,
          2.31,
          4.4075,
          7.863,
          14.8185,
          35.42,
          5.567,
          29.008,
          3.0125,
          8.712,
          21.063,
          1.6815,
          1.549,
          12.37,
          18.915,
          16.743,
          36.39,
          16.794,
          12.036,
          2.3535,
          4.9845,
          13.2225,
          6.9825,
          2.7725,
          6.4455,
          5.999,
          17.625,
          43.55,
          9.88,
          9.726,
          8.661,
          3.594,
          14.313,
          4.062,
          28.02,
          9.34,
          11.0115,
          13.456,
          22.74,
          8.377,
          22.428,
          14.694,
          29.475,
          14.55,
          1.974,
          1.7405,
          14.796,
          2.148,
          6.924,
          4.91,
          6.483,
          31.78,
          7.288,
          10.065,
          31.5855,
          19.264,
          24.315,
          25.683,
          23.67,
          21.8425,
          5.408,
          12.438,
          31.311,
          48.75,
          24.164,
          4.848,
          9.885,
          36.2115,
          39.7755,
          25.1195,
          8.6,
          3.449,
          6.248,
          3.855,
          24.186,
          15.106,
          34.9335,
          6.2325,
          39.48,
          8.92,
          25.011,
          1.791,
          6.807,
          5.244,
          8.946,
          40.7835,
          6.618,
          12.8695,
          4.668,
          11.4,
          8.3355,
          34.87,
          19.452,
          18.263,
          4.464,
          8.4,
          0.985,
          26.558,
          2.686,
          40.975,
          28.42,
          29.38,
          36.624,
          42.282,
          19.4635,
          4.2415,
          7.163,
          3.769,
          12.668,
          1.921,
          32.615,
          2.6325,
          5.5305,
          28.4305,
          4.464,
          6.82,
          8.71,
          18.32,
          12.7305,
          38.916,
          14.296,
          28.956,
          9.425,
          11.078,
          38.6,
          36.065,
          25.552,
          2.6725,
          11.1,
          38.184,
          11.409,
          4.107,
          19.128,
          3.429,
          19.108,
          30.0545,
          23.7965,
          2.621,
          6.565,
          7.215,
          22.8585,
          4.669,
          6.3125,
          39.5415,
          8.72,
          18.952,
          1.531,
          17.604,
          2.54,
          26.103,
          28.756,
          2.7475,
          9.0705,
          20.6185,
          2.3205,
          13.71,
          48.685,
          32.41,
          4.661,
          2.718,
          3.0435,
          12.245,
          4.639,
          21.6725,
          6.903,
          12.08,
          23.5865,
          22.032,
          34.0155,
          15.494,
          9.318,
          10.046,
          0.8875,
          31.09,
          4.3,
          20.13,
          16.2425,
          4.7575,
          19.448,
          21.284,
          15.904,
          13.552,
          19.232,
          11.79,
          10.578,
          4.768,
          0.5085,
          10.3065,
          21.028,
          4.402,
          32.4495,
          6.192,
          32.475,
          37.11,
          4.224,
          12.514,
          4.74,
          4.565,
          14.2555,
          2.619,
          9.635,
          13.389,
          27.935,
          8.766,
          7.791,
          3.015,
          3.947,
          1.487,
          1.066,
          14.067,
          3.663,
          1.119,
          32.796,
          29.73,
          3.705,
          9.848,
          18.6165,
          26.395,
          23.9875,
          16.4295,
          8.448,
          5.662,
          17.277,
          21.4335,
          4.3135,
          1.276,
          5.076,
          17.8745,
          11.9385,
          5.0715,
          36.212,
          6.282,
          3.6465,
          12.918,
          8.687,
          2.825,
          10.715,
          26.718,
          4.658,
          26.104,
          2.6175,
          1.9875,
          36.008,
          4.84,
          16.605,
          4.072,
          15.995,
          10.326,
          8.334,
          15.953,
          4.395,
          36.735,
          4.876,
          38.46,
          20.915,
          23.164,
          23.1225,
          7.095,
          15.135,
          39.664,
          21.259,
          14.181,
          29.96,
          15.768,
          20.178,
          9.194,
          6.9325,
          4.0355,
          5.832,
          15.676,
          42.305,
          20.72,
          7.954,
          24.505,
          4.3725,
          11.226,
          37.248,
          20.536,
          14.94,
          10.647,
          2.1425,
          18.934,
          10.3455,
          3.939,
          16.1055,
          4.911,
          1.273,
          29.099,
          10.566,
          2.756,
          4.4155,
          17.829,
          39.7125,
          2.531,
          29.976,
          8.335,
          37.22,
          22.428,
          18.945,
          12.858,
          27.6115,
          22.37,
          13.8135,
          17.187,
          13.304,
          44.919,
          22.84,
          12.6975,
          3.528,
          32.858,
          8.425,
          2.689,
          8.9525,
          10.572,
          5.9865,
          3.285,
          12.57,
          4.208,
          19.773,
          14.8995,
          22.7205,
          13.806,
          7.9,
          44.397,
          4.599,
          2.089,
          0.775,
          14.523,
          3.333,
          3.827,
          14.985,
          12.1515,
          2.37,
          8.6225,
          42.315,
          12.9185,
          30.478,
          12.012,
          8.613,
          4.992,
          14.932,
          7.98,
          1.2725,
          3.3885,
          11.918,
          11.63,
          43.866,
          34.986,
          33.7295,
          15.9275,
          1.476,
          24.8,
          41.17,
          30.148,
          14.14,
          38.3,
          5.803,
          8.745,
          3.0475,
          2.0175,
          48.69,
          1.592,
          3.291,
          30.919
         ],
         "y0": " ",
         "yaxis": "y"
        }
       ],
       "layout": {
        "boxmode": "group",
        "legend": {
         "tracegroupgap": 0
        },
        "margin": {
         "t": 60
        },
        "template": {
         "data": {
          "bar": [
           {
            "error_x": {
             "color": "#2a3f5f"
            },
            "error_y": {
             "color": "#2a3f5f"
            },
            "marker": {
             "line": {
              "color": "#E5ECF6",
              "width": 0.5
             },
             "pattern": {
              "fillmode": "overlay",
              "size": 10,
              "solidity": 0.2
             }
            },
            "type": "bar"
           }
          ],
          "barpolar": [
           {
            "marker": {
             "line": {
              "color": "#E5ECF6",
              "width": 0.5
             },
             "pattern": {
              "fillmode": "overlay",
              "size": 10,
              "solidity": 0.2
             }
            },
            "type": "barpolar"
           }
          ],
          "carpet": [
           {
            "aaxis": {
             "endlinecolor": "#2a3f5f",
             "gridcolor": "white",
             "linecolor": "white",
             "minorgridcolor": "white",
             "startlinecolor": "#2a3f5f"
            },
            "baxis": {
             "endlinecolor": "#2a3f5f",
             "gridcolor": "white",
             "linecolor": "white",
             "minorgridcolor": "white",
             "startlinecolor": "#2a3f5f"
            },
            "type": "carpet"
           }
          ],
          "choropleth": [
           {
            "colorbar": {
             "outlinewidth": 0,
             "ticks": ""
            },
            "type": "choropleth"
           }
          ],
          "contour": [
           {
            "colorbar": {
             "outlinewidth": 0,
             "ticks": ""
            },
            "colorscale": [
             [
              0,
              "#0d0887"
             ],
             [
              0.1111111111111111,
              "#46039f"
             ],
             [
              0.2222222222222222,
              "#7201a8"
             ],
             [
              0.3333333333333333,
              "#9c179e"
             ],
             [
              0.4444444444444444,
              "#bd3786"
             ],
             [
              0.5555555555555556,
              "#d8576b"
             ],
             [
              0.6666666666666666,
              "#ed7953"
             ],
             [
              0.7777777777777778,
              "#fb9f3a"
             ],
             [
              0.8888888888888888,
              "#fdca26"
             ],
             [
              1,
              "#f0f921"
             ]
            ],
            "type": "contour"
           }
          ],
          "contourcarpet": [
           {
            "colorbar": {
             "outlinewidth": 0,
             "ticks": ""
            },
            "type": "contourcarpet"
           }
          ],
          "heatmap": [
           {
            "colorbar": {
             "outlinewidth": 0,
             "ticks": ""
            },
            "colorscale": [
             [
              0,
              "#0d0887"
             ],
             [
              0.1111111111111111,
              "#46039f"
             ],
             [
              0.2222222222222222,
              "#7201a8"
             ],
             [
              0.3333333333333333,
              "#9c179e"
             ],
             [
              0.4444444444444444,
              "#bd3786"
             ],
             [
              0.5555555555555556,
              "#d8576b"
             ],
             [
              0.6666666666666666,
              "#ed7953"
             ],
             [
              0.7777777777777778,
              "#fb9f3a"
             ],
             [
              0.8888888888888888,
              "#fdca26"
             ],
             [
              1,
              "#f0f921"
             ]
            ],
            "type": "heatmap"
           }
          ],
          "heatmapgl": [
           {
            "colorbar": {
             "outlinewidth": 0,
             "ticks": ""
            },
            "colorscale": [
             [
              0,
              "#0d0887"
             ],
             [
              0.1111111111111111,
              "#46039f"
             ],
             [
              0.2222222222222222,
              "#7201a8"
             ],
             [
              0.3333333333333333,
              "#9c179e"
             ],
             [
              0.4444444444444444,
              "#bd3786"
             ],
             [
              0.5555555555555556,
              "#d8576b"
             ],
             [
              0.6666666666666666,
              "#ed7953"
             ],
             [
              0.7777777777777778,
              "#fb9f3a"
             ],
             [
              0.8888888888888888,
              "#fdca26"
             ],
             [
              1,
              "#f0f921"
             ]
            ],
            "type": "heatmapgl"
           }
          ],
          "histogram": [
           {
            "marker": {
             "pattern": {
              "fillmode": "overlay",
              "size": 10,
              "solidity": 0.2
             }
            },
            "type": "histogram"
           }
          ],
          "histogram2d": [
           {
            "colorbar": {
             "outlinewidth": 0,
             "ticks": ""
            },
            "colorscale": [
             [
              0,
              "#0d0887"
             ],
             [
              0.1111111111111111,
              "#46039f"
             ],
             [
              0.2222222222222222,
              "#7201a8"
             ],
             [
              0.3333333333333333,
              "#9c179e"
             ],
             [
              0.4444444444444444,
              "#bd3786"
             ],
             [
              0.5555555555555556,
              "#d8576b"
             ],
             [
              0.6666666666666666,
              "#ed7953"
             ],
             [
              0.7777777777777778,
              "#fb9f3a"
             ],
             [
              0.8888888888888888,
              "#fdca26"
             ],
             [
              1,
              "#f0f921"
             ]
            ],
            "type": "histogram2d"
           }
          ],
          "histogram2dcontour": [
           {
            "colorbar": {
             "outlinewidth": 0,
             "ticks": ""
            },
            "colorscale": [
             [
              0,
              "#0d0887"
             ],
             [
              0.1111111111111111,
              "#46039f"
             ],
             [
              0.2222222222222222,
              "#7201a8"
             ],
             [
              0.3333333333333333,
              "#9c179e"
             ],
             [
              0.4444444444444444,
              "#bd3786"
             ],
             [
              0.5555555555555556,
              "#d8576b"
             ],
             [
              0.6666666666666666,
              "#ed7953"
             ],
             [
              0.7777777777777778,
              "#fb9f3a"
             ],
             [
              0.8888888888888888,
              "#fdca26"
             ],
             [
              1,
              "#f0f921"
             ]
            ],
            "type": "histogram2dcontour"
           }
          ],
          "mesh3d": [
           {
            "colorbar": {
             "outlinewidth": 0,
             "ticks": ""
            },
            "type": "mesh3d"
           }
          ],
          "parcoords": [
           {
            "line": {
             "colorbar": {
              "outlinewidth": 0,
              "ticks": ""
             }
            },
            "type": "parcoords"
           }
          ],
          "pie": [
           {
            "automargin": true,
            "type": "pie"
           }
          ],
          "scatter": [
           {
            "marker": {
             "colorbar": {
              "outlinewidth": 0,
              "ticks": ""
             }
            },
            "type": "scatter"
           }
          ],
          "scatter3d": [
           {
            "line": {
             "colorbar": {
              "outlinewidth": 0,
              "ticks": ""
             }
            },
            "marker": {
             "colorbar": {
              "outlinewidth": 0,
              "ticks": ""
             }
            },
            "type": "scatter3d"
           }
          ],
          "scattercarpet": [
           {
            "marker": {
             "colorbar": {
              "outlinewidth": 0,
              "ticks": ""
             }
            },
            "type": "scattercarpet"
           }
          ],
          "scattergeo": [
           {
            "marker": {
             "colorbar": {
              "outlinewidth": 0,
              "ticks": ""
             }
            },
            "type": "scattergeo"
           }
          ],
          "scattergl": [
           {
            "marker": {
             "colorbar": {
              "outlinewidth": 0,
              "ticks": ""
             }
            },
            "type": "scattergl"
           }
          ],
          "scattermapbox": [
           {
            "marker": {
             "colorbar": {
              "outlinewidth": 0,
              "ticks": ""
             }
            },
            "type": "scattermapbox"
           }
          ],
          "scatterpolar": [
           {
            "marker": {
             "colorbar": {
              "outlinewidth": 0,
              "ticks": ""
             }
            },
            "type": "scatterpolar"
           }
          ],
          "scatterpolargl": [
           {
            "marker": {
             "colorbar": {
              "outlinewidth": 0,
              "ticks": ""
             }
            },
            "type": "scatterpolargl"
           }
          ],
          "scatterternary": [
           {
            "marker": {
             "colorbar": {
              "outlinewidth": 0,
              "ticks": ""
             }
            },
            "type": "scatterternary"
           }
          ],
          "surface": [
           {
            "colorbar": {
             "outlinewidth": 0,
             "ticks": ""
            },
            "colorscale": [
             [
              0,
              "#0d0887"
             ],
             [
              0.1111111111111111,
              "#46039f"
             ],
             [
              0.2222222222222222,
              "#7201a8"
             ],
             [
              0.3333333333333333,
              "#9c179e"
             ],
             [
              0.4444444444444444,
              "#bd3786"
             ],
             [
              0.5555555555555556,
              "#d8576b"
             ],
             [
              0.6666666666666666,
              "#ed7953"
             ],
             [
              0.7777777777777778,
              "#fb9f3a"
             ],
             [
              0.8888888888888888,
              "#fdca26"
             ],
             [
              1,
              "#f0f921"
             ]
            ],
            "type": "surface"
           }
          ],
          "table": [
           {
            "cells": {
             "fill": {
              "color": "#EBF0F8"
             },
             "line": {
              "color": "white"
             }
            },
            "header": {
             "fill": {
              "color": "#C8D4E3"
             },
             "line": {
              "color": "white"
             }
            },
            "type": "table"
           }
          ]
         },
         "layout": {
          "annotationdefaults": {
           "arrowcolor": "#2a3f5f",
           "arrowhead": 0,
           "arrowwidth": 1
          },
          "autotypenumbers": "strict",
          "coloraxis": {
           "colorbar": {
            "outlinewidth": 0,
            "ticks": ""
           }
          },
          "colorscale": {
           "diverging": [
            [
             0,
             "#8e0152"
            ],
            [
             0.1,
             "#c51b7d"
            ],
            [
             0.2,
             "#de77ae"
            ],
            [
             0.3,
             "#f1b6da"
            ],
            [
             0.4,
             "#fde0ef"
            ],
            [
             0.5,
             "#f7f7f7"
            ],
            [
             0.6,
             "#e6f5d0"
            ],
            [
             0.7,
             "#b8e186"
            ],
            [
             0.8,
             "#7fbc41"
            ],
            [
             0.9,
             "#4d9221"
            ],
            [
             1,
             "#276419"
            ]
           ],
           "sequential": [
            [
             0,
             "#0d0887"
            ],
            [
             0.1111111111111111,
             "#46039f"
            ],
            [
             0.2222222222222222,
             "#7201a8"
            ],
            [
             0.3333333333333333,
             "#9c179e"
            ],
            [
             0.4444444444444444,
             "#bd3786"
            ],
            [
             0.5555555555555556,
             "#d8576b"
            ],
            [
             0.6666666666666666,
             "#ed7953"
            ],
            [
             0.7777777777777778,
             "#fb9f3a"
            ],
            [
             0.8888888888888888,
             "#fdca26"
            ],
            [
             1,
             "#f0f921"
            ]
           ],
           "sequentialminus": [
            [
             0,
             "#0d0887"
            ],
            [
             0.1111111111111111,
             "#46039f"
            ],
            [
             0.2222222222222222,
             "#7201a8"
            ],
            [
             0.3333333333333333,
             "#9c179e"
            ],
            [
             0.4444444444444444,
             "#bd3786"
            ],
            [
             0.5555555555555556,
             "#d8576b"
            ],
            [
             0.6666666666666666,
             "#ed7953"
            ],
            [
             0.7777777777777778,
             "#fb9f3a"
            ],
            [
             0.8888888888888888,
             "#fdca26"
            ],
            [
             1,
             "#f0f921"
            ]
           ]
          },
          "colorway": [
           "#636efa",
           "#EF553B",
           "#00cc96",
           "#ab63fa",
           "#FFA15A",
           "#19d3f3",
           "#FF6692",
           "#B6E880",
           "#FF97FF",
           "#FECB52"
          ],
          "font": {
           "color": "#2a3f5f"
          },
          "geo": {
           "bgcolor": "white",
           "lakecolor": "white",
           "landcolor": "#E5ECF6",
           "showlakes": true,
           "showland": true,
           "subunitcolor": "white"
          },
          "hoverlabel": {
           "align": "left"
          },
          "hovermode": "closest",
          "mapbox": {
           "style": "light"
          },
          "paper_bgcolor": "white",
          "plot_bgcolor": "#E5ECF6",
          "polar": {
           "angularaxis": {
            "gridcolor": "white",
            "linecolor": "white",
            "ticks": ""
           },
           "bgcolor": "#E5ECF6",
           "radialaxis": {
            "gridcolor": "white",
            "linecolor": "white",
            "ticks": ""
           }
          },
          "scene": {
           "xaxis": {
            "backgroundcolor": "#E5ECF6",
            "gridcolor": "white",
            "gridwidth": 2,
            "linecolor": "white",
            "showbackground": true,
            "ticks": "",
            "zerolinecolor": "white"
           },
           "yaxis": {
            "backgroundcolor": "#E5ECF6",
            "gridcolor": "white",
            "gridwidth": 2,
            "linecolor": "white",
            "showbackground": true,
            "ticks": "",
            "zerolinecolor": "white"
           },
           "zaxis": {
            "backgroundcolor": "#E5ECF6",
            "gridcolor": "white",
            "gridwidth": 2,
            "linecolor": "white",
            "showbackground": true,
            "ticks": "",
            "zerolinecolor": "white"
           }
          },
          "shapedefaults": {
           "line": {
            "color": "#2a3f5f"
           }
          },
          "ternary": {
           "aaxis": {
            "gridcolor": "white",
            "linecolor": "white",
            "ticks": ""
           },
           "baxis": {
            "gridcolor": "white",
            "linecolor": "white",
            "ticks": ""
           },
           "bgcolor": "#E5ECF6",
           "caxis": {
            "gridcolor": "white",
            "linecolor": "white",
            "ticks": ""
           }
          },
          "title": {
           "x": 0.05
          },
          "xaxis": {
           "automargin": true,
           "gridcolor": "white",
           "linecolor": "white",
           "ticks": "",
           "title": {
            "standoff": 15
           },
           "zerolinecolor": "white",
           "zerolinewidth": 2
          },
          "yaxis": {
           "automargin": true,
           "gridcolor": "white",
           "linecolor": "white",
           "ticks": "",
           "title": {
            "standoff": 15
           },
           "zerolinecolor": "white",
           "zerolinewidth": 2
          }
         }
        },
        "xaxis": {
         "anchor": "y",
         "domain": [
          0,
          1
         ],
         "title": {
          "text": "variable"
         }
        },
        "yaxis": {
         "anchor": "x",
         "domain": [
          0,
          1
         ],
         "title": {
          "text": "value"
         }
        }
       }
      }
     },
     "metadata": {},
     "output_type": "display_data"
    },
    {
     "data": {
      "text/plain": [
       "<Figure size 1080x720 with 0 Axes>"
      ]
     },
     "metadata": {},
     "output_type": "display_data"
    }
   ],
   "source": [
    "# Box Plot\n",
    "plt.figure(figsize=(15, 10))\n",
    "\n",
    "fig = px.box(df_cleaned['gross income'])\n",
    "\n",
    "fig.show()"
   ]
  },
  {
   "cell_type": "markdown",
   "metadata": {},
   "source": [
    "Based on result above, our dataset is `not normally distributed`, due to `Mean` value higher than `Median and Mode` value, Our dataset is `Right Skewed.`\n",
    "\n",
    "Let's discard the outliers found. I will discard any value falls outside the Box plot."
   ]
  },
  {
   "cell_type": "code",
   "execution_count": null,
   "metadata": {},
   "outputs": [
    {
     "name": "stdout",
     "output_type": "stream",
     "text": [
      "Upper limit :  40.1599315\n",
      "Bottom limit :  -9.401193500000003\n"
     ]
    }
   ],
   "source": [
    "# IQR\n",
    "IQR = df_cleaned['gross income'].quantile(0.75)-df_cleaned['gross income'].quantile(0.25)\n",
    "\n",
    "# Threshold\n",
    "upper = df_cleaned['gross income'].mean() + 1.5*IQR\n",
    "bottom = df_cleaned['gross income'].mean() - 1.5*IQR\n",
    "\n",
    "# Show Threshold value\n",
    "print(f'Upper limit : ', upper)\n",
    "print(f'Bottom limit : ', bottom)"
   ]
  },
  {
   "cell_type": "markdown",
   "metadata": {},
   "source": [
    "Since `gross income` is non-negative value, so our bottom limit will be 0."
   ]
  },
  {
   "cell_type": "code",
   "execution_count": null,
   "metadata": {},
   "outputs": [
    {
     "name": "stdout",
     "output_type": "stream",
     "text": [
      "Total entries before : 1000\n",
      "Total entries after : 961\n"
     ]
    }
   ],
   "source": [
    "# Filtering process\n",
    "\n",
    "df_filtered = df_cleaned.loc[\n",
    "    (df_cleaned['gross income']<=upper)\n",
    "]\n",
    "\n",
    "print(f'Total entries before :', len(df_cleaned))\n",
    "print(f'Total entries after :', len(df_filtered))"
   ]
  },
  {
   "cell_type": "markdown",
   "metadata": {},
   "source": [
    "After the filtering process, 39 entries is discarded from the dataset.\\\n",
    "Let's check the distribution once again."
   ]
  },
  {
   "cell_type": "code",
   "execution_count": null,
   "metadata": {},
   "outputs": [
    {
     "name": "stdout",
     "output_type": "stream",
     "text": [
      "Measure of Central Tendency\n",
      "\n",
      "Min :  0.5085\n",
      "Mean :  14.2\n",
      "Median :  11.409\n",
      "Mode :  0     4.1540\n",
      "1     4.4640\n",
      "2     8.3770\n",
      "3     9.0045\n",
      "4    10.3260\n",
      "5    10.3635\n",
      "6    12.5700\n",
      "7    13.1880\n",
      "8    22.4280\n",
      "9    39.4800\n",
      "Name: gross income, dtype: float64\n",
      "Max :  40.1445\n",
      "\n",
      "Measure of Variance\n",
      "\n",
      "Range :  39.636\n",
      "1st Quartile :  5.662\n",
      "3rd Quartile :  21.033\n",
      "Variance :  106.62\n",
      "Std. Deviation :  10.33\n"
     ]
    }
   ],
   "source": [
    "# Descriptive Statistic\n",
    "\n",
    "print('Measure of Central Tendency')\n",
    "print()\n",
    "print(f'Min : ', df_filtered['gross income'].min())\n",
    "print(f'Mean : ', df_filtered['gross income'].mean().round(2))\n",
    "print(f'Median : ', df_filtered['gross income'].median())\n",
    "print(f'Mode : ', df_filtered['gross income'].mode())\n",
    "print(f'Max : ', df_filtered['gross income'].max())\n",
    "\n",
    "print()\n",
    "\n",
    "print('Measure of Variance')\n",
    "print()\n",
    "print(f'Range : ', df_filtered['gross income'].max() - df_filtered['gross income'].min())\n",
    "print(f'1st Quartile : ', df_filtered['gross income'].quantile(0.25))\n",
    "print(f'3rd Quartile : ', df_filtered['gross income'].quantile(0.75))\n",
    "print(f'Variance : ', df_filtered['gross income'].var().round(2))\n",
    "print(f'Std. Deviation : ', df_filtered['gross income'].std().round(2))"
   ]
  },
  {
   "cell_type": "code",
   "execution_count": null,
   "metadata": {},
   "outputs": [
    {
     "data": {
      "application/vnd.plotly.v1+json": {
       "config": {
        "plotlyServerURL": "https://plot.ly"
       },
       "data": [
        {
         "alignmentgroup": "True",
         "hovertemplate": "variable=%{x}<br>value=%{y}<extra></extra>",
         "legendgroup": "",
         "marker": {
          "color": "#636efa"
         },
         "name": "",
         "notched": false,
         "offsetgroup": "",
         "orientation": "v",
         "showlegend": false,
         "type": "box",
         "x": [
          "gross income",
          "gross income",
          "gross income",
          "gross income",
          "gross income",
          "gross income",
          "gross income",
          "gross income",
          "gross income",
          "gross income",
          "gross income",
          "gross income",
          "gross income",
          "gross income",
          "gross income",
          "gross income",
          "gross income",
          "gross income",
          "gross income",
          "gross income",
          "gross income",
          "gross income",
          "gross income",
          "gross income",
          "gross income",
          "gross income",
          "gross income",
          "gross income",
          "gross income",
          "gross income",
          "gross income",
          "gross income",
          "gross income",
          "gross income",
          "gross income",
          "gross income",
          "gross income",
          "gross income",
          "gross income",
          "gross income",
          "gross income",
          "gross income",
          "gross income",
          "gross income",
          "gross income",
          "gross income",
          "gross income",
          "gross income",
          "gross income",
          "gross income",
          "gross income",
          "gross income",
          "gross income",
          "gross income",
          "gross income",
          "gross income",
          "gross income",
          "gross income",
          "gross income",
          "gross income",
          "gross income",
          "gross income",
          "gross income",
          "gross income",
          "gross income",
          "gross income",
          "gross income",
          "gross income",
          "gross income",
          "gross income",
          "gross income",
          "gross income",
          "gross income",
          "gross income",
          "gross income",
          "gross income",
          "gross income",
          "gross income",
          "gross income",
          "gross income",
          "gross income",
          "gross income",
          "gross income",
          "gross income",
          "gross income",
          "gross income",
          "gross income",
          "gross income",
          "gross income",
          "gross income",
          "gross income",
          "gross income",
          "gross income",
          "gross income",
          "gross income",
          "gross income",
          "gross income",
          "gross income",
          "gross income",
          "gross income",
          "gross income",
          "gross income",
          "gross income",
          "gross income",
          "gross income",
          "gross income",
          "gross income",
          "gross income",
          "gross income",
          "gross income",
          "gross income",
          "gross income",
          "gross income",
          "gross income",
          "gross income",
          "gross income",
          "gross income",
          "gross income",
          "gross income",
          "gross income",
          "gross income",
          "gross income",
          "gross income",
          "gross income",
          "gross income",
          "gross income",
          "gross income",
          "gross income",
          "gross income",
          "gross income",
          "gross income",
          "gross income",
          "gross income",
          "gross income",
          "gross income",
          "gross income",
          "gross income",
          "gross income",
          "gross income",
          "gross income",
          "gross income",
          "gross income",
          "gross income",
          "gross income",
          "gross income",
          "gross income",
          "gross income",
          "gross income",
          "gross income",
          "gross income",
          "gross income",
          "gross income",
          "gross income",
          "gross income",
          "gross income",
          "gross income",
          "gross income",
          "gross income",
          "gross income",
          "gross income",
          "gross income",
          "gross income",
          "gross income",
          "gross income",
          "gross income",
          "gross income",
          "gross income",
          "gross income",
          "gross income",
          "gross income",
          "gross income",
          "gross income",
          "gross income",
          "gross income",
          "gross income",
          "gross income",
          "gross income",
          "gross income",
          "gross income",
          "gross income",
          "gross income",
          "gross income",
          "gross income",
          "gross income",
          "gross income",
          "gross income",
          "gross income",
          "gross income",
          "gross income",
          "gross income",
          "gross income",
          "gross income",
          "gross income",
          "gross income",
          "gross income",
          "gross income",
          "gross income",
          "gross income",
          "gross income",
          "gross income",
          "gross income",
          "gross income",
          "gross income",
          "gross income",
          "gross income",
          "gross income",
          "gross income",
          "gross income",
          "gross income",
          "gross income",
          "gross income",
          "gross income",
          "gross income",
          "gross income",
          "gross income",
          "gross income",
          "gross income",
          "gross income",
          "gross income",
          "gross income",
          "gross income",
          "gross income",
          "gross income",
          "gross income",
          "gross income",
          "gross income",
          "gross income",
          "gross income",
          "gross income",
          "gross income",
          "gross income",
          "gross income",
          "gross income",
          "gross income",
          "gross income",
          "gross income",
          "gross income",
          "gross income",
          "gross income",
          "gross income",
          "gross income",
          "gross income",
          "gross income",
          "gross income",
          "gross income",
          "gross income",
          "gross income",
          "gross income",
          "gross income",
          "gross income",
          "gross income",
          "gross income",
          "gross income",
          "gross income",
          "gross income",
          "gross income",
          "gross income",
          "gross income",
          "gross income",
          "gross income",
          "gross income",
          "gross income",
          "gross income",
          "gross income",
          "gross income",
          "gross income",
          "gross income",
          "gross income",
          "gross income",
          "gross income",
          "gross income",
          "gross income",
          "gross income",
          "gross income",
          "gross income",
          "gross income",
          "gross income",
          "gross income",
          "gross income",
          "gross income",
          "gross income",
          "gross income",
          "gross income",
          "gross income",
          "gross income",
          "gross income",
          "gross income",
          "gross income",
          "gross income",
          "gross income",
          "gross income",
          "gross income",
          "gross income",
          "gross income",
          "gross income",
          "gross income",
          "gross income",
          "gross income",
          "gross income",
          "gross income",
          "gross income",
          "gross income",
          "gross income",
          "gross income",
          "gross income",
          "gross income",
          "gross income",
          "gross income",
          "gross income",
          "gross income",
          "gross income",
          "gross income",
          "gross income",
          "gross income",
          "gross income",
          "gross income",
          "gross income",
          "gross income",
          "gross income",
          "gross income",
          "gross income",
          "gross income",
          "gross income",
          "gross income",
          "gross income",
          "gross income",
          "gross income",
          "gross income",
          "gross income",
          "gross income",
          "gross income",
          "gross income",
          "gross income",
          "gross income",
          "gross income",
          "gross income",
          "gross income",
          "gross income",
          "gross income",
          "gross income",
          "gross income",
          "gross income",
          "gross income",
          "gross income",
          "gross income",
          "gross income",
          "gross income",
          "gross income",
          "gross income",
          "gross income",
          "gross income",
          "gross income",
          "gross income",
          "gross income",
          "gross income",
          "gross income",
          "gross income",
          "gross income",
          "gross income",
          "gross income",
          "gross income",
          "gross income",
          "gross income",
          "gross income",
          "gross income",
          "gross income",
          "gross income",
          "gross income",
          "gross income",
          "gross income",
          "gross income",
          "gross income",
          "gross income",
          "gross income",
          "gross income",
          "gross income",
          "gross income",
          "gross income",
          "gross income",
          "gross income",
          "gross income",
          "gross income",
          "gross income",
          "gross income",
          "gross income",
          "gross income",
          "gross income",
          "gross income",
          "gross income",
          "gross income",
          "gross income",
          "gross income",
          "gross income",
          "gross income",
          "gross income",
          "gross income",
          "gross income",
          "gross income",
          "gross income",
          "gross income",
          "gross income",
          "gross income",
          "gross income",
          "gross income",
          "gross income",
          "gross income",
          "gross income",
          "gross income",
          "gross income",
          "gross income",
          "gross income",
          "gross income",
          "gross income",
          "gross income",
          "gross income",
          "gross income",
          "gross income",
          "gross income",
          "gross income",
          "gross income",
          "gross income",
          "gross income",
          "gross income",
          "gross income",
          "gross income",
          "gross income",
          "gross income",
          "gross income",
          "gross income",
          "gross income",
          "gross income",
          "gross income",
          "gross income",
          "gross income",
          "gross income",
          "gross income",
          "gross income",
          "gross income",
          "gross income",
          "gross income",
          "gross income",
          "gross income",
          "gross income",
          "gross income",
          "gross income",
          "gross income",
          "gross income",
          "gross income",
          "gross income",
          "gross income",
          "gross income",
          "gross income",
          "gross income",
          "gross income",
          "gross income",
          "gross income",
          "gross income",
          "gross income",
          "gross income",
          "gross income",
          "gross income",
          "gross income",
          "gross income",
          "gross income",
          "gross income",
          "gross income",
          "gross income",
          "gross income",
          "gross income",
          "gross income",
          "gross income",
          "gross income",
          "gross income",
          "gross income",
          "gross income",
          "gross income",
          "gross income",
          "gross income",
          "gross income",
          "gross income",
          "gross income",
          "gross income",
          "gross income",
          "gross income",
          "gross income",
          "gross income",
          "gross income",
          "gross income",
          "gross income",
          "gross income",
          "gross income",
          "gross income",
          "gross income",
          "gross income",
          "gross income",
          "gross income",
          "gross income",
          "gross income",
          "gross income",
          "gross income",
          "gross income",
          "gross income",
          "gross income",
          "gross income",
          "gross income",
          "gross income",
          "gross income",
          "gross income",
          "gross income",
          "gross income",
          "gross income",
          "gross income",
          "gross income",
          "gross income",
          "gross income",
          "gross income",
          "gross income",
          "gross income",
          "gross income",
          "gross income",
          "gross income",
          "gross income",
          "gross income",
          "gross income",
          "gross income",
          "gross income",
          "gross income",
          "gross income",
          "gross income",
          "gross income",
          "gross income",
          "gross income",
          "gross income",
          "gross income",
          "gross income",
          "gross income",
          "gross income",
          "gross income",
          "gross income",
          "gross income",
          "gross income",
          "gross income",
          "gross income",
          "gross income",
          "gross income",
          "gross income",
          "gross income",
          "gross income",
          "gross income",
          "gross income",
          "gross income",
          "gross income",
          "gross income",
          "gross income",
          "gross income",
          "gross income",
          "gross income",
          "gross income",
          "gross income",
          "gross income",
          "gross income",
          "gross income",
          "gross income",
          "gross income",
          "gross income",
          "gross income",
          "gross income",
          "gross income",
          "gross income",
          "gross income",
          "gross income",
          "gross income",
          "gross income",
          "gross income",
          "gross income",
          "gross income",
          "gross income",
          "gross income",
          "gross income",
          "gross income",
          "gross income",
          "gross income",
          "gross income",
          "gross income",
          "gross income",
          "gross income",
          "gross income",
          "gross income",
          "gross income",
          "gross income",
          "gross income",
          "gross income",
          "gross income",
          "gross income",
          "gross income",
          "gross income",
          "gross income",
          "gross income",
          "gross income",
          "gross income",
          "gross income",
          "gross income",
          "gross income",
          "gross income",
          "gross income",
          "gross income",
          "gross income",
          "gross income",
          "gross income",
          "gross income",
          "gross income",
          "gross income",
          "gross income",
          "gross income",
          "gross income",
          "gross income",
          "gross income",
          "gross income",
          "gross income",
          "gross income",
          "gross income",
          "gross income",
          "gross income",
          "gross income",
          "gross income",
          "gross income",
          "gross income",
          "gross income",
          "gross income",
          "gross income",
          "gross income",
          "gross income",
          "gross income",
          "gross income",
          "gross income",
          "gross income",
          "gross income",
          "gross income",
          "gross income",
          "gross income",
          "gross income",
          "gross income",
          "gross income",
          "gross income",
          "gross income",
          "gross income",
          "gross income",
          "gross income",
          "gross income",
          "gross income",
          "gross income",
          "gross income",
          "gross income",
          "gross income",
          "gross income",
          "gross income",
          "gross income",
          "gross income",
          "gross income",
          "gross income",
          "gross income",
          "gross income",
          "gross income",
          "gross income",
          "gross income",
          "gross income",
          "gross income",
          "gross income",
          "gross income",
          "gross income",
          "gross income",
          "gross income",
          "gross income",
          "gross income",
          "gross income",
          "gross income",
          "gross income",
          "gross income",
          "gross income",
          "gross income",
          "gross income",
          "gross income",
          "gross income",
          "gross income",
          "gross income",
          "gross income",
          "gross income",
          "gross income",
          "gross income",
          "gross income",
          "gross income",
          "gross income",
          "gross income",
          "gross income",
          "gross income",
          "gross income",
          "gross income",
          "gross income",
          "gross income",
          "gross income",
          "gross income",
          "gross income",
          "gross income",
          "gross income",
          "gross income",
          "gross income",
          "gross income",
          "gross income",
          "gross income",
          "gross income",
          "gross income",
          "gross income",
          "gross income",
          "gross income",
          "gross income",
          "gross income",
          "gross income",
          "gross income",
          "gross income",
          "gross income",
          "gross income",
          "gross income",
          "gross income",
          "gross income",
          "gross income",
          "gross income",
          "gross income",
          "gross income",
          "gross income",
          "gross income",
          "gross income",
          "gross income",
          "gross income",
          "gross income",
          "gross income",
          "gross income",
          "gross income",
          "gross income",
          "gross income",
          "gross income",
          "gross income",
          "gross income",
          "gross income",
          "gross income",
          "gross income",
          "gross income",
          "gross income",
          "gross income",
          "gross income",
          "gross income",
          "gross income",
          "gross income",
          "gross income",
          "gross income",
          "gross income",
          "gross income",
          "gross income",
          "gross income",
          "gross income",
          "gross income",
          "gross income",
          "gross income",
          "gross income",
          "gross income",
          "gross income",
          "gross income",
          "gross income",
          "gross income",
          "gross income",
          "gross income",
          "gross income",
          "gross income",
          "gross income",
          "gross income",
          "gross income",
          "gross income",
          "gross income",
          "gross income",
          "gross income",
          "gross income",
          "gross income",
          "gross income",
          "gross income",
          "gross income",
          "gross income",
          "gross income",
          "gross income",
          "gross income",
          "gross income",
          "gross income",
          "gross income",
          "gross income",
          "gross income",
          "gross income",
          "gross income",
          "gross income",
          "gross income",
          "gross income",
          "gross income",
          "gross income",
          "gross income",
          "gross income",
          "gross income",
          "gross income",
          "gross income",
          "gross income",
          "gross income",
          "gross income",
          "gross income",
          "gross income",
          "gross income",
          "gross income",
          "gross income",
          "gross income",
          "gross income",
          "gross income",
          "gross income",
          "gross income",
          "gross income",
          "gross income",
          "gross income",
          "gross income",
          "gross income",
          "gross income",
          "gross income",
          "gross income",
          "gross income",
          "gross income",
          "gross income",
          "gross income",
          "gross income",
          "gross income",
          "gross income",
          "gross income",
          "gross income",
          "gross income",
          "gross income",
          "gross income",
          "gross income",
          "gross income",
          "gross income",
          "gross income",
          "gross income",
          "gross income",
          "gross income",
          "gross income",
          "gross income",
          "gross income",
          "gross income",
          "gross income",
          "gross income",
          "gross income",
          "gross income",
          "gross income",
          "gross income",
          "gross income",
          "gross income",
          "gross income",
          "gross income",
          "gross income",
          "gross income",
          "gross income",
          "gross income",
          "gross income",
          "gross income",
          "gross income",
          "gross income",
          "gross income",
          "gross income",
          "gross income",
          "gross income",
          "gross income",
          "gross income",
          "gross income",
          "gross income",
          "gross income",
          "gross income",
          "gross income",
          "gross income",
          "gross income",
          "gross income",
          "gross income",
          "gross income",
          "gross income",
          "gross income",
          "gross income",
          "gross income",
          "gross income",
          "gross income",
          "gross income",
          "gross income",
          "gross income",
          "gross income",
          "gross income",
          "gross income",
          "gross income",
          "gross income",
          "gross income",
          "gross income",
          "gross income",
          "gross income",
          "gross income",
          "gross income",
          "gross income",
          "gross income",
          "gross income",
          "gross income",
          "gross income",
          "gross income",
          "gross income",
          "gross income",
          "gross income",
          "gross income",
          "gross income",
          "gross income",
          "gross income",
          "gross income",
          "gross income",
          "gross income",
          "gross income",
          "gross income",
          "gross income",
          "gross income",
          "gross income",
          "gross income",
          "gross income",
          "gross income",
          "gross income",
          "gross income",
          "gross income",
          "gross income",
          "gross income",
          "gross income",
          "gross income",
          "gross income",
          "gross income",
          "gross income",
          "gross income",
          "gross income",
          "gross income",
          "gross income",
          "gross income",
          "gross income",
          "gross income",
          "gross income",
          "gross income",
          "gross income",
          "gross income",
          "gross income",
          "gross income",
          "gross income",
          "gross income",
          "gross income",
          "gross income",
          "gross income",
          "gross income",
          "gross income",
          "gross income",
          "gross income",
          "gross income",
          "gross income"
         ],
         "x0": " ",
         "xaxis": "x",
         "y": [
          26.1415,
          3.82,
          16.2155,
          23.288,
          30.2085,
          29.8865,
          20.652,
          36.78,
          3.626,
          8.226,
          2.896,
          5.102,
          11.7375,
          21.595,
          35.69,
          28.116,
          24.1255,
          21.783,
          8.2005,
          4.03,
          21.51,
          13.197,
          3.32,
          8.64,
          13.2945,
          21.036,
          1.676,
          8.767,
          22.09,
          11.2005,
          23.5325,
          35.1315,
          33.512,
          9.658,
          19.884,
          3.406,
          15.655,
          27.396,
          21.968,
          12.048,
          4.336,
          5.611,
          20.736,
          39.48,
          1.537,
          18.792,
          25.5105,
          9.0045,
          5.679,
          31.99,
          11.1475,
          3.574,
          0.7715,
          1.616,
          34.392,
          4.434,
          35.84,
          36.175,
          9.183,
          3.711,
          16.719,
          24.7815,
          7.905,
          15.148,
          7.935,
          3.347,
          29.283,
          39.385,
          0.9165,
          31.06,
          7.278,
          22.773,
          33.6015,
          20.825,
          22.068,
          9.0045,
          39.155,
          5.095,
          29.757,
          14.502,
          7.7,
          16.072,
          12.2275,
          29.071,
          19.13,
          17.283,
          2.1235,
          23.097,
          9.476,
          22.43,
          7.693,
          28.962,
          4.4875,
          4.858,
          3.735,
          7.9125,
          24.81,
          2.4355,
          35.3475,
          10.3815,
          17.478,
          10.6225,
          8.214,
          18.639,
          15.291,
          1.649,
          14.7315,
          25.494,
          26.1315,
          36.3555,
          4.053,
          5.485,
          2.568,
          5.48,
          5.344,
          39.824,
          19.992,
          25.564,
          22.588,
          32.7915,
          8.0625,
          14.2785,
          27.416,
          13.867,
          27.639,
          6.968,
          26.235,
          24.39,
          13.533,
          6.5775,
          10.326,
          25.955,
          29,
          34.3,
          1.5205,
          23.385,
          13.878,
          15.07,
          13.228,
          28.744,
          12.984,
          18.308,
          12.096,
          37.458,
          4.944,
          32.388,
          23.0725,
          3.6085,
          12.57,
          28.017,
          17.272,
          3.1845,
          16.0265,
          7.64,
          19.95,
          17.028,
          15.384,
          24.332,
          17.5025,
          20.0125,
          8.34,
          15.867,
          7.916,
          15.228,
          8.868,
          7.8785,
          22.164,
          13.02,
          22.491,
          15.388,
          7.75,
          13.724,
          4.319,
          2.712,
          37.796,
          9.294,
          3.7035,
          13.962,
          11.556,
          7.352,
          39.51,
          5.11,
          8.1775,
          3.7145,
          4.37,
          1.2645,
          8.3,
          17.8475,
          5.745,
          11.498,
          21.4935,
          12.95,
          4.4425,
          10.3635,
          29.9925,
          14.265,
          4.5555,
          11.8035,
          23.09,
          6.963,
          10.3635,
          0.914,
          6.1925,
          14.196,
          37.948,
          8.601,
          13.605,
          21.728,
          2.9525,
          0.627,
          4.325,
          8.716,
          31.2165,
          7.412,
          27.21,
          25.368,
          8.137,
          1.5885,
          37.8405,
          14.764,
          25.97,
          9.314,
          4.3525,
          11.055,
          3.305,
          4.4845,
          11.223,
          5.977,
          9.32,
          12.53,
          37.548,
          19.036,
          12.21,
          4.485,
          15.544,
          25.571,
          20.9475,
          17.595,
          1.439,
          4.75,
          23.56,
          6.524,
          3.3175,
          7.773,
          6.45,
          13.188,
          33.777,
          3.29,
          7.66,
          11.12,
          2.7225,
          34.44,
          7.094,
          37.3,
          14.148,
          17.77,
          16.8575,
          2.112,
          9.693,
          1.203,
          29.913,
          16.7895,
          10.91,
          19.084,
          35.495,
          22.01,
          27.984,
          1.85,
          0.767,
          29.949,
          9.534,
          16.67,
          3.743,
          10.6875,
          16.9785,
          33.208,
          20.15,
          9.7475,
          3.124,
          3.636,
          9.055,
          12.98,
          5.768,
          23.514,
          12.002,
          4.4305,
          9.982,
          1.9505,
          2.4305,
          10.238,
          5.984,
          25.27,
          14.0805,
          35.516,
          3.972,
          8.191,
          23.979,
          6.933,
          3.5575,
          6.9975,
          39.065,
          9.937,
          3.162,
          18.6975,
          10.3845,
          8.814,
          10.3185,
          1.971,
          4.578,
          15.4425,
          6.456,
          19.548,
          24.945,
          18.852,
          10.226,
          7.272,
          9.909,
          4.935,
          19.255,
          2.348,
          3.675,
          7.1125,
          34.38,
          17.385,
          7.1475,
          19.269,
          7.2135,
          19.5895,
          26.915,
          24.2575,
          6.6975,
          35.0685,
          3.5975,
          35.7,
          9.107,
          6.75,
          18.0915,
          19.1555,
          12.15,
          1.512,
          17.828,
          18.775,
          4.125,
          3.7485,
          32.384,
          37.788,
          9.979,
          21.966,
          8.248,
          16.336,
          23.094,
          13.188,
          7.18,
          9.675,
          9.191,
          6.096,
          21.033,
          12.624,
          16.7725,
          24.175,
          15.921,
          33.4215,
          19.396,
          4.73,
          16.466,
          2.661,
          24.9225,
          14.978,
          10.235,
          3.791,
          14.031,
          16.16,
          24.3315,
          6.377,
          12.072,
          18.975,
          3.841,
          26.13,
          3.987,
          19.375,
          13.5675,
          6.1155,
          12.318,
          8.658,
          11.829,
          9.244,
          0.699,
          9.9375,
          34.2265,
          13.452,
          3.4475,
          13.742,
          11.306,
          5.955,
          17.105,
          2.187,
          5.2425,
          3.876,
          20.372,
          4.8055,
          9.076,
          4.0755,
          5.722,
          8.827,
          5.79,
          12.6075,
          10.168,
          0.814,
          18.2745,
          18.6095,
          3.1305,
          16.8175,
          6.908,
          4.327,
          7.038,
          33.439,
          2.372,
          16.586,
          10.197,
          3.408,
          16.344,
          4.36,
          35.372,
          40.1445,
          0.639,
          6.685,
          0.9575,
          13.83,
          6.861,
          1.3535,
          1.956,
          22.413,
          6.603,
          15.9025,
          1.25,
          4.154,
          7.39,
          34.83,
          39.695,
          23.285,
          1.7945,
          10.13,
          36.525,
          14.79,
          1.131,
          12.835,
          27.275,
          13.0025,
          11.106,
          1.079,
          4.942,
          25.131,
          8.01,
          21.565,
          29.028,
          16.11,
          9.777,
          8.315,
          16.814,
          17.185,
          1.93,
          26.388,
          16.4,
          9.285,
          30.19,
          18.49,
          9.898,
          20.545,
          7.43,
          1.148,
          34.956,
          3.47,
          9.83,
          10.128,
          6.06,
          9.989,
          30.368,
          6.322,
          27.072,
          4.9065,
          20.608,
          3.6985,
          1.595,
          6.94,
          9.331,
          4.4225,
          9.672,
          7.275,
          25.215,
          15.3225,
          4.785,
          31.759,
          10.7275,
          18.998,
          34.8425,
          20.4365,
          2.5735,
          13.715,
          9.8475,
          3.473,
          17.98,
          6.8565,
          24.951,
          11.232,
          6.287,
          24.513,
          22.8525,
          7.842,
          5.986,
          27.18,
          7.629,
          34.672,
          11.475,
          7.3395,
          7.08,
          5.8345,
          3.698,
          4.897,
          14.61,
          26.244,
          4.602,
          3.794,
          4.036,
          5.631,
          3.56,
          7.762,
          14.71,
          27.4275,
          12.885,
          19.818,
          8.5905,
          24.4395,
          26.208,
          6.663,
          6.762,
          5.622,
          7.204,
          12.498,
          10.863,
          9.711,
          16.968,
          22.353,
          9.925,
          24.665,
          29.583,
          27.951,
          25.893,
          20.51,
          13.335,
          3.5455,
          7.239,
          21.4775,
          28.4585,
          12.06,
          6.354,
          12.854,
          6.951,
          4.083,
          15.536,
          9.298,
          3.616,
          9.459,
          10.342,
          7.851,
          10.765,
          29.805,
          3.655,
          13.959,
          8.484,
          2.279,
          11.28,
          14.52,
          2.223,
          7.83,
          20.997,
          9.2125,
          7.032,
          4.154,
          3.2495,
          38.78,
          16.353,
          18.1615,
          6.35,
          18.7775,
          9.958,
          1.5305,
          5.789,
          1.448,
          13.983,
          4.0465,
          33.725,
          17.424,
          21.78,
          21.9775,
          29.559,
          13.038,
          10.752,
          4.5805,
          33.1065,
          4.5675,
          7.888,
          6.087,
          7.995,
          0.6045,
          32.095,
          11.7465,
          8.377,
          14.955,
          11.9865,
          33.235,
          10.1325,
          2.31,
          4.4075,
          7.863,
          14.8185,
          35.42,
          5.567,
          29.008,
          3.0125,
          8.712,
          21.063,
          1.6815,
          1.549,
          12.37,
          18.915,
          16.743,
          36.39,
          16.794,
          12.036,
          2.3535,
          4.9845,
          13.2225,
          6.9825,
          2.7725,
          6.4455,
          5.999,
          17.625,
          9.88,
          9.726,
          8.661,
          3.594,
          14.313,
          4.062,
          28.02,
          9.34,
          11.0115,
          13.456,
          22.74,
          8.377,
          22.428,
          14.694,
          29.475,
          14.55,
          1.974,
          1.7405,
          14.796,
          2.148,
          6.924,
          4.91,
          6.483,
          31.78,
          7.288,
          10.065,
          31.5855,
          19.264,
          24.315,
          25.683,
          23.67,
          21.8425,
          5.408,
          12.438,
          31.311,
          24.164,
          4.848,
          9.885,
          36.2115,
          39.7755,
          25.1195,
          8.6,
          3.449,
          6.248,
          3.855,
          24.186,
          15.106,
          34.9335,
          6.2325,
          39.48,
          8.92,
          25.011,
          1.791,
          6.807,
          5.244,
          8.946,
          6.618,
          12.8695,
          4.668,
          11.4,
          8.3355,
          34.87,
          19.452,
          18.263,
          4.464,
          8.4,
          0.985,
          26.558,
          2.686,
          28.42,
          29.38,
          36.624,
          19.4635,
          4.2415,
          7.163,
          3.769,
          12.668,
          1.921,
          32.615,
          2.6325,
          5.5305,
          28.4305,
          4.464,
          6.82,
          8.71,
          18.32,
          12.7305,
          38.916,
          14.296,
          28.956,
          9.425,
          11.078,
          38.6,
          36.065,
          25.552,
          2.6725,
          11.1,
          38.184,
          11.409,
          4.107,
          19.128,
          3.429,
          19.108,
          30.0545,
          23.7965,
          2.621,
          6.565,
          7.215,
          22.8585,
          4.669,
          6.3125,
          39.5415,
          8.72,
          18.952,
          1.531,
          17.604,
          2.54,
          26.103,
          28.756,
          2.7475,
          9.0705,
          20.6185,
          2.3205,
          13.71,
          32.41,
          4.661,
          2.718,
          3.0435,
          12.245,
          4.639,
          21.6725,
          6.903,
          12.08,
          23.5865,
          22.032,
          34.0155,
          15.494,
          9.318,
          10.046,
          0.8875,
          31.09,
          4.3,
          20.13,
          16.2425,
          4.7575,
          19.448,
          21.284,
          15.904,
          13.552,
          19.232,
          11.79,
          10.578,
          4.768,
          0.5085,
          10.3065,
          21.028,
          4.402,
          32.4495,
          6.192,
          32.475,
          37.11,
          4.224,
          12.514,
          4.74,
          4.565,
          14.2555,
          2.619,
          9.635,
          13.389,
          27.935,
          8.766,
          7.791,
          3.015,
          3.947,
          1.487,
          1.066,
          14.067,
          3.663,
          1.119,
          32.796,
          29.73,
          3.705,
          9.848,
          18.6165,
          26.395,
          23.9875,
          16.4295,
          8.448,
          5.662,
          17.277,
          21.4335,
          4.3135,
          1.276,
          5.076,
          17.8745,
          11.9385,
          5.0715,
          36.212,
          6.282,
          3.6465,
          12.918,
          8.687,
          2.825,
          10.715,
          26.718,
          4.658,
          26.104,
          2.6175,
          1.9875,
          36.008,
          4.84,
          16.605,
          4.072,
          15.995,
          10.326,
          8.334,
          15.953,
          4.395,
          36.735,
          4.876,
          38.46,
          20.915,
          23.164,
          23.1225,
          7.095,
          15.135,
          39.664,
          21.259,
          14.181,
          29.96,
          15.768,
          20.178,
          9.194,
          6.9325,
          4.0355,
          5.832,
          15.676,
          20.72,
          7.954,
          24.505,
          4.3725,
          11.226,
          37.248,
          20.536,
          14.94,
          10.647,
          2.1425,
          18.934,
          10.3455,
          3.939,
          16.1055,
          4.911,
          1.273,
          29.099,
          10.566,
          2.756,
          4.4155,
          17.829,
          39.7125,
          2.531,
          29.976,
          8.335,
          37.22,
          22.428,
          18.945,
          12.858,
          27.6115,
          22.37,
          13.8135,
          17.187,
          13.304,
          22.84,
          12.6975,
          3.528,
          32.858,
          8.425,
          2.689,
          8.9525,
          10.572,
          5.9865,
          3.285,
          12.57,
          4.208,
          19.773,
          14.8995,
          22.7205,
          13.806,
          7.9,
          4.599,
          2.089,
          0.775,
          14.523,
          3.333,
          3.827,
          14.985,
          12.1515,
          2.37,
          8.6225,
          12.9185,
          30.478,
          12.012,
          8.613,
          4.992,
          14.932,
          7.98,
          1.2725,
          3.3885,
          11.918,
          11.63,
          34.986,
          33.7295,
          15.9275,
          1.476,
          24.8,
          30.148,
          14.14,
          38.3,
          5.803,
          8.745,
          3.0475,
          2.0175,
          1.592,
          3.291,
          30.919
         ],
         "y0": " ",
         "yaxis": "y"
        }
       ],
       "layout": {
        "boxmode": "group",
        "legend": {
         "tracegroupgap": 0
        },
        "margin": {
         "t": 60
        },
        "template": {
         "data": {
          "bar": [
           {
            "error_x": {
             "color": "#2a3f5f"
            },
            "error_y": {
             "color": "#2a3f5f"
            },
            "marker": {
             "line": {
              "color": "#E5ECF6",
              "width": 0.5
             },
             "pattern": {
              "fillmode": "overlay",
              "size": 10,
              "solidity": 0.2
             }
            },
            "type": "bar"
           }
          ],
          "barpolar": [
           {
            "marker": {
             "line": {
              "color": "#E5ECF6",
              "width": 0.5
             },
             "pattern": {
              "fillmode": "overlay",
              "size": 10,
              "solidity": 0.2
             }
            },
            "type": "barpolar"
           }
          ],
          "carpet": [
           {
            "aaxis": {
             "endlinecolor": "#2a3f5f",
             "gridcolor": "white",
             "linecolor": "white",
             "minorgridcolor": "white",
             "startlinecolor": "#2a3f5f"
            },
            "baxis": {
             "endlinecolor": "#2a3f5f",
             "gridcolor": "white",
             "linecolor": "white",
             "minorgridcolor": "white",
             "startlinecolor": "#2a3f5f"
            },
            "type": "carpet"
           }
          ],
          "choropleth": [
           {
            "colorbar": {
             "outlinewidth": 0,
             "ticks": ""
            },
            "type": "choropleth"
           }
          ],
          "contour": [
           {
            "colorbar": {
             "outlinewidth": 0,
             "ticks": ""
            },
            "colorscale": [
             [
              0,
              "#0d0887"
             ],
             [
              0.1111111111111111,
              "#46039f"
             ],
             [
              0.2222222222222222,
              "#7201a8"
             ],
             [
              0.3333333333333333,
              "#9c179e"
             ],
             [
              0.4444444444444444,
              "#bd3786"
             ],
             [
              0.5555555555555556,
              "#d8576b"
             ],
             [
              0.6666666666666666,
              "#ed7953"
             ],
             [
              0.7777777777777778,
              "#fb9f3a"
             ],
             [
              0.8888888888888888,
              "#fdca26"
             ],
             [
              1,
              "#f0f921"
             ]
            ],
            "type": "contour"
           }
          ],
          "contourcarpet": [
           {
            "colorbar": {
             "outlinewidth": 0,
             "ticks": ""
            },
            "type": "contourcarpet"
           }
          ],
          "heatmap": [
           {
            "colorbar": {
             "outlinewidth": 0,
             "ticks": ""
            },
            "colorscale": [
             [
              0,
              "#0d0887"
             ],
             [
              0.1111111111111111,
              "#46039f"
             ],
             [
              0.2222222222222222,
              "#7201a8"
             ],
             [
              0.3333333333333333,
              "#9c179e"
             ],
             [
              0.4444444444444444,
              "#bd3786"
             ],
             [
              0.5555555555555556,
              "#d8576b"
             ],
             [
              0.6666666666666666,
              "#ed7953"
             ],
             [
              0.7777777777777778,
              "#fb9f3a"
             ],
             [
              0.8888888888888888,
              "#fdca26"
             ],
             [
              1,
              "#f0f921"
             ]
            ],
            "type": "heatmap"
           }
          ],
          "heatmapgl": [
           {
            "colorbar": {
             "outlinewidth": 0,
             "ticks": ""
            },
            "colorscale": [
             [
              0,
              "#0d0887"
             ],
             [
              0.1111111111111111,
              "#46039f"
             ],
             [
              0.2222222222222222,
              "#7201a8"
             ],
             [
              0.3333333333333333,
              "#9c179e"
             ],
             [
              0.4444444444444444,
              "#bd3786"
             ],
             [
              0.5555555555555556,
              "#d8576b"
             ],
             [
              0.6666666666666666,
              "#ed7953"
             ],
             [
              0.7777777777777778,
              "#fb9f3a"
             ],
             [
              0.8888888888888888,
              "#fdca26"
             ],
             [
              1,
              "#f0f921"
             ]
            ],
            "type": "heatmapgl"
           }
          ],
          "histogram": [
           {
            "marker": {
             "pattern": {
              "fillmode": "overlay",
              "size": 10,
              "solidity": 0.2
             }
            },
            "type": "histogram"
           }
          ],
          "histogram2d": [
           {
            "colorbar": {
             "outlinewidth": 0,
             "ticks": ""
            },
            "colorscale": [
             [
              0,
              "#0d0887"
             ],
             [
              0.1111111111111111,
              "#46039f"
             ],
             [
              0.2222222222222222,
              "#7201a8"
             ],
             [
              0.3333333333333333,
              "#9c179e"
             ],
             [
              0.4444444444444444,
              "#bd3786"
             ],
             [
              0.5555555555555556,
              "#d8576b"
             ],
             [
              0.6666666666666666,
              "#ed7953"
             ],
             [
              0.7777777777777778,
              "#fb9f3a"
             ],
             [
              0.8888888888888888,
              "#fdca26"
             ],
             [
              1,
              "#f0f921"
             ]
            ],
            "type": "histogram2d"
           }
          ],
          "histogram2dcontour": [
           {
            "colorbar": {
             "outlinewidth": 0,
             "ticks": ""
            },
            "colorscale": [
             [
              0,
              "#0d0887"
             ],
             [
              0.1111111111111111,
              "#46039f"
             ],
             [
              0.2222222222222222,
              "#7201a8"
             ],
             [
              0.3333333333333333,
              "#9c179e"
             ],
             [
              0.4444444444444444,
              "#bd3786"
             ],
             [
              0.5555555555555556,
              "#d8576b"
             ],
             [
              0.6666666666666666,
              "#ed7953"
             ],
             [
              0.7777777777777778,
              "#fb9f3a"
             ],
             [
              0.8888888888888888,
              "#fdca26"
             ],
             [
              1,
              "#f0f921"
             ]
            ],
            "type": "histogram2dcontour"
           }
          ],
          "mesh3d": [
           {
            "colorbar": {
             "outlinewidth": 0,
             "ticks": ""
            },
            "type": "mesh3d"
           }
          ],
          "parcoords": [
           {
            "line": {
             "colorbar": {
              "outlinewidth": 0,
              "ticks": ""
             }
            },
            "type": "parcoords"
           }
          ],
          "pie": [
           {
            "automargin": true,
            "type": "pie"
           }
          ],
          "scatter": [
           {
            "marker": {
             "colorbar": {
              "outlinewidth": 0,
              "ticks": ""
             }
            },
            "type": "scatter"
           }
          ],
          "scatter3d": [
           {
            "line": {
             "colorbar": {
              "outlinewidth": 0,
              "ticks": ""
             }
            },
            "marker": {
             "colorbar": {
              "outlinewidth": 0,
              "ticks": ""
             }
            },
            "type": "scatter3d"
           }
          ],
          "scattercarpet": [
           {
            "marker": {
             "colorbar": {
              "outlinewidth": 0,
              "ticks": ""
             }
            },
            "type": "scattercarpet"
           }
          ],
          "scattergeo": [
           {
            "marker": {
             "colorbar": {
              "outlinewidth": 0,
              "ticks": ""
             }
            },
            "type": "scattergeo"
           }
          ],
          "scattergl": [
           {
            "marker": {
             "colorbar": {
              "outlinewidth": 0,
              "ticks": ""
             }
            },
            "type": "scattergl"
           }
          ],
          "scattermapbox": [
           {
            "marker": {
             "colorbar": {
              "outlinewidth": 0,
              "ticks": ""
             }
            },
            "type": "scattermapbox"
           }
          ],
          "scatterpolar": [
           {
            "marker": {
             "colorbar": {
              "outlinewidth": 0,
              "ticks": ""
             }
            },
            "type": "scatterpolar"
           }
          ],
          "scatterpolargl": [
           {
            "marker": {
             "colorbar": {
              "outlinewidth": 0,
              "ticks": ""
             }
            },
            "type": "scatterpolargl"
           }
          ],
          "scatterternary": [
           {
            "marker": {
             "colorbar": {
              "outlinewidth": 0,
              "ticks": ""
             }
            },
            "type": "scatterternary"
           }
          ],
          "surface": [
           {
            "colorbar": {
             "outlinewidth": 0,
             "ticks": ""
            },
            "colorscale": [
             [
              0,
              "#0d0887"
             ],
             [
              0.1111111111111111,
              "#46039f"
             ],
             [
              0.2222222222222222,
              "#7201a8"
             ],
             [
              0.3333333333333333,
              "#9c179e"
             ],
             [
              0.4444444444444444,
              "#bd3786"
             ],
             [
              0.5555555555555556,
              "#d8576b"
             ],
             [
              0.6666666666666666,
              "#ed7953"
             ],
             [
              0.7777777777777778,
              "#fb9f3a"
             ],
             [
              0.8888888888888888,
              "#fdca26"
             ],
             [
              1,
              "#f0f921"
             ]
            ],
            "type": "surface"
           }
          ],
          "table": [
           {
            "cells": {
             "fill": {
              "color": "#EBF0F8"
             },
             "line": {
              "color": "white"
             }
            },
            "header": {
             "fill": {
              "color": "#C8D4E3"
             },
             "line": {
              "color": "white"
             }
            },
            "type": "table"
           }
          ]
         },
         "layout": {
          "annotationdefaults": {
           "arrowcolor": "#2a3f5f",
           "arrowhead": 0,
           "arrowwidth": 1
          },
          "autotypenumbers": "strict",
          "coloraxis": {
           "colorbar": {
            "outlinewidth": 0,
            "ticks": ""
           }
          },
          "colorscale": {
           "diverging": [
            [
             0,
             "#8e0152"
            ],
            [
             0.1,
             "#c51b7d"
            ],
            [
             0.2,
             "#de77ae"
            ],
            [
             0.3,
             "#f1b6da"
            ],
            [
             0.4,
             "#fde0ef"
            ],
            [
             0.5,
             "#f7f7f7"
            ],
            [
             0.6,
             "#e6f5d0"
            ],
            [
             0.7,
             "#b8e186"
            ],
            [
             0.8,
             "#7fbc41"
            ],
            [
             0.9,
             "#4d9221"
            ],
            [
             1,
             "#276419"
            ]
           ],
           "sequential": [
            [
             0,
             "#0d0887"
            ],
            [
             0.1111111111111111,
             "#46039f"
            ],
            [
             0.2222222222222222,
             "#7201a8"
            ],
            [
             0.3333333333333333,
             "#9c179e"
            ],
            [
             0.4444444444444444,
             "#bd3786"
            ],
            [
             0.5555555555555556,
             "#d8576b"
            ],
            [
             0.6666666666666666,
             "#ed7953"
            ],
            [
             0.7777777777777778,
             "#fb9f3a"
            ],
            [
             0.8888888888888888,
             "#fdca26"
            ],
            [
             1,
             "#f0f921"
            ]
           ],
           "sequentialminus": [
            [
             0,
             "#0d0887"
            ],
            [
             0.1111111111111111,
             "#46039f"
            ],
            [
             0.2222222222222222,
             "#7201a8"
            ],
            [
             0.3333333333333333,
             "#9c179e"
            ],
            [
             0.4444444444444444,
             "#bd3786"
            ],
            [
             0.5555555555555556,
             "#d8576b"
            ],
            [
             0.6666666666666666,
             "#ed7953"
            ],
            [
             0.7777777777777778,
             "#fb9f3a"
            ],
            [
             0.8888888888888888,
             "#fdca26"
            ],
            [
             1,
             "#f0f921"
            ]
           ]
          },
          "colorway": [
           "#636efa",
           "#EF553B",
           "#00cc96",
           "#ab63fa",
           "#FFA15A",
           "#19d3f3",
           "#FF6692",
           "#B6E880",
           "#FF97FF",
           "#FECB52"
          ],
          "font": {
           "color": "#2a3f5f"
          },
          "geo": {
           "bgcolor": "white",
           "lakecolor": "white",
           "landcolor": "#E5ECF6",
           "showlakes": true,
           "showland": true,
           "subunitcolor": "white"
          },
          "hoverlabel": {
           "align": "left"
          },
          "hovermode": "closest",
          "mapbox": {
           "style": "light"
          },
          "paper_bgcolor": "white",
          "plot_bgcolor": "#E5ECF6",
          "polar": {
           "angularaxis": {
            "gridcolor": "white",
            "linecolor": "white",
            "ticks": ""
           },
           "bgcolor": "#E5ECF6",
           "radialaxis": {
            "gridcolor": "white",
            "linecolor": "white",
            "ticks": ""
           }
          },
          "scene": {
           "xaxis": {
            "backgroundcolor": "#E5ECF6",
            "gridcolor": "white",
            "gridwidth": 2,
            "linecolor": "white",
            "showbackground": true,
            "ticks": "",
            "zerolinecolor": "white"
           },
           "yaxis": {
            "backgroundcolor": "#E5ECF6",
            "gridcolor": "white",
            "gridwidth": 2,
            "linecolor": "white",
            "showbackground": true,
            "ticks": "",
            "zerolinecolor": "white"
           },
           "zaxis": {
            "backgroundcolor": "#E5ECF6",
            "gridcolor": "white",
            "gridwidth": 2,
            "linecolor": "white",
            "showbackground": true,
            "ticks": "",
            "zerolinecolor": "white"
           }
          },
          "shapedefaults": {
           "line": {
            "color": "#2a3f5f"
           }
          },
          "ternary": {
           "aaxis": {
            "gridcolor": "white",
            "linecolor": "white",
            "ticks": ""
           },
           "baxis": {
            "gridcolor": "white",
            "linecolor": "white",
            "ticks": ""
           },
           "bgcolor": "#E5ECF6",
           "caxis": {
            "gridcolor": "white",
            "linecolor": "white",
            "ticks": ""
           }
          },
          "title": {
           "x": 0.05
          },
          "xaxis": {
           "automargin": true,
           "gridcolor": "white",
           "linecolor": "white",
           "ticks": "",
           "title": {
            "standoff": 15
           },
           "zerolinecolor": "white",
           "zerolinewidth": 2
          },
          "yaxis": {
           "automargin": true,
           "gridcolor": "white",
           "linecolor": "white",
           "ticks": "",
           "title": {
            "standoff": 15
           },
           "zerolinecolor": "white",
           "zerolinewidth": 2
          }
         }
        },
        "xaxis": {
         "anchor": "y",
         "domain": [
          0,
          1
         ],
         "title": {
          "text": "variable"
         }
        },
        "yaxis": {
         "anchor": "x",
         "domain": [
          0,
          1
         ],
         "title": {
          "text": "value"
         }
        }
       }
      }
     },
     "metadata": {},
     "output_type": "display_data"
    },
    {
     "data": {
      "text/plain": [
       "<Figure size 1080x720 with 0 Axes>"
      ]
     },
     "metadata": {},
     "output_type": "display_data"
    }
   ],
   "source": [
    "# Graph\n",
    "plt.figure(figsize=(15, 10))\n",
    "\n",
    "fig = px.box(df_filtered['gross income'])\n",
    "\n",
    "fig.show()"
   ]
  },
  {
   "cell_type": "code",
   "execution_count": null,
   "metadata": {},
   "outputs": [
    {
     "data": {
      "image/png": "[encoded data removed]",
      "text/plain": [
       "<Figure size 1080x720 with 1 Axes>"
      ]
     },
     "metadata": {
      "needs_background": "light"
     },
     "output_type": "display_data"
    }
   ],
   "source": [
    "# Dist\n",
    "# Graph\n",
    "plt.figure(figsize=(15, 10))\n",
    "\n",
    "sns.histplot(df_filtered['gross income'], kde=True)\n",
    "plt.axvline(df_filtered['gross income'].mean(), linestyle='dashed', label='mean', color='orange')\n",
    "plt.axvline(df_filtered['gross income'].median(), linestyle='dashed', label='median', color='green')\n",
    "\n",
    "plt.legend()\n",
    "plt.show()"
   ]
  },
  {
   "cell_type": "markdown",
   "metadata": {},
   "source": [
    "Although outliers has been discarded, our datased distribution is still `not normally distributed`. So, for hypothesis testing, since our `sample size is higher than 30` sample, I'll just `asume` that the `dataset is normally distributed.`"
   ]
  },
  {
   "cell_type": "code",
   "execution_count": null,
   "metadata": {},
   "outputs": [],
   "source": [
    "# Dataset Preparation\n",
    "\n",
    "# Member - Female\n",
    "MF = df_filtered.loc[\n",
    "    (df_filtered['Customer type']=='Member') &\n",
    "    (df_filtered['Gender']=='Female')\n",
    "][['Date','gross income']].groupby('Date').sum()\n",
    "\n",
    "# Member - Male\n",
    "MM = df_filtered.loc[\n",
    "    (df_filtered['Customer type']=='Member') &\n",
    "    (df_filtered['Gender']=='Male')\n",
    "][['Date','gross income']].groupby('Date').sum()\n",
    "\n",
    "# Normal - Female\n",
    "NF = df_filtered.loc[\n",
    "    (df_filtered['Customer type']=='Member') &\n",
    "    (df_filtered['Gender']=='Female')\n",
    "][['Date','gross income']].groupby('Date').sum()\n",
    "\n",
    "# Normal - Male\n",
    "NM = df_filtered.loc[\n",
    "    (df_filtered['Customer type']=='Member') &\n",
    "    (df_filtered['Gender']=='Female')\n",
    "][['Date', 'gross income']].groupby('Date').sum()"
   ]
  },
  {
   "cell_type": "code",
   "execution_count": null,
   "metadata": {},
   "outputs": [
    {
     "name": "stdout",
     "output_type": "stream",
     "text": [
      "Mean gross income `Member-Female : ` 43.56\n",
      "Mean gross income `Member-Male : ` 37.62\n",
      "Mean gross income `Normal-Female : ` 43.56\n",
      "Mean gross income `Normal-Male : ` 43.56\n"
     ]
    }
   ],
   "source": [
    "# gross income mean for each `Customer type - Gender`\n",
    "mu1 = MF.mean().round(2).item()\n",
    "mu2 = MM.mean().round(2).item()\n",
    "mu3 = NF.mean().round(2).item()\n",
    "mu4 = NM.mean().round(2).item()\n",
    "\n",
    "print(f'Mean gross income `Member-Female : `', mu1)\n",
    "print(f'Mean gross income `Member-Male : `', mu2)\n",
    "print(f'Mean gross income `Normal-Female : `', mu3)\n",
    "print(f'Mean gross income `Normal-Male : `', mu4)"
   ]
  },
  {
   "cell_type": "markdown",
   "metadata": {},
   "source": [
    "### Hypothesis Notation\n",
    "\n",
    "> - Null Hypothesis : Mean `gross income` value is statistically the same across `Customer type - Gender` variable\n",
    "> - Alt. Hypothesis : Mean `gross income` value is significantly different across `Customer type - Gender` variable\n",
    "\n",
    "### Mathematical Notation\n",
    "\n",
    "> - **H0 : μ_MM = μ_MF = μ_NF = μ_NM**\n",
    "> - **H1 : μ_MM != μ_MF != μ_NF != μ_N**"
   ]
  },
  {
   "cell_type": "markdown",
   "metadata": {},
   "source": [
    "### Level of Significance\n",
    "\n",
    "for this test, I determine the `level of significance` will be `5%`.\n",
    "\n",
    "> **ɑ = 0.05**"
   ]
  },
  {
   "cell_type": "markdown",
   "metadata": {},
   "source": [
    "### ANOVA\n",
    "\n",
    "Since I want to compare mean value of four different category with one variable, I will using `ANOVA` for this test."
   ]
  },
  {
   "cell_type": "code",
   "execution_count": null,
   "metadata": {},
   "outputs": [
    {
     "name": "stdout",
     "output_type": "stream",
     "text": [
      "P-value:  0.499\n",
      "f_stat:  0.793\n"
     ]
    }
   ],
   "source": [
    "# One-way ANOVA Testing\n",
    "f_stat, p_value = stats.f_oneway(MF, MM, NF, NM)\n",
    "\n",
    "p_value = p_value.round(3).item()\n",
    "f_stat = f_stat.round(3).item()\n",
    "\n",
    "print(f'P-value: ',p_value)\n",
    "print(f'f_stat: ', f_stat)"
   ]
  },
  {
   "cell_type": "code",
   "execution_count": null,
   "metadata": {},
   "outputs": [
    {
     "data": {
      "text/plain": [
       "False"
      ]
     },
     "execution_count": 57,
     "metadata": {},
     "output_type": "execute_result"
    }
   ],
   "source": [
    "# Compare P_value with Level of Significance\n",
    "\n",
    "p_value <= 0.05"
   ]
  },
  {
   "cell_type": "markdown",
   "metadata": {},
   "source": [
    "### Result Interpretation\n",
    "\n",
    "From P_value comparisson with Level of Significance, We can see that `P_value is greater than ɑ.`\\\n",
    "\n",
    "So, I can conclude that `there is not enough evidence to reject the null hypothesis.`\\\n",
    "Mean `gross income` value is statistically the same across `Customer type - Gender` variable"
   ]
  },
  {
   "cell_type": "markdown",
   "metadata": {},
   "source": [
    "## VI. Conclusion and Actionable Output "
   ]
  },
  {
   "cell_type": "markdown",
   "metadata": {},
   "source": [
    "### Key Insight\n",
    "\n",
    "Here are some key insight I found during my data exploring and analyzing process."
   ]
  },
  {
   "cell_type": "markdown",
   "metadata": {},
   "source": [
    "**Total Gross Income**\n",
    "- Across last three months, total `gross income` seems on sideways trend.\\\n",
    "- Highest `gross income` was generated on `9-March-2019` with total `gross income` equal to `$355.907.`\\\n",
    "- Lowest `gross income` was generated on `13-February-2019` with total `gross income` only `$44.49.`\n",
    "\n",
    "**Most Profitable Branch**\n",
    "- the most profitable one is branch `C` which located at `Naypyitaw` city.\n",
    "- Regardless, the other two branch actually did good too.\n",
    "\n",
    "**Product Lines Popularity**\n",
    "- `Most popular` Product line is `Electronic Accessories` while the `unpopular one is Health and beauty.`\n",
    "- Although placed on number 1, `Fashion accessories` placed at 3th in terms of generates `gross income.` \n",
    "- `Food and beverages` generates most gross income while `Health and beauty` generates the least."
   ]
  },
  {
   "cell_type": "markdown",
   "metadata": {},
   "source": [
    "**Most Profitable Customer Type and Gender**\n",
    "- Most valuable customer is `Female-Member`, because they generate a total of `$ 4197.47` gross income.\n",
    "\n",
    "**Customer Spending**\n",
    "- Our `Member-Female` customer, spend the most at `Food and beverages` and spend the least at `Health and beauty`\n",
    "- Our `Member-Male` customer, spend the most at `Health and beauty` and spend the least at `Home and lifestyle`\n",
    "- Our `Normal-Female` customer, spend the most at `Electronic accessories` and spend the least at `Health and beauty`\n",
    "- Our `Normal-Male` customer, spend the most at `Sports and travel` and spend the least at `Food and beverages`\n",
    "\n",
    "**Customer Relationship**\n",
    "- There is no `Unhappy` customer in terms of the company service.\n",
    "\n",
    "**Customer Behaviour**\n",
    "- All payment method are used equally by the customer.\n",
    "- Highest volume transaction is equally spreadout thorughout timespan.\n",
    "- Highest quantity transaction also equally spreadout thorughout timespan."
   ]
  },
  {
   "cell_type": "markdown",
   "metadata": {},
   "source": [
    "### Hypothesis Testing\n",
    "\n",
    "Since the dataset is not `normally distributed` regardless the filtering process. I decide to `assume the dataset is normally distributed`,\\\n",
    "due the amount of samples taken is > 30 samples.\n",
    "\n",
    "This is the result:\n",
    "- Hypothesis Testing Goal : to check does the mean `gross income` value is statistically the same across `Customer type - Gender` variable.\n",
    "- Level of Significance used : 0.05\n",
    "- ANOVA test result : P_value = 0.499, F_statistic = 0.793\n",
    "- P_value is greater than ɑ, So, there is not enough evidence to reject the null hypothesis.\n",
    "\n",
    "Interpretation result:\n",
    ">Mean `gross income` value is statistically the same across `Customer type - Gender` variable"
   ]
  }
 ],
 "metadata": {
  "interpreter": {
   "hash": "2ae274a990724d11e4bcb5d86d62fd1b7c46f8feb3ee4d0f6187073d22ba77ef"
  },
  "kernelspec": {
   "display_name": "Python 3.10.2 64-bit (windows store)",
   "language": "python",
   "name": "python3"
  },
  "language_info": {
   "codemirror_mode": {
    "name": "ipython",
    "version": 3
   },
   "file_extension": ".py",
   "mimetype": "text/x-python",
   "name": "python",
   "nbconvert_exporter": "python",
   "pygments_lexer": "ipython3",
   "version": "3.9.7"
  },
  "orig_nbformat": 4
 },
 "nbformat": 4,
 "nbformat_minor": 2
}
